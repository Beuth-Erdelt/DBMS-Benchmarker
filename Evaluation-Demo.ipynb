{
 "cells": [
  {
   "cell_type": "markdown",
   "id": "d18a3400",
   "metadata": {},
   "source": [
    "# Demo of Evaluation of Benchmarks"
   ]
  },
  {
   "cell_type": "code",
   "execution_count": 1,
   "id": "4f885ad5",
   "metadata": {},
   "outputs": [],
   "source": [
    "from dbmsbenchmarker import *\n",
    "import pandas as pd\n",
    "\n",
    "# Some plotly figures\n",
    "import plotly.graph_objects as go\n",
    "import plotly.figure_factory as ff\n",
    "\n",
    "# Some nice output\n",
    "from IPython.display import display, Markdown\n",
    "\n",
    "import logging\n",
    "logging.basicConfig(level=logging.INFO)"
   ]
  },
  {
   "cell_type": "markdown",
   "id": "23fd5d80",
   "metadata": {},
   "source": [
    "## Inspect Result Folder"
   ]
  },
  {
   "cell_type": "code",
   "execution_count": 2,
   "id": "66d4fb27",
   "metadata": {},
   "outputs": [
    {
     "data": {
      "text/html": [
       "<div>\n",
       "<style scoped>\n",
       "    .dataframe tbody tr th:only-of-type {\n",
       "        vertical-align: middle;\n",
       "    }\n",
       "\n",
       "    .dataframe tbody tr th {\n",
       "        vertical-align: top;\n",
       "    }\n",
       "\n",
       "    .dataframe thead th {\n",
       "        text-align: right;\n",
       "    }\n",
       "</style>\n",
       "<table border=\"1\" class=\"dataframe\">\n",
       "  <thead>\n",
       "    <tr style=\"text-align: right;\">\n",
       "      <th></th>\n",
       "      <th>name</th>\n",
       "      <th>info</th>\n",
       "      <th>intro</th>\n",
       "      <th>queries</th>\n",
       "      <th>connections</th>\n",
       "      <th>time</th>\n",
       "    </tr>\n",
       "  </thead>\n",
       "  <tbody>\n",
       "    <tr>\n",
       "      <th>1625144240</th>\n",
       "      <td>TPC-H Queries SF=10</td>\n",
       "      <td>This experiment compares run time and resource...</td>\n",
       "      <td>This includes the reading queries of TPC-H.</td>\n",
       "      <td>22</td>\n",
       "      <td>3</td>\n",
       "      <td>2021-07-01 15:17:46</td>\n",
       "    </tr>\n",
       "    <tr>\n",
       "      <th>1625159812</th>\n",
       "      <td>TPC-H Queries SF=10</td>\n",
       "      <td>This experiment compares run time and resource...</td>\n",
       "      <td>This includes the reading queries of TPC-H.</td>\n",
       "      <td>22</td>\n",
       "      <td>3</td>\n",
       "      <td>2021-07-01 19:37:26</td>\n",
       "    </tr>\n",
       "    <tr>\n",
       "      <th>1625170749</th>\n",
       "      <td>TPC-H Queries SF=10</td>\n",
       "      <td>This experiment compares run time and resource...</td>\n",
       "      <td>This includes the reading queries of TPC-H.</td>\n",
       "      <td>22</td>\n",
       "      <td>1</td>\n",
       "      <td>2021-07-01 20:35:16</td>\n",
       "    </tr>\n",
       "    <tr>\n",
       "      <th>1625255968</th>\n",
       "      <td>TPC-H Queries SF=10</td>\n",
       "      <td>This experiment compares run time and resource...</td>\n",
       "      <td>This includes the reading queries of TPC-H.</td>\n",
       "      <td>22</td>\n",
       "      <td>8</td>\n",
       "      <td>2021-07-02 23:51:22</td>\n",
       "    </tr>\n",
       "    <tr>\n",
       "      <th>1625242678</th>\n",
       "      <td>TPC-H Queries SF=10</td>\n",
       "      <td>This experiment compares run time and resource...</td>\n",
       "      <td>This includes the reading queries of TPC-H.</td>\n",
       "      <td>22</td>\n",
       "      <td>8</td>\n",
       "      <td>2021-07-02 19:38:33</td>\n",
       "    </tr>\n",
       "    <tr>\n",
       "      <th>1625238691</th>\n",
       "      <td>TPC-H Queries SF=10</td>\n",
       "      <td>This experiment compares run time and resource...</td>\n",
       "      <td>This includes the reading queries of TPC-H.</td>\n",
       "      <td>22</td>\n",
       "      <td>1</td>\n",
       "      <td>2021-07-02 16:05:19</td>\n",
       "    </tr>\n",
       "    <tr>\n",
       "      <th>1625180707</th>\n",
       "      <td>TPC-H Queries SF=10</td>\n",
       "      <td>This experiment compares run time and resource...</td>\n",
       "      <td>This includes the reading queries of TPC-H.</td>\n",
       "      <td>22</td>\n",
       "      <td>3</td>\n",
       "      <td>2021-07-02 01:26:50</td>\n",
       "    </tr>\n",
       "    <tr>\n",
       "      <th>1625203913</th>\n",
       "      <td>TPC-H Queries SF=10</td>\n",
       "      <td>This experiment compares run time and resource...</td>\n",
       "      <td>This includes the reading queries of TPC-H wit...</td>\n",
       "      <td>20</td>\n",
       "      <td>3</td>\n",
       "      <td>2021-07-02 05:58:21</td>\n",
       "    </tr>\n",
       "    <tr>\n",
       "      <th>1625172048</th>\n",
       "      <td>TPC-H Queries SF=10</td>\n",
       "      <td>This experiment compares run time and resource...</td>\n",
       "      <td>This includes the reading queries of TPC-H.</td>\n",
       "      <td>22</td>\n",
       "      <td>1</td>\n",
       "      <td>2021-07-01 20:56:29</td>\n",
       "    </tr>\n",
       "  </tbody>\n",
       "</table>\n",
       "</div>"
      ],
      "text/plain": [
       "                           name  \\\n",
       "1625144240  TPC-H Queries SF=10   \n",
       "1625159812  TPC-H Queries SF=10   \n",
       "1625170749  TPC-H Queries SF=10   \n",
       "1625255968  TPC-H Queries SF=10   \n",
       "1625242678  TPC-H Queries SF=10   \n",
       "1625238691  TPC-H Queries SF=10   \n",
       "1625180707  TPC-H Queries SF=10   \n",
       "1625203913  TPC-H Queries SF=10   \n",
       "1625172048  TPC-H Queries SF=10   \n",
       "\n",
       "                                                         info  \\\n",
       "1625144240  This experiment compares run time and resource...   \n",
       "1625159812  This experiment compares run time and resource...   \n",
       "1625170749  This experiment compares run time and resource...   \n",
       "1625255968  This experiment compares run time and resource...   \n",
       "1625242678  This experiment compares run time and resource...   \n",
       "1625238691  This experiment compares run time and resource...   \n",
       "1625180707  This experiment compares run time and resource...   \n",
       "1625203913  This experiment compares run time and resource...   \n",
       "1625172048  This experiment compares run time and resource...   \n",
       "\n",
       "                                                        intro queries  \\\n",
       "1625144240        This includes the reading queries of TPC-H.      22   \n",
       "1625159812        This includes the reading queries of TPC-H.      22   \n",
       "1625170749        This includes the reading queries of TPC-H.      22   \n",
       "1625255968        This includes the reading queries of TPC-H.      22   \n",
       "1625242678        This includes the reading queries of TPC-H.      22   \n",
       "1625238691        This includes the reading queries of TPC-H.      22   \n",
       "1625180707        This includes the reading queries of TPC-H.      22   \n",
       "1625203913  This includes the reading queries of TPC-H wit...      20   \n",
       "1625172048        This includes the reading queries of TPC-H.      22   \n",
       "\n",
       "           connections                 time  \n",
       "1625144240           3  2021-07-01 15:17:46  \n",
       "1625159812           3  2021-07-01 19:37:26  \n",
       "1625170749           1  2021-07-01 20:35:16  \n",
       "1625255968           8  2021-07-02 23:51:22  \n",
       "1625242678           8  2021-07-02 19:38:33  \n",
       "1625238691           1  2021-07-02 16:05:19  \n",
       "1625180707           3  2021-07-02 01:26:50  \n",
       "1625203913           3  2021-07-02 05:58:21  \n",
       "1625172048           1  2021-07-01 20:56:29  "
      ]
     },
     "execution_count": 2,
     "metadata": {},
     "output_type": "execute_result"
    }
   ],
   "source": [
    "# path of folder containing experiment results\n",
    "resultfolder = \"/results/\"\n",
    "\n",
    "# create evaluation object for result folder\n",
    "evaluate = inspector.inspector(resultfolder)\n",
    "\n",
    "# list of all experiments in folder\n",
    "evaluate.list_experiments\n",
    "# dataframe of experiments\n",
    "evaluate.get_experiments_preview()"
   ]
  },
  {
   "cell_type": "markdown",
   "id": "f500d40e",
   "metadata": {},
   "source": [
    "## Pick an Experiment"
   ]
  },
  {
   "cell_type": "code",
   "execution_count": 3,
   "id": "8c672bca",
   "metadata": {},
   "outputs": [
    {
     "name": "stdout",
     "output_type": "stream",
     "text": [
      "Benchmarking in folder /results//1625255968\n",
      "Connections:\n",
      "MariaDB-2-1\n",
      "PostgreSQL-1-1\n",
      "MonetDB-1-1\n",
      "MySQL-1-1\n",
      "MariaDB-1-1\n",
      "MySQL-2-1\n",
      "PostgreSQL-2-1\n",
      "MonetDB-2-1\n",
      "Queries:\n",
      "0: Q1 = Pricing Summary Report (TPC-H Q1)\n",
      "1: Q2 = Minimum Cost Supplier Query (TPC-H Q2)\n",
      "2: Q3 = Shipping Priority (TPC-H Q3)\n",
      "3: Q4 = Order Priority Checking Query (TPC-H Q4)\n",
      "4: Q5 = Local Supplier Volume (TPC-H Q5)\n",
      "5: Q6 = Forecasting Revenue Change (TPC-H Q6)\n",
      "6: Q7 = Forecasting Revenue Change (TPC-H Q7)\n",
      "7: Q8 = National Market Share (TPC-H Q8)\n",
      "8: Q9 = Product Type Profit Measure (TPC-H Q9)\n",
      "9: Q10 = Forecasting Revenue Change (TPC-H Q10)\n",
      "10: Q11 = Important Stock Identification (TPC-H Q11)\n",
      "11: Q12 = Shipping Modes and Order Priority (TPC-H Q12)\n",
      "12: Q13 = Customer Distribution (TPC-H Q13)\n",
      "13: Q14 = Forecasting Revenue Change (TPC-H Q14)\n",
      "14: Q15 = Top Supplier Query (TPC-H Q15)\n",
      "15: Q16 = Parts/Supplier Relationship (TPC-H Q16)\n",
      "16: Q17 = Small-Quantity-Order Revenue (TPC-H Q17)\n",
      "17: Q18 = Large Volume Customer (TPC-H Q18)\n",
      "18: Q19 = Discounted Revenue (TPC-H Q19)\n",
      "19: Q20 = Potential Part Promotion (TPC-H Q20)\n",
      "20: Q21 = Suppliers Who Kept Orders Waiting Query (TPC-H Q21)\n",
      "21: Q22 = Global Sales Opportunity Query (TPC-H Q22)\n",
      "Load Evaluation\n"
     ]
    }
   ],
   "source": [
    "# last Experiment\n",
    "code = evaluate.list_experiments[len(evaluate.list_experiments)-1]\n",
    "\n",
    "# Specific Experiment\n",
    "code = '1625255968'\n",
    "\n",
    "# load it\n",
    "evaluate.load_experiment(code)"
   ]
  },
  {
   "cell_type": "markdown",
   "id": "04612525",
   "metadata": {},
   "source": [
    "## Load general properties into variables"
   ]
  },
  {
   "cell_type": "code",
   "execution_count": 57,
   "id": "7e8d991c",
   "metadata": {},
   "outputs": [
    {
     "name": "stdout",
     "output_type": "stream",
     "text": [
      "getWorkflow\n",
      "TPC-H Queries SF=10\n",
      "This experiment compares run time and resource consumption of TPC-H queries in different DBMS.\n"
     ]
    }
   ],
   "source": [
    "# get experiment workflow\n",
    "df = evaluate.get_experiment_workflow()\n",
    "#print(df)\n",
    "\n",
    "# get workload properties\n",
    "workload_properties = evaluate.get_experiment_workload_properties()\n",
    "print(workload_properties['name'])\n",
    "print(workload_properties['info'])"
   ]
  },
  {
   "cell_type": "code",
   "execution_count": 5,
   "id": "d177b119",
   "metadata": {},
   "outputs": [
    {
     "name": "stdout",
     "output_type": "stream",
     "text": [
      "name:MonetDB-1-1\n",
      "script:SF10-index\n",
      "docker:MonetDB\n",
      "docker_alias:Columnwise\n",
      "version:11.37.11\n",
      "info:[]\n",
      "connectionmanagement\n",
      "  numProcesses:1\n",
      "  runsPerConnection:Unlimited\n",
      "  timeout:3600\n",
      "hostsystem\n",
      "  RAM:1082007052288\n",
      "  CPU:AMD EPYC 7742 64-Core Processor\n",
      "  GPU:\n",
      "  GPUIDs:[]\n",
      "  Cores:256\n",
      "  host:5.4.0-74-generic\n",
      "  node:cl-worker28\n",
      "  disk:623220008\n",
      "  datadisk:10687696\n",
      "  cuda:\n",
      "  requests_cpu:4\n",
      "  requests_memory:16Gi\n",
      "  limits_cpu:0\n",
      "  limits_memory:0\n",
      "worker:[]\n",
      "times\n",
      "  load_ms:251632.57140340284\n",
      "  benchmark_ms:316155.41979367845\n",
      "prices\n",
      "  perHour_usd:0.0\n",
      "  benchmark_usd:0.0\n",
      "hardwaremetrics\n",
      "  total_cpu_memory:0\n",
      "  total_cpu_memory_cached:0\n",
      "  total_cpu_util:0\n",
      "  total_gpu_util:0\n",
      "  total_gpu_power:0\n",
      "  total_gpu_memory:0\n",
      "  total_cpu_throttled:0\n",
      "  total_cpu_util_others:0\n",
      "  total_cpu_util_s:0\n",
      "  total_cpu_util_user_s:0\n",
      "  total_cpu_util_sys_s:0\n",
      "  total_cpu_throttled_s:0\n",
      "  total_cpu_util_others_s:0\n",
      "  total_network_rx:0\n",
      "  total_network_tx:0\n",
      "  total_fs_read:0\n",
      "  total_fs_write:0\n",
      "  total_gpu_energy:0.0\n",
      "metrics\n",
      "  totaltime_ms:3470.0931945159236\n",
      "  throughput_run_total_ps:0.8645300952554098\n",
      "  throughput_run_total_ph:3112.308342919476\n",
      "  throughput_session_total_ps:0.28817669841846993\n",
      "  throughput_session_total_ph:1037.436114306492\n",
      "  throughput_run_mean_ps:0.924158961737484\n",
      "  throughput_run_mean_ph:3326.972262254943\n",
      "  latency_run_mean_ms:1082.0649275747212\n",
      "  throughput_session_mean_ps:0.30805298724582797\n",
      "  throughput_session_mean_ph:1108.990754084981\n",
      "  latency_session_mean_ms:3246.194782724164\n",
      "  queuesize_run:0.9354776949087117\n",
      "  queuesize_run_percent:93.54776949087119\n",
      "  queuesize_session:0.9354776949087117\n",
      "  queuesize_session_percent:93.54776949087118\n"
     ]
    }
   ],
   "source": [
    "evaluator.pretty(evaluate.get_experiment_connection_properties('MonetDB-1-1'))"
   ]
  },
  {
   "cell_type": "code",
   "execution_count": 64,
   "id": "b3738421",
   "metadata": {},
   "outputs": [],
   "source": [
    "# list queries\n",
    "list_queries = evaluate.get_experiment_list_queries()\n",
    "\n",
    "# list connections\n",
    "list_nodes = evaluate.get_experiment_list_nodes()\n",
    "list_dbms = evaluate.get_experiment_list_dbms()\n",
    "list_connections = evaluate.get_experiment_list_connections()\n",
    "list_connections_node = evaluate.get_experiment_list_connections_by_node()\n",
    "list_connections_dbms = evaluate.get_experiment_list_connections_by_dbms()\n",
    "list_connections_clients = evaluate.get_experiment_list_connections_by_connectionmanagement('numProcesses')\n",
    "list_connections_gpu = evaluate.get_experiment_list_connections_by_hostsystem('GPU')\n",
    "\n",
    "# fix some examples:\n",
    "# first connection, first query, first run\n",
    "connection = list_connections[0]\n",
    "numQuery = 1\n",
    "numRun = 0\n",
    "\n",
    "pd.set_option(\"max_rows\", None)"
   ]
  },
  {
   "cell_type": "code",
   "execution_count": 85,
   "id": "099f0020",
   "metadata": {},
   "outputs": [
    {
     "data": {
      "text/markdown": [
       "#### Show Query Template 1 - Pricing Summary Report (TPC-H Q1)"
      ],
      "text/plain": [
       "<IPython.core.display.Markdown object>"
      ]
     },
     "metadata": {},
     "output_type": "display_data"
    },
    {
     "name": "stdout",
     "output_type": "stream",
     "text": [
      "select\n",
      "l_returnflag,\n",
      "l_linestatus,\n",
      "cast(sum(l_quantity) as bigint) as sum_qty,\n",
      "sum(l_extendedprice) as sum_base_price,\n",
      "sum(l_extendedprice*(1-l_discount)) as sum_disc_price,\n",
      "sum(l_extendedprice*(1-l_discount)*(1+l_tax)) as sum_charge,\n",
      "avg(l_quantity) as avg_qty,\n",
      "avg(l_extendedprice) as avg_price,\n",
      "avg(l_discount) as avg_disc,\n",
      "count(*) as count_order\n",
      "from\n",
      "lineitem\n",
      "where\n",
      "l_shipdate <= date '1998-12-01' - interval '{DELTA}'  day\n",
      "group by\n",
      "l_returnflag,\n",
      "l_linestatus\n",
      "order by\n",
      "l_returnflag,\n",
      "l_linestatus\n"
     ]
    }
   ],
   "source": [
    "query_properties = evaluate.get_experiment_query_properties()\n",
    "display(Markdown(\"#### Show Query Template {} - {}\".format(numQuery, query_properties[str(numQuery)]['config']['title'])))\n",
    "print(query_properties[str(numQuery)]['config']['query'])\n"
   ]
  },
  {
   "cell_type": "code",
   "execution_count": 80,
   "id": "b3249384",
   "metadata": {},
   "outputs": [
    {
     "data": {
      "text/markdown": [
       "#### Show Query 1 as run by MonetDB-2-1 - Run number 0"
      ],
      "text/plain": [
       "<IPython.core.display.Markdown object>"
      ]
     },
     "metadata": {},
     "output_type": "display_data"
    },
    {
     "name": "stdout",
     "output_type": "stream",
     "text": [
      "select\n",
      "l_returnflag,\n",
      "l_linestatus,\n",
      "cast(sum(l_quantity) as bigint) as sum_qty,\n",
      "sum(l_extendedprice) as sum_base_price,\n",
      "sum(l_extendedprice*(1-l_discount)) as sum_disc_price,\n",
      "sum(cast(l_extendedprice*(1-l_discount)*(1+l_tax) as double)) as sum_charge,\n",
      "avg(l_quantity) as avg_qty,\n",
      "avg(l_extendedprice) as avg_price,\n",
      "avg(l_discount) as avg_disc,\n",
      "count(*) as count_order\n",
      "from\n",
      "lineitem\n",
      "where\n",
      "l_shipdate <= date '1998-12-01' - interval '71'  day\n",
      "group by\n",
      "l_returnflag,\n",
      "l_linestatus\n",
      "order by\n",
      "l_returnflag,\n",
      "l_linestatus\n"
     ]
    }
   ],
   "source": [
    "connection = list_connections[0]\n",
    "numQuery = 1\n",
    "numRun = 0\n",
    "\n",
    "display(Markdown(\"#### Show Query {} as run by {} - Run number {}\".format(numQuery, connection, numRun)))\n",
    "\n",
    "query_string = evaluate.get_querystring(numQuery, connection, numRun)\n",
    "print(query_string)"
   ]
  },
  {
   "cell_type": "markdown",
   "id": "85b251d5",
   "metadata": {},
   "source": [
    "## Show some Measures"
   ]
  },
  {
   "cell_type": "markdown",
   "id": "a32c465e",
   "metadata": {},
   "source": [
    "### Hardware Metrics"
   ]
  },
  {
   "cell_type": "code",
   "execution_count": 8,
   "id": "43a7b65c",
   "metadata": {},
   "outputs": [
    {
     "data": {
      "text/html": [
       "<div>\n",
       "<style scoped>\n",
       "    .dataframe tbody tr th:only-of-type {\n",
       "        vertical-align: middle;\n",
       "    }\n",
       "\n",
       "    .dataframe tbody tr th {\n",
       "        vertical-align: top;\n",
       "    }\n",
       "\n",
       "    .dataframe thead th {\n",
       "        text-align: right;\n",
       "    }\n",
       "</style>\n",
       "<table border=\"1\" class=\"dataframe\">\n",
       "  <thead>\n",
       "    <tr style=\"text-align: right;\">\n",
       "      <th></th>\n",
       "      <th>query</th>\n",
       "      <th>title</th>\n",
       "    </tr>\n",
       "  </thead>\n",
       "  <tbody>\n",
       "    <tr>\n",
       "      <th>total_cpu_memory</th>\n",
       "      <td>(node_memory_MemTotal_bytes-node_memory_MemFre...</td>\n",
       "      <td>CPU Memory [MiB]</td>\n",
       "    </tr>\n",
       "    <tr>\n",
       "      <th>total_cpu_memory_cached</th>\n",
       "      <td>(node_memory_Cached_bytes)/1024/1024</td>\n",
       "      <td>CPU Memory Cached [MiB]</td>\n",
       "    </tr>\n",
       "    <tr>\n",
       "      <th>total_cpu_util</th>\n",
       "      <td>100 - (avg by (instance) (irate(node_cpu_secon...</td>\n",
       "      <td>CPU Util [%]</td>\n",
       "    </tr>\n",
       "    <tr>\n",
       "      <th>total_gpu_util</th>\n",
       "      <td>sum(dcgm_gpu_utilization)</td>\n",
       "      <td>GPU Util [%]</td>\n",
       "    </tr>\n",
       "    <tr>\n",
       "      <th>total_gpu_power</th>\n",
       "      <td>sum(dcgm_power_usage)</td>\n",
       "      <td>GPU Power Usage [W]</td>\n",
       "    </tr>\n",
       "    <tr>\n",
       "      <th>total_gpu_memory</th>\n",
       "      <td>sum(dcgm_fb_used)</td>\n",
       "      <td>GPU Memory [MiB]</td>\n",
       "    </tr>\n",
       "    <tr>\n",
       "      <th>total_cpu_throttled</th>\n",
       "      <td>sum(rate(container_cpu_cfs_throttled_seconds_t...</td>\n",
       "      <td>CPU Throttle [%]</td>\n",
       "    </tr>\n",
       "    <tr>\n",
       "      <th>total_cpu_util_others</th>\n",
       "      <td>sum(irate(container_cpu_usage_seconds_total{{j...</td>\n",
       "      <td>CPU Others [%]</td>\n",
       "    </tr>\n",
       "    <tr>\n",
       "      <th>total_cpu_util_s</th>\n",
       "      <td>sum(container_cpu_usage_seconds_total{{job=\"mo...</td>\n",
       "      <td>CPU Util [s]</td>\n",
       "    </tr>\n",
       "    <tr>\n",
       "      <th>total_cpu_util_user_s</th>\n",
       "      <td>sum(container_cpu_user_seconds_total{{job=\"mon...</td>\n",
       "      <td>CPU Util User [s]</td>\n",
       "    </tr>\n",
       "    <tr>\n",
       "      <th>total_cpu_util_sys_s</th>\n",
       "      <td>sum(container_cpu_system_seconds_total{{job=\"m...</td>\n",
       "      <td>CPU Util Sys [s]</td>\n",
       "    </tr>\n",
       "    <tr>\n",
       "      <th>total_cpu_throttled_s</th>\n",
       "      <td>sum(container_cpu_cfs_throttled_seconds_total{...</td>\n",
       "      <td>CPU Throttle [s]</td>\n",
       "    </tr>\n",
       "    <tr>\n",
       "      <th>total_cpu_util_others_s</th>\n",
       "      <td>sum(container_cpu_usage_seconds_total{{job=\"mo...</td>\n",
       "      <td>CPU Util Others [s]</td>\n",
       "    </tr>\n",
       "    <tr>\n",
       "      <th>total_network_rx</th>\n",
       "      <td>sum(container_network_receive_bytes_total{{con...</td>\n",
       "      <td>Net Rx [b]</td>\n",
       "    </tr>\n",
       "    <tr>\n",
       "      <th>total_network_tx</th>\n",
       "      <td>sum(container_network_transmit_bytes_total{{co...</td>\n",
       "      <td>Net Tx [b]</td>\n",
       "    </tr>\n",
       "    <tr>\n",
       "      <th>total_fs_read</th>\n",
       "      <td>sum(container_fs_reads_bytes_total{{job=\"monit...</td>\n",
       "      <td>FS Read [b]</td>\n",
       "    </tr>\n",
       "    <tr>\n",
       "      <th>total_fs_write</th>\n",
       "      <td>sum(container_fs_writes_bytes_total{{job=\"moni...</td>\n",
       "      <td>FS Write [b]</td>\n",
       "    </tr>\n",
       "  </tbody>\n",
       "</table>\n",
       "</div>"
      ],
      "text/plain": [
       "                                                                     query  \\\n",
       "total_cpu_memory         (node_memory_MemTotal_bytes-node_memory_MemFre...   \n",
       "total_cpu_memory_cached               (node_memory_Cached_bytes)/1024/1024   \n",
       "total_cpu_util           100 - (avg by (instance) (irate(node_cpu_secon...   \n",
       "total_gpu_util                                   sum(dcgm_gpu_utilization)   \n",
       "total_gpu_power                                      sum(dcgm_power_usage)   \n",
       "total_gpu_memory                                         sum(dcgm_fb_used)   \n",
       "total_cpu_throttled      sum(rate(container_cpu_cfs_throttled_seconds_t...   \n",
       "total_cpu_util_others    sum(irate(container_cpu_usage_seconds_total{{j...   \n",
       "total_cpu_util_s         sum(container_cpu_usage_seconds_total{{job=\"mo...   \n",
       "total_cpu_util_user_s    sum(container_cpu_user_seconds_total{{job=\"mon...   \n",
       "total_cpu_util_sys_s     sum(container_cpu_system_seconds_total{{job=\"m...   \n",
       "total_cpu_throttled_s    sum(container_cpu_cfs_throttled_seconds_total{...   \n",
       "total_cpu_util_others_s  sum(container_cpu_usage_seconds_total{{job=\"mo...   \n",
       "total_network_rx         sum(container_network_receive_bytes_total{{con...   \n",
       "total_network_tx         sum(container_network_transmit_bytes_total{{co...   \n",
       "total_fs_read            sum(container_fs_reads_bytes_total{{job=\"monit...   \n",
       "total_fs_write           sum(container_fs_writes_bytes_total{{job=\"moni...   \n",
       "\n",
       "                                           title  \n",
       "total_cpu_memory                CPU Memory [MiB]  \n",
       "total_cpu_memory_cached  CPU Memory Cached [MiB]  \n",
       "total_cpu_util                      CPU Util [%]  \n",
       "total_gpu_util                      GPU Util [%]  \n",
       "total_gpu_power              GPU Power Usage [W]  \n",
       "total_gpu_memory                GPU Memory [MiB]  \n",
       "total_cpu_throttled             CPU Throttle [%]  \n",
       "total_cpu_util_others             CPU Others [%]  \n",
       "total_cpu_util_s                    CPU Util [s]  \n",
       "total_cpu_util_user_s          CPU Util User [s]  \n",
       "total_cpu_util_sys_s            CPU Util Sys [s]  \n",
       "total_cpu_throttled_s           CPU Throttle [s]  \n",
       "total_cpu_util_others_s      CPU Util Others [s]  \n",
       "total_network_rx                      Net Rx [b]  \n",
       "total_network_tx                      Net Tx [b]  \n",
       "total_fs_read                        FS Read [b]  \n",
       "total_fs_write                      FS Write [b]  "
      ]
     },
     "execution_count": 8,
     "metadata": {},
     "output_type": "execute_result"
    }
   ],
   "source": [
    "# list all available metrics\n",
    "pd.DataFrame(monitor.metrics.metrics).T"
   ]
  },
  {
   "cell_type": "code",
   "execution_count": 82,
   "id": "ed4ede12",
   "metadata": {},
   "outputs": [
    {
     "name": "stdout",
     "output_type": "stream",
     "text": [
      "CPU of Ingestion (via counter)\n"
     ]
    },
    {
     "data": {
      "text/html": [
       "<div>\n",
       "<style scoped>\n",
       "    .dataframe tbody tr th:only-of-type {\n",
       "        vertical-align: middle;\n",
       "    }\n",
       "\n",
       "    .dataframe tbody tr th {\n",
       "        vertical-align: top;\n",
       "    }\n",
       "\n",
       "    .dataframe thead th {\n",
       "        text-align: right;\n",
       "    }\n",
       "</style>\n",
       "<table border=\"1\" class=\"dataframe\">\n",
       "  <thead>\n",
       "    <tr style=\"text-align: right;\">\n",
       "      <th></th>\n",
       "      <th>0</th>\n",
       "    </tr>\n",
       "    <tr>\n",
       "      <th>DBMS</th>\n",
       "      <th></th>\n",
       "    </tr>\n",
       "  </thead>\n",
       "  <tbody>\n",
       "    <tr>\n",
       "      <th>MariaDB-1</th>\n",
       "      <td>1526.198404</td>\n",
       "    </tr>\n",
       "    <tr>\n",
       "      <th>MariaDB-2</th>\n",
       "      <td>1526.198404</td>\n",
       "    </tr>\n",
       "    <tr>\n",
       "      <th>MonetDB-1</th>\n",
       "      <td>1931.119997</td>\n",
       "    </tr>\n",
       "    <tr>\n",
       "      <th>MonetDB-2</th>\n",
       "      <td>1931.119997</td>\n",
       "    </tr>\n",
       "    <tr>\n",
       "      <th>MySQL-1</th>\n",
       "      <td>1963.867765</td>\n",
       "    </tr>\n",
       "    <tr>\n",
       "      <th>MySQL-2</th>\n",
       "      <td>1963.867765</td>\n",
       "    </tr>\n",
       "    <tr>\n",
       "      <th>PostgreSQL-1</th>\n",
       "      <td>472.864693</td>\n",
       "    </tr>\n",
       "    <tr>\n",
       "      <th>PostgreSQL-2</th>\n",
       "      <td>472.864693</td>\n",
       "    </tr>\n",
       "  </tbody>\n",
       "</table>\n",
       "</div>"
      ],
      "text/plain": [
       "                        0\n",
       "DBMS                     \n",
       "MariaDB-1     1526.198404\n",
       "MariaDB-2     1526.198404\n",
       "MonetDB-1     1931.119997\n",
       "MonetDB-2     1931.119997\n",
       "MySQL-1       1963.867765\n",
       "MySQL-2       1963.867765\n",
       "PostgreSQL-1   472.864693\n",
       "PostgreSQL-2   472.864693"
      ]
     },
     "execution_count": 82,
     "metadata": {},
     "output_type": "execute_result"
    }
   ],
   "source": [
    "# get hardware metrics for loading test\n",
    "df = evaluate.get_loading_metrics('total_cpu_memory')\n",
    "df = evaluate.get_loading_metrics('total_cpu_util_s')\n",
    "df = df.T.max().sort_index() - df.T.min().sort_index() # compute difference of counter\n",
    "print(\"CPU of Ingestion (via counter)\")\n",
    "pd.DataFrame(df)"
   ]
  },
  {
   "cell_type": "code",
   "execution_count": 10,
   "id": "58be460c",
   "metadata": {},
   "outputs": [
    {
     "name": "stdout",
     "output_type": "stream",
     "text": [
      "CPU of Ingestion (via rate)\n",
      "DBMS\n",
      "MariaDB-1       1526.761004\n",
      "MariaDB-2       1526.761004\n",
      "MonetDB-1       1887.024304\n",
      "MonetDB-2       1887.024304\n",
      "MySQL-1         1962.119638\n",
      "MySQL-2         1962.119638\n",
      "PostgreSQL-1     464.746812\n",
      "PostgreSQL-2     464.746812\n",
      "dtype: float64\n"
     ]
    }
   ],
   "source": [
    "df = evaluate.get_loading_metrics('total_cpu_util')\n",
    "df = df.T.sum().sort_index() # computer sum of rates\n",
    "print(\"CPU of Ingestion (via rate)\")\n",
    "print(df)"
   ]
  },
  {
   "cell_type": "code",
   "execution_count": 11,
   "id": "42ba3577",
   "metadata": {},
   "outputs": [
    {
     "name": "stdout",
     "output_type": "stream",
     "text": [
      "CPU of Stream (via counter)\n",
      "DBMS\n",
      "MariaDB-1-1       5564.712371\n",
      "MariaDB-2-1       5497.702421\n",
      "MonetDB-1-1       1356.184954\n",
      "MonetDB-2-1       1218.550218\n",
      "MySQL-1-1         3011.705555\n",
      "MySQL-2-1         2896.443679\n",
      "PostgreSQL-1-1    1436.189579\n",
      "PostgreSQL-2-1    1278.603392\n",
      "dtype: float64\n"
     ]
    }
   ],
   "source": [
    "# get hardware metrics per stream\n",
    "df = evaluate.get_streaming_metrics('total_cpu_memory')\n",
    "df = evaluate.get_streaming_metrics('total_cpu_util_s')\n",
    "df = df.T.max().sort_index() - df.T.min().sort_index() # compute difference of counter\n",
    "print(\"CPU of Stream (via counter)\")\n",
    "print(df)"
   ]
  },
  {
   "cell_type": "code",
   "execution_count": 12,
   "id": "d826ce2d",
   "metadata": {},
   "outputs": [
    {
     "name": "stdout",
     "output_type": "stream",
     "text": [
      "CPU of Stream (via rate)\n",
      "DBMS\n",
      "MariaDB-1-1       5580.313389\n",
      "MariaDB-2-1       5519.121645\n",
      "MonetDB-1-1       1508.432769\n",
      "MonetDB-2-1       1368.634461\n",
      "MySQL-1-1         3029.972219\n",
      "MySQL-2-1         2915.922365\n",
      "PostgreSQL-1-1    1492.224116\n",
      "PostgreSQL-2-1    1331.659788\n",
      "dtype: float64\n"
     ]
    }
   ],
   "source": [
    "df = evaluate.get_streaming_metrics('total_cpu_util')\n",
    "df = df.T.sum().sort_index() # computer sum of rates\n",
    "print(\"CPU of Stream (via rate)\")\n",
    "print(df)"
   ]
  },
  {
   "cell_type": "markdown",
   "id": "a2b77aa0",
   "metadata": {},
   "source": [
    "### Measures, show as table per query"
   ]
  },
  {
   "cell_type": "code",
   "execution_count": 13,
   "id": "cbb546ff",
   "metadata": {},
   "outputs": [
    {
     "data": {
      "text/html": [
       "<div>\n",
       "<style scoped>\n",
       "    .dataframe tbody tr th:only-of-type {\n",
       "        vertical-align: middle;\n",
       "    }\n",
       "\n",
       "    .dataframe tbody tr th {\n",
       "        vertical-align: top;\n",
       "    }\n",
       "\n",
       "    .dataframe thead th {\n",
       "        text-align: right;\n",
       "    }\n",
       "</style>\n",
       "<table border=\"1\" class=\"dataframe\">\n",
       "  <thead>\n",
       "    <tr style=\"text-align: right;\">\n",
       "      <th>DBMS</th>\n",
       "      <th>MonetDB-2-1</th>\n",
       "      <th>MonetDB-1-1</th>\n",
       "      <th>PostgreSQL-2-1</th>\n",
       "      <th>PostgreSQL-1-1</th>\n",
       "      <th>MariaDB-2-1</th>\n",
       "      <th>MariaDB-1-1</th>\n",
       "      <th>MySQL-2-1</th>\n",
       "      <th>MySQL-1-1</th>\n",
       "    </tr>\n",
       "  </thead>\n",
       "  <tbody>\n",
       "    <tr>\n",
       "      <th>Q1</th>\n",
       "      <td>4517.950883</td>\n",
       "      <td>5563.435273</td>\n",
       "      <td>19866.305729</td>\n",
       "      <td>20039.383417</td>\n",
       "      <td>113481.054475</td>\n",
       "      <td>115989.630678</td>\n",
       "      <td>139650.894833</td>\n",
       "      <td>139965.852845</td>\n",
       "    </tr>\n",
       "    <tr>\n",
       "      <th>Q2</th>\n",
       "      <td>351.280993</td>\n",
       "      <td>423.855536</td>\n",
       "      <td>17500.866503</td>\n",
       "      <td>7225.602556</td>\n",
       "      <td>13171.131305</td>\n",
       "      <td>13202.835330</td>\n",
       "      <td>1577.399513</td>\n",
       "      <td>1790.965649</td>\n",
       "    </tr>\n",
       "    <tr>\n",
       "      <th>Q3</th>\n",
       "      <td>286.680120</td>\n",
       "      <td>1121.951630</td>\n",
       "      <td>19752.016812</td>\n",
       "      <td>15167.515143</td>\n",
       "      <td>55998.118738</td>\n",
       "      <td>58803.801925</td>\n",
       "      <td>60329.661458</td>\n",
       "      <td>60652.883762</td>\n",
       "    </tr>\n",
       "    <tr>\n",
       "      <th>Q4</th>\n",
       "      <td>157.038979</td>\n",
       "      <td>167.959029</td>\n",
       "      <td>3660.092083</td>\n",
       "      <td>63276.056357</td>\n",
       "      <td>10700.938849</td>\n",
       "      <td>10906.610491</td>\n",
       "      <td>10227.802497</td>\n",
       "      <td>10353.898270</td>\n",
       "    </tr>\n",
       "    <tr>\n",
       "      <th>Q5</th>\n",
       "      <td>383.102751</td>\n",
       "      <td>369.634689</td>\n",
       "      <td>6885.665454</td>\n",
       "      <td>5783.143584</td>\n",
       "      <td>41958.968865</td>\n",
       "      <td>43173.049879</td>\n",
       "      <td>40186.950882</td>\n",
       "      <td>44849.054096</td>\n",
       "    </tr>\n",
       "    <tr>\n",
       "      <th>Q6</th>\n",
       "      <td>129.628404</td>\n",
       "      <td>1785.649381</td>\n",
       "      <td>2886.094683</td>\n",
       "      <td>2917.860596</td>\n",
       "      <td>19288.650417</td>\n",
       "      <td>19219.394048</td>\n",
       "      <td>24026.994607</td>\n",
       "      <td>24070.415718</td>\n",
       "    </tr>\n",
       "    <tr>\n",
       "      <th>Q7</th>\n",
       "      <td>3050.601307</td>\n",
       "      <td>2198.463472</td>\n",
       "      <td>13545.375023</td>\n",
       "      <td>11244.580511</td>\n",
       "      <td>33578.747254</td>\n",
       "      <td>35227.129593</td>\n",
       "      <td>24198.993758</td>\n",
       "      <td>27260.769050</td>\n",
       "    </tr>\n",
       "    <tr>\n",
       "      <th>Q8</th>\n",
       "      <td>3154.597746</td>\n",
       "      <td>1092.181380</td>\n",
       "      <td>13338.918216</td>\n",
       "      <td>12783.577640</td>\n",
       "      <td>73309.150578</td>\n",
       "      <td>74788.585443</td>\n",
       "      <td>106573.850883</td>\n",
       "      <td>117483.457010</td>\n",
       "    </tr>\n",
       "    <tr>\n",
       "      <th>Q9</th>\n",
       "      <td>3963.573644</td>\n",
       "      <td>4918.470218</td>\n",
       "      <td>42587.264411</td>\n",
       "      <td>44068.426727</td>\n",
       "      <td>139187.680818</td>\n",
       "      <td>141097.449787</td>\n",
       "      <td>112492.537863</td>\n",
       "      <td>124488.035032</td>\n",
       "    </tr>\n",
       "    <tr>\n",
       "      <th>Q10</th>\n",
       "      <td>803.503769</td>\n",
       "      <td>908.977431</td>\n",
       "      <td>16731.910749</td>\n",
       "      <td>20831.573940</td>\n",
       "      <td>142090.442053</td>\n",
       "      <td>141403.858324</td>\n",
       "      <td>20748.897447</td>\n",
       "      <td>20992.730243</td>\n",
       "    </tr>\n",
       "    <tr>\n",
       "      <th>Q11</th>\n",
       "      <td>415.515498</td>\n",
       "      <td>567.795084</td>\n",
       "      <td>2169.532531</td>\n",
       "      <td>3892.319345</td>\n",
       "      <td>4293.732452</td>\n",
       "      <td>4148.042627</td>\n",
       "      <td>5696.939546</td>\n",
       "      <td>5663.032641</td>\n",
       "    </tr>\n",
       "    <tr>\n",
       "      <th>Q12</th>\n",
       "      <td>191.421537</td>\n",
       "      <td>3773.747000</td>\n",
       "      <td>7168.397244</td>\n",
       "      <td>15897.897638</td>\n",
       "      <td>128807.095058</td>\n",
       "      <td>132080.983062</td>\n",
       "      <td>34269.547826</td>\n",
       "      <td>34564.011301</td>\n",
       "    </tr>\n",
       "    <tr>\n",
       "      <th>Q13</th>\n",
       "      <td>3181.238493</td>\n",
       "      <td>3590.687924</td>\n",
       "      <td>7771.261669</td>\n",
       "      <td>18784.685568</td>\n",
       "      <td>115454.660663</td>\n",
       "      <td>114272.807927</td>\n",
       "      <td>160750.343010</td>\n",
       "      <td>161980.722418</td>\n",
       "    </tr>\n",
       "    <tr>\n",
       "      <th>Q14</th>\n",
       "      <td>136.743135</td>\n",
       "      <td>181.559546</td>\n",
       "      <td>3260.906603</td>\n",
       "      <td>8136.222391</td>\n",
       "      <td>497102.462734</td>\n",
       "      <td>511364.874354</td>\n",
       "      <td>29359.513897</td>\n",
       "      <td>29699.836106</td>\n",
       "    </tr>\n",
       "    <tr>\n",
       "      <th>Q15</th>\n",
       "      <td>282.713636</td>\n",
       "      <td>270.773724</td>\n",
       "      <td>7963.955605</td>\n",
       "      <td>10828.831254</td>\n",
       "      <td>38992.169477</td>\n",
       "      <td>38717.798192</td>\n",
       "      <td>52652.230879</td>\n",
       "      <td>53015.246627</td>\n",
       "    </tr>\n",
       "    <tr>\n",
       "      <th>Q16</th>\n",
       "      <td>1857.860934</td>\n",
       "      <td>1839.745415</td>\n",
       "      <td>6408.576533</td>\n",
       "      <td>7068.259177</td>\n",
       "      <td>4957.202488</td>\n",
       "      <td>4946.922447</td>\n",
       "      <td>5991.898077</td>\n",
       "      <td>5847.584373</td>\n",
       "    </tr>\n",
       "    <tr>\n",
       "      <th>Q17</th>\n",
       "      <td>2360.170470</td>\n",
       "      <td>1891.926599</td>\n",
       "      <td>13523.998653</td>\n",
       "      <td>11935.246834</td>\n",
       "      <td>1253.035080</td>\n",
       "      <td>1276.979283</td>\n",
       "      <td>12453.737342</td>\n",
       "      <td>13071.677511</td>\n",
       "    </tr>\n",
       "    <tr>\n",
       "      <th>Q18</th>\n",
       "      <td>490.452279</td>\n",
       "      <td>479.290318</td>\n",
       "      <td>29488.654058</td>\n",
       "      <td>33132.461344</td>\n",
       "      <td>129203.891398</td>\n",
       "      <td>126016.121606</td>\n",
       "      <td>30442.444819</td>\n",
       "      <td>30790.192968</td>\n",
       "    </tr>\n",
       "    <tr>\n",
       "      <th>Q19</th>\n",
       "      <td>248.384294</td>\n",
       "      <td>251.887020</td>\n",
       "      <td>492.559332</td>\n",
       "      <td>568.638627</td>\n",
       "      <td>2344.720237</td>\n",
       "      <td>2384.714820</td>\n",
       "      <td>3349.518520</td>\n",
       "      <td>3420.121102</td>\n",
       "    </tr>\n",
       "    <tr>\n",
       "      <th>Q20</th>\n",
       "      <td>233.055218</td>\n",
       "      <td>263.041606</td>\n",
       "      <td>9463.541198</td>\n",
       "      <td>7626.458291</td>\n",
       "      <td>20667.318521</td>\n",
       "      <td>20530.713325</td>\n",
       "      <td>9965.629668</td>\n",
       "      <td>10182.912607</td>\n",
       "    </tr>\n",
       "    <tr>\n",
       "      <th>Q21</th>\n",
       "      <td>70924.262200</td>\n",
       "      <td>71514.882144</td>\n",
       "      <td>6798.701014</td>\n",
       "      <td>6737.272611</td>\n",
       "      <td>245986.749306</td>\n",
       "      <td>246130.899464</td>\n",
       "      <td>78553.948823</td>\n",
       "      <td>81238.430244</td>\n",
       "    </tr>\n",
       "    <tr>\n",
       "      <th>Q22</th>\n",
       "      <td>969.356511</td>\n",
       "      <td>602.300994</td>\n",
       "      <td>744.457357</td>\n",
       "      <td>761.376779</td>\n",
       "      <td>1837.417374</td>\n",
       "      <td>1826.111431</td>\n",
       "      <td>2338.294653</td>\n",
       "      <td>2372.703644</td>\n",
       "    </tr>\n",
       "  </tbody>\n",
       "</table>\n",
       "</div>"
      ],
      "text/plain": [
       "DBMS   MonetDB-2-1   MonetDB-1-1  PostgreSQL-2-1  PostgreSQL-1-1  \\\n",
       "Q1     4517.950883   5563.435273    19866.305729    20039.383417   \n",
       "Q2      351.280993    423.855536    17500.866503     7225.602556   \n",
       "Q3      286.680120   1121.951630    19752.016812    15167.515143   \n",
       "Q4      157.038979    167.959029     3660.092083    63276.056357   \n",
       "Q5      383.102751    369.634689     6885.665454     5783.143584   \n",
       "Q6      129.628404   1785.649381     2886.094683     2917.860596   \n",
       "Q7     3050.601307   2198.463472    13545.375023    11244.580511   \n",
       "Q8     3154.597746   1092.181380    13338.918216    12783.577640   \n",
       "Q9     3963.573644   4918.470218    42587.264411    44068.426727   \n",
       "Q10     803.503769    908.977431    16731.910749    20831.573940   \n",
       "Q11     415.515498    567.795084     2169.532531     3892.319345   \n",
       "Q12     191.421537   3773.747000     7168.397244    15897.897638   \n",
       "Q13    3181.238493   3590.687924     7771.261669    18784.685568   \n",
       "Q14     136.743135    181.559546     3260.906603     8136.222391   \n",
       "Q15     282.713636    270.773724     7963.955605    10828.831254   \n",
       "Q16    1857.860934   1839.745415     6408.576533     7068.259177   \n",
       "Q17    2360.170470   1891.926599    13523.998653    11935.246834   \n",
       "Q18     490.452279    479.290318    29488.654058    33132.461344   \n",
       "Q19     248.384294    251.887020      492.559332      568.638627   \n",
       "Q20     233.055218    263.041606     9463.541198     7626.458291   \n",
       "Q21   70924.262200  71514.882144     6798.701014     6737.272611   \n",
       "Q22     969.356511    602.300994      744.457357      761.376779   \n",
       "\n",
       "DBMS    MariaDB-2-1    MariaDB-1-1      MySQL-2-1      MySQL-1-1  \n",
       "Q1    113481.054475  115989.630678  139650.894833  139965.852845  \n",
       "Q2     13171.131305   13202.835330    1577.399513    1790.965649  \n",
       "Q3     55998.118738   58803.801925   60329.661458   60652.883762  \n",
       "Q4     10700.938849   10906.610491   10227.802497   10353.898270  \n",
       "Q5     41958.968865   43173.049879   40186.950882   44849.054096  \n",
       "Q6     19288.650417   19219.394048   24026.994607   24070.415718  \n",
       "Q7     33578.747254   35227.129593   24198.993758   27260.769050  \n",
       "Q8     73309.150578   74788.585443  106573.850883  117483.457010  \n",
       "Q9    139187.680818  141097.449787  112492.537863  124488.035032  \n",
       "Q10   142090.442053  141403.858324   20748.897447   20992.730243  \n",
       "Q11     4293.732452    4148.042627    5696.939546    5663.032641  \n",
       "Q12   128807.095058  132080.983062   34269.547826   34564.011301  \n",
       "Q13   115454.660663  114272.807927  160750.343010  161980.722418  \n",
       "Q14   497102.462734  511364.874354   29359.513897   29699.836106  \n",
       "Q15    38992.169477   38717.798192   52652.230879   53015.246627  \n",
       "Q16     4957.202488    4946.922447    5991.898077    5847.584373  \n",
       "Q17     1253.035080    1276.979283   12453.737342   13071.677511  \n",
       "Q18   129203.891398  126016.121606   30442.444819   30790.192968  \n",
       "Q19     2344.720237    2384.714820    3349.518520    3420.121102  \n",
       "Q20    20667.318521   20530.713325    9965.629668   10182.912607  \n",
       "Q21   245986.749306  246130.899464   78553.948823   81238.430244  \n",
       "Q22     1837.417374    1826.111431    2338.294653    2372.703644  "
      ]
     },
     "execution_count": 13,
     "metadata": {},
     "output_type": "execute_result"
    }
   ],
   "source": [
    "evaluate.get_aggregated_query_statistics(type='timer', name='run', query_aggregate='Mean').T"
   ]
  },
  {
   "cell_type": "code",
   "execution_count": null,
   "id": "d6528932",
   "metadata": {},
   "outputs": [],
   "source": [
    "evaluate.get_aggregated_query_statistics(type='throughput', name='run', query_aggregate='Mean').T"
   ]
  },
  {
   "cell_type": "code",
   "execution_count": null,
   "id": "d8beda05",
   "metadata": {},
   "outputs": [],
   "source": [
    "evaluate.get_aggregated_query_statistics(type='latency', name='run', query_aggregate='Mean').T"
   ]
  },
  {
   "cell_type": "code",
   "execution_count": null,
   "id": "2ac7ba25",
   "metadata": {},
   "outputs": [],
   "source": [
    "evaluate.get_aggregated_query_statistics(type='timer', name='connection', query_aggregate='Mean').T"
   ]
  },
  {
   "cell_type": "code",
   "execution_count": null,
   "id": "b41f8b14",
   "metadata": {},
   "outputs": [],
   "source": [
    "evaluate.get_aggregated_query_statistics(type='timer', name='execution', query_aggregate='Mean').T"
   ]
  },
  {
   "cell_type": "code",
   "execution_count": null,
   "id": "d0700990",
   "metadata": {},
   "outputs": [],
   "source": [
    "evaluate.get_aggregated_query_statistics(type='timer', name='datatransfer', query_aggregate='Mean').T"
   ]
  },
  {
   "cell_type": "code",
   "execution_count": null,
   "id": "ac5c1e42",
   "metadata": {},
   "outputs": [],
   "source": [
    "# measures, show as heatmap (normalized)\n",
    "evaluate.get_aggregated_query_statistics(type='timer', name='run', query_aggregate='factor').T"
   ]
  },
  {
   "cell_type": "code",
   "execution_count": null,
   "id": "7b836d7e",
   "metadata": {},
   "outputs": [],
   "source": [
    "# example: filter DBMS\n",
    "list_filter_dbms = list_connections_dbms['Citus']\n",
    "evaluate.get_aggregated_query_statistics(type='timer', name='run', query_aggregate='factor', dbms_filter=list_filter_dbms).T"
   ]
  },
  {
   "cell_type": "code",
   "execution_count": null,
   "id": "ff52364a",
   "metadata": {},
   "outputs": [],
   "source": [
    "# size of result sets\n",
    "evaluate.get_total_resultsize()"
   ]
  },
  {
   "cell_type": "code",
   "execution_count": null,
   "id": "87f1883d",
   "metadata": {},
   "outputs": [],
   "source": [
    "# relative size of result sets (minimum=100%), show as heatmap\n",
    "evaluate.get_total_resultsize_normalized()"
   ]
  },
  {
   "cell_type": "code",
   "execution_count": 14,
   "id": "df4ea05a",
   "metadata": {},
   "outputs": [
    {
     "data": {
      "text/html": [
       "<div>\n",
       "<style scoped>\n",
       "    .dataframe tbody tr th:only-of-type {\n",
       "        vertical-align: middle;\n",
       "    }\n",
       "\n",
       "    .dataframe tbody tr th {\n",
       "        vertical-align: top;\n",
       "    }\n",
       "\n",
       "    .dataframe thead th {\n",
       "        text-align: right;\n",
       "    }\n",
       "</style>\n",
       "<table border=\"1\" class=\"dataframe\">\n",
       "  <thead>\n",
       "    <tr style=\"text-align: right;\">\n",
       "      <th></th>\n",
       "      <th>MariaDB-1-1</th>\n",
       "      <th>MariaDB-2-1</th>\n",
       "      <th>MonetDB-1-1</th>\n",
       "      <th>MonetDB-2-1</th>\n",
       "      <th>MySQL-1-1</th>\n",
       "      <th>MySQL-2-1</th>\n",
       "      <th>PostgreSQL-1-1</th>\n",
       "      <th>PostgreSQL-2-1</th>\n",
       "    </tr>\n",
       "  </thead>\n",
       "  <tbody>\n",
       "    <tr>\n",
       "      <th>Q1</th>\n",
       "      <td>False</td>\n",
       "      <td>False</td>\n",
       "      <td>False</td>\n",
       "      <td>False</td>\n",
       "      <td>False</td>\n",
       "      <td>False</td>\n",
       "      <td>False</td>\n",
       "      <td>False</td>\n",
       "    </tr>\n",
       "    <tr>\n",
       "      <th>Q2</th>\n",
       "      <td>False</td>\n",
       "      <td>False</td>\n",
       "      <td>False</td>\n",
       "      <td>False</td>\n",
       "      <td>False</td>\n",
       "      <td>False</td>\n",
       "      <td>False</td>\n",
       "      <td>False</td>\n",
       "    </tr>\n",
       "    <tr>\n",
       "      <th>Q3</th>\n",
       "      <td>False</td>\n",
       "      <td>False</td>\n",
       "      <td>False</td>\n",
       "      <td>False</td>\n",
       "      <td>False</td>\n",
       "      <td>False</td>\n",
       "      <td>False</td>\n",
       "      <td>False</td>\n",
       "    </tr>\n",
       "    <tr>\n",
       "      <th>Q4</th>\n",
       "      <td>False</td>\n",
       "      <td>False</td>\n",
       "      <td>False</td>\n",
       "      <td>False</td>\n",
       "      <td>False</td>\n",
       "      <td>False</td>\n",
       "      <td>False</td>\n",
       "      <td>False</td>\n",
       "    </tr>\n",
       "    <tr>\n",
       "      <th>Q5</th>\n",
       "      <td>False</td>\n",
       "      <td>False</td>\n",
       "      <td>False</td>\n",
       "      <td>False</td>\n",
       "      <td>False</td>\n",
       "      <td>False</td>\n",
       "      <td>False</td>\n",
       "      <td>False</td>\n",
       "    </tr>\n",
       "    <tr>\n",
       "      <th>Q6</th>\n",
       "      <td>False</td>\n",
       "      <td>False</td>\n",
       "      <td>False</td>\n",
       "      <td>False</td>\n",
       "      <td>False</td>\n",
       "      <td>False</td>\n",
       "      <td>False</td>\n",
       "      <td>False</td>\n",
       "    </tr>\n",
       "    <tr>\n",
       "      <th>Q7</th>\n",
       "      <td>False</td>\n",
       "      <td>False</td>\n",
       "      <td>False</td>\n",
       "      <td>False</td>\n",
       "      <td>False</td>\n",
       "      <td>False</td>\n",
       "      <td>False</td>\n",
       "      <td>False</td>\n",
       "    </tr>\n",
       "    <tr>\n",
       "      <th>Q8</th>\n",
       "      <td>False</td>\n",
       "      <td>False</td>\n",
       "      <td>False</td>\n",
       "      <td>False</td>\n",
       "      <td>False</td>\n",
       "      <td>False</td>\n",
       "      <td>False</td>\n",
       "      <td>False</td>\n",
       "    </tr>\n",
       "    <tr>\n",
       "      <th>Q9</th>\n",
       "      <td>False</td>\n",
       "      <td>False</td>\n",
       "      <td>False</td>\n",
       "      <td>False</td>\n",
       "      <td>False</td>\n",
       "      <td>False</td>\n",
       "      <td>False</td>\n",
       "      <td>False</td>\n",
       "    </tr>\n",
       "    <tr>\n",
       "      <th>Q10</th>\n",
       "      <td>False</td>\n",
       "      <td>False</td>\n",
       "      <td>False</td>\n",
       "      <td>False</td>\n",
       "      <td>False</td>\n",
       "      <td>False</td>\n",
       "      <td>False</td>\n",
       "      <td>False</td>\n",
       "    </tr>\n",
       "    <tr>\n",
       "      <th>Q11</th>\n",
       "      <td>False</td>\n",
       "      <td>False</td>\n",
       "      <td>False</td>\n",
       "      <td>False</td>\n",
       "      <td>False</td>\n",
       "      <td>False</td>\n",
       "      <td>False</td>\n",
       "      <td>False</td>\n",
       "    </tr>\n",
       "    <tr>\n",
       "      <th>Q12</th>\n",
       "      <td>False</td>\n",
       "      <td>False</td>\n",
       "      <td>False</td>\n",
       "      <td>False</td>\n",
       "      <td>False</td>\n",
       "      <td>False</td>\n",
       "      <td>False</td>\n",
       "      <td>False</td>\n",
       "    </tr>\n",
       "    <tr>\n",
       "      <th>Q13</th>\n",
       "      <td>False</td>\n",
       "      <td>False</td>\n",
       "      <td>False</td>\n",
       "      <td>False</td>\n",
       "      <td>False</td>\n",
       "      <td>False</td>\n",
       "      <td>False</td>\n",
       "      <td>False</td>\n",
       "    </tr>\n",
       "    <tr>\n",
       "      <th>Q14</th>\n",
       "      <td>False</td>\n",
       "      <td>False</td>\n",
       "      <td>False</td>\n",
       "      <td>False</td>\n",
       "      <td>False</td>\n",
       "      <td>False</td>\n",
       "      <td>False</td>\n",
       "      <td>False</td>\n",
       "    </tr>\n",
       "    <tr>\n",
       "      <th>Q15</th>\n",
       "      <td>False</td>\n",
       "      <td>False</td>\n",
       "      <td>False</td>\n",
       "      <td>False</td>\n",
       "      <td>False</td>\n",
       "      <td>False</td>\n",
       "      <td>False</td>\n",
       "      <td>False</td>\n",
       "    </tr>\n",
       "    <tr>\n",
       "      <th>Q16</th>\n",
       "      <td>False</td>\n",
       "      <td>False</td>\n",
       "      <td>False</td>\n",
       "      <td>False</td>\n",
       "      <td>False</td>\n",
       "      <td>False</td>\n",
       "      <td>False</td>\n",
       "      <td>False</td>\n",
       "    </tr>\n",
       "    <tr>\n",
       "      <th>Q17</th>\n",
       "      <td>False</td>\n",
       "      <td>False</td>\n",
       "      <td>False</td>\n",
       "      <td>False</td>\n",
       "      <td>False</td>\n",
       "      <td>False</td>\n",
       "      <td>False</td>\n",
       "      <td>False</td>\n",
       "    </tr>\n",
       "    <tr>\n",
       "      <th>Q18</th>\n",
       "      <td>False</td>\n",
       "      <td>False</td>\n",
       "      <td>False</td>\n",
       "      <td>False</td>\n",
       "      <td>False</td>\n",
       "      <td>False</td>\n",
       "      <td>False</td>\n",
       "      <td>False</td>\n",
       "    </tr>\n",
       "    <tr>\n",
       "      <th>Q19</th>\n",
       "      <td>False</td>\n",
       "      <td>False</td>\n",
       "      <td>False</td>\n",
       "      <td>False</td>\n",
       "      <td>False</td>\n",
       "      <td>False</td>\n",
       "      <td>False</td>\n",
       "      <td>False</td>\n",
       "    </tr>\n",
       "    <tr>\n",
       "      <th>Q20</th>\n",
       "      <td>False</td>\n",
       "      <td>False</td>\n",
       "      <td>False</td>\n",
       "      <td>False</td>\n",
       "      <td>False</td>\n",
       "      <td>False</td>\n",
       "      <td>False</td>\n",
       "      <td>False</td>\n",
       "    </tr>\n",
       "    <tr>\n",
       "      <th>Q21</th>\n",
       "      <td>False</td>\n",
       "      <td>False</td>\n",
       "      <td>False</td>\n",
       "      <td>False</td>\n",
       "      <td>False</td>\n",
       "      <td>False</td>\n",
       "      <td>False</td>\n",
       "      <td>False</td>\n",
       "    </tr>\n",
       "    <tr>\n",
       "      <th>Q22</th>\n",
       "      <td>False</td>\n",
       "      <td>False</td>\n",
       "      <td>False</td>\n",
       "      <td>False</td>\n",
       "      <td>False</td>\n",
       "      <td>False</td>\n",
       "      <td>False</td>\n",
       "      <td>False</td>\n",
       "    </tr>\n",
       "  </tbody>\n",
       "</table>\n",
       "</div>"
      ],
      "text/plain": [
       "     MariaDB-1-1  MariaDB-2-1  MonetDB-1-1  MonetDB-2-1  MySQL-1-1  MySQL-2-1  \\\n",
       "Q1         False        False        False        False      False      False   \n",
       "Q2         False        False        False        False      False      False   \n",
       "Q3         False        False        False        False      False      False   \n",
       "Q4         False        False        False        False      False      False   \n",
       "Q5         False        False        False        False      False      False   \n",
       "Q6         False        False        False        False      False      False   \n",
       "Q7         False        False        False        False      False      False   \n",
       "Q8         False        False        False        False      False      False   \n",
       "Q9         False        False        False        False      False      False   \n",
       "Q10        False        False        False        False      False      False   \n",
       "Q11        False        False        False        False      False      False   \n",
       "Q12        False        False        False        False      False      False   \n",
       "Q13        False        False        False        False      False      False   \n",
       "Q14        False        False        False        False      False      False   \n",
       "Q15        False        False        False        False      False      False   \n",
       "Q16        False        False        False        False      False      False   \n",
       "Q17        False        False        False        False      False      False   \n",
       "Q18        False        False        False        False      False      False   \n",
       "Q19        False        False        False        False      False      False   \n",
       "Q20        False        False        False        False      False      False   \n",
       "Q21        False        False        False        False      False      False   \n",
       "Q22        False        False        False        False      False      False   \n",
       "\n",
       "     PostgreSQL-1-1  PostgreSQL-2-1  \n",
       "Q1            False           False  \n",
       "Q2            False           False  \n",
       "Q3            False           False  \n",
       "Q4            False           False  \n",
       "Q5            False           False  \n",
       "Q6            False           False  \n",
       "Q7            False           False  \n",
       "Q8            False           False  \n",
       "Q9            False           False  \n",
       "Q10           False           False  \n",
       "Q11           False           False  \n",
       "Q12           False           False  \n",
       "Q13           False           False  \n",
       "Q14           False           False  \n",
       "Q15           False           False  \n",
       "Q16           False           False  \n",
       "Q17           False           False  \n",
       "Q18           False           False  \n",
       "Q19           False           False  \n",
       "Q20           False           False  \n",
       "Q21           False           False  \n",
       "Q22           False           False  "
      ]
     },
     "execution_count": 14,
     "metadata": {},
     "output_type": "execute_result"
    }
   ],
   "source": [
    "# if there was an error, show as heatmap\n",
    "evaluate.get_total_errors().T"
   ]
  },
  {
   "cell_type": "code",
   "execution_count": 15,
   "id": "74b60c96",
   "metadata": {},
   "outputs": [
    {
     "data": {
      "text/html": [
       "<div>\n",
       "<style scoped>\n",
       "    .dataframe tbody tr th:only-of-type {\n",
       "        vertical-align: middle;\n",
       "    }\n",
       "\n",
       "    .dataframe tbody tr th {\n",
       "        vertical-align: top;\n",
       "    }\n",
       "\n",
       "    .dataframe thead th {\n",
       "        text-align: right;\n",
       "    }\n",
       "</style>\n",
       "<table border=\"1\" class=\"dataframe\">\n",
       "  <thead>\n",
       "    <tr style=\"text-align: right;\">\n",
       "      <th></th>\n",
       "      <th>Q1</th>\n",
       "      <th>Q2</th>\n",
       "      <th>Q3</th>\n",
       "      <th>Q4</th>\n",
       "      <th>Q5</th>\n",
       "      <th>Q6</th>\n",
       "      <th>Q7</th>\n",
       "      <th>Q8</th>\n",
       "      <th>Q9</th>\n",
       "      <th>Q10</th>\n",
       "      <th>...</th>\n",
       "      <th>Q13</th>\n",
       "      <th>Q14</th>\n",
       "      <th>Q15</th>\n",
       "      <th>Q16</th>\n",
       "      <th>Q17</th>\n",
       "      <th>Q18</th>\n",
       "      <th>Q19</th>\n",
       "      <th>Q20</th>\n",
       "      <th>Q21</th>\n",
       "      <th>Q22</th>\n",
       "    </tr>\n",
       "  </thead>\n",
       "  <tbody>\n",
       "    <tr>\n",
       "      <th>MariaDB-1-1</th>\n",
       "      <td>False</td>\n",
       "      <td>False</td>\n",
       "      <td>False</td>\n",
       "      <td>False</td>\n",
       "      <td>False</td>\n",
       "      <td>False</td>\n",
       "      <td>False</td>\n",
       "      <td>False</td>\n",
       "      <td>False</td>\n",
       "      <td>False</td>\n",
       "      <td>...</td>\n",
       "      <td>False</td>\n",
       "      <td>False</td>\n",
       "      <td>True</td>\n",
       "      <td>False</td>\n",
       "      <td>False</td>\n",
       "      <td>False</td>\n",
       "      <td>False</td>\n",
       "      <td>False</td>\n",
       "      <td>False</td>\n",
       "      <td>False</td>\n",
       "    </tr>\n",
       "    <tr>\n",
       "      <th>MariaDB-2-1</th>\n",
       "      <td>False</td>\n",
       "      <td>False</td>\n",
       "      <td>False</td>\n",
       "      <td>False</td>\n",
       "      <td>False</td>\n",
       "      <td>False</td>\n",
       "      <td>False</td>\n",
       "      <td>False</td>\n",
       "      <td>False</td>\n",
       "      <td>False</td>\n",
       "      <td>...</td>\n",
       "      <td>False</td>\n",
       "      <td>False</td>\n",
       "      <td>False</td>\n",
       "      <td>False</td>\n",
       "      <td>False</td>\n",
       "      <td>False</td>\n",
       "      <td>False</td>\n",
       "      <td>False</td>\n",
       "      <td>False</td>\n",
       "      <td>False</td>\n",
       "    </tr>\n",
       "    <tr>\n",
       "      <th>MonetDB-1-1</th>\n",
       "      <td>True</td>\n",
       "      <td>False</td>\n",
       "      <td>False</td>\n",
       "      <td>False</td>\n",
       "      <td>False</td>\n",
       "      <td>False</td>\n",
       "      <td>False</td>\n",
       "      <td>False</td>\n",
       "      <td>False</td>\n",
       "      <td>False</td>\n",
       "      <td>...</td>\n",
       "      <td>False</td>\n",
       "      <td>False</td>\n",
       "      <td>True</td>\n",
       "      <td>False</td>\n",
       "      <td>False</td>\n",
       "      <td>False</td>\n",
       "      <td>False</td>\n",
       "      <td>False</td>\n",
       "      <td>False</td>\n",
       "      <td>False</td>\n",
       "    </tr>\n",
       "    <tr>\n",
       "      <th>MonetDB-2-1</th>\n",
       "      <td>True</td>\n",
       "      <td>False</td>\n",
       "      <td>False</td>\n",
       "      <td>False</td>\n",
       "      <td>False</td>\n",
       "      <td>False</td>\n",
       "      <td>False</td>\n",
       "      <td>False</td>\n",
       "      <td>False</td>\n",
       "      <td>False</td>\n",
       "      <td>...</td>\n",
       "      <td>False</td>\n",
       "      <td>False</td>\n",
       "      <td>True</td>\n",
       "      <td>False</td>\n",
       "      <td>False</td>\n",
       "      <td>False</td>\n",
       "      <td>False</td>\n",
       "      <td>False</td>\n",
       "      <td>False</td>\n",
       "      <td>False</td>\n",
       "    </tr>\n",
       "    <tr>\n",
       "      <th>MySQL-1-1</th>\n",
       "      <td>False</td>\n",
       "      <td>False</td>\n",
       "      <td>False</td>\n",
       "      <td>False</td>\n",
       "      <td>False</td>\n",
       "      <td>False</td>\n",
       "      <td>False</td>\n",
       "      <td>False</td>\n",
       "      <td>False</td>\n",
       "      <td>False</td>\n",
       "      <td>...</td>\n",
       "      <td>False</td>\n",
       "      <td>False</td>\n",
       "      <td>True</td>\n",
       "      <td>False</td>\n",
       "      <td>False</td>\n",
       "      <td>False</td>\n",
       "      <td>False</td>\n",
       "      <td>False</td>\n",
       "      <td>False</td>\n",
       "      <td>False</td>\n",
       "    </tr>\n",
       "    <tr>\n",
       "      <th>MySQL-2-1</th>\n",
       "      <td>False</td>\n",
       "      <td>False</td>\n",
       "      <td>False</td>\n",
       "      <td>False</td>\n",
       "      <td>False</td>\n",
       "      <td>False</td>\n",
       "      <td>False</td>\n",
       "      <td>False</td>\n",
       "      <td>False</td>\n",
       "      <td>False</td>\n",
       "      <td>...</td>\n",
       "      <td>False</td>\n",
       "      <td>False</td>\n",
       "      <td>True</td>\n",
       "      <td>False</td>\n",
       "      <td>False</td>\n",
       "      <td>False</td>\n",
       "      <td>False</td>\n",
       "      <td>False</td>\n",
       "      <td>False</td>\n",
       "      <td>False</td>\n",
       "    </tr>\n",
       "    <tr>\n",
       "      <th>PostgreSQL-1-1</th>\n",
       "      <td>False</td>\n",
       "      <td>False</td>\n",
       "      <td>False</td>\n",
       "      <td>False</td>\n",
       "      <td>False</td>\n",
       "      <td>False</td>\n",
       "      <td>False</td>\n",
       "      <td>False</td>\n",
       "      <td>False</td>\n",
       "      <td>False</td>\n",
       "      <td>...</td>\n",
       "      <td>False</td>\n",
       "      <td>False</td>\n",
       "      <td>True</td>\n",
       "      <td>False</td>\n",
       "      <td>False</td>\n",
       "      <td>False</td>\n",
       "      <td>False</td>\n",
       "      <td>False</td>\n",
       "      <td>False</td>\n",
       "      <td>False</td>\n",
       "    </tr>\n",
       "    <tr>\n",
       "      <th>PostgreSQL-2-1</th>\n",
       "      <td>False</td>\n",
       "      <td>False</td>\n",
       "      <td>False</td>\n",
       "      <td>False</td>\n",
       "      <td>False</td>\n",
       "      <td>False</td>\n",
       "      <td>False</td>\n",
       "      <td>False</td>\n",
       "      <td>False</td>\n",
       "      <td>False</td>\n",
       "      <td>...</td>\n",
       "      <td>False</td>\n",
       "      <td>False</td>\n",
       "      <td>True</td>\n",
       "      <td>False</td>\n",
       "      <td>False</td>\n",
       "      <td>False</td>\n",
       "      <td>False</td>\n",
       "      <td>False</td>\n",
       "      <td>False</td>\n",
       "      <td>False</td>\n",
       "    </tr>\n",
       "  </tbody>\n",
       "</table>\n",
       "<p>8 rows × 22 columns</p>\n",
       "</div>"
      ],
      "text/plain": [
       "                   Q1     Q2     Q3     Q4     Q5     Q6     Q7     Q8     Q9  \\\n",
       "MariaDB-1-1     False  False  False  False  False  False  False  False  False   \n",
       "MariaDB-2-1     False  False  False  False  False  False  False  False  False   \n",
       "MonetDB-1-1      True  False  False  False  False  False  False  False  False   \n",
       "MonetDB-2-1      True  False  False  False  False  False  False  False  False   \n",
       "MySQL-1-1       False  False  False  False  False  False  False  False  False   \n",
       "MySQL-2-1       False  False  False  False  False  False  False  False  False   \n",
       "PostgreSQL-1-1  False  False  False  False  False  False  False  False  False   \n",
       "PostgreSQL-2-1  False  False  False  False  False  False  False  False  False   \n",
       "\n",
       "                  Q10  ...    Q13    Q14    Q15    Q16    Q17    Q18    Q19  \\\n",
       "MariaDB-1-1     False  ...  False  False   True  False  False  False  False   \n",
       "MariaDB-2-1     False  ...  False  False  False  False  False  False  False   \n",
       "MonetDB-1-1     False  ...  False  False   True  False  False  False  False   \n",
       "MonetDB-2-1     False  ...  False  False   True  False  False  False  False   \n",
       "MySQL-1-1       False  ...  False  False   True  False  False  False  False   \n",
       "MySQL-2-1       False  ...  False  False   True  False  False  False  False   \n",
       "PostgreSQL-1-1  False  ...  False  False   True  False  False  False  False   \n",
       "PostgreSQL-2-1  False  ...  False  False   True  False  False  False  False   \n",
       "\n",
       "                  Q20    Q21    Q22  \n",
       "MariaDB-1-1     False  False  False  \n",
       "MariaDB-2-1     False  False  False  \n",
       "MonetDB-1-1     False  False  False  \n",
       "MonetDB-2-1     False  False  False  \n",
       "MySQL-1-1       False  False  False  \n",
       "MySQL-2-1       False  False  False  \n",
       "PostgreSQL-1-1  False  False  False  \n",
       "PostgreSQL-2-1  False  False  False  \n",
       "\n",
       "[8 rows x 22 columns]"
      ]
     },
     "execution_count": 15,
     "metadata": {},
     "output_type": "execute_result"
    }
   ],
   "source": [
    "# if there was a warning, show as heatmap\n",
    "evaluate.get_total_warnings()"
   ]
  },
  {
   "cell_type": "code",
   "execution_count": null,
   "id": "dabebcf1",
   "metadata": {},
   "outputs": [],
   "source": [
    "# total times benchmarking a query took, show as table\n",
    "evaluate.get_total_times().T"
   ]
  },
  {
   "cell_type": "code",
   "execution_count": null,
   "id": "dc313665",
   "metadata": {},
   "outputs": [],
   "source": [
    "# same, normalized to 100% per query, show as stacked area plot\n",
    "evaluate.get_total_times_normalized().T"
   ]
  },
  {
   "cell_type": "code",
   "execution_count": null,
   "id": "98b91145",
   "metadata": {},
   "outputs": [],
   "source": [
    "# same, normed to relative to best per query, show as heatmap\n",
    "evaluate.get_total_times_relative().T"
   ]
  },
  {
   "cell_type": "markdown",
   "id": "093a2e3f",
   "metadata": {},
   "source": [
    "# some dataframes\n",
    "\n",
    "* showing metrics per dbms by aggregation\n",
    "* from measures, show as bar plot"
   ]
  },
  {
   "cell_type": "code",
   "execution_count": null,
   "id": "f330b053",
   "metadata": {},
   "outputs": [],
   "source": [
    "evaluate.get_aggregated_experiment_statistics(type='timer', name='run', query_aggregate='Mean', total_aggregate='Mean')"
   ]
  },
  {
   "cell_type": "code",
   "execution_count": null,
   "id": "5d59a4df",
   "metadata": {},
   "outputs": [],
   "source": [
    "evaluate.get_aggregated_experiment_statistics(type='throughput', name='run', query_aggregate='Mean', total_aggregate='Geo')"
   ]
  },
  {
   "cell_type": "code",
   "execution_count": null,
   "id": "8fa87340",
   "metadata": {},
   "outputs": [],
   "source": [
    "evaluate.get_aggregated_experiment_statistics(type='timer', name='run', query_aggregate='factor', total_aggregate='Geo')"
   ]
  },
  {
   "cell_type": "code",
   "execution_count": null,
   "id": "e54010d9",
   "metadata": {},
   "outputs": [],
   "source": [
    "evaluate.get_aggregated_experiment_statistics(type='monitoring', name='total_cpu_memory', query_aggregate='Mean', total_aggregate='Mean')"
   ]
  },
  {
   "cell_type": "code",
   "execution_count": null,
   "id": "5ffb410b",
   "metadata": {},
   "outputs": [],
   "source": [
    "# average data obtained from monitoring\n",
    "# average per second - this differs from mean of mean, because not all queries have the same duration\n",
    "evaluate.get_survey_monitoring().T"
   ]
  },
  {
   "cell_type": "code",
   "execution_count": null,
   "id": "ee304205",
   "metadata": {},
   "outputs": [],
   "source": [
    "# host data obtained from config\n",
    "evaluate.get_survey_hostdata()\n",
    "# example for merging two dataframes (by index)\n",
    "df1 = evaluate.get_survey_monitoring()\n",
    "df2 = evaluate.get_survey_hostdata()\n",
    "tools.dataframehelper.merge(df1, df2)"
   ]
  },
  {
   "cell_type": "code",
   "execution_count": null,
   "id": "35be8f21",
   "metadata": {},
   "outputs": [],
   "source": [
    "evaluate.get_survey_hostdata()"
   ]
  },
  {
   "cell_type": "markdown",
   "id": "8ec32e49",
   "metadata": {},
   "source": [
    "## Per query details"
   ]
  },
  {
   "cell_type": "code",
   "execution_count": null,
   "id": "1c1ad4ad",
   "metadata": {},
   "outputs": [],
   "source": [
    "# get measures of a query\n",
    "# \n",
    "# df1 = measures for plot, boxplot, histogramm\n",
    "# df2 = statistics as table\n",
    "df1, df2 = evaluate.get_measures_and_statistics(numQuery, type='timer', name='execution')\n",
    "print(df1)\n",
    "df2"
   ]
  },
  {
   "cell_type": "code",
   "execution_count": null,
   "id": "660b0e00",
   "metadata": {},
   "outputs": [],
   "source": [
    "evaluate.get_measures_and_statistics(numQuery, type='timer', name='execution')\n",
    "evaluate.get_measures_and_statistics(numQuery, type='timer', name='datatransfer')\n",
    "evaluate.get_measures_and_statistics(numQuery, type='timer', name='run')\n",
    "evaluate.get_measures_and_statistics(numQuery, type='timer', name='session')\n",
    "evaluate.get_measures_and_statistics(numQuery, type='throughput', name='session')"
   ]
  },
  {
   "cell_type": "code",
   "execution_count": null,
   "id": "34ea66dc",
   "metadata": {},
   "outputs": [],
   "source": [
    "# colors by dbms\n",
    "list_connections_dbms = evaluate.get_experiment_list_connections_by_dbms()\n",
    "connection_colors = evaluate.get_experiment_list_connection_colors(list_connections_dbms)\n",
    "#connection_colors = evaluate.get_experiment_list_connection_colors(list_connections_node)"
   ]
  },
  {
   "cell_type": "code",
   "execution_count": 53,
   "id": "dd03cc49",
   "metadata": {},
   "outputs": [
    {
     "data": {
      "application/vnd.plotly.v1+json": {
       "config": {
        "plotlyServerURL": "https://plot.ly"
       },
       "data": [
        {
         "line": {
          "color": "#fecccc",
          "width": 1
         },
         "name": "MariaDB-2-1",
         "type": "scatter",
         "x": [
          0,
          1,
          2
         ],
         "y": [
          10631.587456096895,
          10786.846601986324,
          10684.382489067502
         ]
        },
        {
         "line": {
          "color": "#666500",
          "width": 1
         },
         "name": "PostgreSQL-1-1",
         "type": "scatter",
         "x": [
          0,
          1,
          2
         ],
         "y": [
          184856.8571439246,
          2517.621263046749,
          2453.690663096495
         ]
        },
        {
         "line": {
          "color": "#006600",
          "width": 1
         },
         "name": "MonetDB-1-1",
         "type": "scatter",
         "x": [
          0,
          1,
          2
         ],
         "y": [
          188.42912395484746,
          151.39126707799733,
          164.056695997715
         ]
        },
        {
         "line": {
          "color": "#000066",
          "width": 1
         },
         "name": "MySQL-1-1",
         "type": "scatter",
         "x": [
          0,
          1,
          2
         ],
         "y": [
          10249.509504064918,
          10490.337723866107,
          10321.84758130461
         ]
        },
        {
         "line": {
          "color": "#ff0000",
          "width": 1
         },
         "name": "MariaDB-1-1",
         "type": "scatter",
         "x": [
          0,
          1,
          2
         ],
         "y": [
          10833.034123061223,
          10974.291878985241,
          10912.505469983444
         ]
        },
        {
         "line": {
          "color": "#cbcbff",
          "width": 1
         },
         "name": "MySQL-2-1",
         "type": "scatter",
         "x": [
          0,
          1,
          2
         ],
         "y": [
          10113.65952109918,
          10379.248296958394,
          10190.49967394676
         ]
        },
        {
         "line": {
          "color": "#ffffcb",
          "width": 1
         },
         "name": "PostgreSQL-2-1",
         "type": "scatter",
         "x": [
          0,
          1,
          2
         ],
         "y": [
          3521.348245907575,
          3399.4601210579276,
          4059.4678829656914
         ]
        },
        {
         "line": {
          "color": "#cbffcb",
          "width": 1
         },
         "name": "MonetDB-2-1",
         "type": "scatter",
         "x": [
          0,
          1,
          2
         ],
         "y": [
          167.39692899864167,
          148.23161403182894,
          155.4883939679712
         ]
        }
       ],
       "layout": {
        "template": {
         "data": {
          "bar": [
           {
            "error_x": {
             "color": "#2a3f5f"
            },
            "error_y": {
             "color": "#2a3f5f"
            },
            "marker": {
             "line": {
              "color": "#E5ECF6",
              "width": 0.5
             },
             "pattern": {
              "fillmode": "overlay",
              "size": 10,
              "solidity": 0.2
             }
            },
            "type": "bar"
           }
          ],
          "barpolar": [
           {
            "marker": {
             "line": {
              "color": "#E5ECF6",
              "width": 0.5
             },
             "pattern": {
              "fillmode": "overlay",
              "size": 10,
              "solidity": 0.2
             }
            },
            "type": "barpolar"
           }
          ],
          "carpet": [
           {
            "aaxis": {
             "endlinecolor": "#2a3f5f",
             "gridcolor": "white",
             "linecolor": "white",
             "minorgridcolor": "white",
             "startlinecolor": "#2a3f5f"
            },
            "baxis": {
             "endlinecolor": "#2a3f5f",
             "gridcolor": "white",
             "linecolor": "white",
             "minorgridcolor": "white",
             "startlinecolor": "#2a3f5f"
            },
            "type": "carpet"
           }
          ],
          "choropleth": [
           {
            "colorbar": {
             "outlinewidth": 0,
             "ticks": ""
            },
            "type": "choropleth"
           }
          ],
          "contour": [
           {
            "colorbar": {
             "outlinewidth": 0,
             "ticks": ""
            },
            "colorscale": [
             [
              0,
              "#0d0887"
             ],
             [
              0.1111111111111111,
              "#46039f"
             ],
             [
              0.2222222222222222,
              "#7201a8"
             ],
             [
              0.3333333333333333,
              "#9c179e"
             ],
             [
              0.4444444444444444,
              "#bd3786"
             ],
             [
              0.5555555555555556,
              "#d8576b"
             ],
             [
              0.6666666666666666,
              "#ed7953"
             ],
             [
              0.7777777777777778,
              "#fb9f3a"
             ],
             [
              0.8888888888888888,
              "#fdca26"
             ],
             [
              1,
              "#f0f921"
             ]
            ],
            "type": "contour"
           }
          ],
          "contourcarpet": [
           {
            "colorbar": {
             "outlinewidth": 0,
             "ticks": ""
            },
            "type": "contourcarpet"
           }
          ],
          "heatmap": [
           {
            "colorbar": {
             "outlinewidth": 0,
             "ticks": ""
            },
            "colorscale": [
             [
              0,
              "#0d0887"
             ],
             [
              0.1111111111111111,
              "#46039f"
             ],
             [
              0.2222222222222222,
              "#7201a8"
             ],
             [
              0.3333333333333333,
              "#9c179e"
             ],
             [
              0.4444444444444444,
              "#bd3786"
             ],
             [
              0.5555555555555556,
              "#d8576b"
             ],
             [
              0.6666666666666666,
              "#ed7953"
             ],
             [
              0.7777777777777778,
              "#fb9f3a"
             ],
             [
              0.8888888888888888,
              "#fdca26"
             ],
             [
              1,
              "#f0f921"
             ]
            ],
            "type": "heatmap"
           }
          ],
          "heatmapgl": [
           {
            "colorbar": {
             "outlinewidth": 0,
             "ticks": ""
            },
            "colorscale": [
             [
              0,
              "#0d0887"
             ],
             [
              0.1111111111111111,
              "#46039f"
             ],
             [
              0.2222222222222222,
              "#7201a8"
             ],
             [
              0.3333333333333333,
              "#9c179e"
             ],
             [
              0.4444444444444444,
              "#bd3786"
             ],
             [
              0.5555555555555556,
              "#d8576b"
             ],
             [
              0.6666666666666666,
              "#ed7953"
             ],
             [
              0.7777777777777778,
              "#fb9f3a"
             ],
             [
              0.8888888888888888,
              "#fdca26"
             ],
             [
              1,
              "#f0f921"
             ]
            ],
            "type": "heatmapgl"
           }
          ],
          "histogram": [
           {
            "marker": {
             "pattern": {
              "fillmode": "overlay",
              "size": 10,
              "solidity": 0.2
             }
            },
            "type": "histogram"
           }
          ],
          "histogram2d": [
           {
            "colorbar": {
             "outlinewidth": 0,
             "ticks": ""
            },
            "colorscale": [
             [
              0,
              "#0d0887"
             ],
             [
              0.1111111111111111,
              "#46039f"
             ],
             [
              0.2222222222222222,
              "#7201a8"
             ],
             [
              0.3333333333333333,
              "#9c179e"
             ],
             [
              0.4444444444444444,
              "#bd3786"
             ],
             [
              0.5555555555555556,
              "#d8576b"
             ],
             [
              0.6666666666666666,
              "#ed7953"
             ],
             [
              0.7777777777777778,
              "#fb9f3a"
             ],
             [
              0.8888888888888888,
              "#fdca26"
             ],
             [
              1,
              "#f0f921"
             ]
            ],
            "type": "histogram2d"
           }
          ],
          "histogram2dcontour": [
           {
            "colorbar": {
             "outlinewidth": 0,
             "ticks": ""
            },
            "colorscale": [
             [
              0,
              "#0d0887"
             ],
             [
              0.1111111111111111,
              "#46039f"
             ],
             [
              0.2222222222222222,
              "#7201a8"
             ],
             [
              0.3333333333333333,
              "#9c179e"
             ],
             [
              0.4444444444444444,
              "#bd3786"
             ],
             [
              0.5555555555555556,
              "#d8576b"
             ],
             [
              0.6666666666666666,
              "#ed7953"
             ],
             [
              0.7777777777777778,
              "#fb9f3a"
             ],
             [
              0.8888888888888888,
              "#fdca26"
             ],
             [
              1,
              "#f0f921"
             ]
            ],
            "type": "histogram2dcontour"
           }
          ],
          "mesh3d": [
           {
            "colorbar": {
             "outlinewidth": 0,
             "ticks": ""
            },
            "type": "mesh3d"
           }
          ],
          "parcoords": [
           {
            "line": {
             "colorbar": {
              "outlinewidth": 0,
              "ticks": ""
             }
            },
            "type": "parcoords"
           }
          ],
          "pie": [
           {
            "automargin": true,
            "type": "pie"
           }
          ],
          "scatter": [
           {
            "marker": {
             "colorbar": {
              "outlinewidth": 0,
              "ticks": ""
             }
            },
            "type": "scatter"
           }
          ],
          "scatter3d": [
           {
            "line": {
             "colorbar": {
              "outlinewidth": 0,
              "ticks": ""
             }
            },
            "marker": {
             "colorbar": {
              "outlinewidth": 0,
              "ticks": ""
             }
            },
            "type": "scatter3d"
           }
          ],
          "scattercarpet": [
           {
            "marker": {
             "colorbar": {
              "outlinewidth": 0,
              "ticks": ""
             }
            },
            "type": "scattercarpet"
           }
          ],
          "scattergeo": [
           {
            "marker": {
             "colorbar": {
              "outlinewidth": 0,
              "ticks": ""
             }
            },
            "type": "scattergeo"
           }
          ],
          "scattergl": [
           {
            "marker": {
             "colorbar": {
              "outlinewidth": 0,
              "ticks": ""
             }
            },
            "type": "scattergl"
           }
          ],
          "scattermapbox": [
           {
            "marker": {
             "colorbar": {
              "outlinewidth": 0,
              "ticks": ""
             }
            },
            "type": "scattermapbox"
           }
          ],
          "scatterpolar": [
           {
            "marker": {
             "colorbar": {
              "outlinewidth": 0,
              "ticks": ""
             }
            },
            "type": "scatterpolar"
           }
          ],
          "scatterpolargl": [
           {
            "marker": {
             "colorbar": {
              "outlinewidth": 0,
              "ticks": ""
             }
            },
            "type": "scatterpolargl"
           }
          ],
          "scatterternary": [
           {
            "marker": {
             "colorbar": {
              "outlinewidth": 0,
              "ticks": ""
             }
            },
            "type": "scatterternary"
           }
          ],
          "surface": [
           {
            "colorbar": {
             "outlinewidth": 0,
             "ticks": ""
            },
            "colorscale": [
             [
              0,
              "#0d0887"
             ],
             [
              0.1111111111111111,
              "#46039f"
             ],
             [
              0.2222222222222222,
              "#7201a8"
             ],
             [
              0.3333333333333333,
              "#9c179e"
             ],
             [
              0.4444444444444444,
              "#bd3786"
             ],
             [
              0.5555555555555556,
              "#d8576b"
             ],
             [
              0.6666666666666666,
              "#ed7953"
             ],
             [
              0.7777777777777778,
              "#fb9f3a"
             ],
             [
              0.8888888888888888,
              "#fdca26"
             ],
             [
              1,
              "#f0f921"
             ]
            ],
            "type": "surface"
           }
          ],
          "table": [
           {
            "cells": {
             "fill": {
              "color": "#EBF0F8"
             },
             "line": {
              "color": "white"
             }
            },
            "header": {
             "fill": {
              "color": "#C8D4E3"
             },
             "line": {
              "color": "white"
             }
            },
            "type": "table"
           }
          ]
         },
         "layout": {
          "annotationdefaults": {
           "arrowcolor": "#2a3f5f",
           "arrowhead": 0,
           "arrowwidth": 1
          },
          "autotypenumbers": "strict",
          "coloraxis": {
           "colorbar": {
            "outlinewidth": 0,
            "ticks": ""
           }
          },
          "colorscale": {
           "diverging": [
            [
             0,
             "#8e0152"
            ],
            [
             0.1,
             "#c51b7d"
            ],
            [
             0.2,
             "#de77ae"
            ],
            [
             0.3,
             "#f1b6da"
            ],
            [
             0.4,
             "#fde0ef"
            ],
            [
             0.5,
             "#f7f7f7"
            ],
            [
             0.6,
             "#e6f5d0"
            ],
            [
             0.7,
             "#b8e186"
            ],
            [
             0.8,
             "#7fbc41"
            ],
            [
             0.9,
             "#4d9221"
            ],
            [
             1,
             "#276419"
            ]
           ],
           "sequential": [
            [
             0,
             "#0d0887"
            ],
            [
             0.1111111111111111,
             "#46039f"
            ],
            [
             0.2222222222222222,
             "#7201a8"
            ],
            [
             0.3333333333333333,
             "#9c179e"
            ],
            [
             0.4444444444444444,
             "#bd3786"
            ],
            [
             0.5555555555555556,
             "#d8576b"
            ],
            [
             0.6666666666666666,
             "#ed7953"
            ],
            [
             0.7777777777777778,
             "#fb9f3a"
            ],
            [
             0.8888888888888888,
             "#fdca26"
            ],
            [
             1,
             "#f0f921"
            ]
           ],
           "sequentialminus": [
            [
             0,
             "#0d0887"
            ],
            [
             0.1111111111111111,
             "#46039f"
            ],
            [
             0.2222222222222222,
             "#7201a8"
            ],
            [
             0.3333333333333333,
             "#9c179e"
            ],
            [
             0.4444444444444444,
             "#bd3786"
            ],
            [
             0.5555555555555556,
             "#d8576b"
            ],
            [
             0.6666666666666666,
             "#ed7953"
            ],
            [
             0.7777777777777778,
             "#fb9f3a"
            ],
            [
             0.8888888888888888,
             "#fdca26"
            ],
            [
             1,
             "#f0f921"
            ]
           ]
          },
          "colorway": [
           "#636efa",
           "#EF553B",
           "#00cc96",
           "#ab63fa",
           "#FFA15A",
           "#19d3f3",
           "#FF6692",
           "#B6E880",
           "#FF97FF",
           "#FECB52"
          ],
          "font": {
           "color": "#2a3f5f"
          },
          "geo": {
           "bgcolor": "white",
           "lakecolor": "white",
           "landcolor": "#E5ECF6",
           "showlakes": true,
           "showland": true,
           "subunitcolor": "white"
          },
          "hoverlabel": {
           "align": "left"
          },
          "hovermode": "closest",
          "mapbox": {
           "style": "light"
          },
          "paper_bgcolor": "white",
          "plot_bgcolor": "#E5ECF6",
          "polar": {
           "angularaxis": {
            "gridcolor": "white",
            "linecolor": "white",
            "ticks": ""
           },
           "bgcolor": "#E5ECF6",
           "radialaxis": {
            "gridcolor": "white",
            "linecolor": "white",
            "ticks": ""
           }
          },
          "scene": {
           "xaxis": {
            "backgroundcolor": "#E5ECF6",
            "gridcolor": "white",
            "gridwidth": 2,
            "linecolor": "white",
            "showbackground": true,
            "ticks": "",
            "zerolinecolor": "white"
           },
           "yaxis": {
            "backgroundcolor": "#E5ECF6",
            "gridcolor": "white",
            "gridwidth": 2,
            "linecolor": "white",
            "showbackground": true,
            "ticks": "",
            "zerolinecolor": "white"
           },
           "zaxis": {
            "backgroundcolor": "#E5ECF6",
            "gridcolor": "white",
            "gridwidth": 2,
            "linecolor": "white",
            "showbackground": true,
            "ticks": "",
            "zerolinecolor": "white"
           }
          },
          "shapedefaults": {
           "line": {
            "color": "#2a3f5f"
           }
          },
          "ternary": {
           "aaxis": {
            "gridcolor": "white",
            "linecolor": "white",
            "ticks": ""
           },
           "baxis": {
            "gridcolor": "white",
            "linecolor": "white",
            "ticks": ""
           },
           "bgcolor": "#E5ECF6",
           "caxis": {
            "gridcolor": "white",
            "linecolor": "white",
            "ticks": ""
           }
          },
          "title": {
           "x": 0.05
          },
          "xaxis": {
           "automargin": true,
           "gridcolor": "white",
           "linecolor": "white",
           "ticks": "",
           "title": {
            "standoff": 15
           },
           "zerolinecolor": "white",
           "zerolinewidth": 2
          },
          "yaxis": {
           "automargin": true,
           "gridcolor": "white",
           "linecolor": "white",
           "ticks": "",
           "title": {
            "standoff": 15
           },
           "zerolinecolor": "white",
           "zerolinewidth": 2
          }
         }
        },
        "title": {
         "text": "Timer Run [ms] - Query 4 (3 Measures)"
        }
       }
      },
      "text/html": [
       "<div>                            <div id=\"1e2a46e8-8f7e-489d-9d9e-a2fdb61aafc2\" class=\"plotly-graph-div\" style=\"height:525px; width:100%;\"></div>            <script type=\"text/javascript\">                require([\"plotly\"], function(Plotly) {                    window.PLOTLYENV=window.PLOTLYENV || {};                                    if (document.getElementById(\"1e2a46e8-8f7e-489d-9d9e-a2fdb61aafc2\")) {                    Plotly.newPlot(                        \"1e2a46e8-8f7e-489d-9d9e-a2fdb61aafc2\",                        [{\"line\":{\"color\":\"#fecccc\",\"width\":1},\"name\":\"MariaDB-2-1\",\"type\":\"scatter\",\"x\":[0,1,2],\"y\":[10631.587456096895,10786.846601986324,10684.382489067502]},{\"line\":{\"color\":\"#666500\",\"width\":1},\"name\":\"PostgreSQL-1-1\",\"type\":\"scatter\",\"x\":[0,1,2],\"y\":[184856.8571439246,2517.621263046749,2453.690663096495]},{\"line\":{\"color\":\"#006600\",\"width\":1},\"name\":\"MonetDB-1-1\",\"type\":\"scatter\",\"x\":[0,1,2],\"y\":[188.42912395484746,151.39126707799733,164.056695997715]},{\"line\":{\"color\":\"#000066\",\"width\":1},\"name\":\"MySQL-1-1\",\"type\":\"scatter\",\"x\":[0,1,2],\"y\":[10249.509504064918,10490.337723866107,10321.84758130461]},{\"line\":{\"color\":\"#ff0000\",\"width\":1},\"name\":\"MariaDB-1-1\",\"type\":\"scatter\",\"x\":[0,1,2],\"y\":[10833.034123061223,10974.291878985241,10912.505469983444]},{\"line\":{\"color\":\"#cbcbff\",\"width\":1},\"name\":\"MySQL-2-1\",\"type\":\"scatter\",\"x\":[0,1,2],\"y\":[10113.65952109918,10379.248296958394,10190.49967394676]},{\"line\":{\"color\":\"#ffffcb\",\"width\":1},\"name\":\"PostgreSQL-2-1\",\"type\":\"scatter\",\"x\":[0,1,2],\"y\":[3521.348245907575,3399.4601210579276,4059.4678829656914]},{\"line\":{\"color\":\"#cbffcb\",\"width\":1},\"name\":\"MonetDB-2-1\",\"type\":\"scatter\",\"x\":[0,1,2],\"y\":[167.39692899864167,148.23161403182894,155.4883939679712]}],                        {\"template\":{\"data\":{\"bar\":[{\"error_x\":{\"color\":\"#2a3f5f\"},\"error_y\":{\"color\":\"#2a3f5f\"},\"marker\":{\"line\":{\"color\":\"#E5ECF6\",\"width\":0.5},\"pattern\":{\"fillmode\":\"overlay\",\"size\":10,\"solidity\":0.2}},\"type\":\"bar\"}],\"barpolar\":[{\"marker\":{\"line\":{\"color\":\"#E5ECF6\",\"width\":0.5},\"pattern\":{\"fillmode\":\"overlay\",\"size\":10,\"solidity\":0.2}},\"type\":\"barpolar\"}],\"carpet\":[{\"aaxis\":{\"endlinecolor\":\"#2a3f5f\",\"gridcolor\":\"white\",\"linecolor\":\"white\",\"minorgridcolor\":\"white\",\"startlinecolor\":\"#2a3f5f\"},\"baxis\":{\"endlinecolor\":\"#2a3f5f\",\"gridcolor\":\"white\",\"linecolor\":\"white\",\"minorgridcolor\":\"white\",\"startlinecolor\":\"#2a3f5f\"},\"type\":\"carpet\"}],\"choropleth\":[{\"colorbar\":{\"outlinewidth\":0,\"ticks\":\"\"},\"type\":\"choropleth\"}],\"contour\":[{\"colorbar\":{\"outlinewidth\":0,\"ticks\":\"\"},\"colorscale\":[[0.0,\"#0d0887\"],[0.1111111111111111,\"#46039f\"],[0.2222222222222222,\"#7201a8\"],[0.3333333333333333,\"#9c179e\"],[0.4444444444444444,\"#bd3786\"],[0.5555555555555556,\"#d8576b\"],[0.6666666666666666,\"#ed7953\"],[0.7777777777777778,\"#fb9f3a\"],[0.8888888888888888,\"#fdca26\"],[1.0,\"#f0f921\"]],\"type\":\"contour\"}],\"contourcarpet\":[{\"colorbar\":{\"outlinewidth\":0,\"ticks\":\"\"},\"type\":\"contourcarpet\"}],\"heatmap\":[{\"colorbar\":{\"outlinewidth\":0,\"ticks\":\"\"},\"colorscale\":[[0.0,\"#0d0887\"],[0.1111111111111111,\"#46039f\"],[0.2222222222222222,\"#7201a8\"],[0.3333333333333333,\"#9c179e\"],[0.4444444444444444,\"#bd3786\"],[0.5555555555555556,\"#d8576b\"],[0.6666666666666666,\"#ed7953\"],[0.7777777777777778,\"#fb9f3a\"],[0.8888888888888888,\"#fdca26\"],[1.0,\"#f0f921\"]],\"type\":\"heatmap\"}],\"heatmapgl\":[{\"colorbar\":{\"outlinewidth\":0,\"ticks\":\"\"},\"colorscale\":[[0.0,\"#0d0887\"],[0.1111111111111111,\"#46039f\"],[0.2222222222222222,\"#7201a8\"],[0.3333333333333333,\"#9c179e\"],[0.4444444444444444,\"#bd3786\"],[0.5555555555555556,\"#d8576b\"],[0.6666666666666666,\"#ed7953\"],[0.7777777777777778,\"#fb9f3a\"],[0.8888888888888888,\"#fdca26\"],[1.0,\"#f0f921\"]],\"type\":\"heatmapgl\"}],\"histogram\":[{\"marker\":{\"pattern\":{\"fillmode\":\"overlay\",\"size\":10,\"solidity\":0.2}},\"type\":\"histogram\"}],\"histogram2d\":[{\"colorbar\":{\"outlinewidth\":0,\"ticks\":\"\"},\"colorscale\":[[0.0,\"#0d0887\"],[0.1111111111111111,\"#46039f\"],[0.2222222222222222,\"#7201a8\"],[0.3333333333333333,\"#9c179e\"],[0.4444444444444444,\"#bd3786\"],[0.5555555555555556,\"#d8576b\"],[0.6666666666666666,\"#ed7953\"],[0.7777777777777778,\"#fb9f3a\"],[0.8888888888888888,\"#fdca26\"],[1.0,\"#f0f921\"]],\"type\":\"histogram2d\"}],\"histogram2dcontour\":[{\"colorbar\":{\"outlinewidth\":0,\"ticks\":\"\"},\"colorscale\":[[0.0,\"#0d0887\"],[0.1111111111111111,\"#46039f\"],[0.2222222222222222,\"#7201a8\"],[0.3333333333333333,\"#9c179e\"],[0.4444444444444444,\"#bd3786\"],[0.5555555555555556,\"#d8576b\"],[0.6666666666666666,\"#ed7953\"],[0.7777777777777778,\"#fb9f3a\"],[0.8888888888888888,\"#fdca26\"],[1.0,\"#f0f921\"]],\"type\":\"histogram2dcontour\"}],\"mesh3d\":[{\"colorbar\":{\"outlinewidth\":0,\"ticks\":\"\"},\"type\":\"mesh3d\"}],\"parcoords\":[{\"line\":{\"colorbar\":{\"outlinewidth\":0,\"ticks\":\"\"}},\"type\":\"parcoords\"}],\"pie\":[{\"automargin\":true,\"type\":\"pie\"}],\"scatter\":[{\"marker\":{\"colorbar\":{\"outlinewidth\":0,\"ticks\":\"\"}},\"type\":\"scatter\"}],\"scatter3d\":[{\"line\":{\"colorbar\":{\"outlinewidth\":0,\"ticks\":\"\"}},\"marker\":{\"colorbar\":{\"outlinewidth\":0,\"ticks\":\"\"}},\"type\":\"scatter3d\"}],\"scattercarpet\":[{\"marker\":{\"colorbar\":{\"outlinewidth\":0,\"ticks\":\"\"}},\"type\":\"scattercarpet\"}],\"scattergeo\":[{\"marker\":{\"colorbar\":{\"outlinewidth\":0,\"ticks\":\"\"}},\"type\":\"scattergeo\"}],\"scattergl\":[{\"marker\":{\"colorbar\":{\"outlinewidth\":0,\"ticks\":\"\"}},\"type\":\"scattergl\"}],\"scattermapbox\":[{\"marker\":{\"colorbar\":{\"outlinewidth\":0,\"ticks\":\"\"}},\"type\":\"scattermapbox\"}],\"scatterpolar\":[{\"marker\":{\"colorbar\":{\"outlinewidth\":0,\"ticks\":\"\"}},\"type\":\"scatterpolar\"}],\"scatterpolargl\":[{\"marker\":{\"colorbar\":{\"outlinewidth\":0,\"ticks\":\"\"}},\"type\":\"scatterpolargl\"}],\"scatterternary\":[{\"marker\":{\"colorbar\":{\"outlinewidth\":0,\"ticks\":\"\"}},\"type\":\"scatterternary\"}],\"surface\":[{\"colorbar\":{\"outlinewidth\":0,\"ticks\":\"\"},\"colorscale\":[[0.0,\"#0d0887\"],[0.1111111111111111,\"#46039f\"],[0.2222222222222222,\"#7201a8\"],[0.3333333333333333,\"#9c179e\"],[0.4444444444444444,\"#bd3786\"],[0.5555555555555556,\"#d8576b\"],[0.6666666666666666,\"#ed7953\"],[0.7777777777777778,\"#fb9f3a\"],[0.8888888888888888,\"#fdca26\"],[1.0,\"#f0f921\"]],\"type\":\"surface\"}],\"table\":[{\"cells\":{\"fill\":{\"color\":\"#EBF0F8\"},\"line\":{\"color\":\"white\"}},\"header\":{\"fill\":{\"color\":\"#C8D4E3\"},\"line\":{\"color\":\"white\"}},\"type\":\"table\"}]},\"layout\":{\"annotationdefaults\":{\"arrowcolor\":\"#2a3f5f\",\"arrowhead\":0,\"arrowwidth\":1},\"autotypenumbers\":\"strict\",\"coloraxis\":{\"colorbar\":{\"outlinewidth\":0,\"ticks\":\"\"}},\"colorscale\":{\"diverging\":[[0,\"#8e0152\"],[0.1,\"#c51b7d\"],[0.2,\"#de77ae\"],[0.3,\"#f1b6da\"],[0.4,\"#fde0ef\"],[0.5,\"#f7f7f7\"],[0.6,\"#e6f5d0\"],[0.7,\"#b8e186\"],[0.8,\"#7fbc41\"],[0.9,\"#4d9221\"],[1,\"#276419\"]],\"sequential\":[[0.0,\"#0d0887\"],[0.1111111111111111,\"#46039f\"],[0.2222222222222222,\"#7201a8\"],[0.3333333333333333,\"#9c179e\"],[0.4444444444444444,\"#bd3786\"],[0.5555555555555556,\"#d8576b\"],[0.6666666666666666,\"#ed7953\"],[0.7777777777777778,\"#fb9f3a\"],[0.8888888888888888,\"#fdca26\"],[1.0,\"#f0f921\"]],\"sequentialminus\":[[0.0,\"#0d0887\"],[0.1111111111111111,\"#46039f\"],[0.2222222222222222,\"#7201a8\"],[0.3333333333333333,\"#9c179e\"],[0.4444444444444444,\"#bd3786\"],[0.5555555555555556,\"#d8576b\"],[0.6666666666666666,\"#ed7953\"],[0.7777777777777778,\"#fb9f3a\"],[0.8888888888888888,\"#fdca26\"],[1.0,\"#f0f921\"]]},\"colorway\":[\"#636efa\",\"#EF553B\",\"#00cc96\",\"#ab63fa\",\"#FFA15A\",\"#19d3f3\",\"#FF6692\",\"#B6E880\",\"#FF97FF\",\"#FECB52\"],\"font\":{\"color\":\"#2a3f5f\"},\"geo\":{\"bgcolor\":\"white\",\"lakecolor\":\"white\",\"landcolor\":\"#E5ECF6\",\"showlakes\":true,\"showland\":true,\"subunitcolor\":\"white\"},\"hoverlabel\":{\"align\":\"left\"},\"hovermode\":\"closest\",\"mapbox\":{\"style\":\"light\"},\"paper_bgcolor\":\"white\",\"plot_bgcolor\":\"#E5ECF6\",\"polar\":{\"angularaxis\":{\"gridcolor\":\"white\",\"linecolor\":\"white\",\"ticks\":\"\"},\"bgcolor\":\"#E5ECF6\",\"radialaxis\":{\"gridcolor\":\"white\",\"linecolor\":\"white\",\"ticks\":\"\"}},\"scene\":{\"xaxis\":{\"backgroundcolor\":\"#E5ECF6\",\"gridcolor\":\"white\",\"gridwidth\":2,\"linecolor\":\"white\",\"showbackground\":true,\"ticks\":\"\",\"zerolinecolor\":\"white\"},\"yaxis\":{\"backgroundcolor\":\"#E5ECF6\",\"gridcolor\":\"white\",\"gridwidth\":2,\"linecolor\":\"white\",\"showbackground\":true,\"ticks\":\"\",\"zerolinecolor\":\"white\"},\"zaxis\":{\"backgroundcolor\":\"#E5ECF6\",\"gridcolor\":\"white\",\"gridwidth\":2,\"linecolor\":\"white\",\"showbackground\":true,\"ticks\":\"\",\"zerolinecolor\":\"white\"}},\"shapedefaults\":{\"line\":{\"color\":\"#2a3f5f\"}},\"ternary\":{\"aaxis\":{\"gridcolor\":\"white\",\"linecolor\":\"white\",\"ticks\":\"\"},\"baxis\":{\"gridcolor\":\"white\",\"linecolor\":\"white\",\"ticks\":\"\"},\"bgcolor\":\"#E5ECF6\",\"caxis\":{\"gridcolor\":\"white\",\"linecolor\":\"white\",\"ticks\":\"\"}},\"title\":{\"x\":0.05},\"xaxis\":{\"automargin\":true,\"gridcolor\":\"white\",\"linecolor\":\"white\",\"ticks\":\"\",\"title\":{\"standoff\":15},\"zerolinecolor\":\"white\",\"zerolinewidth\":2},\"yaxis\":{\"automargin\":true,\"gridcolor\":\"white\",\"linecolor\":\"white\",\"ticks\":\"\",\"title\":{\"standoff\":15},\"zerolinecolor\":\"white\",\"zerolinewidth\":2}}},\"title\":{\"text\":\"Timer Run [ms] - Query 4 (3 Measures)\"}},                        {\"responsive\": true}                    ).then(function(){\n",
       "                            \n",
       "var gd = document.getElementById('1e2a46e8-8f7e-489d-9d9e-a2fdb61aafc2');\n",
       "var x = new MutationObserver(function (mutations, observer) {{\n",
       "        var display = window.getComputedStyle(gd).display;\n",
       "        if (!display || display === 'none') {{\n",
       "            console.log([gd, 'removed!']);\n",
       "            Plotly.purge(gd);\n",
       "            observer.disconnect();\n",
       "        }}\n",
       "}});\n",
       "\n",
       "// Listen for the removal of the full notebook cells\n",
       "var notebookContainer = gd.closest('#notebook-container');\n",
       "if (notebookContainer) {{\n",
       "    x.observe(notebookContainer, {childList: true});\n",
       "}}\n",
       "\n",
       "// Listen for the clearing of the current output cell\n",
       "var outputEl = gd.closest('.output');\n",
       "if (outputEl) {{\n",
       "    x.observe(outputEl, {childList: true});\n",
       "}}\n",
       "\n",
       "                        })                };                });            </script>        </div>"
      ]
     },
     "metadata": {},
     "output_type": "display_data"
    }
   ],
   "source": [
    "numQuery=4\n",
    "df1,df2=evaluate.get_measures_and_statistics(numQuery, type='timer', name='run', warmup=0)\n",
    "\n",
    "# Plots\n",
    "fig = go.Figure()\n",
    "for i in range(len(df1.index)):\n",
    "    t = fig.add_trace(go.Scatter(x=df1.T.index, y=df1.iloc[i], name=df1.index[i], line=dict(color=connection_colors[df1.index[i]], width=1)))\n",
    "\n",
    "fig.update_layout(title_text='Timer Run [ms] - Query {} ({} Measures)'.format(numQuery, len(df1.columns)))\n",
    "fig.show()"
   ]
  },
  {
   "cell_type": "code",
   "execution_count": 17,
   "id": "9b878804",
   "metadata": {},
   "outputs": [
    {
     "data": {
      "application/vnd.plotly.v1+json": {
       "config": {
        "plotlyServerURL": "https://plot.ly"
       },
       "data": [
        {
         "colorscale": [
          [
           0,
           "rgb(255,245,240)"
          ],
          [
           0.125,
           "rgb(254,224,210)"
          ],
          [
           0.25,
           "rgb(252,187,161)"
          ],
          [
           0.375,
           "rgb(252,146,114)"
          ],
          [
           0.5,
           "rgb(251,106,74)"
          ],
          [
           0.625,
           "rgb(239,59,44)"
          ],
          [
           0.75,
           "rgb(203,24,29)"
          ],
          [
           0.875,
           "rgb(165,15,21)"
          ],
          [
           1,
           "rgb(103,0,13)"
          ]
         ],
         "type": "heatmap",
         "x": [
          "MariaDB-1-1",
          "MariaDB-2-1",
          "MonetDB-1-1",
          "MonetDB-2-1",
          "MySQL-1-1",
          "MySQL-2-1",
          "PostgreSQL-1-1",
          "PostgreSQL-2-1"
         ],
         "y": [
          "Q1",
          "Q2",
          "Q3",
          "Q4",
          "Q5",
          "Q6",
          "Q7",
          "Q8",
          "Q9",
          "Q10",
          "Q11",
          "Q12",
          "Q13",
          "Q14",
          "Q15",
          "Q16",
          "Q17",
          "Q18",
          "Q19",
          "Q20",
          "Q21",
          "Q22"
         ],
         "z": [
          [
           "25.67",
           "25.12",
           "1.23",
           "1.00",
           "30.98",
           "30.91",
           "4.44",
           "4.40"
          ],
          [
           "37.58",
           "37.49",
           "1.21",
           "1.00",
           "5.10",
           "4.49",
           "20.57",
           "49.82"
          ],
          [
           "205.12",
           "195.33",
           "3.91",
           "1.00",
           "211.57",
           "210.44",
           "52.91",
           "68.90"
          ],
          [
           "69.45",
           "68.14",
           "1.07",
           "1.00",
           "65.93",
           "65.13",
           "402.93",
           "23.31"
          ],
          [
           "116.80",
           "113.51",
           "1.00",
           "1.04",
           "121.33",
           "108.72",
           "15.65",
           "18.63"
          ],
          [
           "148.27",
           "148.80",
           "13.78",
           "1.00",
           "185.69",
           "185.35",
           "22.51",
           "22.26"
          ],
          [
           "16.02",
           "15.27",
           "1.00",
           "1.39",
           "12.40",
           "11.01",
           "5.11",
           "6.16"
          ],
          [
           "68.48",
           "67.12",
           "1.00",
           "2.89",
           "107.57",
           "97.58",
           "11.70",
           "12.21"
          ],
          [
           "35.60",
           "35.12",
           "1.24",
           "1.00",
           "31.41",
           "28.38",
           "11.12",
           "10.74"
          ],
          [
           "175.98",
           "176.84",
           "1.13",
           "1.00",
           "26.13",
           "25.82",
           "25.93",
           "20.82"
          ],
          [
           "9.98",
           "10.33",
           "1.37",
           "1.00",
           "13.63",
           "13.71",
           "9.37",
           "5.22"
          ],
          [
           "690.00",
           "672.90",
           "19.71",
           "1.00",
           "180.56",
           "179.03",
           "83.05",
           "37.45"
          ],
          [
           "35.92",
           "36.29",
           "1.13",
           "1.00",
           "50.92",
           "50.53",
           "5.90",
           "2.44"
          ],
          [
           "3739.60",
           "3635.30",
           "1.33",
           "1.00",
           "217.19",
           "214.71",
           "59.50",
           "23.85"
          ],
          [
           "142.99",
           "144.00",
           "1.00",
           "1.04",
           "195.79",
           "194.45",
           "39.99",
           "29.41"
          ],
          [
           "2.69",
           "2.69",
           "1.00",
           "1.01",
           "3.18",
           "3.26",
           "3.84",
           "3.48"
          ],
          [
           "1.02",
           "1.00",
           "1.51",
           "1.88",
           "10.43",
           "9.94",
           "9.53",
           "10.79"
          ],
          [
           "262.92",
           "269.57",
           "1.00",
           "1.02",
           "64.24",
           "63.52",
           "69.13",
           "61.53"
          ],
          [
           "9.60",
           "9.44",
           "1.01",
           "1.00",
           "13.77",
           "13.49",
           "2.29",
           "1.98"
          ],
          [
           "88.09",
           "88.68",
           "1.13",
           "1.00",
           "43.69",
           "42.76",
           "32.72",
           "40.61"
          ],
          [
           "36.53",
           "36.51",
           "10.61",
           "10.53",
           "12.06",
           "11.66",
           "1.00",
           "1.01"
          ],
          [
           "3.03",
           "3.05",
           "1.00",
           "1.61",
           "3.94",
           "3.88",
           "1.26",
           "1.24"
          ]
         ]
        }
       ],
       "layout": {
        "template": {
         "data": {
          "bar": [
           {
            "error_x": {
             "color": "#2a3f5f"
            },
            "error_y": {
             "color": "#2a3f5f"
            },
            "marker": {
             "line": {
              "color": "#E5ECF6",
              "width": 0.5
             },
             "pattern": {
              "fillmode": "overlay",
              "size": 10,
              "solidity": 0.2
             }
            },
            "type": "bar"
           }
          ],
          "barpolar": [
           {
            "marker": {
             "line": {
              "color": "#E5ECF6",
              "width": 0.5
             },
             "pattern": {
              "fillmode": "overlay",
              "size": 10,
              "solidity": 0.2
             }
            },
            "type": "barpolar"
           }
          ],
          "carpet": [
           {
            "aaxis": {
             "endlinecolor": "#2a3f5f",
             "gridcolor": "white",
             "linecolor": "white",
             "minorgridcolor": "white",
             "startlinecolor": "#2a3f5f"
            },
            "baxis": {
             "endlinecolor": "#2a3f5f",
             "gridcolor": "white",
             "linecolor": "white",
             "minorgridcolor": "white",
             "startlinecolor": "#2a3f5f"
            },
            "type": "carpet"
           }
          ],
          "choropleth": [
           {
            "colorbar": {
             "outlinewidth": 0,
             "ticks": ""
            },
            "type": "choropleth"
           }
          ],
          "contour": [
           {
            "colorbar": {
             "outlinewidth": 0,
             "ticks": ""
            },
            "colorscale": [
             [
              0,
              "#0d0887"
             ],
             [
              0.1111111111111111,
              "#46039f"
             ],
             [
              0.2222222222222222,
              "#7201a8"
             ],
             [
              0.3333333333333333,
              "#9c179e"
             ],
             [
              0.4444444444444444,
              "#bd3786"
             ],
             [
              0.5555555555555556,
              "#d8576b"
             ],
             [
              0.6666666666666666,
              "#ed7953"
             ],
             [
              0.7777777777777778,
              "#fb9f3a"
             ],
             [
              0.8888888888888888,
              "#fdca26"
             ],
             [
              1,
              "#f0f921"
             ]
            ],
            "type": "contour"
           }
          ],
          "contourcarpet": [
           {
            "colorbar": {
             "outlinewidth": 0,
             "ticks": ""
            },
            "type": "contourcarpet"
           }
          ],
          "heatmap": [
           {
            "colorbar": {
             "outlinewidth": 0,
             "ticks": ""
            },
            "colorscale": [
             [
              0,
              "#0d0887"
             ],
             [
              0.1111111111111111,
              "#46039f"
             ],
             [
              0.2222222222222222,
              "#7201a8"
             ],
             [
              0.3333333333333333,
              "#9c179e"
             ],
             [
              0.4444444444444444,
              "#bd3786"
             ],
             [
              0.5555555555555556,
              "#d8576b"
             ],
             [
              0.6666666666666666,
              "#ed7953"
             ],
             [
              0.7777777777777778,
              "#fb9f3a"
             ],
             [
              0.8888888888888888,
              "#fdca26"
             ],
             [
              1,
              "#f0f921"
             ]
            ],
            "type": "heatmap"
           }
          ],
          "heatmapgl": [
           {
            "colorbar": {
             "outlinewidth": 0,
             "ticks": ""
            },
            "colorscale": [
             [
              0,
              "#0d0887"
             ],
             [
              0.1111111111111111,
              "#46039f"
             ],
             [
              0.2222222222222222,
              "#7201a8"
             ],
             [
              0.3333333333333333,
              "#9c179e"
             ],
             [
              0.4444444444444444,
              "#bd3786"
             ],
             [
              0.5555555555555556,
              "#d8576b"
             ],
             [
              0.6666666666666666,
              "#ed7953"
             ],
             [
              0.7777777777777778,
              "#fb9f3a"
             ],
             [
              0.8888888888888888,
              "#fdca26"
             ],
             [
              1,
              "#f0f921"
             ]
            ],
            "type": "heatmapgl"
           }
          ],
          "histogram": [
           {
            "marker": {
             "pattern": {
              "fillmode": "overlay",
              "size": 10,
              "solidity": 0.2
             }
            },
            "type": "histogram"
           }
          ],
          "histogram2d": [
           {
            "colorbar": {
             "outlinewidth": 0,
             "ticks": ""
            },
            "colorscale": [
             [
              0,
              "#0d0887"
             ],
             [
              0.1111111111111111,
              "#46039f"
             ],
             [
              0.2222222222222222,
              "#7201a8"
             ],
             [
              0.3333333333333333,
              "#9c179e"
             ],
             [
              0.4444444444444444,
              "#bd3786"
             ],
             [
              0.5555555555555556,
              "#d8576b"
             ],
             [
              0.6666666666666666,
              "#ed7953"
             ],
             [
              0.7777777777777778,
              "#fb9f3a"
             ],
             [
              0.8888888888888888,
              "#fdca26"
             ],
             [
              1,
              "#f0f921"
             ]
            ],
            "type": "histogram2d"
           }
          ],
          "histogram2dcontour": [
           {
            "colorbar": {
             "outlinewidth": 0,
             "ticks": ""
            },
            "colorscale": [
             [
              0,
              "#0d0887"
             ],
             [
              0.1111111111111111,
              "#46039f"
             ],
             [
              0.2222222222222222,
              "#7201a8"
             ],
             [
              0.3333333333333333,
              "#9c179e"
             ],
             [
              0.4444444444444444,
              "#bd3786"
             ],
             [
              0.5555555555555556,
              "#d8576b"
             ],
             [
              0.6666666666666666,
              "#ed7953"
             ],
             [
              0.7777777777777778,
              "#fb9f3a"
             ],
             [
              0.8888888888888888,
              "#fdca26"
             ],
             [
              1,
              "#f0f921"
             ]
            ],
            "type": "histogram2dcontour"
           }
          ],
          "mesh3d": [
           {
            "colorbar": {
             "outlinewidth": 0,
             "ticks": ""
            },
            "type": "mesh3d"
           }
          ],
          "parcoords": [
           {
            "line": {
             "colorbar": {
              "outlinewidth": 0,
              "ticks": ""
             }
            },
            "type": "parcoords"
           }
          ],
          "pie": [
           {
            "automargin": true,
            "type": "pie"
           }
          ],
          "scatter": [
           {
            "marker": {
             "colorbar": {
              "outlinewidth": 0,
              "ticks": ""
             }
            },
            "type": "scatter"
           }
          ],
          "scatter3d": [
           {
            "line": {
             "colorbar": {
              "outlinewidth": 0,
              "ticks": ""
             }
            },
            "marker": {
             "colorbar": {
              "outlinewidth": 0,
              "ticks": ""
             }
            },
            "type": "scatter3d"
           }
          ],
          "scattercarpet": [
           {
            "marker": {
             "colorbar": {
              "outlinewidth": 0,
              "ticks": ""
             }
            },
            "type": "scattercarpet"
           }
          ],
          "scattergeo": [
           {
            "marker": {
             "colorbar": {
              "outlinewidth": 0,
              "ticks": ""
             }
            },
            "type": "scattergeo"
           }
          ],
          "scattergl": [
           {
            "marker": {
             "colorbar": {
              "outlinewidth": 0,
              "ticks": ""
             }
            },
            "type": "scattergl"
           }
          ],
          "scattermapbox": [
           {
            "marker": {
             "colorbar": {
              "outlinewidth": 0,
              "ticks": ""
             }
            },
            "type": "scattermapbox"
           }
          ],
          "scatterpolar": [
           {
            "marker": {
             "colorbar": {
              "outlinewidth": 0,
              "ticks": ""
             }
            },
            "type": "scatterpolar"
           }
          ],
          "scatterpolargl": [
           {
            "marker": {
             "colorbar": {
              "outlinewidth": 0,
              "ticks": ""
             }
            },
            "type": "scatterpolargl"
           }
          ],
          "scatterternary": [
           {
            "marker": {
             "colorbar": {
              "outlinewidth": 0,
              "ticks": ""
             }
            },
            "type": "scatterternary"
           }
          ],
          "surface": [
           {
            "colorbar": {
             "outlinewidth": 0,
             "ticks": ""
            },
            "colorscale": [
             [
              0,
              "#0d0887"
             ],
             [
              0.1111111111111111,
              "#46039f"
             ],
             [
              0.2222222222222222,
              "#7201a8"
             ],
             [
              0.3333333333333333,
              "#9c179e"
             ],
             [
              0.4444444444444444,
              "#bd3786"
             ],
             [
              0.5555555555555556,
              "#d8576b"
             ],
             [
              0.6666666666666666,
              "#ed7953"
             ],
             [
              0.7777777777777778,
              "#fb9f3a"
             ],
             [
              0.8888888888888888,
              "#fdca26"
             ],
             [
              1,
              "#f0f921"
             ]
            ],
            "type": "surface"
           }
          ],
          "table": [
           {
            "cells": {
             "fill": {
              "color": "#EBF0F8"
             },
             "line": {
              "color": "white"
             }
            },
            "header": {
             "fill": {
              "color": "#C8D4E3"
             },
             "line": {
              "color": "white"
             }
            },
            "type": "table"
           }
          ]
         },
         "layout": {
          "annotationdefaults": {
           "arrowcolor": "#2a3f5f",
           "arrowhead": 0,
           "arrowwidth": 1
          },
          "autotypenumbers": "strict",
          "coloraxis": {
           "colorbar": {
            "outlinewidth": 0,
            "ticks": ""
           }
          },
          "colorscale": {
           "diverging": [
            [
             0,
             "#8e0152"
            ],
            [
             0.1,
             "#c51b7d"
            ],
            [
             0.2,
             "#de77ae"
            ],
            [
             0.3,
             "#f1b6da"
            ],
            [
             0.4,
             "#fde0ef"
            ],
            [
             0.5,
             "#f7f7f7"
            ],
            [
             0.6,
             "#e6f5d0"
            ],
            [
             0.7,
             "#b8e186"
            ],
            [
             0.8,
             "#7fbc41"
            ],
            [
             0.9,
             "#4d9221"
            ],
            [
             1,
             "#276419"
            ]
           ],
           "sequential": [
            [
             0,
             "#0d0887"
            ],
            [
             0.1111111111111111,
             "#46039f"
            ],
            [
             0.2222222222222222,
             "#7201a8"
            ],
            [
             0.3333333333333333,
             "#9c179e"
            ],
            [
             0.4444444444444444,
             "#bd3786"
            ],
            [
             0.5555555555555556,
             "#d8576b"
            ],
            [
             0.6666666666666666,
             "#ed7953"
            ],
            [
             0.7777777777777778,
             "#fb9f3a"
            ],
            [
             0.8888888888888888,
             "#fdca26"
            ],
            [
             1,
             "#f0f921"
            ]
           ],
           "sequentialminus": [
            [
             0,
             "#0d0887"
            ],
            [
             0.1111111111111111,
             "#46039f"
            ],
            [
             0.2222222222222222,
             "#7201a8"
            ],
            [
             0.3333333333333333,
             "#9c179e"
            ],
            [
             0.4444444444444444,
             "#bd3786"
            ],
            [
             0.5555555555555556,
             "#d8576b"
            ],
            [
             0.6666666666666666,
             "#ed7953"
            ],
            [
             0.7777777777777778,
             "#fb9f3a"
            ],
            [
             0.8888888888888888,
             "#fdca26"
            ],
            [
             1,
             "#f0f921"
            ]
           ]
          },
          "colorway": [
           "#636efa",
           "#EF553B",
           "#00cc96",
           "#ab63fa",
           "#FFA15A",
           "#19d3f3",
           "#FF6692",
           "#B6E880",
           "#FF97FF",
           "#FECB52"
          ],
          "font": {
           "color": "#2a3f5f"
          },
          "geo": {
           "bgcolor": "white",
           "lakecolor": "white",
           "landcolor": "#E5ECF6",
           "showlakes": true,
           "showland": true,
           "subunitcolor": "white"
          },
          "hoverlabel": {
           "align": "left"
          },
          "hovermode": "closest",
          "mapbox": {
           "style": "light"
          },
          "paper_bgcolor": "white",
          "plot_bgcolor": "#E5ECF6",
          "polar": {
           "angularaxis": {
            "gridcolor": "white",
            "linecolor": "white",
            "ticks": ""
           },
           "bgcolor": "#E5ECF6",
           "radialaxis": {
            "gridcolor": "white",
            "linecolor": "white",
            "ticks": ""
           }
          },
          "scene": {
           "xaxis": {
            "backgroundcolor": "#E5ECF6",
            "gridcolor": "white",
            "gridwidth": 2,
            "linecolor": "white",
            "showbackground": true,
            "ticks": "",
            "zerolinecolor": "white"
           },
           "yaxis": {
            "backgroundcolor": "#E5ECF6",
            "gridcolor": "white",
            "gridwidth": 2,
            "linecolor": "white",
            "showbackground": true,
            "ticks": "",
            "zerolinecolor": "white"
           },
           "zaxis": {
            "backgroundcolor": "#E5ECF6",
            "gridcolor": "white",
            "gridwidth": 2,
            "linecolor": "white",
            "showbackground": true,
            "ticks": "",
            "zerolinecolor": "white"
           }
          },
          "shapedefaults": {
           "line": {
            "color": "#2a3f5f"
           }
          },
          "ternary": {
           "aaxis": {
            "gridcolor": "white",
            "linecolor": "white",
            "ticks": ""
           },
           "baxis": {
            "gridcolor": "white",
            "linecolor": "white",
            "ticks": ""
           },
           "bgcolor": "#E5ECF6",
           "caxis": {
            "gridcolor": "white",
            "linecolor": "white",
            "ticks": ""
           }
          },
          "title": {
           "x": 0.05
          },
          "xaxis": {
           "automargin": true,
           "gridcolor": "white",
           "linecolor": "white",
           "ticks": "",
           "title": {
            "standoff": 15
           },
           "zerolinecolor": "white",
           "zerolinewidth": 2
          },
          "yaxis": {
           "automargin": true,
           "gridcolor": "white",
           "linecolor": "white",
           "ticks": "",
           "title": {
            "standoff": 15
           },
           "zerolinecolor": "white",
           "zerolinewidth": 2
          }
         }
        }
       }
      },
      "text/html": [
       "<div>                            <div id=\"048e68ea-6aa1-4282-b91c-5ce11ec6a386\" class=\"plotly-graph-div\" style=\"height:525px; width:100%;\"></div>            <script type=\"text/javascript\">                require([\"plotly\"], function(Plotly) {                    window.PLOTLYENV=window.PLOTLYENV || {};                                    if (document.getElementById(\"048e68ea-6aa1-4282-b91c-5ce11ec6a386\")) {                    Plotly.newPlot(                        \"048e68ea-6aa1-4282-b91c-5ce11ec6a386\",                        [{\"colorscale\":[[0.0,\"rgb(255,245,240)\"],[0.125,\"rgb(254,224,210)\"],[0.25,\"rgb(252,187,161)\"],[0.375,\"rgb(252,146,114)\"],[0.5,\"rgb(251,106,74)\"],[0.625,\"rgb(239,59,44)\"],[0.75,\"rgb(203,24,29)\"],[0.875,\"rgb(165,15,21)\"],[1.0,\"rgb(103,0,13)\"]],\"type\":\"heatmap\",\"x\":[\"MariaDB-1-1\",\"MariaDB-2-1\",\"MonetDB-1-1\",\"MonetDB-2-1\",\"MySQL-1-1\",\"MySQL-2-1\",\"PostgreSQL-1-1\",\"PostgreSQL-2-1\"],\"y\":[\"Q1\",\"Q2\",\"Q3\",\"Q4\",\"Q5\",\"Q6\",\"Q7\",\"Q8\",\"Q9\",\"Q10\",\"Q11\",\"Q12\",\"Q13\",\"Q14\",\"Q15\",\"Q16\",\"Q17\",\"Q18\",\"Q19\",\"Q20\",\"Q21\",\"Q22\"],\"z\":[[\"25.67\",\"25.12\",\"1.23\",\"1.00\",\"30.98\",\"30.91\",\"4.44\",\"4.40\"],[\"37.58\",\"37.49\",\"1.21\",\"1.00\",\"5.10\",\"4.49\",\"20.57\",\"49.82\"],[\"205.12\",\"195.33\",\"3.91\",\"1.00\",\"211.57\",\"210.44\",\"52.91\",\"68.90\"],[\"69.45\",\"68.14\",\"1.07\",\"1.00\",\"65.93\",\"65.13\",\"402.93\",\"23.31\"],[\"116.80\",\"113.51\",\"1.00\",\"1.04\",\"121.33\",\"108.72\",\"15.65\",\"18.63\"],[\"148.27\",\"148.80\",\"13.78\",\"1.00\",\"185.69\",\"185.35\",\"22.51\",\"22.26\"],[\"16.02\",\"15.27\",\"1.00\",\"1.39\",\"12.40\",\"11.01\",\"5.11\",\"6.16\"],[\"68.48\",\"67.12\",\"1.00\",\"2.89\",\"107.57\",\"97.58\",\"11.70\",\"12.21\"],[\"35.60\",\"35.12\",\"1.24\",\"1.00\",\"31.41\",\"28.38\",\"11.12\",\"10.74\"],[\"175.98\",\"176.84\",\"1.13\",\"1.00\",\"26.13\",\"25.82\",\"25.93\",\"20.82\"],[\"9.98\",\"10.33\",\"1.37\",\"1.00\",\"13.63\",\"13.71\",\"9.37\",\"5.22\"],[\"690.00\",\"672.90\",\"19.71\",\"1.00\",\"180.56\",\"179.03\",\"83.05\",\"37.45\"],[\"35.92\",\"36.29\",\"1.13\",\"1.00\",\"50.92\",\"50.53\",\"5.90\",\"2.44\"],[\"3739.60\",\"3635.30\",\"1.33\",\"1.00\",\"217.19\",\"214.71\",\"59.50\",\"23.85\"],[\"142.99\",\"144.00\",\"1.00\",\"1.04\",\"195.79\",\"194.45\",\"39.99\",\"29.41\"],[\"2.69\",\"2.69\",\"1.00\",\"1.01\",\"3.18\",\"3.26\",\"3.84\",\"3.48\"],[\"1.02\",\"1.00\",\"1.51\",\"1.88\",\"10.43\",\"9.94\",\"9.53\",\"10.79\"],[\"262.92\",\"269.57\",\"1.00\",\"1.02\",\"64.24\",\"63.52\",\"69.13\",\"61.53\"],[\"9.60\",\"9.44\",\"1.01\",\"1.00\",\"13.77\",\"13.49\",\"2.29\",\"1.98\"],[\"88.09\",\"88.68\",\"1.13\",\"1.00\",\"43.69\",\"42.76\",\"32.72\",\"40.61\"],[\"36.53\",\"36.51\",\"10.61\",\"10.53\",\"12.06\",\"11.66\",\"1.00\",\"1.01\"],[\"3.03\",\"3.05\",\"1.00\",\"1.61\",\"3.94\",\"3.88\",\"1.26\",\"1.24\"]]}],                        {\"template\":{\"data\":{\"bar\":[{\"error_x\":{\"color\":\"#2a3f5f\"},\"error_y\":{\"color\":\"#2a3f5f\"},\"marker\":{\"line\":{\"color\":\"#E5ECF6\",\"width\":0.5},\"pattern\":{\"fillmode\":\"overlay\",\"size\":10,\"solidity\":0.2}},\"type\":\"bar\"}],\"barpolar\":[{\"marker\":{\"line\":{\"color\":\"#E5ECF6\",\"width\":0.5},\"pattern\":{\"fillmode\":\"overlay\",\"size\":10,\"solidity\":0.2}},\"type\":\"barpolar\"}],\"carpet\":[{\"aaxis\":{\"endlinecolor\":\"#2a3f5f\",\"gridcolor\":\"white\",\"linecolor\":\"white\",\"minorgridcolor\":\"white\",\"startlinecolor\":\"#2a3f5f\"},\"baxis\":{\"endlinecolor\":\"#2a3f5f\",\"gridcolor\":\"white\",\"linecolor\":\"white\",\"minorgridcolor\":\"white\",\"startlinecolor\":\"#2a3f5f\"},\"type\":\"carpet\"}],\"choropleth\":[{\"colorbar\":{\"outlinewidth\":0,\"ticks\":\"\"},\"type\":\"choropleth\"}],\"contour\":[{\"colorbar\":{\"outlinewidth\":0,\"ticks\":\"\"},\"colorscale\":[[0.0,\"#0d0887\"],[0.1111111111111111,\"#46039f\"],[0.2222222222222222,\"#7201a8\"],[0.3333333333333333,\"#9c179e\"],[0.4444444444444444,\"#bd3786\"],[0.5555555555555556,\"#d8576b\"],[0.6666666666666666,\"#ed7953\"],[0.7777777777777778,\"#fb9f3a\"],[0.8888888888888888,\"#fdca26\"],[1.0,\"#f0f921\"]],\"type\":\"contour\"}],\"contourcarpet\":[{\"colorbar\":{\"outlinewidth\":0,\"ticks\":\"\"},\"type\":\"contourcarpet\"}],\"heatmap\":[{\"colorbar\":{\"outlinewidth\":0,\"ticks\":\"\"},\"colorscale\":[[0.0,\"#0d0887\"],[0.1111111111111111,\"#46039f\"],[0.2222222222222222,\"#7201a8\"],[0.3333333333333333,\"#9c179e\"],[0.4444444444444444,\"#bd3786\"],[0.5555555555555556,\"#d8576b\"],[0.6666666666666666,\"#ed7953\"],[0.7777777777777778,\"#fb9f3a\"],[0.8888888888888888,\"#fdca26\"],[1.0,\"#f0f921\"]],\"type\":\"heatmap\"}],\"heatmapgl\":[{\"colorbar\":{\"outlinewidth\":0,\"ticks\":\"\"},\"colorscale\":[[0.0,\"#0d0887\"],[0.1111111111111111,\"#46039f\"],[0.2222222222222222,\"#7201a8\"],[0.3333333333333333,\"#9c179e\"],[0.4444444444444444,\"#bd3786\"],[0.5555555555555556,\"#d8576b\"],[0.6666666666666666,\"#ed7953\"],[0.7777777777777778,\"#fb9f3a\"],[0.8888888888888888,\"#fdca26\"],[1.0,\"#f0f921\"]],\"type\":\"heatmapgl\"}],\"histogram\":[{\"marker\":{\"pattern\":{\"fillmode\":\"overlay\",\"size\":10,\"solidity\":0.2}},\"type\":\"histogram\"}],\"histogram2d\":[{\"colorbar\":{\"outlinewidth\":0,\"ticks\":\"\"},\"colorscale\":[[0.0,\"#0d0887\"],[0.1111111111111111,\"#46039f\"],[0.2222222222222222,\"#7201a8\"],[0.3333333333333333,\"#9c179e\"],[0.4444444444444444,\"#bd3786\"],[0.5555555555555556,\"#d8576b\"],[0.6666666666666666,\"#ed7953\"],[0.7777777777777778,\"#fb9f3a\"],[0.8888888888888888,\"#fdca26\"],[1.0,\"#f0f921\"]],\"type\":\"histogram2d\"}],\"histogram2dcontour\":[{\"colorbar\":{\"outlinewidth\":0,\"ticks\":\"\"},\"colorscale\":[[0.0,\"#0d0887\"],[0.1111111111111111,\"#46039f\"],[0.2222222222222222,\"#7201a8\"],[0.3333333333333333,\"#9c179e\"],[0.4444444444444444,\"#bd3786\"],[0.5555555555555556,\"#d8576b\"],[0.6666666666666666,\"#ed7953\"],[0.7777777777777778,\"#fb9f3a\"],[0.8888888888888888,\"#fdca26\"],[1.0,\"#f0f921\"]],\"type\":\"histogram2dcontour\"}],\"mesh3d\":[{\"colorbar\":{\"outlinewidth\":0,\"ticks\":\"\"},\"type\":\"mesh3d\"}],\"parcoords\":[{\"line\":{\"colorbar\":{\"outlinewidth\":0,\"ticks\":\"\"}},\"type\":\"parcoords\"}],\"pie\":[{\"automargin\":true,\"type\":\"pie\"}],\"scatter\":[{\"marker\":{\"colorbar\":{\"outlinewidth\":0,\"ticks\":\"\"}},\"type\":\"scatter\"}],\"scatter3d\":[{\"line\":{\"colorbar\":{\"outlinewidth\":0,\"ticks\":\"\"}},\"marker\":{\"colorbar\":{\"outlinewidth\":0,\"ticks\":\"\"}},\"type\":\"scatter3d\"}],\"scattercarpet\":[{\"marker\":{\"colorbar\":{\"outlinewidth\":0,\"ticks\":\"\"}},\"type\":\"scattercarpet\"}],\"scattergeo\":[{\"marker\":{\"colorbar\":{\"outlinewidth\":0,\"ticks\":\"\"}},\"type\":\"scattergeo\"}],\"scattergl\":[{\"marker\":{\"colorbar\":{\"outlinewidth\":0,\"ticks\":\"\"}},\"type\":\"scattergl\"}],\"scattermapbox\":[{\"marker\":{\"colorbar\":{\"outlinewidth\":0,\"ticks\":\"\"}},\"type\":\"scattermapbox\"}],\"scatterpolar\":[{\"marker\":{\"colorbar\":{\"outlinewidth\":0,\"ticks\":\"\"}},\"type\":\"scatterpolar\"}],\"scatterpolargl\":[{\"marker\":{\"colorbar\":{\"outlinewidth\":0,\"ticks\":\"\"}},\"type\":\"scatterpolargl\"}],\"scatterternary\":[{\"marker\":{\"colorbar\":{\"outlinewidth\":0,\"ticks\":\"\"}},\"type\":\"scatterternary\"}],\"surface\":[{\"colorbar\":{\"outlinewidth\":0,\"ticks\":\"\"},\"colorscale\":[[0.0,\"#0d0887\"],[0.1111111111111111,\"#46039f\"],[0.2222222222222222,\"#7201a8\"],[0.3333333333333333,\"#9c179e\"],[0.4444444444444444,\"#bd3786\"],[0.5555555555555556,\"#d8576b\"],[0.6666666666666666,\"#ed7953\"],[0.7777777777777778,\"#fb9f3a\"],[0.8888888888888888,\"#fdca26\"],[1.0,\"#f0f921\"]],\"type\":\"surface\"}],\"table\":[{\"cells\":{\"fill\":{\"color\":\"#EBF0F8\"},\"line\":{\"color\":\"white\"}},\"header\":{\"fill\":{\"color\":\"#C8D4E3\"},\"line\":{\"color\":\"white\"}},\"type\":\"table\"}]},\"layout\":{\"annotationdefaults\":{\"arrowcolor\":\"#2a3f5f\",\"arrowhead\":0,\"arrowwidth\":1},\"autotypenumbers\":\"strict\",\"coloraxis\":{\"colorbar\":{\"outlinewidth\":0,\"ticks\":\"\"}},\"colorscale\":{\"diverging\":[[0,\"#8e0152\"],[0.1,\"#c51b7d\"],[0.2,\"#de77ae\"],[0.3,\"#f1b6da\"],[0.4,\"#fde0ef\"],[0.5,\"#f7f7f7\"],[0.6,\"#e6f5d0\"],[0.7,\"#b8e186\"],[0.8,\"#7fbc41\"],[0.9,\"#4d9221\"],[1,\"#276419\"]],\"sequential\":[[0.0,\"#0d0887\"],[0.1111111111111111,\"#46039f\"],[0.2222222222222222,\"#7201a8\"],[0.3333333333333333,\"#9c179e\"],[0.4444444444444444,\"#bd3786\"],[0.5555555555555556,\"#d8576b\"],[0.6666666666666666,\"#ed7953\"],[0.7777777777777778,\"#fb9f3a\"],[0.8888888888888888,\"#fdca26\"],[1.0,\"#f0f921\"]],\"sequentialminus\":[[0.0,\"#0d0887\"],[0.1111111111111111,\"#46039f\"],[0.2222222222222222,\"#7201a8\"],[0.3333333333333333,\"#9c179e\"],[0.4444444444444444,\"#bd3786\"],[0.5555555555555556,\"#d8576b\"],[0.6666666666666666,\"#ed7953\"],[0.7777777777777778,\"#fb9f3a\"],[0.8888888888888888,\"#fdca26\"],[1.0,\"#f0f921\"]]},\"colorway\":[\"#636efa\",\"#EF553B\",\"#00cc96\",\"#ab63fa\",\"#FFA15A\",\"#19d3f3\",\"#FF6692\",\"#B6E880\",\"#FF97FF\",\"#FECB52\"],\"font\":{\"color\":\"#2a3f5f\"},\"geo\":{\"bgcolor\":\"white\",\"lakecolor\":\"white\",\"landcolor\":\"#E5ECF6\",\"showlakes\":true,\"showland\":true,\"subunitcolor\":\"white\"},\"hoverlabel\":{\"align\":\"left\"},\"hovermode\":\"closest\",\"mapbox\":{\"style\":\"light\"},\"paper_bgcolor\":\"white\",\"plot_bgcolor\":\"#E5ECF6\",\"polar\":{\"angularaxis\":{\"gridcolor\":\"white\",\"linecolor\":\"white\",\"ticks\":\"\"},\"bgcolor\":\"#E5ECF6\",\"radialaxis\":{\"gridcolor\":\"white\",\"linecolor\":\"white\",\"ticks\":\"\"}},\"scene\":{\"xaxis\":{\"backgroundcolor\":\"#E5ECF6\",\"gridcolor\":\"white\",\"gridwidth\":2,\"linecolor\":\"white\",\"showbackground\":true,\"ticks\":\"\",\"zerolinecolor\":\"white\"},\"yaxis\":{\"backgroundcolor\":\"#E5ECF6\",\"gridcolor\":\"white\",\"gridwidth\":2,\"linecolor\":\"white\",\"showbackground\":true,\"ticks\":\"\",\"zerolinecolor\":\"white\"},\"zaxis\":{\"backgroundcolor\":\"#E5ECF6\",\"gridcolor\":\"white\",\"gridwidth\":2,\"linecolor\":\"white\",\"showbackground\":true,\"ticks\":\"\",\"zerolinecolor\":\"white\"}},\"shapedefaults\":{\"line\":{\"color\":\"#2a3f5f\"}},\"ternary\":{\"aaxis\":{\"gridcolor\":\"white\",\"linecolor\":\"white\",\"ticks\":\"\"},\"baxis\":{\"gridcolor\":\"white\",\"linecolor\":\"white\",\"ticks\":\"\"},\"bgcolor\":\"#E5ECF6\",\"caxis\":{\"gridcolor\":\"white\",\"linecolor\":\"white\",\"ticks\":\"\"}},\"title\":{\"x\":0.05},\"xaxis\":{\"automargin\":true,\"gridcolor\":\"white\",\"linecolor\":\"white\",\"ticks\":\"\",\"title\":{\"standoff\":15},\"zerolinecolor\":\"white\",\"zerolinewidth\":2},\"yaxis\":{\"automargin\":true,\"gridcolor\":\"white\",\"linecolor\":\"white\",\"ticks\":\"\",\"title\":{\"standoff\":15},\"zerolinecolor\":\"white\",\"zerolinewidth\":2}}}},                        {\"responsive\": true}                    ).then(function(){\n",
       "                            \n",
       "var gd = document.getElementById('048e68ea-6aa1-4282-b91c-5ce11ec6a386');\n",
       "var x = new MutationObserver(function (mutations, observer) {{\n",
       "        var display = window.getComputedStyle(gd).display;\n",
       "        if (!display || display === 'none') {{\n",
       "            console.log([gd, 'removed!']);\n",
       "            Plotly.purge(gd);\n",
       "            observer.disconnect();\n",
       "        }}\n",
       "}});\n",
       "\n",
       "// Listen for the removal of the full notebook cells\n",
       "var notebookContainer = gd.closest('#notebook-container');\n",
       "if (notebookContainer) {{\n",
       "    x.observe(notebookContainer, {childList: true});\n",
       "}}\n",
       "\n",
       "// Listen for the clearing of the current output cell\n",
       "var outputEl = gd.closest('.output');\n",
       "if (outputEl) {{\n",
       "    x.observe(outputEl, {childList: true});\n",
       "}}\n",
       "\n",
       "                        })                };                });            </script>        </div>"
      ]
     },
     "metadata": {},
     "output_type": "display_data"
    }
   ],
   "source": [
    "# Heatmap\n",
    "df = evaluate.get_aggregated_query_statistics(type='timer', name='run', query_aggregate='factor')\n",
    "df = df.sort_index()\n",
    "df_2=df.applymap(lambda x: (\"%.2f\" % x))\n",
    "fig = go.Figure(data=[go.Heatmap(z=df_2.T.values.tolist(),x=df_2.index, y=df_2.columns,colorscale='Reds')])\n",
    "# optionally fixed size\n",
    "#t = fig.update_layout(autosize=False,height=2000)\n",
    "fig.show()"
   ]
  },
  {
   "cell_type": "code",
   "execution_count": 45,
   "id": "d8ea8963",
   "metadata": {},
   "outputs": [
    {
     "data": {
      "application/vnd.plotly.v1+json": {
       "config": {
        "plotlyServerURL": "https://plot.ly"
       },
       "data": [
        {
         "marker": {
          "color": "#ff0000"
         },
         "name": "MariaDB-1-1",
         "type": "bar",
         "x": [
          "MariaDB-1-1"
         ],
         "y": [
          115989.63067800894
         ]
        },
        {
         "marker": {
          "color": "#fecccc"
         },
         "name": "MariaDB-2-1",
         "type": "bar",
         "x": [
          "MariaDB-2-1"
         ],
         "y": [
          113481.05447502651
         ]
        },
        {
         "marker": {
          "color": "#006600"
         },
         "name": "MonetDB-1-1",
         "type": "bar",
         "x": [
          "MonetDB-1-1"
         ],
         "y": [
          5563.435272973341
         ]
        },
        {
         "marker": {
          "color": "#cbffcb"
         },
         "name": "MonetDB-2-1",
         "type": "bar",
         "x": [
          "MonetDB-2-1"
         ],
         "y": [
          4517.950882708344
         ]
        },
        {
         "marker": {
          "color": "#000066"
         },
         "name": "MySQL-1-1",
         "type": "bar",
         "x": [
          "MySQL-1-1"
         ],
         "y": [
          139965.85284514973
         ]
        },
        {
         "marker": {
          "color": "#cbcbff"
         },
         "name": "MySQL-2-1",
         "type": "bar",
         "x": [
          "MySQL-2-1"
         ],
         "y": [
          139650.89483295256
         ]
        },
        {
         "marker": {
          "color": "#666500"
         },
         "name": "PostgreSQL-1-1",
         "type": "bar",
         "x": [
          "PostgreSQL-1-1"
         ],
         "y": [
          20039.383417034212
         ]
        },
        {
         "marker": {
          "color": "#ffffcb"
         },
         "name": "PostgreSQL-2-1",
         "type": "bar",
         "x": [
          "PostgreSQL-2-1"
         ],
         "y": [
          19866.30572906385
         ]
        }
       ],
       "layout": {
        "template": {
         "data": {
          "bar": [
           {
            "error_x": {
             "color": "#2a3f5f"
            },
            "error_y": {
             "color": "#2a3f5f"
            },
            "marker": {
             "line": {
              "color": "#E5ECF6",
              "width": 0.5
             },
             "pattern": {
              "fillmode": "overlay",
              "size": 10,
              "solidity": 0.2
             }
            },
            "type": "bar"
           }
          ],
          "barpolar": [
           {
            "marker": {
             "line": {
              "color": "#E5ECF6",
              "width": 0.5
             },
             "pattern": {
              "fillmode": "overlay",
              "size": 10,
              "solidity": 0.2
             }
            },
            "type": "barpolar"
           }
          ],
          "carpet": [
           {
            "aaxis": {
             "endlinecolor": "#2a3f5f",
             "gridcolor": "white",
             "linecolor": "white",
             "minorgridcolor": "white",
             "startlinecolor": "#2a3f5f"
            },
            "baxis": {
             "endlinecolor": "#2a3f5f",
             "gridcolor": "white",
             "linecolor": "white",
             "minorgridcolor": "white",
             "startlinecolor": "#2a3f5f"
            },
            "type": "carpet"
           }
          ],
          "choropleth": [
           {
            "colorbar": {
             "outlinewidth": 0,
             "ticks": ""
            },
            "type": "choropleth"
           }
          ],
          "contour": [
           {
            "colorbar": {
             "outlinewidth": 0,
             "ticks": ""
            },
            "colorscale": [
             [
              0,
              "#0d0887"
             ],
             [
              0.1111111111111111,
              "#46039f"
             ],
             [
              0.2222222222222222,
              "#7201a8"
             ],
             [
              0.3333333333333333,
              "#9c179e"
             ],
             [
              0.4444444444444444,
              "#bd3786"
             ],
             [
              0.5555555555555556,
              "#d8576b"
             ],
             [
              0.6666666666666666,
              "#ed7953"
             ],
             [
              0.7777777777777778,
              "#fb9f3a"
             ],
             [
              0.8888888888888888,
              "#fdca26"
             ],
             [
              1,
              "#f0f921"
             ]
            ],
            "type": "contour"
           }
          ],
          "contourcarpet": [
           {
            "colorbar": {
             "outlinewidth": 0,
             "ticks": ""
            },
            "type": "contourcarpet"
           }
          ],
          "heatmap": [
           {
            "colorbar": {
             "outlinewidth": 0,
             "ticks": ""
            },
            "colorscale": [
             [
              0,
              "#0d0887"
             ],
             [
              0.1111111111111111,
              "#46039f"
             ],
             [
              0.2222222222222222,
              "#7201a8"
             ],
             [
              0.3333333333333333,
              "#9c179e"
             ],
             [
              0.4444444444444444,
              "#bd3786"
             ],
             [
              0.5555555555555556,
              "#d8576b"
             ],
             [
              0.6666666666666666,
              "#ed7953"
             ],
             [
              0.7777777777777778,
              "#fb9f3a"
             ],
             [
              0.8888888888888888,
              "#fdca26"
             ],
             [
              1,
              "#f0f921"
             ]
            ],
            "type": "heatmap"
           }
          ],
          "heatmapgl": [
           {
            "colorbar": {
             "outlinewidth": 0,
             "ticks": ""
            },
            "colorscale": [
             [
              0,
              "#0d0887"
             ],
             [
              0.1111111111111111,
              "#46039f"
             ],
             [
              0.2222222222222222,
              "#7201a8"
             ],
             [
              0.3333333333333333,
              "#9c179e"
             ],
             [
              0.4444444444444444,
              "#bd3786"
             ],
             [
              0.5555555555555556,
              "#d8576b"
             ],
             [
              0.6666666666666666,
              "#ed7953"
             ],
             [
              0.7777777777777778,
              "#fb9f3a"
             ],
             [
              0.8888888888888888,
              "#fdca26"
             ],
             [
              1,
              "#f0f921"
             ]
            ],
            "type": "heatmapgl"
           }
          ],
          "histogram": [
           {
            "marker": {
             "pattern": {
              "fillmode": "overlay",
              "size": 10,
              "solidity": 0.2
             }
            },
            "type": "histogram"
           }
          ],
          "histogram2d": [
           {
            "colorbar": {
             "outlinewidth": 0,
             "ticks": ""
            },
            "colorscale": [
             [
              0,
              "#0d0887"
             ],
             [
              0.1111111111111111,
              "#46039f"
             ],
             [
              0.2222222222222222,
              "#7201a8"
             ],
             [
              0.3333333333333333,
              "#9c179e"
             ],
             [
              0.4444444444444444,
              "#bd3786"
             ],
             [
              0.5555555555555556,
              "#d8576b"
             ],
             [
              0.6666666666666666,
              "#ed7953"
             ],
             [
              0.7777777777777778,
              "#fb9f3a"
             ],
             [
              0.8888888888888888,
              "#fdca26"
             ],
             [
              1,
              "#f0f921"
             ]
            ],
            "type": "histogram2d"
           }
          ],
          "histogram2dcontour": [
           {
            "colorbar": {
             "outlinewidth": 0,
             "ticks": ""
            },
            "colorscale": [
             [
              0,
              "#0d0887"
             ],
             [
              0.1111111111111111,
              "#46039f"
             ],
             [
              0.2222222222222222,
              "#7201a8"
             ],
             [
              0.3333333333333333,
              "#9c179e"
             ],
             [
              0.4444444444444444,
              "#bd3786"
             ],
             [
              0.5555555555555556,
              "#d8576b"
             ],
             [
              0.6666666666666666,
              "#ed7953"
             ],
             [
              0.7777777777777778,
              "#fb9f3a"
             ],
             [
              0.8888888888888888,
              "#fdca26"
             ],
             [
              1,
              "#f0f921"
             ]
            ],
            "type": "histogram2dcontour"
           }
          ],
          "mesh3d": [
           {
            "colorbar": {
             "outlinewidth": 0,
             "ticks": ""
            },
            "type": "mesh3d"
           }
          ],
          "parcoords": [
           {
            "line": {
             "colorbar": {
              "outlinewidth": 0,
              "ticks": ""
             }
            },
            "type": "parcoords"
           }
          ],
          "pie": [
           {
            "automargin": true,
            "type": "pie"
           }
          ],
          "scatter": [
           {
            "marker": {
             "colorbar": {
              "outlinewidth": 0,
              "ticks": ""
             }
            },
            "type": "scatter"
           }
          ],
          "scatter3d": [
           {
            "line": {
             "colorbar": {
              "outlinewidth": 0,
              "ticks": ""
             }
            },
            "marker": {
             "colorbar": {
              "outlinewidth": 0,
              "ticks": ""
             }
            },
            "type": "scatter3d"
           }
          ],
          "scattercarpet": [
           {
            "marker": {
             "colorbar": {
              "outlinewidth": 0,
              "ticks": ""
             }
            },
            "type": "scattercarpet"
           }
          ],
          "scattergeo": [
           {
            "marker": {
             "colorbar": {
              "outlinewidth": 0,
              "ticks": ""
             }
            },
            "type": "scattergeo"
           }
          ],
          "scattergl": [
           {
            "marker": {
             "colorbar": {
              "outlinewidth": 0,
              "ticks": ""
             }
            },
            "type": "scattergl"
           }
          ],
          "scattermapbox": [
           {
            "marker": {
             "colorbar": {
              "outlinewidth": 0,
              "ticks": ""
             }
            },
            "type": "scattermapbox"
           }
          ],
          "scatterpolar": [
           {
            "marker": {
             "colorbar": {
              "outlinewidth": 0,
              "ticks": ""
             }
            },
            "type": "scatterpolar"
           }
          ],
          "scatterpolargl": [
           {
            "marker": {
             "colorbar": {
              "outlinewidth": 0,
              "ticks": ""
             }
            },
            "type": "scatterpolargl"
           }
          ],
          "scatterternary": [
           {
            "marker": {
             "colorbar": {
              "outlinewidth": 0,
              "ticks": ""
             }
            },
            "type": "scatterternary"
           }
          ],
          "surface": [
           {
            "colorbar": {
             "outlinewidth": 0,
             "ticks": ""
            },
            "colorscale": [
             [
              0,
              "#0d0887"
             ],
             [
              0.1111111111111111,
              "#46039f"
             ],
             [
              0.2222222222222222,
              "#7201a8"
             ],
             [
              0.3333333333333333,
              "#9c179e"
             ],
             [
              0.4444444444444444,
              "#bd3786"
             ],
             [
              0.5555555555555556,
              "#d8576b"
             ],
             [
              0.6666666666666666,
              "#ed7953"
             ],
             [
              0.7777777777777778,
              "#fb9f3a"
             ],
             [
              0.8888888888888888,
              "#fdca26"
             ],
             [
              1,
              "#f0f921"
             ]
            ],
            "type": "surface"
           }
          ],
          "table": [
           {
            "cells": {
             "fill": {
              "color": "#EBF0F8"
             },
             "line": {
              "color": "white"
             }
            },
            "header": {
             "fill": {
              "color": "#C8D4E3"
             },
             "line": {
              "color": "white"
             }
            },
            "type": "table"
           }
          ]
         },
         "layout": {
          "annotationdefaults": {
           "arrowcolor": "#2a3f5f",
           "arrowhead": 0,
           "arrowwidth": 1
          },
          "autotypenumbers": "strict",
          "coloraxis": {
           "colorbar": {
            "outlinewidth": 0,
            "ticks": ""
           }
          },
          "colorscale": {
           "diverging": [
            [
             0,
             "#8e0152"
            ],
            [
             0.1,
             "#c51b7d"
            ],
            [
             0.2,
             "#de77ae"
            ],
            [
             0.3,
             "#f1b6da"
            ],
            [
             0.4,
             "#fde0ef"
            ],
            [
             0.5,
             "#f7f7f7"
            ],
            [
             0.6,
             "#e6f5d0"
            ],
            [
             0.7,
             "#b8e186"
            ],
            [
             0.8,
             "#7fbc41"
            ],
            [
             0.9,
             "#4d9221"
            ],
            [
             1,
             "#276419"
            ]
           ],
           "sequential": [
            [
             0,
             "#0d0887"
            ],
            [
             0.1111111111111111,
             "#46039f"
            ],
            [
             0.2222222222222222,
             "#7201a8"
            ],
            [
             0.3333333333333333,
             "#9c179e"
            ],
            [
             0.4444444444444444,
             "#bd3786"
            ],
            [
             0.5555555555555556,
             "#d8576b"
            ],
            [
             0.6666666666666666,
             "#ed7953"
            ],
            [
             0.7777777777777778,
             "#fb9f3a"
            ],
            [
             0.8888888888888888,
             "#fdca26"
            ],
            [
             1,
             "#f0f921"
            ]
           ],
           "sequentialminus": [
            [
             0,
             "#0d0887"
            ],
            [
             0.1111111111111111,
             "#46039f"
            ],
            [
             0.2222222222222222,
             "#7201a8"
            ],
            [
             0.3333333333333333,
             "#9c179e"
            ],
            [
             0.4444444444444444,
             "#bd3786"
            ],
            [
             0.5555555555555556,
             "#d8576b"
            ],
            [
             0.6666666666666666,
             "#ed7953"
            ],
            [
             0.7777777777777778,
             "#fb9f3a"
            ],
            [
             0.8888888888888888,
             "#fdca26"
            ],
            [
             1,
             "#f0f921"
            ]
           ]
          },
          "colorway": [
           "#636efa",
           "#EF553B",
           "#00cc96",
           "#ab63fa",
           "#FFA15A",
           "#19d3f3",
           "#FF6692",
           "#B6E880",
           "#FF97FF",
           "#FECB52"
          ],
          "font": {
           "color": "#2a3f5f"
          },
          "geo": {
           "bgcolor": "white",
           "lakecolor": "white",
           "landcolor": "#E5ECF6",
           "showlakes": true,
           "showland": true,
           "subunitcolor": "white"
          },
          "hoverlabel": {
           "align": "left"
          },
          "hovermode": "closest",
          "mapbox": {
           "style": "light"
          },
          "paper_bgcolor": "white",
          "plot_bgcolor": "#E5ECF6",
          "polar": {
           "angularaxis": {
            "gridcolor": "white",
            "linecolor": "white",
            "ticks": ""
           },
           "bgcolor": "#E5ECF6",
           "radialaxis": {
            "gridcolor": "white",
            "linecolor": "white",
            "ticks": ""
           }
          },
          "scene": {
           "xaxis": {
            "backgroundcolor": "#E5ECF6",
            "gridcolor": "white",
            "gridwidth": 2,
            "linecolor": "white",
            "showbackground": true,
            "ticks": "",
            "zerolinecolor": "white"
           },
           "yaxis": {
            "backgroundcolor": "#E5ECF6",
            "gridcolor": "white",
            "gridwidth": 2,
            "linecolor": "white",
            "showbackground": true,
            "ticks": "",
            "zerolinecolor": "white"
           },
           "zaxis": {
            "backgroundcolor": "#E5ECF6",
            "gridcolor": "white",
            "gridwidth": 2,
            "linecolor": "white",
            "showbackground": true,
            "ticks": "",
            "zerolinecolor": "white"
           }
          },
          "shapedefaults": {
           "line": {
            "color": "#2a3f5f"
           }
          },
          "ternary": {
           "aaxis": {
            "gridcolor": "white",
            "linecolor": "white",
            "ticks": ""
           },
           "baxis": {
            "gridcolor": "white",
            "linecolor": "white",
            "ticks": ""
           },
           "bgcolor": "#E5ECF6",
           "caxis": {
            "gridcolor": "white",
            "linecolor": "white",
            "ticks": ""
           }
          },
          "title": {
           "x": 0.05
          },
          "xaxis": {
           "automargin": true,
           "gridcolor": "white",
           "linecolor": "white",
           "ticks": "",
           "title": {
            "standoff": 15
           },
           "zerolinecolor": "white",
           "zerolinewidth": 2
          },
          "yaxis": {
           "automargin": true,
           "gridcolor": "white",
           "linecolor": "white",
           "ticks": "",
           "title": {
            "standoff": 15
           },
           "zerolinecolor": "white",
           "zerolinewidth": 2
          }
         }
        },
        "title": {
         "text": "Mean of Timer Run [s] - Query 1"
        }
       }
      },
      "text/html": [
       "<div>                            <div id=\"46bc9c7c-bdf9-4e39-bfd1-4731ed7eda18\" class=\"plotly-graph-div\" style=\"height:525px; width:100%;\"></div>            <script type=\"text/javascript\">                require([\"plotly\"], function(Plotly) {                    window.PLOTLYENV=window.PLOTLYENV || {};                                    if (document.getElementById(\"46bc9c7c-bdf9-4e39-bfd1-4731ed7eda18\")) {                    Plotly.newPlot(                        \"46bc9c7c-bdf9-4e39-bfd1-4731ed7eda18\",                        [{\"marker\":{\"color\":\"#ff0000\"},\"name\":\"MariaDB-1-1\",\"type\":\"bar\",\"x\":[\"MariaDB-1-1\"],\"y\":[115989.63067800894]},{\"marker\":{\"color\":\"#fecccc\"},\"name\":\"MariaDB-2-1\",\"type\":\"bar\",\"x\":[\"MariaDB-2-1\"],\"y\":[113481.05447502651]},{\"marker\":{\"color\":\"#006600\"},\"name\":\"MonetDB-1-1\",\"type\":\"bar\",\"x\":[\"MonetDB-1-1\"],\"y\":[5563.435272973341]},{\"marker\":{\"color\":\"#cbffcb\"},\"name\":\"MonetDB-2-1\",\"type\":\"bar\",\"x\":[\"MonetDB-2-1\"],\"y\":[4517.950882708344]},{\"marker\":{\"color\":\"#000066\"},\"name\":\"MySQL-1-1\",\"type\":\"bar\",\"x\":[\"MySQL-1-1\"],\"y\":[139965.85284514973]},{\"marker\":{\"color\":\"#cbcbff\"},\"name\":\"MySQL-2-1\",\"type\":\"bar\",\"x\":[\"MySQL-2-1\"],\"y\":[139650.89483295256]},{\"marker\":{\"color\":\"#666500\"},\"name\":\"PostgreSQL-1-1\",\"type\":\"bar\",\"x\":[\"PostgreSQL-1-1\"],\"y\":[20039.383417034212]},{\"marker\":{\"color\":\"#ffffcb\"},\"name\":\"PostgreSQL-2-1\",\"type\":\"bar\",\"x\":[\"PostgreSQL-2-1\"],\"y\":[19866.30572906385]}],                        {\"template\":{\"data\":{\"bar\":[{\"error_x\":{\"color\":\"#2a3f5f\"},\"error_y\":{\"color\":\"#2a3f5f\"},\"marker\":{\"line\":{\"color\":\"#E5ECF6\",\"width\":0.5},\"pattern\":{\"fillmode\":\"overlay\",\"size\":10,\"solidity\":0.2}},\"type\":\"bar\"}],\"barpolar\":[{\"marker\":{\"line\":{\"color\":\"#E5ECF6\",\"width\":0.5},\"pattern\":{\"fillmode\":\"overlay\",\"size\":10,\"solidity\":0.2}},\"type\":\"barpolar\"}],\"carpet\":[{\"aaxis\":{\"endlinecolor\":\"#2a3f5f\",\"gridcolor\":\"white\",\"linecolor\":\"white\",\"minorgridcolor\":\"white\",\"startlinecolor\":\"#2a3f5f\"},\"baxis\":{\"endlinecolor\":\"#2a3f5f\",\"gridcolor\":\"white\",\"linecolor\":\"white\",\"minorgridcolor\":\"white\",\"startlinecolor\":\"#2a3f5f\"},\"type\":\"carpet\"}],\"choropleth\":[{\"colorbar\":{\"outlinewidth\":0,\"ticks\":\"\"},\"type\":\"choropleth\"}],\"contour\":[{\"colorbar\":{\"outlinewidth\":0,\"ticks\":\"\"},\"colorscale\":[[0.0,\"#0d0887\"],[0.1111111111111111,\"#46039f\"],[0.2222222222222222,\"#7201a8\"],[0.3333333333333333,\"#9c179e\"],[0.4444444444444444,\"#bd3786\"],[0.5555555555555556,\"#d8576b\"],[0.6666666666666666,\"#ed7953\"],[0.7777777777777778,\"#fb9f3a\"],[0.8888888888888888,\"#fdca26\"],[1.0,\"#f0f921\"]],\"type\":\"contour\"}],\"contourcarpet\":[{\"colorbar\":{\"outlinewidth\":0,\"ticks\":\"\"},\"type\":\"contourcarpet\"}],\"heatmap\":[{\"colorbar\":{\"outlinewidth\":0,\"ticks\":\"\"},\"colorscale\":[[0.0,\"#0d0887\"],[0.1111111111111111,\"#46039f\"],[0.2222222222222222,\"#7201a8\"],[0.3333333333333333,\"#9c179e\"],[0.4444444444444444,\"#bd3786\"],[0.5555555555555556,\"#d8576b\"],[0.6666666666666666,\"#ed7953\"],[0.7777777777777778,\"#fb9f3a\"],[0.8888888888888888,\"#fdca26\"],[1.0,\"#f0f921\"]],\"type\":\"heatmap\"}],\"heatmapgl\":[{\"colorbar\":{\"outlinewidth\":0,\"ticks\":\"\"},\"colorscale\":[[0.0,\"#0d0887\"],[0.1111111111111111,\"#46039f\"],[0.2222222222222222,\"#7201a8\"],[0.3333333333333333,\"#9c179e\"],[0.4444444444444444,\"#bd3786\"],[0.5555555555555556,\"#d8576b\"],[0.6666666666666666,\"#ed7953\"],[0.7777777777777778,\"#fb9f3a\"],[0.8888888888888888,\"#fdca26\"],[1.0,\"#f0f921\"]],\"type\":\"heatmapgl\"}],\"histogram\":[{\"marker\":{\"pattern\":{\"fillmode\":\"overlay\",\"size\":10,\"solidity\":0.2}},\"type\":\"histogram\"}],\"histogram2d\":[{\"colorbar\":{\"outlinewidth\":0,\"ticks\":\"\"},\"colorscale\":[[0.0,\"#0d0887\"],[0.1111111111111111,\"#46039f\"],[0.2222222222222222,\"#7201a8\"],[0.3333333333333333,\"#9c179e\"],[0.4444444444444444,\"#bd3786\"],[0.5555555555555556,\"#d8576b\"],[0.6666666666666666,\"#ed7953\"],[0.7777777777777778,\"#fb9f3a\"],[0.8888888888888888,\"#fdca26\"],[1.0,\"#f0f921\"]],\"type\":\"histogram2d\"}],\"histogram2dcontour\":[{\"colorbar\":{\"outlinewidth\":0,\"ticks\":\"\"},\"colorscale\":[[0.0,\"#0d0887\"],[0.1111111111111111,\"#46039f\"],[0.2222222222222222,\"#7201a8\"],[0.3333333333333333,\"#9c179e\"],[0.4444444444444444,\"#bd3786\"],[0.5555555555555556,\"#d8576b\"],[0.6666666666666666,\"#ed7953\"],[0.7777777777777778,\"#fb9f3a\"],[0.8888888888888888,\"#fdca26\"],[1.0,\"#f0f921\"]],\"type\":\"histogram2dcontour\"}],\"mesh3d\":[{\"colorbar\":{\"outlinewidth\":0,\"ticks\":\"\"},\"type\":\"mesh3d\"}],\"parcoords\":[{\"line\":{\"colorbar\":{\"outlinewidth\":0,\"ticks\":\"\"}},\"type\":\"parcoords\"}],\"pie\":[{\"automargin\":true,\"type\":\"pie\"}],\"scatter\":[{\"marker\":{\"colorbar\":{\"outlinewidth\":0,\"ticks\":\"\"}},\"type\":\"scatter\"}],\"scatter3d\":[{\"line\":{\"colorbar\":{\"outlinewidth\":0,\"ticks\":\"\"}},\"marker\":{\"colorbar\":{\"outlinewidth\":0,\"ticks\":\"\"}},\"type\":\"scatter3d\"}],\"scattercarpet\":[{\"marker\":{\"colorbar\":{\"outlinewidth\":0,\"ticks\":\"\"}},\"type\":\"scattercarpet\"}],\"scattergeo\":[{\"marker\":{\"colorbar\":{\"outlinewidth\":0,\"ticks\":\"\"}},\"type\":\"scattergeo\"}],\"scattergl\":[{\"marker\":{\"colorbar\":{\"outlinewidth\":0,\"ticks\":\"\"}},\"type\":\"scattergl\"}],\"scattermapbox\":[{\"marker\":{\"colorbar\":{\"outlinewidth\":0,\"ticks\":\"\"}},\"type\":\"scattermapbox\"}],\"scatterpolar\":[{\"marker\":{\"colorbar\":{\"outlinewidth\":0,\"ticks\":\"\"}},\"type\":\"scatterpolar\"}],\"scatterpolargl\":[{\"marker\":{\"colorbar\":{\"outlinewidth\":0,\"ticks\":\"\"}},\"type\":\"scatterpolargl\"}],\"scatterternary\":[{\"marker\":{\"colorbar\":{\"outlinewidth\":0,\"ticks\":\"\"}},\"type\":\"scatterternary\"}],\"surface\":[{\"colorbar\":{\"outlinewidth\":0,\"ticks\":\"\"},\"colorscale\":[[0.0,\"#0d0887\"],[0.1111111111111111,\"#46039f\"],[0.2222222222222222,\"#7201a8\"],[0.3333333333333333,\"#9c179e\"],[0.4444444444444444,\"#bd3786\"],[0.5555555555555556,\"#d8576b\"],[0.6666666666666666,\"#ed7953\"],[0.7777777777777778,\"#fb9f3a\"],[0.8888888888888888,\"#fdca26\"],[1.0,\"#f0f921\"]],\"type\":\"surface\"}],\"table\":[{\"cells\":{\"fill\":{\"color\":\"#EBF0F8\"},\"line\":{\"color\":\"white\"}},\"header\":{\"fill\":{\"color\":\"#C8D4E3\"},\"line\":{\"color\":\"white\"}},\"type\":\"table\"}]},\"layout\":{\"annotationdefaults\":{\"arrowcolor\":\"#2a3f5f\",\"arrowhead\":0,\"arrowwidth\":1},\"autotypenumbers\":\"strict\",\"coloraxis\":{\"colorbar\":{\"outlinewidth\":0,\"ticks\":\"\"}},\"colorscale\":{\"diverging\":[[0,\"#8e0152\"],[0.1,\"#c51b7d\"],[0.2,\"#de77ae\"],[0.3,\"#f1b6da\"],[0.4,\"#fde0ef\"],[0.5,\"#f7f7f7\"],[0.6,\"#e6f5d0\"],[0.7,\"#b8e186\"],[0.8,\"#7fbc41\"],[0.9,\"#4d9221\"],[1,\"#276419\"]],\"sequential\":[[0.0,\"#0d0887\"],[0.1111111111111111,\"#46039f\"],[0.2222222222222222,\"#7201a8\"],[0.3333333333333333,\"#9c179e\"],[0.4444444444444444,\"#bd3786\"],[0.5555555555555556,\"#d8576b\"],[0.6666666666666666,\"#ed7953\"],[0.7777777777777778,\"#fb9f3a\"],[0.8888888888888888,\"#fdca26\"],[1.0,\"#f0f921\"]],\"sequentialminus\":[[0.0,\"#0d0887\"],[0.1111111111111111,\"#46039f\"],[0.2222222222222222,\"#7201a8\"],[0.3333333333333333,\"#9c179e\"],[0.4444444444444444,\"#bd3786\"],[0.5555555555555556,\"#d8576b\"],[0.6666666666666666,\"#ed7953\"],[0.7777777777777778,\"#fb9f3a\"],[0.8888888888888888,\"#fdca26\"],[1.0,\"#f0f921\"]]},\"colorway\":[\"#636efa\",\"#EF553B\",\"#00cc96\",\"#ab63fa\",\"#FFA15A\",\"#19d3f3\",\"#FF6692\",\"#B6E880\",\"#FF97FF\",\"#FECB52\"],\"font\":{\"color\":\"#2a3f5f\"},\"geo\":{\"bgcolor\":\"white\",\"lakecolor\":\"white\",\"landcolor\":\"#E5ECF6\",\"showlakes\":true,\"showland\":true,\"subunitcolor\":\"white\"},\"hoverlabel\":{\"align\":\"left\"},\"hovermode\":\"closest\",\"mapbox\":{\"style\":\"light\"},\"paper_bgcolor\":\"white\",\"plot_bgcolor\":\"#E5ECF6\",\"polar\":{\"angularaxis\":{\"gridcolor\":\"white\",\"linecolor\":\"white\",\"ticks\":\"\"},\"bgcolor\":\"#E5ECF6\",\"radialaxis\":{\"gridcolor\":\"white\",\"linecolor\":\"white\",\"ticks\":\"\"}},\"scene\":{\"xaxis\":{\"backgroundcolor\":\"#E5ECF6\",\"gridcolor\":\"white\",\"gridwidth\":2,\"linecolor\":\"white\",\"showbackground\":true,\"ticks\":\"\",\"zerolinecolor\":\"white\"},\"yaxis\":{\"backgroundcolor\":\"#E5ECF6\",\"gridcolor\":\"white\",\"gridwidth\":2,\"linecolor\":\"white\",\"showbackground\":true,\"ticks\":\"\",\"zerolinecolor\":\"white\"},\"zaxis\":{\"backgroundcolor\":\"#E5ECF6\",\"gridcolor\":\"white\",\"gridwidth\":2,\"linecolor\":\"white\",\"showbackground\":true,\"ticks\":\"\",\"zerolinecolor\":\"white\"}},\"shapedefaults\":{\"line\":{\"color\":\"#2a3f5f\"}},\"ternary\":{\"aaxis\":{\"gridcolor\":\"white\",\"linecolor\":\"white\",\"ticks\":\"\"},\"baxis\":{\"gridcolor\":\"white\",\"linecolor\":\"white\",\"ticks\":\"\"},\"bgcolor\":\"#E5ECF6\",\"caxis\":{\"gridcolor\":\"white\",\"linecolor\":\"white\",\"ticks\":\"\"}},\"title\":{\"x\":0.05},\"xaxis\":{\"automargin\":true,\"gridcolor\":\"white\",\"linecolor\":\"white\",\"ticks\":\"\",\"title\":{\"standoff\":15},\"zerolinecolor\":\"white\",\"zerolinewidth\":2},\"yaxis\":{\"automargin\":true,\"gridcolor\":\"white\",\"linecolor\":\"white\",\"ticks\":\"\",\"title\":{\"standoff\":15},\"zerolinecolor\":\"white\",\"zerolinewidth\":2}}},\"title\":{\"text\":\"Mean of Timer Run [s] - Query 1\"}},                        {\"responsive\": true}                    ).then(function(){\n",
       "                            \n",
       "var gd = document.getElementById('46bc9c7c-bdf9-4e39-bfd1-4731ed7eda18');\n",
       "var x = new MutationObserver(function (mutations, observer) {{\n",
       "        var display = window.getComputedStyle(gd).display;\n",
       "        if (!display || display === 'none') {{\n",
       "            console.log([gd, 'removed!']);\n",
       "            Plotly.purge(gd);\n",
       "            observer.disconnect();\n",
       "        }}\n",
       "}});\n",
       "\n",
       "// Listen for the removal of the full notebook cells\n",
       "var notebookContainer = gd.closest('#notebook-container');\n",
       "if (notebookContainer) {{\n",
       "    x.observe(notebookContainer, {childList: true});\n",
       "}}\n",
       "\n",
       "// Listen for the clearing of the current output cell\n",
       "var outputEl = gd.closest('.output');\n",
       "if (outputEl) {{\n",
       "    x.observe(outputEl, {childList: true});\n",
       "}}\n",
       "\n",
       "                        })                };                });            </script>        </div>"
      ]
     },
     "metadata": {},
     "output_type": "display_data"
    }
   ],
   "source": [
    "# Bar\n",
    "df1, df2 = evaluate.get_measures_and_statistics(numQuery, type='timer', name='run')\n",
    "df = tools.dataframehelper.collect(df2, 'Mean', 'timer_run_mean').sort_index()\n",
    "fig = go.Figure()\n",
    "for i in range(len(df.index)):\n",
    "    t = fig.add_trace(go.Bar(x=[df.index[i]], y=df.iloc[i], name=df.index[i], marker=dict(color=connection_colors[df.index[i]])))\n",
    "\n",
    "fig.update_layout(title_text='Mean of Timer Run [s] - Query {}'.format(numQuery))\n",
    "fig.show()"
   ]
  },
  {
   "cell_type": "code",
   "execution_count": 46,
   "id": "9e5c889e",
   "metadata": {},
   "outputs": [
    {
     "data": {
      "application/vnd.plotly.v1+json": {
       "config": {
        "plotlyServerURL": "https://plot.ly"
       },
       "data": [
        {
         "boxmean": "sd",
         "line": {
          "color": "#ff0000",
          "width": 1
         },
         "name": "MariaDB-1-1",
         "type": "box",
         "y": [
          119995.57886400726,
          113505.99293899724,
          114467.32023102231
         ]
        },
        {
         "boxmean": "sd",
         "line": {
          "color": "#fecccc",
          "width": 1
         },
         "name": "MariaDB-2-1",
         "type": "box",
         "y": [
          113834.41502903588,
          113046.91848310176,
          113561.8299129419
         ]
        },
        {
         "boxmean": "sd",
         "line": {
          "color": "#006600",
          "width": 1
         },
         "name": "MonetDB-1-1",
         "type": "box",
         "y": [
          7603.894409025087,
          4541.180852917023,
          4545.230556977913
         ]
        },
        {
         "boxmean": "sd",
         "line": {
          "color": "#cbffcb",
          "width": 1
         },
         "name": "MonetDB-2-1",
         "type": "box",
         "y": [
          4426.2617219937965,
          4324.668616056442,
          4802.922310074791
         ]
        },
        {
         "boxmean": "sd",
         "line": {
          "color": "#000066",
          "width": 1
         },
         "name": "MySQL-1-1",
         "type": "box",
         "y": [
          140339.38287571073,
          139398.2365923002,
          140159.93906743824
         ]
        },
        {
         "boxmean": "sd",
         "line": {
          "color": "#cbcbff",
          "width": 1
         },
         "name": "MySQL-2-1",
         "type": "box",
         "y": [
          139935.72673702144,
          139094.70348083414,
          139922.2542810021
         ]
        },
        {
         "boxmean": "sd",
         "line": {
          "color": "#666500",
          "width": 1
         },
         "name": "PostgreSQL-1-1",
         "type": "box",
         "y": [
          20152.130282018334,
          19935.1423199987,
          20030.877649085596
         ]
        },
        {
         "boxmean": "sd",
         "line": {
          "color": "#ffffcb",
          "width": 1
         },
         "name": "PostgreSQL-2-1",
         "type": "box",
         "y": [
          20019.547944073565,
          19727.37258009147,
          19851.99666302651
         ]
        }
       ],
       "layout": {
        "template": {
         "data": {
          "bar": [
           {
            "error_x": {
             "color": "#2a3f5f"
            },
            "error_y": {
             "color": "#2a3f5f"
            },
            "marker": {
             "line": {
              "color": "#E5ECF6",
              "width": 0.5
             },
             "pattern": {
              "fillmode": "overlay",
              "size": 10,
              "solidity": 0.2
             }
            },
            "type": "bar"
           }
          ],
          "barpolar": [
           {
            "marker": {
             "line": {
              "color": "#E5ECF6",
              "width": 0.5
             },
             "pattern": {
              "fillmode": "overlay",
              "size": 10,
              "solidity": 0.2
             }
            },
            "type": "barpolar"
           }
          ],
          "carpet": [
           {
            "aaxis": {
             "endlinecolor": "#2a3f5f",
             "gridcolor": "white",
             "linecolor": "white",
             "minorgridcolor": "white",
             "startlinecolor": "#2a3f5f"
            },
            "baxis": {
             "endlinecolor": "#2a3f5f",
             "gridcolor": "white",
             "linecolor": "white",
             "minorgridcolor": "white",
             "startlinecolor": "#2a3f5f"
            },
            "type": "carpet"
           }
          ],
          "choropleth": [
           {
            "colorbar": {
             "outlinewidth": 0,
             "ticks": ""
            },
            "type": "choropleth"
           }
          ],
          "contour": [
           {
            "colorbar": {
             "outlinewidth": 0,
             "ticks": ""
            },
            "colorscale": [
             [
              0,
              "#0d0887"
             ],
             [
              0.1111111111111111,
              "#46039f"
             ],
             [
              0.2222222222222222,
              "#7201a8"
             ],
             [
              0.3333333333333333,
              "#9c179e"
             ],
             [
              0.4444444444444444,
              "#bd3786"
             ],
             [
              0.5555555555555556,
              "#d8576b"
             ],
             [
              0.6666666666666666,
              "#ed7953"
             ],
             [
              0.7777777777777778,
              "#fb9f3a"
             ],
             [
              0.8888888888888888,
              "#fdca26"
             ],
             [
              1,
              "#f0f921"
             ]
            ],
            "type": "contour"
           }
          ],
          "contourcarpet": [
           {
            "colorbar": {
             "outlinewidth": 0,
             "ticks": ""
            },
            "type": "contourcarpet"
           }
          ],
          "heatmap": [
           {
            "colorbar": {
             "outlinewidth": 0,
             "ticks": ""
            },
            "colorscale": [
             [
              0,
              "#0d0887"
             ],
             [
              0.1111111111111111,
              "#46039f"
             ],
             [
              0.2222222222222222,
              "#7201a8"
             ],
             [
              0.3333333333333333,
              "#9c179e"
             ],
             [
              0.4444444444444444,
              "#bd3786"
             ],
             [
              0.5555555555555556,
              "#d8576b"
             ],
             [
              0.6666666666666666,
              "#ed7953"
             ],
             [
              0.7777777777777778,
              "#fb9f3a"
             ],
             [
              0.8888888888888888,
              "#fdca26"
             ],
             [
              1,
              "#f0f921"
             ]
            ],
            "type": "heatmap"
           }
          ],
          "heatmapgl": [
           {
            "colorbar": {
             "outlinewidth": 0,
             "ticks": ""
            },
            "colorscale": [
             [
              0,
              "#0d0887"
             ],
             [
              0.1111111111111111,
              "#46039f"
             ],
             [
              0.2222222222222222,
              "#7201a8"
             ],
             [
              0.3333333333333333,
              "#9c179e"
             ],
             [
              0.4444444444444444,
              "#bd3786"
             ],
             [
              0.5555555555555556,
              "#d8576b"
             ],
             [
              0.6666666666666666,
              "#ed7953"
             ],
             [
              0.7777777777777778,
              "#fb9f3a"
             ],
             [
              0.8888888888888888,
              "#fdca26"
             ],
             [
              1,
              "#f0f921"
             ]
            ],
            "type": "heatmapgl"
           }
          ],
          "histogram": [
           {
            "marker": {
             "pattern": {
              "fillmode": "overlay",
              "size": 10,
              "solidity": 0.2
             }
            },
            "type": "histogram"
           }
          ],
          "histogram2d": [
           {
            "colorbar": {
             "outlinewidth": 0,
             "ticks": ""
            },
            "colorscale": [
             [
              0,
              "#0d0887"
             ],
             [
              0.1111111111111111,
              "#46039f"
             ],
             [
              0.2222222222222222,
              "#7201a8"
             ],
             [
              0.3333333333333333,
              "#9c179e"
             ],
             [
              0.4444444444444444,
              "#bd3786"
             ],
             [
              0.5555555555555556,
              "#d8576b"
             ],
             [
              0.6666666666666666,
              "#ed7953"
             ],
             [
              0.7777777777777778,
              "#fb9f3a"
             ],
             [
              0.8888888888888888,
              "#fdca26"
             ],
             [
              1,
              "#f0f921"
             ]
            ],
            "type": "histogram2d"
           }
          ],
          "histogram2dcontour": [
           {
            "colorbar": {
             "outlinewidth": 0,
             "ticks": ""
            },
            "colorscale": [
             [
              0,
              "#0d0887"
             ],
             [
              0.1111111111111111,
              "#46039f"
             ],
             [
              0.2222222222222222,
              "#7201a8"
             ],
             [
              0.3333333333333333,
              "#9c179e"
             ],
             [
              0.4444444444444444,
              "#bd3786"
             ],
             [
              0.5555555555555556,
              "#d8576b"
             ],
             [
              0.6666666666666666,
              "#ed7953"
             ],
             [
              0.7777777777777778,
              "#fb9f3a"
             ],
             [
              0.8888888888888888,
              "#fdca26"
             ],
             [
              1,
              "#f0f921"
             ]
            ],
            "type": "histogram2dcontour"
           }
          ],
          "mesh3d": [
           {
            "colorbar": {
             "outlinewidth": 0,
             "ticks": ""
            },
            "type": "mesh3d"
           }
          ],
          "parcoords": [
           {
            "line": {
             "colorbar": {
              "outlinewidth": 0,
              "ticks": ""
             }
            },
            "type": "parcoords"
           }
          ],
          "pie": [
           {
            "automargin": true,
            "type": "pie"
           }
          ],
          "scatter": [
           {
            "marker": {
             "colorbar": {
              "outlinewidth": 0,
              "ticks": ""
             }
            },
            "type": "scatter"
           }
          ],
          "scatter3d": [
           {
            "line": {
             "colorbar": {
              "outlinewidth": 0,
              "ticks": ""
             }
            },
            "marker": {
             "colorbar": {
              "outlinewidth": 0,
              "ticks": ""
             }
            },
            "type": "scatter3d"
           }
          ],
          "scattercarpet": [
           {
            "marker": {
             "colorbar": {
              "outlinewidth": 0,
              "ticks": ""
             }
            },
            "type": "scattercarpet"
           }
          ],
          "scattergeo": [
           {
            "marker": {
             "colorbar": {
              "outlinewidth": 0,
              "ticks": ""
             }
            },
            "type": "scattergeo"
           }
          ],
          "scattergl": [
           {
            "marker": {
             "colorbar": {
              "outlinewidth": 0,
              "ticks": ""
             }
            },
            "type": "scattergl"
           }
          ],
          "scattermapbox": [
           {
            "marker": {
             "colorbar": {
              "outlinewidth": 0,
              "ticks": ""
             }
            },
            "type": "scattermapbox"
           }
          ],
          "scatterpolar": [
           {
            "marker": {
             "colorbar": {
              "outlinewidth": 0,
              "ticks": ""
             }
            },
            "type": "scatterpolar"
           }
          ],
          "scatterpolargl": [
           {
            "marker": {
             "colorbar": {
              "outlinewidth": 0,
              "ticks": ""
             }
            },
            "type": "scatterpolargl"
           }
          ],
          "scatterternary": [
           {
            "marker": {
             "colorbar": {
              "outlinewidth": 0,
              "ticks": ""
             }
            },
            "type": "scatterternary"
           }
          ],
          "surface": [
           {
            "colorbar": {
             "outlinewidth": 0,
             "ticks": ""
            },
            "colorscale": [
             [
              0,
              "#0d0887"
             ],
             [
              0.1111111111111111,
              "#46039f"
             ],
             [
              0.2222222222222222,
              "#7201a8"
             ],
             [
              0.3333333333333333,
              "#9c179e"
             ],
             [
              0.4444444444444444,
              "#bd3786"
             ],
             [
              0.5555555555555556,
              "#d8576b"
             ],
             [
              0.6666666666666666,
              "#ed7953"
             ],
             [
              0.7777777777777778,
              "#fb9f3a"
             ],
             [
              0.8888888888888888,
              "#fdca26"
             ],
             [
              1,
              "#f0f921"
             ]
            ],
            "type": "surface"
           }
          ],
          "table": [
           {
            "cells": {
             "fill": {
              "color": "#EBF0F8"
             },
             "line": {
              "color": "white"
             }
            },
            "header": {
             "fill": {
              "color": "#C8D4E3"
             },
             "line": {
              "color": "white"
             }
            },
            "type": "table"
           }
          ]
         },
         "layout": {
          "annotationdefaults": {
           "arrowcolor": "#2a3f5f",
           "arrowhead": 0,
           "arrowwidth": 1
          },
          "autotypenumbers": "strict",
          "coloraxis": {
           "colorbar": {
            "outlinewidth": 0,
            "ticks": ""
           }
          },
          "colorscale": {
           "diverging": [
            [
             0,
             "#8e0152"
            ],
            [
             0.1,
             "#c51b7d"
            ],
            [
             0.2,
             "#de77ae"
            ],
            [
             0.3,
             "#f1b6da"
            ],
            [
             0.4,
             "#fde0ef"
            ],
            [
             0.5,
             "#f7f7f7"
            ],
            [
             0.6,
             "#e6f5d0"
            ],
            [
             0.7,
             "#b8e186"
            ],
            [
             0.8,
             "#7fbc41"
            ],
            [
             0.9,
             "#4d9221"
            ],
            [
             1,
             "#276419"
            ]
           ],
           "sequential": [
            [
             0,
             "#0d0887"
            ],
            [
             0.1111111111111111,
             "#46039f"
            ],
            [
             0.2222222222222222,
             "#7201a8"
            ],
            [
             0.3333333333333333,
             "#9c179e"
            ],
            [
             0.4444444444444444,
             "#bd3786"
            ],
            [
             0.5555555555555556,
             "#d8576b"
            ],
            [
             0.6666666666666666,
             "#ed7953"
            ],
            [
             0.7777777777777778,
             "#fb9f3a"
            ],
            [
             0.8888888888888888,
             "#fdca26"
            ],
            [
             1,
             "#f0f921"
            ]
           ],
           "sequentialminus": [
            [
             0,
             "#0d0887"
            ],
            [
             0.1111111111111111,
             "#46039f"
            ],
            [
             0.2222222222222222,
             "#7201a8"
            ],
            [
             0.3333333333333333,
             "#9c179e"
            ],
            [
             0.4444444444444444,
             "#bd3786"
            ],
            [
             0.5555555555555556,
             "#d8576b"
            ],
            [
             0.6666666666666666,
             "#ed7953"
            ],
            [
             0.7777777777777778,
             "#fb9f3a"
            ],
            [
             0.8888888888888888,
             "#fdca26"
            ],
            [
             1,
             "#f0f921"
            ]
           ]
          },
          "colorway": [
           "#636efa",
           "#EF553B",
           "#00cc96",
           "#ab63fa",
           "#FFA15A",
           "#19d3f3",
           "#FF6692",
           "#B6E880",
           "#FF97FF",
           "#FECB52"
          ],
          "font": {
           "color": "#2a3f5f"
          },
          "geo": {
           "bgcolor": "white",
           "lakecolor": "white",
           "landcolor": "#E5ECF6",
           "showlakes": true,
           "showland": true,
           "subunitcolor": "white"
          },
          "hoverlabel": {
           "align": "left"
          },
          "hovermode": "closest",
          "mapbox": {
           "style": "light"
          },
          "paper_bgcolor": "white",
          "plot_bgcolor": "#E5ECF6",
          "polar": {
           "angularaxis": {
            "gridcolor": "white",
            "linecolor": "white",
            "ticks": ""
           },
           "bgcolor": "#E5ECF6",
           "radialaxis": {
            "gridcolor": "white",
            "linecolor": "white",
            "ticks": ""
           }
          },
          "scene": {
           "xaxis": {
            "backgroundcolor": "#E5ECF6",
            "gridcolor": "white",
            "gridwidth": 2,
            "linecolor": "white",
            "showbackground": true,
            "ticks": "",
            "zerolinecolor": "white"
           },
           "yaxis": {
            "backgroundcolor": "#E5ECF6",
            "gridcolor": "white",
            "gridwidth": 2,
            "linecolor": "white",
            "showbackground": true,
            "ticks": "",
            "zerolinecolor": "white"
           },
           "zaxis": {
            "backgroundcolor": "#E5ECF6",
            "gridcolor": "white",
            "gridwidth": 2,
            "linecolor": "white",
            "showbackground": true,
            "ticks": "",
            "zerolinecolor": "white"
           }
          },
          "shapedefaults": {
           "line": {
            "color": "#2a3f5f"
           }
          },
          "ternary": {
           "aaxis": {
            "gridcolor": "white",
            "linecolor": "white",
            "ticks": ""
           },
           "baxis": {
            "gridcolor": "white",
            "linecolor": "white",
            "ticks": ""
           },
           "bgcolor": "#E5ECF6",
           "caxis": {
            "gridcolor": "white",
            "linecolor": "white",
            "ticks": ""
           }
          },
          "title": {
           "x": 0.05
          },
          "xaxis": {
           "automargin": true,
           "gridcolor": "white",
           "linecolor": "white",
           "ticks": "",
           "title": {
            "standoff": 15
           },
           "zerolinecolor": "white",
           "zerolinewidth": 2
          },
          "yaxis": {
           "automargin": true,
           "gridcolor": "white",
           "linecolor": "white",
           "ticks": "",
           "title": {
            "standoff": 15
           },
           "zerolinecolor": "white",
           "zerolinewidth": 2
          }
         }
        }
       }
      },
      "text/html": [
       "<div>                            <div id=\"01da9a9e-30ae-4682-a6da-ba331895b138\" class=\"plotly-graph-div\" style=\"height:525px; width:100%;\"></div>            <script type=\"text/javascript\">                require([\"plotly\"], function(Plotly) {                    window.PLOTLYENV=window.PLOTLYENV || {};                                    if (document.getElementById(\"01da9a9e-30ae-4682-a6da-ba331895b138\")) {                    Plotly.newPlot(                        \"01da9a9e-30ae-4682-a6da-ba331895b138\",                        [{\"boxmean\":\"sd\",\"line\":{\"color\":\"#ff0000\",\"width\":1},\"name\":\"MariaDB-1-1\",\"type\":\"box\",\"y\":[119995.57886400726,113505.99293899724,114467.32023102231]},{\"boxmean\":\"sd\",\"line\":{\"color\":\"#fecccc\",\"width\":1},\"name\":\"MariaDB-2-1\",\"type\":\"box\",\"y\":[113834.41502903588,113046.91848310176,113561.8299129419]},{\"boxmean\":\"sd\",\"line\":{\"color\":\"#006600\",\"width\":1},\"name\":\"MonetDB-1-1\",\"type\":\"box\",\"y\":[7603.894409025087,4541.180852917023,4545.230556977913]},{\"boxmean\":\"sd\",\"line\":{\"color\":\"#cbffcb\",\"width\":1},\"name\":\"MonetDB-2-1\",\"type\":\"box\",\"y\":[4426.2617219937965,4324.668616056442,4802.922310074791]},{\"boxmean\":\"sd\",\"line\":{\"color\":\"#000066\",\"width\":1},\"name\":\"MySQL-1-1\",\"type\":\"box\",\"y\":[140339.38287571073,139398.2365923002,140159.93906743824]},{\"boxmean\":\"sd\",\"line\":{\"color\":\"#cbcbff\",\"width\":1},\"name\":\"MySQL-2-1\",\"type\":\"box\",\"y\":[139935.72673702144,139094.70348083414,139922.2542810021]},{\"boxmean\":\"sd\",\"line\":{\"color\":\"#666500\",\"width\":1},\"name\":\"PostgreSQL-1-1\",\"type\":\"box\",\"y\":[20152.130282018334,19935.1423199987,20030.877649085596]},{\"boxmean\":\"sd\",\"line\":{\"color\":\"#ffffcb\",\"width\":1},\"name\":\"PostgreSQL-2-1\",\"type\":\"box\",\"y\":[20019.547944073565,19727.37258009147,19851.99666302651]}],                        {\"template\":{\"data\":{\"bar\":[{\"error_x\":{\"color\":\"#2a3f5f\"},\"error_y\":{\"color\":\"#2a3f5f\"},\"marker\":{\"line\":{\"color\":\"#E5ECF6\",\"width\":0.5},\"pattern\":{\"fillmode\":\"overlay\",\"size\":10,\"solidity\":0.2}},\"type\":\"bar\"}],\"barpolar\":[{\"marker\":{\"line\":{\"color\":\"#E5ECF6\",\"width\":0.5},\"pattern\":{\"fillmode\":\"overlay\",\"size\":10,\"solidity\":0.2}},\"type\":\"barpolar\"}],\"carpet\":[{\"aaxis\":{\"endlinecolor\":\"#2a3f5f\",\"gridcolor\":\"white\",\"linecolor\":\"white\",\"minorgridcolor\":\"white\",\"startlinecolor\":\"#2a3f5f\"},\"baxis\":{\"endlinecolor\":\"#2a3f5f\",\"gridcolor\":\"white\",\"linecolor\":\"white\",\"minorgridcolor\":\"white\",\"startlinecolor\":\"#2a3f5f\"},\"type\":\"carpet\"}],\"choropleth\":[{\"colorbar\":{\"outlinewidth\":0,\"ticks\":\"\"},\"type\":\"choropleth\"}],\"contour\":[{\"colorbar\":{\"outlinewidth\":0,\"ticks\":\"\"},\"colorscale\":[[0.0,\"#0d0887\"],[0.1111111111111111,\"#46039f\"],[0.2222222222222222,\"#7201a8\"],[0.3333333333333333,\"#9c179e\"],[0.4444444444444444,\"#bd3786\"],[0.5555555555555556,\"#d8576b\"],[0.6666666666666666,\"#ed7953\"],[0.7777777777777778,\"#fb9f3a\"],[0.8888888888888888,\"#fdca26\"],[1.0,\"#f0f921\"]],\"type\":\"contour\"}],\"contourcarpet\":[{\"colorbar\":{\"outlinewidth\":0,\"ticks\":\"\"},\"type\":\"contourcarpet\"}],\"heatmap\":[{\"colorbar\":{\"outlinewidth\":0,\"ticks\":\"\"},\"colorscale\":[[0.0,\"#0d0887\"],[0.1111111111111111,\"#46039f\"],[0.2222222222222222,\"#7201a8\"],[0.3333333333333333,\"#9c179e\"],[0.4444444444444444,\"#bd3786\"],[0.5555555555555556,\"#d8576b\"],[0.6666666666666666,\"#ed7953\"],[0.7777777777777778,\"#fb9f3a\"],[0.8888888888888888,\"#fdca26\"],[1.0,\"#f0f921\"]],\"type\":\"heatmap\"}],\"heatmapgl\":[{\"colorbar\":{\"outlinewidth\":0,\"ticks\":\"\"},\"colorscale\":[[0.0,\"#0d0887\"],[0.1111111111111111,\"#46039f\"],[0.2222222222222222,\"#7201a8\"],[0.3333333333333333,\"#9c179e\"],[0.4444444444444444,\"#bd3786\"],[0.5555555555555556,\"#d8576b\"],[0.6666666666666666,\"#ed7953\"],[0.7777777777777778,\"#fb9f3a\"],[0.8888888888888888,\"#fdca26\"],[1.0,\"#f0f921\"]],\"type\":\"heatmapgl\"}],\"histogram\":[{\"marker\":{\"pattern\":{\"fillmode\":\"overlay\",\"size\":10,\"solidity\":0.2}},\"type\":\"histogram\"}],\"histogram2d\":[{\"colorbar\":{\"outlinewidth\":0,\"ticks\":\"\"},\"colorscale\":[[0.0,\"#0d0887\"],[0.1111111111111111,\"#46039f\"],[0.2222222222222222,\"#7201a8\"],[0.3333333333333333,\"#9c179e\"],[0.4444444444444444,\"#bd3786\"],[0.5555555555555556,\"#d8576b\"],[0.6666666666666666,\"#ed7953\"],[0.7777777777777778,\"#fb9f3a\"],[0.8888888888888888,\"#fdca26\"],[1.0,\"#f0f921\"]],\"type\":\"histogram2d\"}],\"histogram2dcontour\":[{\"colorbar\":{\"outlinewidth\":0,\"ticks\":\"\"},\"colorscale\":[[0.0,\"#0d0887\"],[0.1111111111111111,\"#46039f\"],[0.2222222222222222,\"#7201a8\"],[0.3333333333333333,\"#9c179e\"],[0.4444444444444444,\"#bd3786\"],[0.5555555555555556,\"#d8576b\"],[0.6666666666666666,\"#ed7953\"],[0.7777777777777778,\"#fb9f3a\"],[0.8888888888888888,\"#fdca26\"],[1.0,\"#f0f921\"]],\"type\":\"histogram2dcontour\"}],\"mesh3d\":[{\"colorbar\":{\"outlinewidth\":0,\"ticks\":\"\"},\"type\":\"mesh3d\"}],\"parcoords\":[{\"line\":{\"colorbar\":{\"outlinewidth\":0,\"ticks\":\"\"}},\"type\":\"parcoords\"}],\"pie\":[{\"automargin\":true,\"type\":\"pie\"}],\"scatter\":[{\"marker\":{\"colorbar\":{\"outlinewidth\":0,\"ticks\":\"\"}},\"type\":\"scatter\"}],\"scatter3d\":[{\"line\":{\"colorbar\":{\"outlinewidth\":0,\"ticks\":\"\"}},\"marker\":{\"colorbar\":{\"outlinewidth\":0,\"ticks\":\"\"}},\"type\":\"scatter3d\"}],\"scattercarpet\":[{\"marker\":{\"colorbar\":{\"outlinewidth\":0,\"ticks\":\"\"}},\"type\":\"scattercarpet\"}],\"scattergeo\":[{\"marker\":{\"colorbar\":{\"outlinewidth\":0,\"ticks\":\"\"}},\"type\":\"scattergeo\"}],\"scattergl\":[{\"marker\":{\"colorbar\":{\"outlinewidth\":0,\"ticks\":\"\"}},\"type\":\"scattergl\"}],\"scattermapbox\":[{\"marker\":{\"colorbar\":{\"outlinewidth\":0,\"ticks\":\"\"}},\"type\":\"scattermapbox\"}],\"scatterpolar\":[{\"marker\":{\"colorbar\":{\"outlinewidth\":0,\"ticks\":\"\"}},\"type\":\"scatterpolar\"}],\"scatterpolargl\":[{\"marker\":{\"colorbar\":{\"outlinewidth\":0,\"ticks\":\"\"}},\"type\":\"scatterpolargl\"}],\"scatterternary\":[{\"marker\":{\"colorbar\":{\"outlinewidth\":0,\"ticks\":\"\"}},\"type\":\"scatterternary\"}],\"surface\":[{\"colorbar\":{\"outlinewidth\":0,\"ticks\":\"\"},\"colorscale\":[[0.0,\"#0d0887\"],[0.1111111111111111,\"#46039f\"],[0.2222222222222222,\"#7201a8\"],[0.3333333333333333,\"#9c179e\"],[0.4444444444444444,\"#bd3786\"],[0.5555555555555556,\"#d8576b\"],[0.6666666666666666,\"#ed7953\"],[0.7777777777777778,\"#fb9f3a\"],[0.8888888888888888,\"#fdca26\"],[1.0,\"#f0f921\"]],\"type\":\"surface\"}],\"table\":[{\"cells\":{\"fill\":{\"color\":\"#EBF0F8\"},\"line\":{\"color\":\"white\"}},\"header\":{\"fill\":{\"color\":\"#C8D4E3\"},\"line\":{\"color\":\"white\"}},\"type\":\"table\"}]},\"layout\":{\"annotationdefaults\":{\"arrowcolor\":\"#2a3f5f\",\"arrowhead\":0,\"arrowwidth\":1},\"autotypenumbers\":\"strict\",\"coloraxis\":{\"colorbar\":{\"outlinewidth\":0,\"ticks\":\"\"}},\"colorscale\":{\"diverging\":[[0,\"#8e0152\"],[0.1,\"#c51b7d\"],[0.2,\"#de77ae\"],[0.3,\"#f1b6da\"],[0.4,\"#fde0ef\"],[0.5,\"#f7f7f7\"],[0.6,\"#e6f5d0\"],[0.7,\"#b8e186\"],[0.8,\"#7fbc41\"],[0.9,\"#4d9221\"],[1,\"#276419\"]],\"sequential\":[[0.0,\"#0d0887\"],[0.1111111111111111,\"#46039f\"],[0.2222222222222222,\"#7201a8\"],[0.3333333333333333,\"#9c179e\"],[0.4444444444444444,\"#bd3786\"],[0.5555555555555556,\"#d8576b\"],[0.6666666666666666,\"#ed7953\"],[0.7777777777777778,\"#fb9f3a\"],[0.8888888888888888,\"#fdca26\"],[1.0,\"#f0f921\"]],\"sequentialminus\":[[0.0,\"#0d0887\"],[0.1111111111111111,\"#46039f\"],[0.2222222222222222,\"#7201a8\"],[0.3333333333333333,\"#9c179e\"],[0.4444444444444444,\"#bd3786\"],[0.5555555555555556,\"#d8576b\"],[0.6666666666666666,\"#ed7953\"],[0.7777777777777778,\"#fb9f3a\"],[0.8888888888888888,\"#fdca26\"],[1.0,\"#f0f921\"]]},\"colorway\":[\"#636efa\",\"#EF553B\",\"#00cc96\",\"#ab63fa\",\"#FFA15A\",\"#19d3f3\",\"#FF6692\",\"#B6E880\",\"#FF97FF\",\"#FECB52\"],\"font\":{\"color\":\"#2a3f5f\"},\"geo\":{\"bgcolor\":\"white\",\"lakecolor\":\"white\",\"landcolor\":\"#E5ECF6\",\"showlakes\":true,\"showland\":true,\"subunitcolor\":\"white\"},\"hoverlabel\":{\"align\":\"left\"},\"hovermode\":\"closest\",\"mapbox\":{\"style\":\"light\"},\"paper_bgcolor\":\"white\",\"plot_bgcolor\":\"#E5ECF6\",\"polar\":{\"angularaxis\":{\"gridcolor\":\"white\",\"linecolor\":\"white\",\"ticks\":\"\"},\"bgcolor\":\"#E5ECF6\",\"radialaxis\":{\"gridcolor\":\"white\",\"linecolor\":\"white\",\"ticks\":\"\"}},\"scene\":{\"xaxis\":{\"backgroundcolor\":\"#E5ECF6\",\"gridcolor\":\"white\",\"gridwidth\":2,\"linecolor\":\"white\",\"showbackground\":true,\"ticks\":\"\",\"zerolinecolor\":\"white\"},\"yaxis\":{\"backgroundcolor\":\"#E5ECF6\",\"gridcolor\":\"white\",\"gridwidth\":2,\"linecolor\":\"white\",\"showbackground\":true,\"ticks\":\"\",\"zerolinecolor\":\"white\"},\"zaxis\":{\"backgroundcolor\":\"#E5ECF6\",\"gridcolor\":\"white\",\"gridwidth\":2,\"linecolor\":\"white\",\"showbackground\":true,\"ticks\":\"\",\"zerolinecolor\":\"white\"}},\"shapedefaults\":{\"line\":{\"color\":\"#2a3f5f\"}},\"ternary\":{\"aaxis\":{\"gridcolor\":\"white\",\"linecolor\":\"white\",\"ticks\":\"\"},\"baxis\":{\"gridcolor\":\"white\",\"linecolor\":\"white\",\"ticks\":\"\"},\"bgcolor\":\"#E5ECF6\",\"caxis\":{\"gridcolor\":\"white\",\"linecolor\":\"white\",\"ticks\":\"\"}},\"title\":{\"x\":0.05},\"xaxis\":{\"automargin\":true,\"gridcolor\":\"white\",\"linecolor\":\"white\",\"ticks\":\"\",\"title\":{\"standoff\":15},\"zerolinecolor\":\"white\",\"zerolinewidth\":2},\"yaxis\":{\"automargin\":true,\"gridcolor\":\"white\",\"linecolor\":\"white\",\"ticks\":\"\",\"title\":{\"standoff\":15},\"zerolinecolor\":\"white\",\"zerolinewidth\":2}}}},                        {\"responsive\": true}                    ).then(function(){\n",
       "                            \n",
       "var gd = document.getElementById('01da9a9e-30ae-4682-a6da-ba331895b138');\n",
       "var x = new MutationObserver(function (mutations, observer) {{\n",
       "        var display = window.getComputedStyle(gd).display;\n",
       "        if (!display || display === 'none') {{\n",
       "            console.log([gd, 'removed!']);\n",
       "            Plotly.purge(gd);\n",
       "            observer.disconnect();\n",
       "        }}\n",
       "}});\n",
       "\n",
       "// Listen for the removal of the full notebook cells\n",
       "var notebookContainer = gd.closest('#notebook-container');\n",
       "if (notebookContainer) {{\n",
       "    x.observe(notebookContainer, {childList: true});\n",
       "}}\n",
       "\n",
       "// Listen for the clearing of the current output cell\n",
       "var outputEl = gd.closest('.output');\n",
       "if (outputEl) {{\n",
       "    x.observe(outputEl, {childList: true});\n",
       "}}\n",
       "\n",
       "                        })                };                });            </script>        </div>"
      ]
     },
     "metadata": {},
     "output_type": "display_data"
    }
   ],
   "source": [
    "# Boxplots\n",
    "df1=df1.sort_index()\n",
    "fig = go.Figure()\n",
    "for i in range(len(df1.index)):\n",
    "    t = fig.add_trace(go.Box(y=df1.iloc[i], name=df1.index[i], line=dict(color=connection_colors[df1.index[i]], width=1), boxmean='sd'))\n",
    "\n",
    "fig.show()\n"
   ]
  },
  {
   "cell_type": "code",
   "execution_count": null,
   "id": "342449c2",
   "metadata": {},
   "outputs": [],
   "source": [
    "list_errors = evaluate.get_error(21)\n",
    "list_errors"
   ]
  },
  {
   "cell_type": "code",
   "execution_count": 36,
   "id": "768cfa0c",
   "metadata": {},
   "outputs": [
    {
     "data": {
      "application/vnd.plotly.v1+json": {
       "config": {
        "plotlyServerURL": "https://plot.ly"
       },
       "data": [
        {
         "colorscale": [
          [
           0,
           "rgb(255,245,240)"
          ],
          [
           0.125,
           "rgb(254,224,210)"
          ],
          [
           0.25,
           "rgb(252,187,161)"
          ],
          [
           0.375,
           "rgb(252,146,114)"
          ],
          [
           0.5,
           "rgb(251,106,74)"
          ],
          [
           0.625,
           "rgb(239,59,44)"
          ],
          [
           0.75,
           "rgb(203,24,29)"
          ],
          [
           0.875,
           "rgb(165,15,21)"
          ],
          [
           1,
           "rgb(103,0,13)"
          ]
         ],
         "reversescale": false,
         "showscale": true,
         "type": "heatmap",
         "x": [
          "MonetDB-2-1",
          "MonetDB-1-1",
          "PostgreSQL-2-1",
          "PostgreSQL-1-1",
          "MariaDB-2-1",
          "MariaDB-1-1",
          "MySQL-2-1",
          "MySQL-1-1"
         ],
         "xgap": 1,
         "y": [
          "Q1",
          "Q2",
          "Q3",
          "Q4",
          "Q5",
          "Q6",
          "Q7",
          "Q8",
          "Q9",
          "Q10",
          "Q11",
          "Q12",
          "Q13",
          "Q14",
          "Q15",
          "Q16",
          "Q17",
          "Q18",
          "Q19",
          "Q20",
          "Q21",
          "Q22"
         ],
         "ygap": 1,
         "z": [
          [
           4.52,
           5.56,
           19.87,
           20.04,
           113.48,
           115.99,
           139.65,
           139.97
          ],
          [
           0.35,
           0.42,
           17.5,
           7.23,
           13.17,
           13.2,
           1.58,
           1.79
          ],
          [
           0.29,
           1.12,
           19.75,
           15.17,
           56,
           58.8,
           60.33,
           60.65
          ],
          [
           0.16,
           0.17,
           3.66,
           63.28,
           10.7,
           10.91,
           10.23,
           10.35
          ],
          [
           0.38,
           0.37,
           6.89,
           5.78,
           41.96,
           43.17,
           40.19,
           44.85
          ],
          [
           0.13,
           1.79,
           2.89,
           2.92,
           19.29,
           19.22,
           24.03,
           24.07
          ],
          [
           3.05,
           2.2,
           13.55,
           11.24,
           33.58,
           35.23,
           24.2,
           27.26
          ],
          [
           3.15,
           1.09,
           13.34,
           12.78,
           73.31,
           74.79,
           106.57,
           117.48
          ],
          [
           3.96,
           4.92,
           42.59,
           44.07,
           139.19,
           141.1,
           112.49,
           124.49
          ],
          [
           0.8,
           0.91,
           16.73,
           20.83,
           142.09,
           141.4,
           20.75,
           20.99
          ],
          [
           0.42,
           0.57,
           2.17,
           3.89,
           4.29,
           4.15,
           5.7,
           5.66
          ],
          [
           0.19,
           3.77,
           7.17,
           15.9,
           128.81,
           132.08,
           34.27,
           34.56
          ],
          [
           3.18,
           3.59,
           7.77,
           18.78,
           115.45,
           114.27,
           160.75,
           161.98
          ],
          [
           0.14,
           0.18,
           3.26,
           8.14,
           497.1,
           511.36,
           29.36,
           29.7
          ],
          [
           0.28,
           0.27,
           7.96,
           10.83,
           38.99,
           38.72,
           52.65,
           53.02
          ],
          [
           1.86,
           1.84,
           6.41,
           7.07,
           4.96,
           4.95,
           5.99,
           5.85
          ],
          [
           2.36,
           1.89,
           13.52,
           11.94,
           1.25,
           1.28,
           12.45,
           13.07
          ],
          [
           0.49,
           0.48,
           29.49,
           33.13,
           129.2,
           126.02,
           30.44,
           30.79
          ],
          [
           0.25,
           0.25,
           0.49,
           0.57,
           2.34,
           2.38,
           3.35,
           3.42
          ],
          [
           0.23,
           0.26,
           9.46,
           7.63,
           20.67,
           20.53,
           9.97,
           10.18
          ],
          [
           70.92,
           71.51,
           6.8,
           6.74,
           245.99,
           246.13,
           78.55,
           81.24
          ],
          [
           0.97,
           0.6,
           0.74,
           0.76,
           1.84,
           1.83,
           2.34,
           2.37
          ]
         ]
        }
       ],
       "layout": {
        "annotations": [
         {
          "font": {
           "color": "#000000"
          },
          "showarrow": false,
          "text": "4.52",
          "x": "MonetDB-2-1",
          "xref": "x",
          "y": "Q1",
          "yref": "y"
         },
         {
          "font": {
           "color": "#000000"
          },
          "showarrow": false,
          "text": "5.56",
          "x": "MonetDB-1-1",
          "xref": "x",
          "y": "Q1",
          "yref": "y"
         },
         {
          "font": {
           "color": "#000000"
          },
          "showarrow": false,
          "text": "19.87",
          "x": "PostgreSQL-2-1",
          "xref": "x",
          "y": "Q1",
          "yref": "y"
         },
         {
          "font": {
           "color": "#000000"
          },
          "showarrow": false,
          "text": "20.04",
          "x": "PostgreSQL-1-1",
          "xref": "x",
          "y": "Q1",
          "yref": "y"
         },
         {
          "font": {
           "color": "#000000"
          },
          "showarrow": false,
          "text": "113.48",
          "x": "MariaDB-2-1",
          "xref": "x",
          "y": "Q1",
          "yref": "y"
         },
         {
          "font": {
           "color": "#000000"
          },
          "showarrow": false,
          "text": "115.99",
          "x": "MariaDB-1-1",
          "xref": "x",
          "y": "Q1",
          "yref": "y"
         },
         {
          "font": {
           "color": "#000000"
          },
          "showarrow": false,
          "text": "139.65",
          "x": "MySQL-2-1",
          "xref": "x",
          "y": "Q1",
          "yref": "y"
         },
         {
          "font": {
           "color": "#000000"
          },
          "showarrow": false,
          "text": "139.97",
          "x": "MySQL-1-1",
          "xref": "x",
          "y": "Q1",
          "yref": "y"
         },
         {
          "font": {
           "color": "#000000"
          },
          "showarrow": false,
          "text": "0.35",
          "x": "MonetDB-2-1",
          "xref": "x",
          "y": "Q2",
          "yref": "y"
         },
         {
          "font": {
           "color": "#000000"
          },
          "showarrow": false,
          "text": "0.42",
          "x": "MonetDB-1-1",
          "xref": "x",
          "y": "Q2",
          "yref": "y"
         },
         {
          "font": {
           "color": "#000000"
          },
          "showarrow": false,
          "text": "17.5",
          "x": "PostgreSQL-2-1",
          "xref": "x",
          "y": "Q2",
          "yref": "y"
         },
         {
          "font": {
           "color": "#000000"
          },
          "showarrow": false,
          "text": "7.23",
          "x": "PostgreSQL-1-1",
          "xref": "x",
          "y": "Q2",
          "yref": "y"
         },
         {
          "font": {
           "color": "#000000"
          },
          "showarrow": false,
          "text": "13.17",
          "x": "MariaDB-2-1",
          "xref": "x",
          "y": "Q2",
          "yref": "y"
         },
         {
          "font": {
           "color": "#000000"
          },
          "showarrow": false,
          "text": "13.2",
          "x": "MariaDB-1-1",
          "xref": "x",
          "y": "Q2",
          "yref": "y"
         },
         {
          "font": {
           "color": "#000000"
          },
          "showarrow": false,
          "text": "1.58",
          "x": "MySQL-2-1",
          "xref": "x",
          "y": "Q2",
          "yref": "y"
         },
         {
          "font": {
           "color": "#000000"
          },
          "showarrow": false,
          "text": "1.79",
          "x": "MySQL-1-1",
          "xref": "x",
          "y": "Q2",
          "yref": "y"
         },
         {
          "font": {
           "color": "#000000"
          },
          "showarrow": false,
          "text": "0.29",
          "x": "MonetDB-2-1",
          "xref": "x",
          "y": "Q3",
          "yref": "y"
         },
         {
          "font": {
           "color": "#000000"
          },
          "showarrow": false,
          "text": "1.12",
          "x": "MonetDB-1-1",
          "xref": "x",
          "y": "Q3",
          "yref": "y"
         },
         {
          "font": {
           "color": "#000000"
          },
          "showarrow": false,
          "text": "19.75",
          "x": "PostgreSQL-2-1",
          "xref": "x",
          "y": "Q3",
          "yref": "y"
         },
         {
          "font": {
           "color": "#000000"
          },
          "showarrow": false,
          "text": "15.17",
          "x": "PostgreSQL-1-1",
          "xref": "x",
          "y": "Q3",
          "yref": "y"
         },
         {
          "font": {
           "color": "#000000"
          },
          "showarrow": false,
          "text": "56.0",
          "x": "MariaDB-2-1",
          "xref": "x",
          "y": "Q3",
          "yref": "y"
         },
         {
          "font": {
           "color": "#000000"
          },
          "showarrow": false,
          "text": "58.8",
          "x": "MariaDB-1-1",
          "xref": "x",
          "y": "Q3",
          "yref": "y"
         },
         {
          "font": {
           "color": "#000000"
          },
          "showarrow": false,
          "text": "60.33",
          "x": "MySQL-2-1",
          "xref": "x",
          "y": "Q3",
          "yref": "y"
         },
         {
          "font": {
           "color": "#000000"
          },
          "showarrow": false,
          "text": "60.65",
          "x": "MySQL-1-1",
          "xref": "x",
          "y": "Q3",
          "yref": "y"
         },
         {
          "font": {
           "color": "#000000"
          },
          "showarrow": false,
          "text": "0.16",
          "x": "MonetDB-2-1",
          "xref": "x",
          "y": "Q4",
          "yref": "y"
         },
         {
          "font": {
           "color": "#000000"
          },
          "showarrow": false,
          "text": "0.17",
          "x": "MonetDB-1-1",
          "xref": "x",
          "y": "Q4",
          "yref": "y"
         },
         {
          "font": {
           "color": "#000000"
          },
          "showarrow": false,
          "text": "3.66",
          "x": "PostgreSQL-2-1",
          "xref": "x",
          "y": "Q4",
          "yref": "y"
         },
         {
          "font": {
           "color": "#000000"
          },
          "showarrow": false,
          "text": "63.28",
          "x": "PostgreSQL-1-1",
          "xref": "x",
          "y": "Q4",
          "yref": "y"
         },
         {
          "font": {
           "color": "#000000"
          },
          "showarrow": false,
          "text": "10.7",
          "x": "MariaDB-2-1",
          "xref": "x",
          "y": "Q4",
          "yref": "y"
         },
         {
          "font": {
           "color": "#000000"
          },
          "showarrow": false,
          "text": "10.91",
          "x": "MariaDB-1-1",
          "xref": "x",
          "y": "Q4",
          "yref": "y"
         },
         {
          "font": {
           "color": "#000000"
          },
          "showarrow": false,
          "text": "10.23",
          "x": "MySQL-2-1",
          "xref": "x",
          "y": "Q4",
          "yref": "y"
         },
         {
          "font": {
           "color": "#000000"
          },
          "showarrow": false,
          "text": "10.35",
          "x": "MySQL-1-1",
          "xref": "x",
          "y": "Q4",
          "yref": "y"
         },
         {
          "font": {
           "color": "#000000"
          },
          "showarrow": false,
          "text": "0.38",
          "x": "MonetDB-2-1",
          "xref": "x",
          "y": "Q5",
          "yref": "y"
         },
         {
          "font": {
           "color": "#000000"
          },
          "showarrow": false,
          "text": "0.37",
          "x": "MonetDB-1-1",
          "xref": "x",
          "y": "Q5",
          "yref": "y"
         },
         {
          "font": {
           "color": "#000000"
          },
          "showarrow": false,
          "text": "6.89",
          "x": "PostgreSQL-2-1",
          "xref": "x",
          "y": "Q5",
          "yref": "y"
         },
         {
          "font": {
           "color": "#000000"
          },
          "showarrow": false,
          "text": "5.78",
          "x": "PostgreSQL-1-1",
          "xref": "x",
          "y": "Q5",
          "yref": "y"
         },
         {
          "font": {
           "color": "#000000"
          },
          "showarrow": false,
          "text": "41.96",
          "x": "MariaDB-2-1",
          "xref": "x",
          "y": "Q5",
          "yref": "y"
         },
         {
          "font": {
           "color": "#000000"
          },
          "showarrow": false,
          "text": "43.17",
          "x": "MariaDB-1-1",
          "xref": "x",
          "y": "Q5",
          "yref": "y"
         },
         {
          "font": {
           "color": "#000000"
          },
          "showarrow": false,
          "text": "40.19",
          "x": "MySQL-2-1",
          "xref": "x",
          "y": "Q5",
          "yref": "y"
         },
         {
          "font": {
           "color": "#000000"
          },
          "showarrow": false,
          "text": "44.85",
          "x": "MySQL-1-1",
          "xref": "x",
          "y": "Q5",
          "yref": "y"
         },
         {
          "font": {
           "color": "#000000"
          },
          "showarrow": false,
          "text": "0.13",
          "x": "MonetDB-2-1",
          "xref": "x",
          "y": "Q6",
          "yref": "y"
         },
         {
          "font": {
           "color": "#000000"
          },
          "showarrow": false,
          "text": "1.79",
          "x": "MonetDB-1-1",
          "xref": "x",
          "y": "Q6",
          "yref": "y"
         },
         {
          "font": {
           "color": "#000000"
          },
          "showarrow": false,
          "text": "2.89",
          "x": "PostgreSQL-2-1",
          "xref": "x",
          "y": "Q6",
          "yref": "y"
         },
         {
          "font": {
           "color": "#000000"
          },
          "showarrow": false,
          "text": "2.92",
          "x": "PostgreSQL-1-1",
          "xref": "x",
          "y": "Q6",
          "yref": "y"
         },
         {
          "font": {
           "color": "#000000"
          },
          "showarrow": false,
          "text": "19.29",
          "x": "MariaDB-2-1",
          "xref": "x",
          "y": "Q6",
          "yref": "y"
         },
         {
          "font": {
           "color": "#000000"
          },
          "showarrow": false,
          "text": "19.22",
          "x": "MariaDB-1-1",
          "xref": "x",
          "y": "Q6",
          "yref": "y"
         },
         {
          "font": {
           "color": "#000000"
          },
          "showarrow": false,
          "text": "24.03",
          "x": "MySQL-2-1",
          "xref": "x",
          "y": "Q6",
          "yref": "y"
         },
         {
          "font": {
           "color": "#000000"
          },
          "showarrow": false,
          "text": "24.07",
          "x": "MySQL-1-1",
          "xref": "x",
          "y": "Q6",
          "yref": "y"
         },
         {
          "font": {
           "color": "#000000"
          },
          "showarrow": false,
          "text": "3.05",
          "x": "MonetDB-2-1",
          "xref": "x",
          "y": "Q7",
          "yref": "y"
         },
         {
          "font": {
           "color": "#000000"
          },
          "showarrow": false,
          "text": "2.2",
          "x": "MonetDB-1-1",
          "xref": "x",
          "y": "Q7",
          "yref": "y"
         },
         {
          "font": {
           "color": "#000000"
          },
          "showarrow": false,
          "text": "13.55",
          "x": "PostgreSQL-2-1",
          "xref": "x",
          "y": "Q7",
          "yref": "y"
         },
         {
          "font": {
           "color": "#000000"
          },
          "showarrow": false,
          "text": "11.24",
          "x": "PostgreSQL-1-1",
          "xref": "x",
          "y": "Q7",
          "yref": "y"
         },
         {
          "font": {
           "color": "#000000"
          },
          "showarrow": false,
          "text": "33.58",
          "x": "MariaDB-2-1",
          "xref": "x",
          "y": "Q7",
          "yref": "y"
         },
         {
          "font": {
           "color": "#000000"
          },
          "showarrow": false,
          "text": "35.23",
          "x": "MariaDB-1-1",
          "xref": "x",
          "y": "Q7",
          "yref": "y"
         },
         {
          "font": {
           "color": "#000000"
          },
          "showarrow": false,
          "text": "24.2",
          "x": "MySQL-2-1",
          "xref": "x",
          "y": "Q7",
          "yref": "y"
         },
         {
          "font": {
           "color": "#000000"
          },
          "showarrow": false,
          "text": "27.26",
          "x": "MySQL-1-1",
          "xref": "x",
          "y": "Q7",
          "yref": "y"
         },
         {
          "font": {
           "color": "#000000"
          },
          "showarrow": false,
          "text": "3.15",
          "x": "MonetDB-2-1",
          "xref": "x",
          "y": "Q8",
          "yref": "y"
         },
         {
          "font": {
           "color": "#000000"
          },
          "showarrow": false,
          "text": "1.09",
          "x": "MonetDB-1-1",
          "xref": "x",
          "y": "Q8",
          "yref": "y"
         },
         {
          "font": {
           "color": "#000000"
          },
          "showarrow": false,
          "text": "13.34",
          "x": "PostgreSQL-2-1",
          "xref": "x",
          "y": "Q8",
          "yref": "y"
         },
         {
          "font": {
           "color": "#000000"
          },
          "showarrow": false,
          "text": "12.78",
          "x": "PostgreSQL-1-1",
          "xref": "x",
          "y": "Q8",
          "yref": "y"
         },
         {
          "font": {
           "color": "#000000"
          },
          "showarrow": false,
          "text": "73.31",
          "x": "MariaDB-2-1",
          "xref": "x",
          "y": "Q8",
          "yref": "y"
         },
         {
          "font": {
           "color": "#000000"
          },
          "showarrow": false,
          "text": "74.79",
          "x": "MariaDB-1-1",
          "xref": "x",
          "y": "Q8",
          "yref": "y"
         },
         {
          "font": {
           "color": "#000000"
          },
          "showarrow": false,
          "text": "106.57",
          "x": "MySQL-2-1",
          "xref": "x",
          "y": "Q8",
          "yref": "y"
         },
         {
          "font": {
           "color": "#000000"
          },
          "showarrow": false,
          "text": "117.48",
          "x": "MySQL-1-1",
          "xref": "x",
          "y": "Q8",
          "yref": "y"
         },
         {
          "font": {
           "color": "#000000"
          },
          "showarrow": false,
          "text": "3.96",
          "x": "MonetDB-2-1",
          "xref": "x",
          "y": "Q9",
          "yref": "y"
         },
         {
          "font": {
           "color": "#000000"
          },
          "showarrow": false,
          "text": "4.92",
          "x": "MonetDB-1-1",
          "xref": "x",
          "y": "Q9",
          "yref": "y"
         },
         {
          "font": {
           "color": "#000000"
          },
          "showarrow": false,
          "text": "42.59",
          "x": "PostgreSQL-2-1",
          "xref": "x",
          "y": "Q9",
          "yref": "y"
         },
         {
          "font": {
           "color": "#000000"
          },
          "showarrow": false,
          "text": "44.07",
          "x": "PostgreSQL-1-1",
          "xref": "x",
          "y": "Q9",
          "yref": "y"
         },
         {
          "font": {
           "color": "#000000"
          },
          "showarrow": false,
          "text": "139.19",
          "x": "MariaDB-2-1",
          "xref": "x",
          "y": "Q9",
          "yref": "y"
         },
         {
          "font": {
           "color": "#000000"
          },
          "showarrow": false,
          "text": "141.1",
          "x": "MariaDB-1-1",
          "xref": "x",
          "y": "Q9",
          "yref": "y"
         },
         {
          "font": {
           "color": "#000000"
          },
          "showarrow": false,
          "text": "112.49",
          "x": "MySQL-2-1",
          "xref": "x",
          "y": "Q9",
          "yref": "y"
         },
         {
          "font": {
           "color": "#000000"
          },
          "showarrow": false,
          "text": "124.49",
          "x": "MySQL-1-1",
          "xref": "x",
          "y": "Q9",
          "yref": "y"
         },
         {
          "font": {
           "color": "#000000"
          },
          "showarrow": false,
          "text": "0.8",
          "x": "MonetDB-2-1",
          "xref": "x",
          "y": "Q10",
          "yref": "y"
         },
         {
          "font": {
           "color": "#000000"
          },
          "showarrow": false,
          "text": "0.91",
          "x": "MonetDB-1-1",
          "xref": "x",
          "y": "Q10",
          "yref": "y"
         },
         {
          "font": {
           "color": "#000000"
          },
          "showarrow": false,
          "text": "16.73",
          "x": "PostgreSQL-2-1",
          "xref": "x",
          "y": "Q10",
          "yref": "y"
         },
         {
          "font": {
           "color": "#000000"
          },
          "showarrow": false,
          "text": "20.83",
          "x": "PostgreSQL-1-1",
          "xref": "x",
          "y": "Q10",
          "yref": "y"
         },
         {
          "font": {
           "color": "#000000"
          },
          "showarrow": false,
          "text": "142.09",
          "x": "MariaDB-2-1",
          "xref": "x",
          "y": "Q10",
          "yref": "y"
         },
         {
          "font": {
           "color": "#000000"
          },
          "showarrow": false,
          "text": "141.4",
          "x": "MariaDB-1-1",
          "xref": "x",
          "y": "Q10",
          "yref": "y"
         },
         {
          "font": {
           "color": "#000000"
          },
          "showarrow": false,
          "text": "20.75",
          "x": "MySQL-2-1",
          "xref": "x",
          "y": "Q10",
          "yref": "y"
         },
         {
          "font": {
           "color": "#000000"
          },
          "showarrow": false,
          "text": "20.99",
          "x": "MySQL-1-1",
          "xref": "x",
          "y": "Q10",
          "yref": "y"
         },
         {
          "font": {
           "color": "#000000"
          },
          "showarrow": false,
          "text": "0.42",
          "x": "MonetDB-2-1",
          "xref": "x",
          "y": "Q11",
          "yref": "y"
         },
         {
          "font": {
           "color": "#000000"
          },
          "showarrow": false,
          "text": "0.57",
          "x": "MonetDB-1-1",
          "xref": "x",
          "y": "Q11",
          "yref": "y"
         },
         {
          "font": {
           "color": "#000000"
          },
          "showarrow": false,
          "text": "2.17",
          "x": "PostgreSQL-2-1",
          "xref": "x",
          "y": "Q11",
          "yref": "y"
         },
         {
          "font": {
           "color": "#000000"
          },
          "showarrow": false,
          "text": "3.89",
          "x": "PostgreSQL-1-1",
          "xref": "x",
          "y": "Q11",
          "yref": "y"
         },
         {
          "font": {
           "color": "#000000"
          },
          "showarrow": false,
          "text": "4.29",
          "x": "MariaDB-2-1",
          "xref": "x",
          "y": "Q11",
          "yref": "y"
         },
         {
          "font": {
           "color": "#000000"
          },
          "showarrow": false,
          "text": "4.15",
          "x": "MariaDB-1-1",
          "xref": "x",
          "y": "Q11",
          "yref": "y"
         },
         {
          "font": {
           "color": "#000000"
          },
          "showarrow": false,
          "text": "5.7",
          "x": "MySQL-2-1",
          "xref": "x",
          "y": "Q11",
          "yref": "y"
         },
         {
          "font": {
           "color": "#000000"
          },
          "showarrow": false,
          "text": "5.66",
          "x": "MySQL-1-1",
          "xref": "x",
          "y": "Q11",
          "yref": "y"
         },
         {
          "font": {
           "color": "#000000"
          },
          "showarrow": false,
          "text": "0.19",
          "x": "MonetDB-2-1",
          "xref": "x",
          "y": "Q12",
          "yref": "y"
         },
         {
          "font": {
           "color": "#000000"
          },
          "showarrow": false,
          "text": "3.77",
          "x": "MonetDB-1-1",
          "xref": "x",
          "y": "Q12",
          "yref": "y"
         },
         {
          "font": {
           "color": "#000000"
          },
          "showarrow": false,
          "text": "7.17",
          "x": "PostgreSQL-2-1",
          "xref": "x",
          "y": "Q12",
          "yref": "y"
         },
         {
          "font": {
           "color": "#000000"
          },
          "showarrow": false,
          "text": "15.9",
          "x": "PostgreSQL-1-1",
          "xref": "x",
          "y": "Q12",
          "yref": "y"
         },
         {
          "font": {
           "color": "#000000"
          },
          "showarrow": false,
          "text": "128.81",
          "x": "MariaDB-2-1",
          "xref": "x",
          "y": "Q12",
          "yref": "y"
         },
         {
          "font": {
           "color": "#000000"
          },
          "showarrow": false,
          "text": "132.08",
          "x": "MariaDB-1-1",
          "xref": "x",
          "y": "Q12",
          "yref": "y"
         },
         {
          "font": {
           "color": "#000000"
          },
          "showarrow": false,
          "text": "34.27",
          "x": "MySQL-2-1",
          "xref": "x",
          "y": "Q12",
          "yref": "y"
         },
         {
          "font": {
           "color": "#000000"
          },
          "showarrow": false,
          "text": "34.56",
          "x": "MySQL-1-1",
          "xref": "x",
          "y": "Q12",
          "yref": "y"
         },
         {
          "font": {
           "color": "#000000"
          },
          "showarrow": false,
          "text": "3.18",
          "x": "MonetDB-2-1",
          "xref": "x",
          "y": "Q13",
          "yref": "y"
         },
         {
          "font": {
           "color": "#000000"
          },
          "showarrow": false,
          "text": "3.59",
          "x": "MonetDB-1-1",
          "xref": "x",
          "y": "Q13",
          "yref": "y"
         },
         {
          "font": {
           "color": "#000000"
          },
          "showarrow": false,
          "text": "7.77",
          "x": "PostgreSQL-2-1",
          "xref": "x",
          "y": "Q13",
          "yref": "y"
         },
         {
          "font": {
           "color": "#000000"
          },
          "showarrow": false,
          "text": "18.78",
          "x": "PostgreSQL-1-1",
          "xref": "x",
          "y": "Q13",
          "yref": "y"
         },
         {
          "font": {
           "color": "#000000"
          },
          "showarrow": false,
          "text": "115.45",
          "x": "MariaDB-2-1",
          "xref": "x",
          "y": "Q13",
          "yref": "y"
         },
         {
          "font": {
           "color": "#000000"
          },
          "showarrow": false,
          "text": "114.27",
          "x": "MariaDB-1-1",
          "xref": "x",
          "y": "Q13",
          "yref": "y"
         },
         {
          "font": {
           "color": "#000000"
          },
          "showarrow": false,
          "text": "160.75",
          "x": "MySQL-2-1",
          "xref": "x",
          "y": "Q13",
          "yref": "y"
         },
         {
          "font": {
           "color": "#000000"
          },
          "showarrow": false,
          "text": "161.98",
          "x": "MySQL-1-1",
          "xref": "x",
          "y": "Q13",
          "yref": "y"
         },
         {
          "font": {
           "color": "#000000"
          },
          "showarrow": false,
          "text": "0.14",
          "x": "MonetDB-2-1",
          "xref": "x",
          "y": "Q14",
          "yref": "y"
         },
         {
          "font": {
           "color": "#000000"
          },
          "showarrow": false,
          "text": "0.18",
          "x": "MonetDB-1-1",
          "xref": "x",
          "y": "Q14",
          "yref": "y"
         },
         {
          "font": {
           "color": "#000000"
          },
          "showarrow": false,
          "text": "3.26",
          "x": "PostgreSQL-2-1",
          "xref": "x",
          "y": "Q14",
          "yref": "y"
         },
         {
          "font": {
           "color": "#000000"
          },
          "showarrow": false,
          "text": "8.14",
          "x": "PostgreSQL-1-1",
          "xref": "x",
          "y": "Q14",
          "yref": "y"
         },
         {
          "font": {
           "color": "#FFFFFF"
          },
          "showarrow": false,
          "text": "497.1",
          "x": "MariaDB-2-1",
          "xref": "x",
          "y": "Q14",
          "yref": "y"
         },
         {
          "font": {
           "color": "#FFFFFF"
          },
          "showarrow": false,
          "text": "511.36",
          "x": "MariaDB-1-1",
          "xref": "x",
          "y": "Q14",
          "yref": "y"
         },
         {
          "font": {
           "color": "#000000"
          },
          "showarrow": false,
          "text": "29.36",
          "x": "MySQL-2-1",
          "xref": "x",
          "y": "Q14",
          "yref": "y"
         },
         {
          "font": {
           "color": "#000000"
          },
          "showarrow": false,
          "text": "29.7",
          "x": "MySQL-1-1",
          "xref": "x",
          "y": "Q14",
          "yref": "y"
         },
         {
          "font": {
           "color": "#000000"
          },
          "showarrow": false,
          "text": "0.28",
          "x": "MonetDB-2-1",
          "xref": "x",
          "y": "Q15",
          "yref": "y"
         },
         {
          "font": {
           "color": "#000000"
          },
          "showarrow": false,
          "text": "0.27",
          "x": "MonetDB-1-1",
          "xref": "x",
          "y": "Q15",
          "yref": "y"
         },
         {
          "font": {
           "color": "#000000"
          },
          "showarrow": false,
          "text": "7.96",
          "x": "PostgreSQL-2-1",
          "xref": "x",
          "y": "Q15",
          "yref": "y"
         },
         {
          "font": {
           "color": "#000000"
          },
          "showarrow": false,
          "text": "10.83",
          "x": "PostgreSQL-1-1",
          "xref": "x",
          "y": "Q15",
          "yref": "y"
         },
         {
          "font": {
           "color": "#000000"
          },
          "showarrow": false,
          "text": "38.99",
          "x": "MariaDB-2-1",
          "xref": "x",
          "y": "Q15",
          "yref": "y"
         },
         {
          "font": {
           "color": "#000000"
          },
          "showarrow": false,
          "text": "38.72",
          "x": "MariaDB-1-1",
          "xref": "x",
          "y": "Q15",
          "yref": "y"
         },
         {
          "font": {
           "color": "#000000"
          },
          "showarrow": false,
          "text": "52.65",
          "x": "MySQL-2-1",
          "xref": "x",
          "y": "Q15",
          "yref": "y"
         },
         {
          "font": {
           "color": "#000000"
          },
          "showarrow": false,
          "text": "53.02",
          "x": "MySQL-1-1",
          "xref": "x",
          "y": "Q15",
          "yref": "y"
         },
         {
          "font": {
           "color": "#000000"
          },
          "showarrow": false,
          "text": "1.86",
          "x": "MonetDB-2-1",
          "xref": "x",
          "y": "Q16",
          "yref": "y"
         },
         {
          "font": {
           "color": "#000000"
          },
          "showarrow": false,
          "text": "1.84",
          "x": "MonetDB-1-1",
          "xref": "x",
          "y": "Q16",
          "yref": "y"
         },
         {
          "font": {
           "color": "#000000"
          },
          "showarrow": false,
          "text": "6.41",
          "x": "PostgreSQL-2-1",
          "xref": "x",
          "y": "Q16",
          "yref": "y"
         },
         {
          "font": {
           "color": "#000000"
          },
          "showarrow": false,
          "text": "7.07",
          "x": "PostgreSQL-1-1",
          "xref": "x",
          "y": "Q16",
          "yref": "y"
         },
         {
          "font": {
           "color": "#000000"
          },
          "showarrow": false,
          "text": "4.96",
          "x": "MariaDB-2-1",
          "xref": "x",
          "y": "Q16",
          "yref": "y"
         },
         {
          "font": {
           "color": "#000000"
          },
          "showarrow": false,
          "text": "4.95",
          "x": "MariaDB-1-1",
          "xref": "x",
          "y": "Q16",
          "yref": "y"
         },
         {
          "font": {
           "color": "#000000"
          },
          "showarrow": false,
          "text": "5.99",
          "x": "MySQL-2-1",
          "xref": "x",
          "y": "Q16",
          "yref": "y"
         },
         {
          "font": {
           "color": "#000000"
          },
          "showarrow": false,
          "text": "5.85",
          "x": "MySQL-1-1",
          "xref": "x",
          "y": "Q16",
          "yref": "y"
         },
         {
          "font": {
           "color": "#000000"
          },
          "showarrow": false,
          "text": "2.36",
          "x": "MonetDB-2-1",
          "xref": "x",
          "y": "Q17",
          "yref": "y"
         },
         {
          "font": {
           "color": "#000000"
          },
          "showarrow": false,
          "text": "1.89",
          "x": "MonetDB-1-1",
          "xref": "x",
          "y": "Q17",
          "yref": "y"
         },
         {
          "font": {
           "color": "#000000"
          },
          "showarrow": false,
          "text": "13.52",
          "x": "PostgreSQL-2-1",
          "xref": "x",
          "y": "Q17",
          "yref": "y"
         },
         {
          "font": {
           "color": "#000000"
          },
          "showarrow": false,
          "text": "11.94",
          "x": "PostgreSQL-1-1",
          "xref": "x",
          "y": "Q17",
          "yref": "y"
         },
         {
          "font": {
           "color": "#000000"
          },
          "showarrow": false,
          "text": "1.25",
          "x": "MariaDB-2-1",
          "xref": "x",
          "y": "Q17",
          "yref": "y"
         },
         {
          "font": {
           "color": "#000000"
          },
          "showarrow": false,
          "text": "1.28",
          "x": "MariaDB-1-1",
          "xref": "x",
          "y": "Q17",
          "yref": "y"
         },
         {
          "font": {
           "color": "#000000"
          },
          "showarrow": false,
          "text": "12.45",
          "x": "MySQL-2-1",
          "xref": "x",
          "y": "Q17",
          "yref": "y"
         },
         {
          "font": {
           "color": "#000000"
          },
          "showarrow": false,
          "text": "13.07",
          "x": "MySQL-1-1",
          "xref": "x",
          "y": "Q17",
          "yref": "y"
         },
         {
          "font": {
           "color": "#000000"
          },
          "showarrow": false,
          "text": "0.49",
          "x": "MonetDB-2-1",
          "xref": "x",
          "y": "Q18",
          "yref": "y"
         },
         {
          "font": {
           "color": "#000000"
          },
          "showarrow": false,
          "text": "0.48",
          "x": "MonetDB-1-1",
          "xref": "x",
          "y": "Q18",
          "yref": "y"
         },
         {
          "font": {
           "color": "#000000"
          },
          "showarrow": false,
          "text": "29.49",
          "x": "PostgreSQL-2-1",
          "xref": "x",
          "y": "Q18",
          "yref": "y"
         },
         {
          "font": {
           "color": "#000000"
          },
          "showarrow": false,
          "text": "33.13",
          "x": "PostgreSQL-1-1",
          "xref": "x",
          "y": "Q18",
          "yref": "y"
         },
         {
          "font": {
           "color": "#000000"
          },
          "showarrow": false,
          "text": "129.2",
          "x": "MariaDB-2-1",
          "xref": "x",
          "y": "Q18",
          "yref": "y"
         },
         {
          "font": {
           "color": "#000000"
          },
          "showarrow": false,
          "text": "126.02",
          "x": "MariaDB-1-1",
          "xref": "x",
          "y": "Q18",
          "yref": "y"
         },
         {
          "font": {
           "color": "#000000"
          },
          "showarrow": false,
          "text": "30.44",
          "x": "MySQL-2-1",
          "xref": "x",
          "y": "Q18",
          "yref": "y"
         },
         {
          "font": {
           "color": "#000000"
          },
          "showarrow": false,
          "text": "30.79",
          "x": "MySQL-1-1",
          "xref": "x",
          "y": "Q18",
          "yref": "y"
         },
         {
          "font": {
           "color": "#000000"
          },
          "showarrow": false,
          "text": "0.25",
          "x": "MonetDB-2-1",
          "xref": "x",
          "y": "Q19",
          "yref": "y"
         },
         {
          "font": {
           "color": "#000000"
          },
          "showarrow": false,
          "text": "0.25",
          "x": "MonetDB-1-1",
          "xref": "x",
          "y": "Q19",
          "yref": "y"
         },
         {
          "font": {
           "color": "#000000"
          },
          "showarrow": false,
          "text": "0.49",
          "x": "PostgreSQL-2-1",
          "xref": "x",
          "y": "Q19",
          "yref": "y"
         },
         {
          "font": {
           "color": "#000000"
          },
          "showarrow": false,
          "text": "0.57",
          "x": "PostgreSQL-1-1",
          "xref": "x",
          "y": "Q19",
          "yref": "y"
         },
         {
          "font": {
           "color": "#000000"
          },
          "showarrow": false,
          "text": "2.34",
          "x": "MariaDB-2-1",
          "xref": "x",
          "y": "Q19",
          "yref": "y"
         },
         {
          "font": {
           "color": "#000000"
          },
          "showarrow": false,
          "text": "2.38",
          "x": "MariaDB-1-1",
          "xref": "x",
          "y": "Q19",
          "yref": "y"
         },
         {
          "font": {
           "color": "#000000"
          },
          "showarrow": false,
          "text": "3.35",
          "x": "MySQL-2-1",
          "xref": "x",
          "y": "Q19",
          "yref": "y"
         },
         {
          "font": {
           "color": "#000000"
          },
          "showarrow": false,
          "text": "3.42",
          "x": "MySQL-1-1",
          "xref": "x",
          "y": "Q19",
          "yref": "y"
         },
         {
          "font": {
           "color": "#000000"
          },
          "showarrow": false,
          "text": "0.23",
          "x": "MonetDB-2-1",
          "xref": "x",
          "y": "Q20",
          "yref": "y"
         },
         {
          "font": {
           "color": "#000000"
          },
          "showarrow": false,
          "text": "0.26",
          "x": "MonetDB-1-1",
          "xref": "x",
          "y": "Q20",
          "yref": "y"
         },
         {
          "font": {
           "color": "#000000"
          },
          "showarrow": false,
          "text": "9.46",
          "x": "PostgreSQL-2-1",
          "xref": "x",
          "y": "Q20",
          "yref": "y"
         },
         {
          "font": {
           "color": "#000000"
          },
          "showarrow": false,
          "text": "7.63",
          "x": "PostgreSQL-1-1",
          "xref": "x",
          "y": "Q20",
          "yref": "y"
         },
         {
          "font": {
           "color": "#000000"
          },
          "showarrow": false,
          "text": "20.67",
          "x": "MariaDB-2-1",
          "xref": "x",
          "y": "Q20",
          "yref": "y"
         },
         {
          "font": {
           "color": "#000000"
          },
          "showarrow": false,
          "text": "20.53",
          "x": "MariaDB-1-1",
          "xref": "x",
          "y": "Q20",
          "yref": "y"
         },
         {
          "font": {
           "color": "#000000"
          },
          "showarrow": false,
          "text": "9.97",
          "x": "MySQL-2-1",
          "xref": "x",
          "y": "Q20",
          "yref": "y"
         },
         {
          "font": {
           "color": "#000000"
          },
          "showarrow": false,
          "text": "10.18",
          "x": "MySQL-1-1",
          "xref": "x",
          "y": "Q20",
          "yref": "y"
         },
         {
          "font": {
           "color": "#000000"
          },
          "showarrow": false,
          "text": "70.92",
          "x": "MonetDB-2-1",
          "xref": "x",
          "y": "Q21",
          "yref": "y"
         },
         {
          "font": {
           "color": "#000000"
          },
          "showarrow": false,
          "text": "71.51",
          "x": "MonetDB-1-1",
          "xref": "x",
          "y": "Q21",
          "yref": "y"
         },
         {
          "font": {
           "color": "#000000"
          },
          "showarrow": false,
          "text": "6.8",
          "x": "PostgreSQL-2-1",
          "xref": "x",
          "y": "Q21",
          "yref": "y"
         },
         {
          "font": {
           "color": "#000000"
          },
          "showarrow": false,
          "text": "6.74",
          "x": "PostgreSQL-1-1",
          "xref": "x",
          "y": "Q21",
          "yref": "y"
         },
         {
          "font": {
           "color": "#000000"
          },
          "showarrow": false,
          "text": "245.99",
          "x": "MariaDB-2-1",
          "xref": "x",
          "y": "Q21",
          "yref": "y"
         },
         {
          "font": {
           "color": "#000000"
          },
          "showarrow": false,
          "text": "246.13",
          "x": "MariaDB-1-1",
          "xref": "x",
          "y": "Q21",
          "yref": "y"
         },
         {
          "font": {
           "color": "#000000"
          },
          "showarrow": false,
          "text": "78.55",
          "x": "MySQL-2-1",
          "xref": "x",
          "y": "Q21",
          "yref": "y"
         },
         {
          "font": {
           "color": "#000000"
          },
          "showarrow": false,
          "text": "81.24",
          "x": "MySQL-1-1",
          "xref": "x",
          "y": "Q21",
          "yref": "y"
         },
         {
          "font": {
           "color": "#000000"
          },
          "showarrow": false,
          "text": "0.97",
          "x": "MonetDB-2-1",
          "xref": "x",
          "y": "Q22",
          "yref": "y"
         },
         {
          "font": {
           "color": "#000000"
          },
          "showarrow": false,
          "text": "0.6",
          "x": "MonetDB-1-1",
          "xref": "x",
          "y": "Q22",
          "yref": "y"
         },
         {
          "font": {
           "color": "#000000"
          },
          "showarrow": false,
          "text": "0.74",
          "x": "PostgreSQL-2-1",
          "xref": "x",
          "y": "Q22",
          "yref": "y"
         },
         {
          "font": {
           "color": "#000000"
          },
          "showarrow": false,
          "text": "0.76",
          "x": "PostgreSQL-1-1",
          "xref": "x",
          "y": "Q22",
          "yref": "y"
         },
         {
          "font": {
           "color": "#000000"
          },
          "showarrow": false,
          "text": "1.84",
          "x": "MariaDB-2-1",
          "xref": "x",
          "y": "Q22",
          "yref": "y"
         },
         {
          "font": {
           "color": "#000000"
          },
          "showarrow": false,
          "text": "1.83",
          "x": "MariaDB-1-1",
          "xref": "x",
          "y": "Q22",
          "yref": "y"
         },
         {
          "font": {
           "color": "#000000"
          },
          "showarrow": false,
          "text": "2.34",
          "x": "MySQL-2-1",
          "xref": "x",
          "y": "Q22",
          "yref": "y"
         },
         {
          "font": {
           "color": "#000000"
          },
          "showarrow": false,
          "text": "2.37",
          "x": "MySQL-1-1",
          "xref": "x",
          "y": "Q22",
          "yref": "y"
         }
        ],
        "template": {
         "data": {
          "bar": [
           {
            "error_x": {
             "color": "#2a3f5f"
            },
            "error_y": {
             "color": "#2a3f5f"
            },
            "marker": {
             "line": {
              "color": "#E5ECF6",
              "width": 0.5
             },
             "pattern": {
              "fillmode": "overlay",
              "size": 10,
              "solidity": 0.2
             }
            },
            "type": "bar"
           }
          ],
          "barpolar": [
           {
            "marker": {
             "line": {
              "color": "#E5ECF6",
              "width": 0.5
             },
             "pattern": {
              "fillmode": "overlay",
              "size": 10,
              "solidity": 0.2
             }
            },
            "type": "barpolar"
           }
          ],
          "carpet": [
           {
            "aaxis": {
             "endlinecolor": "#2a3f5f",
             "gridcolor": "white",
             "linecolor": "white",
             "minorgridcolor": "white",
             "startlinecolor": "#2a3f5f"
            },
            "baxis": {
             "endlinecolor": "#2a3f5f",
             "gridcolor": "white",
             "linecolor": "white",
             "minorgridcolor": "white",
             "startlinecolor": "#2a3f5f"
            },
            "type": "carpet"
           }
          ],
          "choropleth": [
           {
            "colorbar": {
             "outlinewidth": 0,
             "ticks": ""
            },
            "type": "choropleth"
           }
          ],
          "contour": [
           {
            "colorbar": {
             "outlinewidth": 0,
             "ticks": ""
            },
            "colorscale": [
             [
              0,
              "#0d0887"
             ],
             [
              0.1111111111111111,
              "#46039f"
             ],
             [
              0.2222222222222222,
              "#7201a8"
             ],
             [
              0.3333333333333333,
              "#9c179e"
             ],
             [
              0.4444444444444444,
              "#bd3786"
             ],
             [
              0.5555555555555556,
              "#d8576b"
             ],
             [
              0.6666666666666666,
              "#ed7953"
             ],
             [
              0.7777777777777778,
              "#fb9f3a"
             ],
             [
              0.8888888888888888,
              "#fdca26"
             ],
             [
              1,
              "#f0f921"
             ]
            ],
            "type": "contour"
           }
          ],
          "contourcarpet": [
           {
            "colorbar": {
             "outlinewidth": 0,
             "ticks": ""
            },
            "type": "contourcarpet"
           }
          ],
          "heatmap": [
           {
            "colorbar": {
             "outlinewidth": 0,
             "ticks": ""
            },
            "colorscale": [
             [
              0,
              "#0d0887"
             ],
             [
              0.1111111111111111,
              "#46039f"
             ],
             [
              0.2222222222222222,
              "#7201a8"
             ],
             [
              0.3333333333333333,
              "#9c179e"
             ],
             [
              0.4444444444444444,
              "#bd3786"
             ],
             [
              0.5555555555555556,
              "#d8576b"
             ],
             [
              0.6666666666666666,
              "#ed7953"
             ],
             [
              0.7777777777777778,
              "#fb9f3a"
             ],
             [
              0.8888888888888888,
              "#fdca26"
             ],
             [
              1,
              "#f0f921"
             ]
            ],
            "type": "heatmap"
           }
          ],
          "heatmapgl": [
           {
            "colorbar": {
             "outlinewidth": 0,
             "ticks": ""
            },
            "colorscale": [
             [
              0,
              "#0d0887"
             ],
             [
              0.1111111111111111,
              "#46039f"
             ],
             [
              0.2222222222222222,
              "#7201a8"
             ],
             [
              0.3333333333333333,
              "#9c179e"
             ],
             [
              0.4444444444444444,
              "#bd3786"
             ],
             [
              0.5555555555555556,
              "#d8576b"
             ],
             [
              0.6666666666666666,
              "#ed7953"
             ],
             [
              0.7777777777777778,
              "#fb9f3a"
             ],
             [
              0.8888888888888888,
              "#fdca26"
             ],
             [
              1,
              "#f0f921"
             ]
            ],
            "type": "heatmapgl"
           }
          ],
          "histogram": [
           {
            "marker": {
             "pattern": {
              "fillmode": "overlay",
              "size": 10,
              "solidity": 0.2
             }
            },
            "type": "histogram"
           }
          ],
          "histogram2d": [
           {
            "colorbar": {
             "outlinewidth": 0,
             "ticks": ""
            },
            "colorscale": [
             [
              0,
              "#0d0887"
             ],
             [
              0.1111111111111111,
              "#46039f"
             ],
             [
              0.2222222222222222,
              "#7201a8"
             ],
             [
              0.3333333333333333,
              "#9c179e"
             ],
             [
              0.4444444444444444,
              "#bd3786"
             ],
             [
              0.5555555555555556,
              "#d8576b"
             ],
             [
              0.6666666666666666,
              "#ed7953"
             ],
             [
              0.7777777777777778,
              "#fb9f3a"
             ],
             [
              0.8888888888888888,
              "#fdca26"
             ],
             [
              1,
              "#f0f921"
             ]
            ],
            "type": "histogram2d"
           }
          ],
          "histogram2dcontour": [
           {
            "colorbar": {
             "outlinewidth": 0,
             "ticks": ""
            },
            "colorscale": [
             [
              0,
              "#0d0887"
             ],
             [
              0.1111111111111111,
              "#46039f"
             ],
             [
              0.2222222222222222,
              "#7201a8"
             ],
             [
              0.3333333333333333,
              "#9c179e"
             ],
             [
              0.4444444444444444,
              "#bd3786"
             ],
             [
              0.5555555555555556,
              "#d8576b"
             ],
             [
              0.6666666666666666,
              "#ed7953"
             ],
             [
              0.7777777777777778,
              "#fb9f3a"
             ],
             [
              0.8888888888888888,
              "#fdca26"
             ],
             [
              1,
              "#f0f921"
             ]
            ],
            "type": "histogram2dcontour"
           }
          ],
          "mesh3d": [
           {
            "colorbar": {
             "outlinewidth": 0,
             "ticks": ""
            },
            "type": "mesh3d"
           }
          ],
          "parcoords": [
           {
            "line": {
             "colorbar": {
              "outlinewidth": 0,
              "ticks": ""
             }
            },
            "type": "parcoords"
           }
          ],
          "pie": [
           {
            "automargin": true,
            "type": "pie"
           }
          ],
          "scatter": [
           {
            "marker": {
             "colorbar": {
              "outlinewidth": 0,
              "ticks": ""
             }
            },
            "type": "scatter"
           }
          ],
          "scatter3d": [
           {
            "line": {
             "colorbar": {
              "outlinewidth": 0,
              "ticks": ""
             }
            },
            "marker": {
             "colorbar": {
              "outlinewidth": 0,
              "ticks": ""
             }
            },
            "type": "scatter3d"
           }
          ],
          "scattercarpet": [
           {
            "marker": {
             "colorbar": {
              "outlinewidth": 0,
              "ticks": ""
             }
            },
            "type": "scattercarpet"
           }
          ],
          "scattergeo": [
           {
            "marker": {
             "colorbar": {
              "outlinewidth": 0,
              "ticks": ""
             }
            },
            "type": "scattergeo"
           }
          ],
          "scattergl": [
           {
            "marker": {
             "colorbar": {
              "outlinewidth": 0,
              "ticks": ""
             }
            },
            "type": "scattergl"
           }
          ],
          "scattermapbox": [
           {
            "marker": {
             "colorbar": {
              "outlinewidth": 0,
              "ticks": ""
             }
            },
            "type": "scattermapbox"
           }
          ],
          "scatterpolar": [
           {
            "marker": {
             "colorbar": {
              "outlinewidth": 0,
              "ticks": ""
             }
            },
            "type": "scatterpolar"
           }
          ],
          "scatterpolargl": [
           {
            "marker": {
             "colorbar": {
              "outlinewidth": 0,
              "ticks": ""
             }
            },
            "type": "scatterpolargl"
           }
          ],
          "scatterternary": [
           {
            "marker": {
             "colorbar": {
              "outlinewidth": 0,
              "ticks": ""
             }
            },
            "type": "scatterternary"
           }
          ],
          "surface": [
           {
            "colorbar": {
             "outlinewidth": 0,
             "ticks": ""
            },
            "colorscale": [
             [
              0,
              "#0d0887"
             ],
             [
              0.1111111111111111,
              "#46039f"
             ],
             [
              0.2222222222222222,
              "#7201a8"
             ],
             [
              0.3333333333333333,
              "#9c179e"
             ],
             [
              0.4444444444444444,
              "#bd3786"
             ],
             [
              0.5555555555555556,
              "#d8576b"
             ],
             [
              0.6666666666666666,
              "#ed7953"
             ],
             [
              0.7777777777777778,
              "#fb9f3a"
             ],
             [
              0.8888888888888888,
              "#fdca26"
             ],
             [
              1,
              "#f0f921"
             ]
            ],
            "type": "surface"
           }
          ],
          "table": [
           {
            "cells": {
             "fill": {
              "color": "#EBF0F8"
             },
             "line": {
              "color": "white"
             }
            },
            "header": {
             "fill": {
              "color": "#C8D4E3"
             },
             "line": {
              "color": "white"
             }
            },
            "type": "table"
           }
          ]
         },
         "layout": {
          "annotationdefaults": {
           "arrowcolor": "#2a3f5f",
           "arrowhead": 0,
           "arrowwidth": 1
          },
          "autotypenumbers": "strict",
          "coloraxis": {
           "colorbar": {
            "outlinewidth": 0,
            "ticks": ""
           }
          },
          "colorscale": {
           "diverging": [
            [
             0,
             "#8e0152"
            ],
            [
             0.1,
             "#c51b7d"
            ],
            [
             0.2,
             "#de77ae"
            ],
            [
             0.3,
             "#f1b6da"
            ],
            [
             0.4,
             "#fde0ef"
            ],
            [
             0.5,
             "#f7f7f7"
            ],
            [
             0.6,
             "#e6f5d0"
            ],
            [
             0.7,
             "#b8e186"
            ],
            [
             0.8,
             "#7fbc41"
            ],
            [
             0.9,
             "#4d9221"
            ],
            [
             1,
             "#276419"
            ]
           ],
           "sequential": [
            [
             0,
             "#0d0887"
            ],
            [
             0.1111111111111111,
             "#46039f"
            ],
            [
             0.2222222222222222,
             "#7201a8"
            ],
            [
             0.3333333333333333,
             "#9c179e"
            ],
            [
             0.4444444444444444,
             "#bd3786"
            ],
            [
             0.5555555555555556,
             "#d8576b"
            ],
            [
             0.6666666666666666,
             "#ed7953"
            ],
            [
             0.7777777777777778,
             "#fb9f3a"
            ],
            [
             0.8888888888888888,
             "#fdca26"
            ],
            [
             1,
             "#f0f921"
            ]
           ],
           "sequentialminus": [
            [
             0,
             "#0d0887"
            ],
            [
             0.1111111111111111,
             "#46039f"
            ],
            [
             0.2222222222222222,
             "#7201a8"
            ],
            [
             0.3333333333333333,
             "#9c179e"
            ],
            [
             0.4444444444444444,
             "#bd3786"
            ],
            [
             0.5555555555555556,
             "#d8576b"
            ],
            [
             0.6666666666666666,
             "#ed7953"
            ],
            [
             0.7777777777777778,
             "#fb9f3a"
            ],
            [
             0.8888888888888888,
             "#fdca26"
            ],
            [
             1,
             "#f0f921"
            ]
           ]
          },
          "colorway": [
           "#636efa",
           "#EF553B",
           "#00cc96",
           "#ab63fa",
           "#FFA15A",
           "#19d3f3",
           "#FF6692",
           "#B6E880",
           "#FF97FF",
           "#FECB52"
          ],
          "font": {
           "color": "#2a3f5f"
          },
          "geo": {
           "bgcolor": "white",
           "lakecolor": "white",
           "landcolor": "#E5ECF6",
           "showlakes": true,
           "showland": true,
           "subunitcolor": "white"
          },
          "hoverlabel": {
           "align": "left"
          },
          "hovermode": "closest",
          "mapbox": {
           "style": "light"
          },
          "paper_bgcolor": "white",
          "plot_bgcolor": "#E5ECF6",
          "polar": {
           "angularaxis": {
            "gridcolor": "white",
            "linecolor": "white",
            "ticks": ""
           },
           "bgcolor": "#E5ECF6",
           "radialaxis": {
            "gridcolor": "white",
            "linecolor": "white",
            "ticks": ""
           }
          },
          "scene": {
           "xaxis": {
            "backgroundcolor": "#E5ECF6",
            "gridcolor": "white",
            "gridwidth": 2,
            "linecolor": "white",
            "showbackground": true,
            "ticks": "",
            "zerolinecolor": "white"
           },
           "yaxis": {
            "backgroundcolor": "#E5ECF6",
            "gridcolor": "white",
            "gridwidth": 2,
            "linecolor": "white",
            "showbackground": true,
            "ticks": "",
            "zerolinecolor": "white"
           },
           "zaxis": {
            "backgroundcolor": "#E5ECF6",
            "gridcolor": "white",
            "gridwidth": 2,
            "linecolor": "white",
            "showbackground": true,
            "ticks": "",
            "zerolinecolor": "white"
           }
          },
          "shapedefaults": {
           "line": {
            "color": "#2a3f5f"
           }
          },
          "ternary": {
           "aaxis": {
            "gridcolor": "white",
            "linecolor": "white",
            "ticks": ""
           },
           "baxis": {
            "gridcolor": "white",
            "linecolor": "white",
            "ticks": ""
           },
           "bgcolor": "#E5ECF6",
           "caxis": {
            "gridcolor": "white",
            "linecolor": "white",
            "ticks": ""
           }
          },
          "title": {
           "x": 0.05
          },
          "xaxis": {
           "automargin": true,
           "gridcolor": "white",
           "linecolor": "white",
           "ticks": "",
           "title": {
            "standoff": 15
           },
           "zerolinecolor": "white",
           "zerolinewidth": 2
          },
          "yaxis": {
           "automargin": true,
           "gridcolor": "white",
           "linecolor": "white",
           "ticks": "",
           "title": {
            "standoff": 15
           },
           "zerolinecolor": "white",
           "zerolinewidth": 2
          }
         }
        },
        "title": {
         "text": "Timer Run - Mean per Query [s]"
        },
        "xaxis": {
         "dtick": 1,
         "gridcolor": "rgb(0, 0, 0)",
         "side": "top",
         "ticks": "",
         "type": "category"
        },
        "yaxis": {
         "dtick": 1,
         "ticks": "",
         "ticksuffix": "  ",
         "type": "category"
        }
       }
      },
      "text/html": [
       "<div>                            <div id=\"21512e79-5f53-4f40-aace-aa8b974468cd\" class=\"plotly-graph-div\" style=\"height:525px; width:100%;\"></div>            <script type=\"text/javascript\">                require([\"plotly\"], function(Plotly) {                    window.PLOTLYENV=window.PLOTLYENV || {};                                    if (document.getElementById(\"21512e79-5f53-4f40-aace-aa8b974468cd\")) {                    Plotly.newPlot(                        \"21512e79-5f53-4f40-aace-aa8b974468cd\",                        [{\"colorscale\":[[0.0,\"rgb(255,245,240)\"],[0.125,\"rgb(254,224,210)\"],[0.25,\"rgb(252,187,161)\"],[0.375,\"rgb(252,146,114)\"],[0.5,\"rgb(251,106,74)\"],[0.625,\"rgb(239,59,44)\"],[0.75,\"rgb(203,24,29)\"],[0.875,\"rgb(165,15,21)\"],[1.0,\"rgb(103,0,13)\"]],\"reversescale\":false,\"showscale\":true,\"type\":\"heatmap\",\"x\":[\"MonetDB-2-1\",\"MonetDB-1-1\",\"PostgreSQL-2-1\",\"PostgreSQL-1-1\",\"MariaDB-2-1\",\"MariaDB-1-1\",\"MySQL-2-1\",\"MySQL-1-1\"],\"xgap\":1,\"y\":[\"Q1\",\"Q2\",\"Q3\",\"Q4\",\"Q5\",\"Q6\",\"Q7\",\"Q8\",\"Q9\",\"Q10\",\"Q11\",\"Q12\",\"Q13\",\"Q14\",\"Q15\",\"Q16\",\"Q17\",\"Q18\",\"Q19\",\"Q20\",\"Q21\",\"Q22\"],\"ygap\":1,\"z\":[[4.52,5.56,19.87,20.04,113.48,115.99,139.65,139.97],[0.35,0.42,17.5,7.23,13.17,13.2,1.58,1.79],[0.29,1.12,19.75,15.17,56.0,58.8,60.33,60.65],[0.16,0.17,3.66,63.28,10.7,10.91,10.23,10.35],[0.38,0.37,6.89,5.78,41.96,43.17,40.19,44.85],[0.13,1.79,2.89,2.92,19.29,19.22,24.03,24.07],[3.05,2.2,13.55,11.24,33.58,35.23,24.2,27.26],[3.15,1.09,13.34,12.78,73.31,74.79,106.57,117.48],[3.96,4.92,42.59,44.07,139.19,141.1,112.49,124.49],[0.8,0.91,16.73,20.83,142.09,141.4,20.75,20.99],[0.42,0.57,2.17,3.89,4.29,4.15,5.7,5.66],[0.19,3.77,7.17,15.9,128.81,132.08,34.27,34.56],[3.18,3.59,7.77,18.78,115.45,114.27,160.75,161.98],[0.14,0.18,3.26,8.14,497.1,511.36,29.36,29.7],[0.28,0.27,7.96,10.83,38.99,38.72,52.65,53.02],[1.86,1.84,6.41,7.07,4.96,4.95,5.99,5.85],[2.36,1.89,13.52,11.94,1.25,1.28,12.45,13.07],[0.49,0.48,29.49,33.13,129.2,126.02,30.44,30.79],[0.25,0.25,0.49,0.57,2.34,2.38,3.35,3.42],[0.23,0.26,9.46,7.63,20.67,20.53,9.97,10.18],[70.92,71.51,6.8,6.74,245.99,246.13,78.55,81.24],[0.97,0.6,0.74,0.76,1.84,1.83,2.34,2.37]]}],                        {\"annotations\":[{\"font\":{\"color\":\"#000000\"},\"showarrow\":false,\"text\":\"4.52\",\"x\":\"MonetDB-2-1\",\"xref\":\"x\",\"y\":\"Q1\",\"yref\":\"y\"},{\"font\":{\"color\":\"#000000\"},\"showarrow\":false,\"text\":\"5.56\",\"x\":\"MonetDB-1-1\",\"xref\":\"x\",\"y\":\"Q1\",\"yref\":\"y\"},{\"font\":{\"color\":\"#000000\"},\"showarrow\":false,\"text\":\"19.87\",\"x\":\"PostgreSQL-2-1\",\"xref\":\"x\",\"y\":\"Q1\",\"yref\":\"y\"},{\"font\":{\"color\":\"#000000\"},\"showarrow\":false,\"text\":\"20.04\",\"x\":\"PostgreSQL-1-1\",\"xref\":\"x\",\"y\":\"Q1\",\"yref\":\"y\"},{\"font\":{\"color\":\"#000000\"},\"showarrow\":false,\"text\":\"113.48\",\"x\":\"MariaDB-2-1\",\"xref\":\"x\",\"y\":\"Q1\",\"yref\":\"y\"},{\"font\":{\"color\":\"#000000\"},\"showarrow\":false,\"text\":\"115.99\",\"x\":\"MariaDB-1-1\",\"xref\":\"x\",\"y\":\"Q1\",\"yref\":\"y\"},{\"font\":{\"color\":\"#000000\"},\"showarrow\":false,\"text\":\"139.65\",\"x\":\"MySQL-2-1\",\"xref\":\"x\",\"y\":\"Q1\",\"yref\":\"y\"},{\"font\":{\"color\":\"#000000\"},\"showarrow\":false,\"text\":\"139.97\",\"x\":\"MySQL-1-1\",\"xref\":\"x\",\"y\":\"Q1\",\"yref\":\"y\"},{\"font\":{\"color\":\"#000000\"},\"showarrow\":false,\"text\":\"0.35\",\"x\":\"MonetDB-2-1\",\"xref\":\"x\",\"y\":\"Q2\",\"yref\":\"y\"},{\"font\":{\"color\":\"#000000\"},\"showarrow\":false,\"text\":\"0.42\",\"x\":\"MonetDB-1-1\",\"xref\":\"x\",\"y\":\"Q2\",\"yref\":\"y\"},{\"font\":{\"color\":\"#000000\"},\"showarrow\":false,\"text\":\"17.5\",\"x\":\"PostgreSQL-2-1\",\"xref\":\"x\",\"y\":\"Q2\",\"yref\":\"y\"},{\"font\":{\"color\":\"#000000\"},\"showarrow\":false,\"text\":\"7.23\",\"x\":\"PostgreSQL-1-1\",\"xref\":\"x\",\"y\":\"Q2\",\"yref\":\"y\"},{\"font\":{\"color\":\"#000000\"},\"showarrow\":false,\"text\":\"13.17\",\"x\":\"MariaDB-2-1\",\"xref\":\"x\",\"y\":\"Q2\",\"yref\":\"y\"},{\"font\":{\"color\":\"#000000\"},\"showarrow\":false,\"text\":\"13.2\",\"x\":\"MariaDB-1-1\",\"xref\":\"x\",\"y\":\"Q2\",\"yref\":\"y\"},{\"font\":{\"color\":\"#000000\"},\"showarrow\":false,\"text\":\"1.58\",\"x\":\"MySQL-2-1\",\"xref\":\"x\",\"y\":\"Q2\",\"yref\":\"y\"},{\"font\":{\"color\":\"#000000\"},\"showarrow\":false,\"text\":\"1.79\",\"x\":\"MySQL-1-1\",\"xref\":\"x\",\"y\":\"Q2\",\"yref\":\"y\"},{\"font\":{\"color\":\"#000000\"},\"showarrow\":false,\"text\":\"0.29\",\"x\":\"MonetDB-2-1\",\"xref\":\"x\",\"y\":\"Q3\",\"yref\":\"y\"},{\"font\":{\"color\":\"#000000\"},\"showarrow\":false,\"text\":\"1.12\",\"x\":\"MonetDB-1-1\",\"xref\":\"x\",\"y\":\"Q3\",\"yref\":\"y\"},{\"font\":{\"color\":\"#000000\"},\"showarrow\":false,\"text\":\"19.75\",\"x\":\"PostgreSQL-2-1\",\"xref\":\"x\",\"y\":\"Q3\",\"yref\":\"y\"},{\"font\":{\"color\":\"#000000\"},\"showarrow\":false,\"text\":\"15.17\",\"x\":\"PostgreSQL-1-1\",\"xref\":\"x\",\"y\":\"Q3\",\"yref\":\"y\"},{\"font\":{\"color\":\"#000000\"},\"showarrow\":false,\"text\":\"56.0\",\"x\":\"MariaDB-2-1\",\"xref\":\"x\",\"y\":\"Q3\",\"yref\":\"y\"},{\"font\":{\"color\":\"#000000\"},\"showarrow\":false,\"text\":\"58.8\",\"x\":\"MariaDB-1-1\",\"xref\":\"x\",\"y\":\"Q3\",\"yref\":\"y\"},{\"font\":{\"color\":\"#000000\"},\"showarrow\":false,\"text\":\"60.33\",\"x\":\"MySQL-2-1\",\"xref\":\"x\",\"y\":\"Q3\",\"yref\":\"y\"},{\"font\":{\"color\":\"#000000\"},\"showarrow\":false,\"text\":\"60.65\",\"x\":\"MySQL-1-1\",\"xref\":\"x\",\"y\":\"Q3\",\"yref\":\"y\"},{\"font\":{\"color\":\"#000000\"},\"showarrow\":false,\"text\":\"0.16\",\"x\":\"MonetDB-2-1\",\"xref\":\"x\",\"y\":\"Q4\",\"yref\":\"y\"},{\"font\":{\"color\":\"#000000\"},\"showarrow\":false,\"text\":\"0.17\",\"x\":\"MonetDB-1-1\",\"xref\":\"x\",\"y\":\"Q4\",\"yref\":\"y\"},{\"font\":{\"color\":\"#000000\"},\"showarrow\":false,\"text\":\"3.66\",\"x\":\"PostgreSQL-2-1\",\"xref\":\"x\",\"y\":\"Q4\",\"yref\":\"y\"},{\"font\":{\"color\":\"#000000\"},\"showarrow\":false,\"text\":\"63.28\",\"x\":\"PostgreSQL-1-1\",\"xref\":\"x\",\"y\":\"Q4\",\"yref\":\"y\"},{\"font\":{\"color\":\"#000000\"},\"showarrow\":false,\"text\":\"10.7\",\"x\":\"MariaDB-2-1\",\"xref\":\"x\",\"y\":\"Q4\",\"yref\":\"y\"},{\"font\":{\"color\":\"#000000\"},\"showarrow\":false,\"text\":\"10.91\",\"x\":\"MariaDB-1-1\",\"xref\":\"x\",\"y\":\"Q4\",\"yref\":\"y\"},{\"font\":{\"color\":\"#000000\"},\"showarrow\":false,\"text\":\"10.23\",\"x\":\"MySQL-2-1\",\"xref\":\"x\",\"y\":\"Q4\",\"yref\":\"y\"},{\"font\":{\"color\":\"#000000\"},\"showarrow\":false,\"text\":\"10.35\",\"x\":\"MySQL-1-1\",\"xref\":\"x\",\"y\":\"Q4\",\"yref\":\"y\"},{\"font\":{\"color\":\"#000000\"},\"showarrow\":false,\"text\":\"0.38\",\"x\":\"MonetDB-2-1\",\"xref\":\"x\",\"y\":\"Q5\",\"yref\":\"y\"},{\"font\":{\"color\":\"#000000\"},\"showarrow\":false,\"text\":\"0.37\",\"x\":\"MonetDB-1-1\",\"xref\":\"x\",\"y\":\"Q5\",\"yref\":\"y\"},{\"font\":{\"color\":\"#000000\"},\"showarrow\":false,\"text\":\"6.89\",\"x\":\"PostgreSQL-2-1\",\"xref\":\"x\",\"y\":\"Q5\",\"yref\":\"y\"},{\"font\":{\"color\":\"#000000\"},\"showarrow\":false,\"text\":\"5.78\",\"x\":\"PostgreSQL-1-1\",\"xref\":\"x\",\"y\":\"Q5\",\"yref\":\"y\"},{\"font\":{\"color\":\"#000000\"},\"showarrow\":false,\"text\":\"41.96\",\"x\":\"MariaDB-2-1\",\"xref\":\"x\",\"y\":\"Q5\",\"yref\":\"y\"},{\"font\":{\"color\":\"#000000\"},\"showarrow\":false,\"text\":\"43.17\",\"x\":\"MariaDB-1-1\",\"xref\":\"x\",\"y\":\"Q5\",\"yref\":\"y\"},{\"font\":{\"color\":\"#000000\"},\"showarrow\":false,\"text\":\"40.19\",\"x\":\"MySQL-2-1\",\"xref\":\"x\",\"y\":\"Q5\",\"yref\":\"y\"},{\"font\":{\"color\":\"#000000\"},\"showarrow\":false,\"text\":\"44.85\",\"x\":\"MySQL-1-1\",\"xref\":\"x\",\"y\":\"Q5\",\"yref\":\"y\"},{\"font\":{\"color\":\"#000000\"},\"showarrow\":false,\"text\":\"0.13\",\"x\":\"MonetDB-2-1\",\"xref\":\"x\",\"y\":\"Q6\",\"yref\":\"y\"},{\"font\":{\"color\":\"#000000\"},\"showarrow\":false,\"text\":\"1.79\",\"x\":\"MonetDB-1-1\",\"xref\":\"x\",\"y\":\"Q6\",\"yref\":\"y\"},{\"font\":{\"color\":\"#000000\"},\"showarrow\":false,\"text\":\"2.89\",\"x\":\"PostgreSQL-2-1\",\"xref\":\"x\",\"y\":\"Q6\",\"yref\":\"y\"},{\"font\":{\"color\":\"#000000\"},\"showarrow\":false,\"text\":\"2.92\",\"x\":\"PostgreSQL-1-1\",\"xref\":\"x\",\"y\":\"Q6\",\"yref\":\"y\"},{\"font\":{\"color\":\"#000000\"},\"showarrow\":false,\"text\":\"19.29\",\"x\":\"MariaDB-2-1\",\"xref\":\"x\",\"y\":\"Q6\",\"yref\":\"y\"},{\"font\":{\"color\":\"#000000\"},\"showarrow\":false,\"text\":\"19.22\",\"x\":\"MariaDB-1-1\",\"xref\":\"x\",\"y\":\"Q6\",\"yref\":\"y\"},{\"font\":{\"color\":\"#000000\"},\"showarrow\":false,\"text\":\"24.03\",\"x\":\"MySQL-2-1\",\"xref\":\"x\",\"y\":\"Q6\",\"yref\":\"y\"},{\"font\":{\"color\":\"#000000\"},\"showarrow\":false,\"text\":\"24.07\",\"x\":\"MySQL-1-1\",\"xref\":\"x\",\"y\":\"Q6\",\"yref\":\"y\"},{\"font\":{\"color\":\"#000000\"},\"showarrow\":false,\"text\":\"3.05\",\"x\":\"MonetDB-2-1\",\"xref\":\"x\",\"y\":\"Q7\",\"yref\":\"y\"},{\"font\":{\"color\":\"#000000\"},\"showarrow\":false,\"text\":\"2.2\",\"x\":\"MonetDB-1-1\",\"xref\":\"x\",\"y\":\"Q7\",\"yref\":\"y\"},{\"font\":{\"color\":\"#000000\"},\"showarrow\":false,\"text\":\"13.55\",\"x\":\"PostgreSQL-2-1\",\"xref\":\"x\",\"y\":\"Q7\",\"yref\":\"y\"},{\"font\":{\"color\":\"#000000\"},\"showarrow\":false,\"text\":\"11.24\",\"x\":\"PostgreSQL-1-1\",\"xref\":\"x\",\"y\":\"Q7\",\"yref\":\"y\"},{\"font\":{\"color\":\"#000000\"},\"showarrow\":false,\"text\":\"33.58\",\"x\":\"MariaDB-2-1\",\"xref\":\"x\",\"y\":\"Q7\",\"yref\":\"y\"},{\"font\":{\"color\":\"#000000\"},\"showarrow\":false,\"text\":\"35.23\",\"x\":\"MariaDB-1-1\",\"xref\":\"x\",\"y\":\"Q7\",\"yref\":\"y\"},{\"font\":{\"color\":\"#000000\"},\"showarrow\":false,\"text\":\"24.2\",\"x\":\"MySQL-2-1\",\"xref\":\"x\",\"y\":\"Q7\",\"yref\":\"y\"},{\"font\":{\"color\":\"#000000\"},\"showarrow\":false,\"text\":\"27.26\",\"x\":\"MySQL-1-1\",\"xref\":\"x\",\"y\":\"Q7\",\"yref\":\"y\"},{\"font\":{\"color\":\"#000000\"},\"showarrow\":false,\"text\":\"3.15\",\"x\":\"MonetDB-2-1\",\"xref\":\"x\",\"y\":\"Q8\",\"yref\":\"y\"},{\"font\":{\"color\":\"#000000\"},\"showarrow\":false,\"text\":\"1.09\",\"x\":\"MonetDB-1-1\",\"xref\":\"x\",\"y\":\"Q8\",\"yref\":\"y\"},{\"font\":{\"color\":\"#000000\"},\"showarrow\":false,\"text\":\"13.34\",\"x\":\"PostgreSQL-2-1\",\"xref\":\"x\",\"y\":\"Q8\",\"yref\":\"y\"},{\"font\":{\"color\":\"#000000\"},\"showarrow\":false,\"text\":\"12.78\",\"x\":\"PostgreSQL-1-1\",\"xref\":\"x\",\"y\":\"Q8\",\"yref\":\"y\"},{\"font\":{\"color\":\"#000000\"},\"showarrow\":false,\"text\":\"73.31\",\"x\":\"MariaDB-2-1\",\"xref\":\"x\",\"y\":\"Q8\",\"yref\":\"y\"},{\"font\":{\"color\":\"#000000\"},\"showarrow\":false,\"text\":\"74.79\",\"x\":\"MariaDB-1-1\",\"xref\":\"x\",\"y\":\"Q8\",\"yref\":\"y\"},{\"font\":{\"color\":\"#000000\"},\"showarrow\":false,\"text\":\"106.57\",\"x\":\"MySQL-2-1\",\"xref\":\"x\",\"y\":\"Q8\",\"yref\":\"y\"},{\"font\":{\"color\":\"#000000\"},\"showarrow\":false,\"text\":\"117.48\",\"x\":\"MySQL-1-1\",\"xref\":\"x\",\"y\":\"Q8\",\"yref\":\"y\"},{\"font\":{\"color\":\"#000000\"},\"showarrow\":false,\"text\":\"3.96\",\"x\":\"MonetDB-2-1\",\"xref\":\"x\",\"y\":\"Q9\",\"yref\":\"y\"},{\"font\":{\"color\":\"#000000\"},\"showarrow\":false,\"text\":\"4.92\",\"x\":\"MonetDB-1-1\",\"xref\":\"x\",\"y\":\"Q9\",\"yref\":\"y\"},{\"font\":{\"color\":\"#000000\"},\"showarrow\":false,\"text\":\"42.59\",\"x\":\"PostgreSQL-2-1\",\"xref\":\"x\",\"y\":\"Q9\",\"yref\":\"y\"},{\"font\":{\"color\":\"#000000\"},\"showarrow\":false,\"text\":\"44.07\",\"x\":\"PostgreSQL-1-1\",\"xref\":\"x\",\"y\":\"Q9\",\"yref\":\"y\"},{\"font\":{\"color\":\"#000000\"},\"showarrow\":false,\"text\":\"139.19\",\"x\":\"MariaDB-2-1\",\"xref\":\"x\",\"y\":\"Q9\",\"yref\":\"y\"},{\"font\":{\"color\":\"#000000\"},\"showarrow\":false,\"text\":\"141.1\",\"x\":\"MariaDB-1-1\",\"xref\":\"x\",\"y\":\"Q9\",\"yref\":\"y\"},{\"font\":{\"color\":\"#000000\"},\"showarrow\":false,\"text\":\"112.49\",\"x\":\"MySQL-2-1\",\"xref\":\"x\",\"y\":\"Q9\",\"yref\":\"y\"},{\"font\":{\"color\":\"#000000\"},\"showarrow\":false,\"text\":\"124.49\",\"x\":\"MySQL-1-1\",\"xref\":\"x\",\"y\":\"Q9\",\"yref\":\"y\"},{\"font\":{\"color\":\"#000000\"},\"showarrow\":false,\"text\":\"0.8\",\"x\":\"MonetDB-2-1\",\"xref\":\"x\",\"y\":\"Q10\",\"yref\":\"y\"},{\"font\":{\"color\":\"#000000\"},\"showarrow\":false,\"text\":\"0.91\",\"x\":\"MonetDB-1-1\",\"xref\":\"x\",\"y\":\"Q10\",\"yref\":\"y\"},{\"font\":{\"color\":\"#000000\"},\"showarrow\":false,\"text\":\"16.73\",\"x\":\"PostgreSQL-2-1\",\"xref\":\"x\",\"y\":\"Q10\",\"yref\":\"y\"},{\"font\":{\"color\":\"#000000\"},\"showarrow\":false,\"text\":\"20.83\",\"x\":\"PostgreSQL-1-1\",\"xref\":\"x\",\"y\":\"Q10\",\"yref\":\"y\"},{\"font\":{\"color\":\"#000000\"},\"showarrow\":false,\"text\":\"142.09\",\"x\":\"MariaDB-2-1\",\"xref\":\"x\",\"y\":\"Q10\",\"yref\":\"y\"},{\"font\":{\"color\":\"#000000\"},\"showarrow\":false,\"text\":\"141.4\",\"x\":\"MariaDB-1-1\",\"xref\":\"x\",\"y\":\"Q10\",\"yref\":\"y\"},{\"font\":{\"color\":\"#000000\"},\"showarrow\":false,\"text\":\"20.75\",\"x\":\"MySQL-2-1\",\"xref\":\"x\",\"y\":\"Q10\",\"yref\":\"y\"},{\"font\":{\"color\":\"#000000\"},\"showarrow\":false,\"text\":\"20.99\",\"x\":\"MySQL-1-1\",\"xref\":\"x\",\"y\":\"Q10\",\"yref\":\"y\"},{\"font\":{\"color\":\"#000000\"},\"showarrow\":false,\"text\":\"0.42\",\"x\":\"MonetDB-2-1\",\"xref\":\"x\",\"y\":\"Q11\",\"yref\":\"y\"},{\"font\":{\"color\":\"#000000\"},\"showarrow\":false,\"text\":\"0.57\",\"x\":\"MonetDB-1-1\",\"xref\":\"x\",\"y\":\"Q11\",\"yref\":\"y\"},{\"font\":{\"color\":\"#000000\"},\"showarrow\":false,\"text\":\"2.17\",\"x\":\"PostgreSQL-2-1\",\"xref\":\"x\",\"y\":\"Q11\",\"yref\":\"y\"},{\"font\":{\"color\":\"#000000\"},\"showarrow\":false,\"text\":\"3.89\",\"x\":\"PostgreSQL-1-1\",\"xref\":\"x\",\"y\":\"Q11\",\"yref\":\"y\"},{\"font\":{\"color\":\"#000000\"},\"showarrow\":false,\"text\":\"4.29\",\"x\":\"MariaDB-2-1\",\"xref\":\"x\",\"y\":\"Q11\",\"yref\":\"y\"},{\"font\":{\"color\":\"#000000\"},\"showarrow\":false,\"text\":\"4.15\",\"x\":\"MariaDB-1-1\",\"xref\":\"x\",\"y\":\"Q11\",\"yref\":\"y\"},{\"font\":{\"color\":\"#000000\"},\"showarrow\":false,\"text\":\"5.7\",\"x\":\"MySQL-2-1\",\"xref\":\"x\",\"y\":\"Q11\",\"yref\":\"y\"},{\"font\":{\"color\":\"#000000\"},\"showarrow\":false,\"text\":\"5.66\",\"x\":\"MySQL-1-1\",\"xref\":\"x\",\"y\":\"Q11\",\"yref\":\"y\"},{\"font\":{\"color\":\"#000000\"},\"showarrow\":false,\"text\":\"0.19\",\"x\":\"MonetDB-2-1\",\"xref\":\"x\",\"y\":\"Q12\",\"yref\":\"y\"},{\"font\":{\"color\":\"#000000\"},\"showarrow\":false,\"text\":\"3.77\",\"x\":\"MonetDB-1-1\",\"xref\":\"x\",\"y\":\"Q12\",\"yref\":\"y\"},{\"font\":{\"color\":\"#000000\"},\"showarrow\":false,\"text\":\"7.17\",\"x\":\"PostgreSQL-2-1\",\"xref\":\"x\",\"y\":\"Q12\",\"yref\":\"y\"},{\"font\":{\"color\":\"#000000\"},\"showarrow\":false,\"text\":\"15.9\",\"x\":\"PostgreSQL-1-1\",\"xref\":\"x\",\"y\":\"Q12\",\"yref\":\"y\"},{\"font\":{\"color\":\"#000000\"},\"showarrow\":false,\"text\":\"128.81\",\"x\":\"MariaDB-2-1\",\"xref\":\"x\",\"y\":\"Q12\",\"yref\":\"y\"},{\"font\":{\"color\":\"#000000\"},\"showarrow\":false,\"text\":\"132.08\",\"x\":\"MariaDB-1-1\",\"xref\":\"x\",\"y\":\"Q12\",\"yref\":\"y\"},{\"font\":{\"color\":\"#000000\"},\"showarrow\":false,\"text\":\"34.27\",\"x\":\"MySQL-2-1\",\"xref\":\"x\",\"y\":\"Q12\",\"yref\":\"y\"},{\"font\":{\"color\":\"#000000\"},\"showarrow\":false,\"text\":\"34.56\",\"x\":\"MySQL-1-1\",\"xref\":\"x\",\"y\":\"Q12\",\"yref\":\"y\"},{\"font\":{\"color\":\"#000000\"},\"showarrow\":false,\"text\":\"3.18\",\"x\":\"MonetDB-2-1\",\"xref\":\"x\",\"y\":\"Q13\",\"yref\":\"y\"},{\"font\":{\"color\":\"#000000\"},\"showarrow\":false,\"text\":\"3.59\",\"x\":\"MonetDB-1-1\",\"xref\":\"x\",\"y\":\"Q13\",\"yref\":\"y\"},{\"font\":{\"color\":\"#000000\"},\"showarrow\":false,\"text\":\"7.77\",\"x\":\"PostgreSQL-2-1\",\"xref\":\"x\",\"y\":\"Q13\",\"yref\":\"y\"},{\"font\":{\"color\":\"#000000\"},\"showarrow\":false,\"text\":\"18.78\",\"x\":\"PostgreSQL-1-1\",\"xref\":\"x\",\"y\":\"Q13\",\"yref\":\"y\"},{\"font\":{\"color\":\"#000000\"},\"showarrow\":false,\"text\":\"115.45\",\"x\":\"MariaDB-2-1\",\"xref\":\"x\",\"y\":\"Q13\",\"yref\":\"y\"},{\"font\":{\"color\":\"#000000\"},\"showarrow\":false,\"text\":\"114.27\",\"x\":\"MariaDB-1-1\",\"xref\":\"x\",\"y\":\"Q13\",\"yref\":\"y\"},{\"font\":{\"color\":\"#000000\"},\"showarrow\":false,\"text\":\"160.75\",\"x\":\"MySQL-2-1\",\"xref\":\"x\",\"y\":\"Q13\",\"yref\":\"y\"},{\"font\":{\"color\":\"#000000\"},\"showarrow\":false,\"text\":\"161.98\",\"x\":\"MySQL-1-1\",\"xref\":\"x\",\"y\":\"Q13\",\"yref\":\"y\"},{\"font\":{\"color\":\"#000000\"},\"showarrow\":false,\"text\":\"0.14\",\"x\":\"MonetDB-2-1\",\"xref\":\"x\",\"y\":\"Q14\",\"yref\":\"y\"},{\"font\":{\"color\":\"#000000\"},\"showarrow\":false,\"text\":\"0.18\",\"x\":\"MonetDB-1-1\",\"xref\":\"x\",\"y\":\"Q14\",\"yref\":\"y\"},{\"font\":{\"color\":\"#000000\"},\"showarrow\":false,\"text\":\"3.26\",\"x\":\"PostgreSQL-2-1\",\"xref\":\"x\",\"y\":\"Q14\",\"yref\":\"y\"},{\"font\":{\"color\":\"#000000\"},\"showarrow\":false,\"text\":\"8.14\",\"x\":\"PostgreSQL-1-1\",\"xref\":\"x\",\"y\":\"Q14\",\"yref\":\"y\"},{\"font\":{\"color\":\"#FFFFFF\"},\"showarrow\":false,\"text\":\"497.1\",\"x\":\"MariaDB-2-1\",\"xref\":\"x\",\"y\":\"Q14\",\"yref\":\"y\"},{\"font\":{\"color\":\"#FFFFFF\"},\"showarrow\":false,\"text\":\"511.36\",\"x\":\"MariaDB-1-1\",\"xref\":\"x\",\"y\":\"Q14\",\"yref\":\"y\"},{\"font\":{\"color\":\"#000000\"},\"showarrow\":false,\"text\":\"29.36\",\"x\":\"MySQL-2-1\",\"xref\":\"x\",\"y\":\"Q14\",\"yref\":\"y\"},{\"font\":{\"color\":\"#000000\"},\"showarrow\":false,\"text\":\"29.7\",\"x\":\"MySQL-1-1\",\"xref\":\"x\",\"y\":\"Q14\",\"yref\":\"y\"},{\"font\":{\"color\":\"#000000\"},\"showarrow\":false,\"text\":\"0.28\",\"x\":\"MonetDB-2-1\",\"xref\":\"x\",\"y\":\"Q15\",\"yref\":\"y\"},{\"font\":{\"color\":\"#000000\"},\"showarrow\":false,\"text\":\"0.27\",\"x\":\"MonetDB-1-1\",\"xref\":\"x\",\"y\":\"Q15\",\"yref\":\"y\"},{\"font\":{\"color\":\"#000000\"},\"showarrow\":false,\"text\":\"7.96\",\"x\":\"PostgreSQL-2-1\",\"xref\":\"x\",\"y\":\"Q15\",\"yref\":\"y\"},{\"font\":{\"color\":\"#000000\"},\"showarrow\":false,\"text\":\"10.83\",\"x\":\"PostgreSQL-1-1\",\"xref\":\"x\",\"y\":\"Q15\",\"yref\":\"y\"},{\"font\":{\"color\":\"#000000\"},\"showarrow\":false,\"text\":\"38.99\",\"x\":\"MariaDB-2-1\",\"xref\":\"x\",\"y\":\"Q15\",\"yref\":\"y\"},{\"font\":{\"color\":\"#000000\"},\"showarrow\":false,\"text\":\"38.72\",\"x\":\"MariaDB-1-1\",\"xref\":\"x\",\"y\":\"Q15\",\"yref\":\"y\"},{\"font\":{\"color\":\"#000000\"},\"showarrow\":false,\"text\":\"52.65\",\"x\":\"MySQL-2-1\",\"xref\":\"x\",\"y\":\"Q15\",\"yref\":\"y\"},{\"font\":{\"color\":\"#000000\"},\"showarrow\":false,\"text\":\"53.02\",\"x\":\"MySQL-1-1\",\"xref\":\"x\",\"y\":\"Q15\",\"yref\":\"y\"},{\"font\":{\"color\":\"#000000\"},\"showarrow\":false,\"text\":\"1.86\",\"x\":\"MonetDB-2-1\",\"xref\":\"x\",\"y\":\"Q16\",\"yref\":\"y\"},{\"font\":{\"color\":\"#000000\"},\"showarrow\":false,\"text\":\"1.84\",\"x\":\"MonetDB-1-1\",\"xref\":\"x\",\"y\":\"Q16\",\"yref\":\"y\"},{\"font\":{\"color\":\"#000000\"},\"showarrow\":false,\"text\":\"6.41\",\"x\":\"PostgreSQL-2-1\",\"xref\":\"x\",\"y\":\"Q16\",\"yref\":\"y\"},{\"font\":{\"color\":\"#000000\"},\"showarrow\":false,\"text\":\"7.07\",\"x\":\"PostgreSQL-1-1\",\"xref\":\"x\",\"y\":\"Q16\",\"yref\":\"y\"},{\"font\":{\"color\":\"#000000\"},\"showarrow\":false,\"text\":\"4.96\",\"x\":\"MariaDB-2-1\",\"xref\":\"x\",\"y\":\"Q16\",\"yref\":\"y\"},{\"font\":{\"color\":\"#000000\"},\"showarrow\":false,\"text\":\"4.95\",\"x\":\"MariaDB-1-1\",\"xref\":\"x\",\"y\":\"Q16\",\"yref\":\"y\"},{\"font\":{\"color\":\"#000000\"},\"showarrow\":false,\"text\":\"5.99\",\"x\":\"MySQL-2-1\",\"xref\":\"x\",\"y\":\"Q16\",\"yref\":\"y\"},{\"font\":{\"color\":\"#000000\"},\"showarrow\":false,\"text\":\"5.85\",\"x\":\"MySQL-1-1\",\"xref\":\"x\",\"y\":\"Q16\",\"yref\":\"y\"},{\"font\":{\"color\":\"#000000\"},\"showarrow\":false,\"text\":\"2.36\",\"x\":\"MonetDB-2-1\",\"xref\":\"x\",\"y\":\"Q17\",\"yref\":\"y\"},{\"font\":{\"color\":\"#000000\"},\"showarrow\":false,\"text\":\"1.89\",\"x\":\"MonetDB-1-1\",\"xref\":\"x\",\"y\":\"Q17\",\"yref\":\"y\"},{\"font\":{\"color\":\"#000000\"},\"showarrow\":false,\"text\":\"13.52\",\"x\":\"PostgreSQL-2-1\",\"xref\":\"x\",\"y\":\"Q17\",\"yref\":\"y\"},{\"font\":{\"color\":\"#000000\"},\"showarrow\":false,\"text\":\"11.94\",\"x\":\"PostgreSQL-1-1\",\"xref\":\"x\",\"y\":\"Q17\",\"yref\":\"y\"},{\"font\":{\"color\":\"#000000\"},\"showarrow\":false,\"text\":\"1.25\",\"x\":\"MariaDB-2-1\",\"xref\":\"x\",\"y\":\"Q17\",\"yref\":\"y\"},{\"font\":{\"color\":\"#000000\"},\"showarrow\":false,\"text\":\"1.28\",\"x\":\"MariaDB-1-1\",\"xref\":\"x\",\"y\":\"Q17\",\"yref\":\"y\"},{\"font\":{\"color\":\"#000000\"},\"showarrow\":false,\"text\":\"12.45\",\"x\":\"MySQL-2-1\",\"xref\":\"x\",\"y\":\"Q17\",\"yref\":\"y\"},{\"font\":{\"color\":\"#000000\"},\"showarrow\":false,\"text\":\"13.07\",\"x\":\"MySQL-1-1\",\"xref\":\"x\",\"y\":\"Q17\",\"yref\":\"y\"},{\"font\":{\"color\":\"#000000\"},\"showarrow\":false,\"text\":\"0.49\",\"x\":\"MonetDB-2-1\",\"xref\":\"x\",\"y\":\"Q18\",\"yref\":\"y\"},{\"font\":{\"color\":\"#000000\"},\"showarrow\":false,\"text\":\"0.48\",\"x\":\"MonetDB-1-1\",\"xref\":\"x\",\"y\":\"Q18\",\"yref\":\"y\"},{\"font\":{\"color\":\"#000000\"},\"showarrow\":false,\"text\":\"29.49\",\"x\":\"PostgreSQL-2-1\",\"xref\":\"x\",\"y\":\"Q18\",\"yref\":\"y\"},{\"font\":{\"color\":\"#000000\"},\"showarrow\":false,\"text\":\"33.13\",\"x\":\"PostgreSQL-1-1\",\"xref\":\"x\",\"y\":\"Q18\",\"yref\":\"y\"},{\"font\":{\"color\":\"#000000\"},\"showarrow\":false,\"text\":\"129.2\",\"x\":\"MariaDB-2-1\",\"xref\":\"x\",\"y\":\"Q18\",\"yref\":\"y\"},{\"font\":{\"color\":\"#000000\"},\"showarrow\":false,\"text\":\"126.02\",\"x\":\"MariaDB-1-1\",\"xref\":\"x\",\"y\":\"Q18\",\"yref\":\"y\"},{\"font\":{\"color\":\"#000000\"},\"showarrow\":false,\"text\":\"30.44\",\"x\":\"MySQL-2-1\",\"xref\":\"x\",\"y\":\"Q18\",\"yref\":\"y\"},{\"font\":{\"color\":\"#000000\"},\"showarrow\":false,\"text\":\"30.79\",\"x\":\"MySQL-1-1\",\"xref\":\"x\",\"y\":\"Q18\",\"yref\":\"y\"},{\"font\":{\"color\":\"#000000\"},\"showarrow\":false,\"text\":\"0.25\",\"x\":\"MonetDB-2-1\",\"xref\":\"x\",\"y\":\"Q19\",\"yref\":\"y\"},{\"font\":{\"color\":\"#000000\"},\"showarrow\":false,\"text\":\"0.25\",\"x\":\"MonetDB-1-1\",\"xref\":\"x\",\"y\":\"Q19\",\"yref\":\"y\"},{\"font\":{\"color\":\"#000000\"},\"showarrow\":false,\"text\":\"0.49\",\"x\":\"PostgreSQL-2-1\",\"xref\":\"x\",\"y\":\"Q19\",\"yref\":\"y\"},{\"font\":{\"color\":\"#000000\"},\"showarrow\":false,\"text\":\"0.57\",\"x\":\"PostgreSQL-1-1\",\"xref\":\"x\",\"y\":\"Q19\",\"yref\":\"y\"},{\"font\":{\"color\":\"#000000\"},\"showarrow\":false,\"text\":\"2.34\",\"x\":\"MariaDB-2-1\",\"xref\":\"x\",\"y\":\"Q19\",\"yref\":\"y\"},{\"font\":{\"color\":\"#000000\"},\"showarrow\":false,\"text\":\"2.38\",\"x\":\"MariaDB-1-1\",\"xref\":\"x\",\"y\":\"Q19\",\"yref\":\"y\"},{\"font\":{\"color\":\"#000000\"},\"showarrow\":false,\"text\":\"3.35\",\"x\":\"MySQL-2-1\",\"xref\":\"x\",\"y\":\"Q19\",\"yref\":\"y\"},{\"font\":{\"color\":\"#000000\"},\"showarrow\":false,\"text\":\"3.42\",\"x\":\"MySQL-1-1\",\"xref\":\"x\",\"y\":\"Q19\",\"yref\":\"y\"},{\"font\":{\"color\":\"#000000\"},\"showarrow\":false,\"text\":\"0.23\",\"x\":\"MonetDB-2-1\",\"xref\":\"x\",\"y\":\"Q20\",\"yref\":\"y\"},{\"font\":{\"color\":\"#000000\"},\"showarrow\":false,\"text\":\"0.26\",\"x\":\"MonetDB-1-1\",\"xref\":\"x\",\"y\":\"Q20\",\"yref\":\"y\"},{\"font\":{\"color\":\"#000000\"},\"showarrow\":false,\"text\":\"9.46\",\"x\":\"PostgreSQL-2-1\",\"xref\":\"x\",\"y\":\"Q20\",\"yref\":\"y\"},{\"font\":{\"color\":\"#000000\"},\"showarrow\":false,\"text\":\"7.63\",\"x\":\"PostgreSQL-1-1\",\"xref\":\"x\",\"y\":\"Q20\",\"yref\":\"y\"},{\"font\":{\"color\":\"#000000\"},\"showarrow\":false,\"text\":\"20.67\",\"x\":\"MariaDB-2-1\",\"xref\":\"x\",\"y\":\"Q20\",\"yref\":\"y\"},{\"font\":{\"color\":\"#000000\"},\"showarrow\":false,\"text\":\"20.53\",\"x\":\"MariaDB-1-1\",\"xref\":\"x\",\"y\":\"Q20\",\"yref\":\"y\"},{\"font\":{\"color\":\"#000000\"},\"showarrow\":false,\"text\":\"9.97\",\"x\":\"MySQL-2-1\",\"xref\":\"x\",\"y\":\"Q20\",\"yref\":\"y\"},{\"font\":{\"color\":\"#000000\"},\"showarrow\":false,\"text\":\"10.18\",\"x\":\"MySQL-1-1\",\"xref\":\"x\",\"y\":\"Q20\",\"yref\":\"y\"},{\"font\":{\"color\":\"#000000\"},\"showarrow\":false,\"text\":\"70.92\",\"x\":\"MonetDB-2-1\",\"xref\":\"x\",\"y\":\"Q21\",\"yref\":\"y\"},{\"font\":{\"color\":\"#000000\"},\"showarrow\":false,\"text\":\"71.51\",\"x\":\"MonetDB-1-1\",\"xref\":\"x\",\"y\":\"Q21\",\"yref\":\"y\"},{\"font\":{\"color\":\"#000000\"},\"showarrow\":false,\"text\":\"6.8\",\"x\":\"PostgreSQL-2-1\",\"xref\":\"x\",\"y\":\"Q21\",\"yref\":\"y\"},{\"font\":{\"color\":\"#000000\"},\"showarrow\":false,\"text\":\"6.74\",\"x\":\"PostgreSQL-1-1\",\"xref\":\"x\",\"y\":\"Q21\",\"yref\":\"y\"},{\"font\":{\"color\":\"#000000\"},\"showarrow\":false,\"text\":\"245.99\",\"x\":\"MariaDB-2-1\",\"xref\":\"x\",\"y\":\"Q21\",\"yref\":\"y\"},{\"font\":{\"color\":\"#000000\"},\"showarrow\":false,\"text\":\"246.13\",\"x\":\"MariaDB-1-1\",\"xref\":\"x\",\"y\":\"Q21\",\"yref\":\"y\"},{\"font\":{\"color\":\"#000000\"},\"showarrow\":false,\"text\":\"78.55\",\"x\":\"MySQL-2-1\",\"xref\":\"x\",\"y\":\"Q21\",\"yref\":\"y\"},{\"font\":{\"color\":\"#000000\"},\"showarrow\":false,\"text\":\"81.24\",\"x\":\"MySQL-1-1\",\"xref\":\"x\",\"y\":\"Q21\",\"yref\":\"y\"},{\"font\":{\"color\":\"#000000\"},\"showarrow\":false,\"text\":\"0.97\",\"x\":\"MonetDB-2-1\",\"xref\":\"x\",\"y\":\"Q22\",\"yref\":\"y\"},{\"font\":{\"color\":\"#000000\"},\"showarrow\":false,\"text\":\"0.6\",\"x\":\"MonetDB-1-1\",\"xref\":\"x\",\"y\":\"Q22\",\"yref\":\"y\"},{\"font\":{\"color\":\"#000000\"},\"showarrow\":false,\"text\":\"0.74\",\"x\":\"PostgreSQL-2-1\",\"xref\":\"x\",\"y\":\"Q22\",\"yref\":\"y\"},{\"font\":{\"color\":\"#000000\"},\"showarrow\":false,\"text\":\"0.76\",\"x\":\"PostgreSQL-1-1\",\"xref\":\"x\",\"y\":\"Q22\",\"yref\":\"y\"},{\"font\":{\"color\":\"#000000\"},\"showarrow\":false,\"text\":\"1.84\",\"x\":\"MariaDB-2-1\",\"xref\":\"x\",\"y\":\"Q22\",\"yref\":\"y\"},{\"font\":{\"color\":\"#000000\"},\"showarrow\":false,\"text\":\"1.83\",\"x\":\"MariaDB-1-1\",\"xref\":\"x\",\"y\":\"Q22\",\"yref\":\"y\"},{\"font\":{\"color\":\"#000000\"},\"showarrow\":false,\"text\":\"2.34\",\"x\":\"MySQL-2-1\",\"xref\":\"x\",\"y\":\"Q22\",\"yref\":\"y\"},{\"font\":{\"color\":\"#000000\"},\"showarrow\":false,\"text\":\"2.37\",\"x\":\"MySQL-1-1\",\"xref\":\"x\",\"y\":\"Q22\",\"yref\":\"y\"}],\"template\":{\"data\":{\"bar\":[{\"error_x\":{\"color\":\"#2a3f5f\"},\"error_y\":{\"color\":\"#2a3f5f\"},\"marker\":{\"line\":{\"color\":\"#E5ECF6\",\"width\":0.5},\"pattern\":{\"fillmode\":\"overlay\",\"size\":10,\"solidity\":0.2}},\"type\":\"bar\"}],\"barpolar\":[{\"marker\":{\"line\":{\"color\":\"#E5ECF6\",\"width\":0.5},\"pattern\":{\"fillmode\":\"overlay\",\"size\":10,\"solidity\":0.2}},\"type\":\"barpolar\"}],\"carpet\":[{\"aaxis\":{\"endlinecolor\":\"#2a3f5f\",\"gridcolor\":\"white\",\"linecolor\":\"white\",\"minorgridcolor\":\"white\",\"startlinecolor\":\"#2a3f5f\"},\"baxis\":{\"endlinecolor\":\"#2a3f5f\",\"gridcolor\":\"white\",\"linecolor\":\"white\",\"minorgridcolor\":\"white\",\"startlinecolor\":\"#2a3f5f\"},\"type\":\"carpet\"}],\"choropleth\":[{\"colorbar\":{\"outlinewidth\":0,\"ticks\":\"\"},\"type\":\"choropleth\"}],\"contour\":[{\"colorbar\":{\"outlinewidth\":0,\"ticks\":\"\"},\"colorscale\":[[0.0,\"#0d0887\"],[0.1111111111111111,\"#46039f\"],[0.2222222222222222,\"#7201a8\"],[0.3333333333333333,\"#9c179e\"],[0.4444444444444444,\"#bd3786\"],[0.5555555555555556,\"#d8576b\"],[0.6666666666666666,\"#ed7953\"],[0.7777777777777778,\"#fb9f3a\"],[0.8888888888888888,\"#fdca26\"],[1.0,\"#f0f921\"]],\"type\":\"contour\"}],\"contourcarpet\":[{\"colorbar\":{\"outlinewidth\":0,\"ticks\":\"\"},\"type\":\"contourcarpet\"}],\"heatmap\":[{\"colorbar\":{\"outlinewidth\":0,\"ticks\":\"\"},\"colorscale\":[[0.0,\"#0d0887\"],[0.1111111111111111,\"#46039f\"],[0.2222222222222222,\"#7201a8\"],[0.3333333333333333,\"#9c179e\"],[0.4444444444444444,\"#bd3786\"],[0.5555555555555556,\"#d8576b\"],[0.6666666666666666,\"#ed7953\"],[0.7777777777777778,\"#fb9f3a\"],[0.8888888888888888,\"#fdca26\"],[1.0,\"#f0f921\"]],\"type\":\"heatmap\"}],\"heatmapgl\":[{\"colorbar\":{\"outlinewidth\":0,\"ticks\":\"\"},\"colorscale\":[[0.0,\"#0d0887\"],[0.1111111111111111,\"#46039f\"],[0.2222222222222222,\"#7201a8\"],[0.3333333333333333,\"#9c179e\"],[0.4444444444444444,\"#bd3786\"],[0.5555555555555556,\"#d8576b\"],[0.6666666666666666,\"#ed7953\"],[0.7777777777777778,\"#fb9f3a\"],[0.8888888888888888,\"#fdca26\"],[1.0,\"#f0f921\"]],\"type\":\"heatmapgl\"}],\"histogram\":[{\"marker\":{\"pattern\":{\"fillmode\":\"overlay\",\"size\":10,\"solidity\":0.2}},\"type\":\"histogram\"}],\"histogram2d\":[{\"colorbar\":{\"outlinewidth\":0,\"ticks\":\"\"},\"colorscale\":[[0.0,\"#0d0887\"],[0.1111111111111111,\"#46039f\"],[0.2222222222222222,\"#7201a8\"],[0.3333333333333333,\"#9c179e\"],[0.4444444444444444,\"#bd3786\"],[0.5555555555555556,\"#d8576b\"],[0.6666666666666666,\"#ed7953\"],[0.7777777777777778,\"#fb9f3a\"],[0.8888888888888888,\"#fdca26\"],[1.0,\"#f0f921\"]],\"type\":\"histogram2d\"}],\"histogram2dcontour\":[{\"colorbar\":{\"outlinewidth\":0,\"ticks\":\"\"},\"colorscale\":[[0.0,\"#0d0887\"],[0.1111111111111111,\"#46039f\"],[0.2222222222222222,\"#7201a8\"],[0.3333333333333333,\"#9c179e\"],[0.4444444444444444,\"#bd3786\"],[0.5555555555555556,\"#d8576b\"],[0.6666666666666666,\"#ed7953\"],[0.7777777777777778,\"#fb9f3a\"],[0.8888888888888888,\"#fdca26\"],[1.0,\"#f0f921\"]],\"type\":\"histogram2dcontour\"}],\"mesh3d\":[{\"colorbar\":{\"outlinewidth\":0,\"ticks\":\"\"},\"type\":\"mesh3d\"}],\"parcoords\":[{\"line\":{\"colorbar\":{\"outlinewidth\":0,\"ticks\":\"\"}},\"type\":\"parcoords\"}],\"pie\":[{\"automargin\":true,\"type\":\"pie\"}],\"scatter\":[{\"marker\":{\"colorbar\":{\"outlinewidth\":0,\"ticks\":\"\"}},\"type\":\"scatter\"}],\"scatter3d\":[{\"line\":{\"colorbar\":{\"outlinewidth\":0,\"ticks\":\"\"}},\"marker\":{\"colorbar\":{\"outlinewidth\":0,\"ticks\":\"\"}},\"type\":\"scatter3d\"}],\"scattercarpet\":[{\"marker\":{\"colorbar\":{\"outlinewidth\":0,\"ticks\":\"\"}},\"type\":\"scattercarpet\"}],\"scattergeo\":[{\"marker\":{\"colorbar\":{\"outlinewidth\":0,\"ticks\":\"\"}},\"type\":\"scattergeo\"}],\"scattergl\":[{\"marker\":{\"colorbar\":{\"outlinewidth\":0,\"ticks\":\"\"}},\"type\":\"scattergl\"}],\"scattermapbox\":[{\"marker\":{\"colorbar\":{\"outlinewidth\":0,\"ticks\":\"\"}},\"type\":\"scattermapbox\"}],\"scatterpolar\":[{\"marker\":{\"colorbar\":{\"outlinewidth\":0,\"ticks\":\"\"}},\"type\":\"scatterpolar\"}],\"scatterpolargl\":[{\"marker\":{\"colorbar\":{\"outlinewidth\":0,\"ticks\":\"\"}},\"type\":\"scatterpolargl\"}],\"scatterternary\":[{\"marker\":{\"colorbar\":{\"outlinewidth\":0,\"ticks\":\"\"}},\"type\":\"scatterternary\"}],\"surface\":[{\"colorbar\":{\"outlinewidth\":0,\"ticks\":\"\"},\"colorscale\":[[0.0,\"#0d0887\"],[0.1111111111111111,\"#46039f\"],[0.2222222222222222,\"#7201a8\"],[0.3333333333333333,\"#9c179e\"],[0.4444444444444444,\"#bd3786\"],[0.5555555555555556,\"#d8576b\"],[0.6666666666666666,\"#ed7953\"],[0.7777777777777778,\"#fb9f3a\"],[0.8888888888888888,\"#fdca26\"],[1.0,\"#f0f921\"]],\"type\":\"surface\"}],\"table\":[{\"cells\":{\"fill\":{\"color\":\"#EBF0F8\"},\"line\":{\"color\":\"white\"}},\"header\":{\"fill\":{\"color\":\"#C8D4E3\"},\"line\":{\"color\":\"white\"}},\"type\":\"table\"}]},\"layout\":{\"annotationdefaults\":{\"arrowcolor\":\"#2a3f5f\",\"arrowhead\":0,\"arrowwidth\":1},\"autotypenumbers\":\"strict\",\"coloraxis\":{\"colorbar\":{\"outlinewidth\":0,\"ticks\":\"\"}},\"colorscale\":{\"diverging\":[[0,\"#8e0152\"],[0.1,\"#c51b7d\"],[0.2,\"#de77ae\"],[0.3,\"#f1b6da\"],[0.4,\"#fde0ef\"],[0.5,\"#f7f7f7\"],[0.6,\"#e6f5d0\"],[0.7,\"#b8e186\"],[0.8,\"#7fbc41\"],[0.9,\"#4d9221\"],[1,\"#276419\"]],\"sequential\":[[0.0,\"#0d0887\"],[0.1111111111111111,\"#46039f\"],[0.2222222222222222,\"#7201a8\"],[0.3333333333333333,\"#9c179e\"],[0.4444444444444444,\"#bd3786\"],[0.5555555555555556,\"#d8576b\"],[0.6666666666666666,\"#ed7953\"],[0.7777777777777778,\"#fb9f3a\"],[0.8888888888888888,\"#fdca26\"],[1.0,\"#f0f921\"]],\"sequentialminus\":[[0.0,\"#0d0887\"],[0.1111111111111111,\"#46039f\"],[0.2222222222222222,\"#7201a8\"],[0.3333333333333333,\"#9c179e\"],[0.4444444444444444,\"#bd3786\"],[0.5555555555555556,\"#d8576b\"],[0.6666666666666666,\"#ed7953\"],[0.7777777777777778,\"#fb9f3a\"],[0.8888888888888888,\"#fdca26\"],[1.0,\"#f0f921\"]]},\"colorway\":[\"#636efa\",\"#EF553B\",\"#00cc96\",\"#ab63fa\",\"#FFA15A\",\"#19d3f3\",\"#FF6692\",\"#B6E880\",\"#FF97FF\",\"#FECB52\"],\"font\":{\"color\":\"#2a3f5f\"},\"geo\":{\"bgcolor\":\"white\",\"lakecolor\":\"white\",\"landcolor\":\"#E5ECF6\",\"showlakes\":true,\"showland\":true,\"subunitcolor\":\"white\"},\"hoverlabel\":{\"align\":\"left\"},\"hovermode\":\"closest\",\"mapbox\":{\"style\":\"light\"},\"paper_bgcolor\":\"white\",\"plot_bgcolor\":\"#E5ECF6\",\"polar\":{\"angularaxis\":{\"gridcolor\":\"white\",\"linecolor\":\"white\",\"ticks\":\"\"},\"bgcolor\":\"#E5ECF6\",\"radialaxis\":{\"gridcolor\":\"white\",\"linecolor\":\"white\",\"ticks\":\"\"}},\"scene\":{\"xaxis\":{\"backgroundcolor\":\"#E5ECF6\",\"gridcolor\":\"white\",\"gridwidth\":2,\"linecolor\":\"white\",\"showbackground\":true,\"ticks\":\"\",\"zerolinecolor\":\"white\"},\"yaxis\":{\"backgroundcolor\":\"#E5ECF6\",\"gridcolor\":\"white\",\"gridwidth\":2,\"linecolor\":\"white\",\"showbackground\":true,\"ticks\":\"\",\"zerolinecolor\":\"white\"},\"zaxis\":{\"backgroundcolor\":\"#E5ECF6\",\"gridcolor\":\"white\",\"gridwidth\":2,\"linecolor\":\"white\",\"showbackground\":true,\"ticks\":\"\",\"zerolinecolor\":\"white\"}},\"shapedefaults\":{\"line\":{\"color\":\"#2a3f5f\"}},\"ternary\":{\"aaxis\":{\"gridcolor\":\"white\",\"linecolor\":\"white\",\"ticks\":\"\"},\"baxis\":{\"gridcolor\":\"white\",\"linecolor\":\"white\",\"ticks\":\"\"},\"bgcolor\":\"#E5ECF6\",\"caxis\":{\"gridcolor\":\"white\",\"linecolor\":\"white\",\"ticks\":\"\"}},\"title\":{\"x\":0.05},\"xaxis\":{\"automargin\":true,\"gridcolor\":\"white\",\"linecolor\":\"white\",\"ticks\":\"\",\"title\":{\"standoff\":15},\"zerolinecolor\":\"white\",\"zerolinewidth\":2},\"yaxis\":{\"automargin\":true,\"gridcolor\":\"white\",\"linecolor\":\"white\",\"ticks\":\"\",\"title\":{\"standoff\":15},\"zerolinecolor\":\"white\",\"zerolinewidth\":2}}},\"title\":{\"text\":\"Timer Run - Mean per Query [s]\"},\"xaxis\":{\"dtick\":1,\"gridcolor\":\"rgb(0, 0, 0)\",\"side\":\"top\",\"ticks\":\"\",\"type\":\"category\"},\"yaxis\":{\"dtick\":1,\"ticks\":\"\",\"ticksuffix\":\"  \",\"type\":\"category\"}},                        {\"responsive\": true}                    ).then(function(){\n",
       "                            \n",
       "var gd = document.getElementById('21512e79-5f53-4f40-aace-aa8b974468cd');\n",
       "var x = new MutationObserver(function (mutations, observer) {{\n",
       "        var display = window.getComputedStyle(gd).display;\n",
       "        if (!display || display === 'none') {{\n",
       "            console.log([gd, 'removed!']);\n",
       "            Plotly.purge(gd);\n",
       "            observer.disconnect();\n",
       "        }}\n",
       "}});\n",
       "\n",
       "// Listen for the removal of the full notebook cells\n",
       "var notebookContainer = gd.closest('#notebook-container');\n",
       "if (notebookContainer) {{\n",
       "    x.observe(notebookContainer, {childList: true});\n",
       "}}\n",
       "\n",
       "// Listen for the clearing of the current output cell\n",
       "var outputEl = gd.closest('.output');\n",
       "if (outputEl) {{\n",
       "    x.observe(outputEl, {childList: true});\n",
       "}}\n",
       "\n",
       "                        })                };                });            </script>        </div>"
      ]
     },
     "metadata": {},
     "output_type": "display_data"
    }
   ],
   "source": [
    "df = (evaluate.get_aggregated_query_statistics(type='timer', name='run', query_aggregate='Mean').T/1000.0).round(2)\n",
    "#.sort_index(ascending=False)\n",
    "#df=df.T\n",
    "#df=df.round(2)\n",
    "\n",
    "fig1 = ff.create_annotated_heatmap(\n",
    "    x=list(df.columns),\n",
    "    y=list(df.index),\n",
    "    z=df.values.tolist(),\n",
    "    showscale=True,\n",
    "    colorscale='Reds',\n",
    "    xgap=1,\n",
    "    ygap=1,\n",
    "    )\n",
    "\n",
    "fig1.update_layout(title_text='Timer Run - Mean per Query [s]')\n",
    "fig1.layout.xaxis.type = 'category'\n",
    "fig1.layout.yaxis.type = 'category'\n",
    "\n",
    "fig1.show()"
   ]
  },
  {
   "cell_type": "code",
   "execution_count": 41,
   "id": "1f55882f",
   "metadata": {},
   "outputs": [
    {
     "data": {
      "application/vnd.plotly.v1+json": {
       "config": {
        "plotlyServerURL": "https://plot.ly"
       },
       "data": [
        {
         "colorscale": [
          [
           0,
           "rgb(255,245,240)"
          ],
          [
           0.125,
           "rgb(254,224,210)"
          ],
          [
           0.25,
           "rgb(252,187,161)"
          ],
          [
           0.375,
           "rgb(252,146,114)"
          ],
          [
           0.5,
           "rgb(251,106,74)"
          ],
          [
           0.625,
           "rgb(239,59,44)"
          ],
          [
           0.75,
           "rgb(203,24,29)"
          ],
          [
           0.875,
           "rgb(165,15,21)"
          ],
          [
           1,
           "rgb(103,0,13)"
          ]
         ],
         "reversescale": false,
         "showscale": true,
         "type": "heatmap",
         "x": [
          "MonetDB-2-1",
          "MonetDB-1-1",
          "PostgreSQL-2-1",
          "PostgreSQL-1-1",
          "MariaDB-2-1",
          "MariaDB-1-1",
          "MySQL-2-1",
          "MySQL-1-1"
         ],
         "xgap": 1,
         "y": [
          "Q1",
          "Q2",
          "Q3",
          "Q4",
          "Q5",
          "Q6",
          "Q7",
          "Q8",
          "Q9",
          "Q10",
          "Q11",
          "Q12",
          "Q13",
          "Q14",
          "Q15",
          "Q16",
          "Q17",
          "Q18",
          "Q19",
          "Q20",
          "Q21",
          "Q22"
         ],
         "ygap": 1,
         "z": [
          [
           0.21,
           1.44,
           0.12,
           0.09,
           0.33,
           2.86,
           0.39,
           0.41
          ],
          [
           0.03,
           0.07,
           0.99,
           0.06,
           0.12,
           0.12,
           0.01,
           0.03
          ],
          [
           0.02,
           1.19,
           0.63,
           2.29,
           0.71,
           0.93,
           0.18,
           0.16
          ],
          [
           0.01,
           0.02,
           0.29,
           85.97,
           0.06,
           0.06,
           0.11,
           0.1
          ],
          [
           0.1,
           0.07,
           0.75,
           2.05,
           0.11,
           0.23,
           0.08,
           0.16
          ],
          [
           0.01,
           2.34,
           0.02,
           0.02,
           0.17,
           0.2,
           0.1,
           0.11
          ],
          [
           0.85,
           0.31,
           0.54,
           1.17,
           0.12,
           0.14,
           1.46,
           1.59
          ],
          [
           0.81,
           0.05,
           1.47,
           1.38,
           0.52,
           0.42,
           0.2,
           0.07
          ],
          [
           1,
           4.66,
           0.19,
           1.2,
           0.3,
           0.88,
           1.91,
           1.16
          ],
          [
           0.01,
           0.1,
           1.69,
           0.9,
           0.18,
           0.23,
           0.02,
           0.04
          ],
          [
           0.04,
           0.04,
           0.03,
           0.59,
           0.03,
           0.03,
           0.05,
           0.02
          ],
          [
           0.01,
           5.03,
           0.21,
           2.46,
           0.08,
           0.05,
           0.24,
           0.25
          ],
          [
           0.21,
           0.44,
           0.43,
           0.5,
           0.32,
           0.37,
           0.66,
           0.61
          ],
          [
           0.01,
           0.05,
           0.03,
           1.52,
           1.05,
           0.78,
           0.39,
           0.44
          ],
          [
           0.01,
           0.01,
           0.04,
           2.92,
           0.3,
           0.19,
           0.2,
           0.44
          ],
          [
           0.06,
           0.06,
           0.03,
           0.22,
           0.04,
           0.06,
           0.07,
           0.05
          ],
          [
           0.13,
           0.46,
           0.21,
           0.02,
           0.02,
           0.01,
           0.44,
           0.77
          ],
          [
           0.01,
           0.02,
           1.77,
           1.95,
           0.18,
           0.1,
           0.11,
           0.05
          ],
          [
           0.01,
           0.01,
           0.02,
           0.15,
           0.03,
           0.04,
           0.04,
           0.06
          ],
          [
           0.01,
           0.02,
           0.1,
           0.05,
           0.07,
           0.07,
           0.03,
           0.04
          ],
          [
           0.91,
           2.08,
           0.08,
           0.02,
           0.1,
           0.25,
           0.45,
           0.59
          ],
          [
           0.14,
           0.07,
           0.04,
           0.04,
           0.02,
           0.01,
           0.03,
           0.05
          ]
         ]
        }
       ],
       "layout": {
        "annotations": [
         {
          "font": {
           "color": "#000000"
          },
          "showarrow": false,
          "text": "0.21",
          "x": "MonetDB-2-1",
          "xref": "x",
          "y": "Q1",
          "yref": "y"
         },
         {
          "font": {
           "color": "#000000"
          },
          "showarrow": false,
          "text": "1.44",
          "x": "MonetDB-1-1",
          "xref": "x",
          "y": "Q1",
          "yref": "y"
         },
         {
          "font": {
           "color": "#000000"
          },
          "showarrow": false,
          "text": "0.12",
          "x": "PostgreSQL-2-1",
          "xref": "x",
          "y": "Q1",
          "yref": "y"
         },
         {
          "font": {
           "color": "#000000"
          },
          "showarrow": false,
          "text": "0.09",
          "x": "PostgreSQL-1-1",
          "xref": "x",
          "y": "Q1",
          "yref": "y"
         },
         {
          "font": {
           "color": "#000000"
          },
          "showarrow": false,
          "text": "0.33",
          "x": "MariaDB-2-1",
          "xref": "x",
          "y": "Q1",
          "yref": "y"
         },
         {
          "font": {
           "color": "#000000"
          },
          "showarrow": false,
          "text": "2.86",
          "x": "MariaDB-1-1",
          "xref": "x",
          "y": "Q1",
          "yref": "y"
         },
         {
          "font": {
           "color": "#000000"
          },
          "showarrow": false,
          "text": "0.39",
          "x": "MySQL-2-1",
          "xref": "x",
          "y": "Q1",
          "yref": "y"
         },
         {
          "font": {
           "color": "#000000"
          },
          "showarrow": false,
          "text": "0.41",
          "x": "MySQL-1-1",
          "xref": "x",
          "y": "Q1",
          "yref": "y"
         },
         {
          "font": {
           "color": "#000000"
          },
          "showarrow": false,
          "text": "0.03",
          "x": "MonetDB-2-1",
          "xref": "x",
          "y": "Q2",
          "yref": "y"
         },
         {
          "font": {
           "color": "#000000"
          },
          "showarrow": false,
          "text": "0.07",
          "x": "MonetDB-1-1",
          "xref": "x",
          "y": "Q2",
          "yref": "y"
         },
         {
          "font": {
           "color": "#000000"
          },
          "showarrow": false,
          "text": "0.99",
          "x": "PostgreSQL-2-1",
          "xref": "x",
          "y": "Q2",
          "yref": "y"
         },
         {
          "font": {
           "color": "#000000"
          },
          "showarrow": false,
          "text": "0.06",
          "x": "PostgreSQL-1-1",
          "xref": "x",
          "y": "Q2",
          "yref": "y"
         },
         {
          "font": {
           "color": "#000000"
          },
          "showarrow": false,
          "text": "0.12",
          "x": "MariaDB-2-1",
          "xref": "x",
          "y": "Q2",
          "yref": "y"
         },
         {
          "font": {
           "color": "#000000"
          },
          "showarrow": false,
          "text": "0.12",
          "x": "MariaDB-1-1",
          "xref": "x",
          "y": "Q2",
          "yref": "y"
         },
         {
          "font": {
           "color": "#000000"
          },
          "showarrow": false,
          "text": "0.01",
          "x": "MySQL-2-1",
          "xref": "x",
          "y": "Q2",
          "yref": "y"
         },
         {
          "font": {
           "color": "#000000"
          },
          "showarrow": false,
          "text": "0.03",
          "x": "MySQL-1-1",
          "xref": "x",
          "y": "Q2",
          "yref": "y"
         },
         {
          "font": {
           "color": "#000000"
          },
          "showarrow": false,
          "text": "0.02",
          "x": "MonetDB-2-1",
          "xref": "x",
          "y": "Q3",
          "yref": "y"
         },
         {
          "font": {
           "color": "#000000"
          },
          "showarrow": false,
          "text": "1.19",
          "x": "MonetDB-1-1",
          "xref": "x",
          "y": "Q3",
          "yref": "y"
         },
         {
          "font": {
           "color": "#000000"
          },
          "showarrow": false,
          "text": "0.63",
          "x": "PostgreSQL-2-1",
          "xref": "x",
          "y": "Q3",
          "yref": "y"
         },
         {
          "font": {
           "color": "#000000"
          },
          "showarrow": false,
          "text": "2.29",
          "x": "PostgreSQL-1-1",
          "xref": "x",
          "y": "Q3",
          "yref": "y"
         },
         {
          "font": {
           "color": "#000000"
          },
          "showarrow": false,
          "text": "0.71",
          "x": "MariaDB-2-1",
          "xref": "x",
          "y": "Q3",
          "yref": "y"
         },
         {
          "font": {
           "color": "#000000"
          },
          "showarrow": false,
          "text": "0.93",
          "x": "MariaDB-1-1",
          "xref": "x",
          "y": "Q3",
          "yref": "y"
         },
         {
          "font": {
           "color": "#000000"
          },
          "showarrow": false,
          "text": "0.18",
          "x": "MySQL-2-1",
          "xref": "x",
          "y": "Q3",
          "yref": "y"
         },
         {
          "font": {
           "color": "#000000"
          },
          "showarrow": false,
          "text": "0.16",
          "x": "MySQL-1-1",
          "xref": "x",
          "y": "Q3",
          "yref": "y"
         },
         {
          "font": {
           "color": "#000000"
          },
          "showarrow": false,
          "text": "0.01",
          "x": "MonetDB-2-1",
          "xref": "x",
          "y": "Q4",
          "yref": "y"
         },
         {
          "font": {
           "color": "#000000"
          },
          "showarrow": false,
          "text": "0.02",
          "x": "MonetDB-1-1",
          "xref": "x",
          "y": "Q4",
          "yref": "y"
         },
         {
          "font": {
           "color": "#000000"
          },
          "showarrow": false,
          "text": "0.29",
          "x": "PostgreSQL-2-1",
          "xref": "x",
          "y": "Q4",
          "yref": "y"
         },
         {
          "font": {
           "color": "#FFFFFF"
          },
          "showarrow": false,
          "text": "85.97",
          "x": "PostgreSQL-1-1",
          "xref": "x",
          "y": "Q4",
          "yref": "y"
         },
         {
          "font": {
           "color": "#000000"
          },
          "showarrow": false,
          "text": "0.06",
          "x": "MariaDB-2-1",
          "xref": "x",
          "y": "Q4",
          "yref": "y"
         },
         {
          "font": {
           "color": "#000000"
          },
          "showarrow": false,
          "text": "0.06",
          "x": "MariaDB-1-1",
          "xref": "x",
          "y": "Q4",
          "yref": "y"
         },
         {
          "font": {
           "color": "#000000"
          },
          "showarrow": false,
          "text": "0.11",
          "x": "MySQL-2-1",
          "xref": "x",
          "y": "Q4",
          "yref": "y"
         },
         {
          "font": {
           "color": "#000000"
          },
          "showarrow": false,
          "text": "0.1",
          "x": "MySQL-1-1",
          "xref": "x",
          "y": "Q4",
          "yref": "y"
         },
         {
          "font": {
           "color": "#000000"
          },
          "showarrow": false,
          "text": "0.1",
          "x": "MonetDB-2-1",
          "xref": "x",
          "y": "Q5",
          "yref": "y"
         },
         {
          "font": {
           "color": "#000000"
          },
          "showarrow": false,
          "text": "0.07",
          "x": "MonetDB-1-1",
          "xref": "x",
          "y": "Q5",
          "yref": "y"
         },
         {
          "font": {
           "color": "#000000"
          },
          "showarrow": false,
          "text": "0.75",
          "x": "PostgreSQL-2-1",
          "xref": "x",
          "y": "Q5",
          "yref": "y"
         },
         {
          "font": {
           "color": "#000000"
          },
          "showarrow": false,
          "text": "2.05",
          "x": "PostgreSQL-1-1",
          "xref": "x",
          "y": "Q5",
          "yref": "y"
         },
         {
          "font": {
           "color": "#000000"
          },
          "showarrow": false,
          "text": "0.11",
          "x": "MariaDB-2-1",
          "xref": "x",
          "y": "Q5",
          "yref": "y"
         },
         {
          "font": {
           "color": "#000000"
          },
          "showarrow": false,
          "text": "0.23",
          "x": "MariaDB-1-1",
          "xref": "x",
          "y": "Q5",
          "yref": "y"
         },
         {
          "font": {
           "color": "#000000"
          },
          "showarrow": false,
          "text": "0.08",
          "x": "MySQL-2-1",
          "xref": "x",
          "y": "Q5",
          "yref": "y"
         },
         {
          "font": {
           "color": "#000000"
          },
          "showarrow": false,
          "text": "0.16",
          "x": "MySQL-1-1",
          "xref": "x",
          "y": "Q5",
          "yref": "y"
         },
         {
          "font": {
           "color": "#000000"
          },
          "showarrow": false,
          "text": "0.01",
          "x": "MonetDB-2-1",
          "xref": "x",
          "y": "Q6",
          "yref": "y"
         },
         {
          "font": {
           "color": "#000000"
          },
          "showarrow": false,
          "text": "2.34",
          "x": "MonetDB-1-1",
          "xref": "x",
          "y": "Q6",
          "yref": "y"
         },
         {
          "font": {
           "color": "#000000"
          },
          "showarrow": false,
          "text": "0.02",
          "x": "PostgreSQL-2-1",
          "xref": "x",
          "y": "Q6",
          "yref": "y"
         },
         {
          "font": {
           "color": "#000000"
          },
          "showarrow": false,
          "text": "0.02",
          "x": "PostgreSQL-1-1",
          "xref": "x",
          "y": "Q6",
          "yref": "y"
         },
         {
          "font": {
           "color": "#000000"
          },
          "showarrow": false,
          "text": "0.17",
          "x": "MariaDB-2-1",
          "xref": "x",
          "y": "Q6",
          "yref": "y"
         },
         {
          "font": {
           "color": "#000000"
          },
          "showarrow": false,
          "text": "0.2",
          "x": "MariaDB-1-1",
          "xref": "x",
          "y": "Q6",
          "yref": "y"
         },
         {
          "font": {
           "color": "#000000"
          },
          "showarrow": false,
          "text": "0.1",
          "x": "MySQL-2-1",
          "xref": "x",
          "y": "Q6",
          "yref": "y"
         },
         {
          "font": {
           "color": "#000000"
          },
          "showarrow": false,
          "text": "0.11",
          "x": "MySQL-1-1",
          "xref": "x",
          "y": "Q6",
          "yref": "y"
         },
         {
          "font": {
           "color": "#000000"
          },
          "showarrow": false,
          "text": "0.85",
          "x": "MonetDB-2-1",
          "xref": "x",
          "y": "Q7",
          "yref": "y"
         },
         {
          "font": {
           "color": "#000000"
          },
          "showarrow": false,
          "text": "0.31",
          "x": "MonetDB-1-1",
          "xref": "x",
          "y": "Q7",
          "yref": "y"
         },
         {
          "font": {
           "color": "#000000"
          },
          "showarrow": false,
          "text": "0.54",
          "x": "PostgreSQL-2-1",
          "xref": "x",
          "y": "Q7",
          "yref": "y"
         },
         {
          "font": {
           "color": "#000000"
          },
          "showarrow": false,
          "text": "1.17",
          "x": "PostgreSQL-1-1",
          "xref": "x",
          "y": "Q7",
          "yref": "y"
         },
         {
          "font": {
           "color": "#000000"
          },
          "showarrow": false,
          "text": "0.12",
          "x": "MariaDB-2-1",
          "xref": "x",
          "y": "Q7",
          "yref": "y"
         },
         {
          "font": {
           "color": "#000000"
          },
          "showarrow": false,
          "text": "0.14",
          "x": "MariaDB-1-1",
          "xref": "x",
          "y": "Q7",
          "yref": "y"
         },
         {
          "font": {
           "color": "#000000"
          },
          "showarrow": false,
          "text": "1.46",
          "x": "MySQL-2-1",
          "xref": "x",
          "y": "Q7",
          "yref": "y"
         },
         {
          "font": {
           "color": "#000000"
          },
          "showarrow": false,
          "text": "1.59",
          "x": "MySQL-1-1",
          "xref": "x",
          "y": "Q7",
          "yref": "y"
         },
         {
          "font": {
           "color": "#000000"
          },
          "showarrow": false,
          "text": "0.81",
          "x": "MonetDB-2-1",
          "xref": "x",
          "y": "Q8",
          "yref": "y"
         },
         {
          "font": {
           "color": "#000000"
          },
          "showarrow": false,
          "text": "0.05",
          "x": "MonetDB-1-1",
          "xref": "x",
          "y": "Q8",
          "yref": "y"
         },
         {
          "font": {
           "color": "#000000"
          },
          "showarrow": false,
          "text": "1.47",
          "x": "PostgreSQL-2-1",
          "xref": "x",
          "y": "Q8",
          "yref": "y"
         },
         {
          "font": {
           "color": "#000000"
          },
          "showarrow": false,
          "text": "1.38",
          "x": "PostgreSQL-1-1",
          "xref": "x",
          "y": "Q8",
          "yref": "y"
         },
         {
          "font": {
           "color": "#000000"
          },
          "showarrow": false,
          "text": "0.52",
          "x": "MariaDB-2-1",
          "xref": "x",
          "y": "Q8",
          "yref": "y"
         },
         {
          "font": {
           "color": "#000000"
          },
          "showarrow": false,
          "text": "0.42",
          "x": "MariaDB-1-1",
          "xref": "x",
          "y": "Q8",
          "yref": "y"
         },
         {
          "font": {
           "color": "#000000"
          },
          "showarrow": false,
          "text": "0.2",
          "x": "MySQL-2-1",
          "xref": "x",
          "y": "Q8",
          "yref": "y"
         },
         {
          "font": {
           "color": "#000000"
          },
          "showarrow": false,
          "text": "0.07",
          "x": "MySQL-1-1",
          "xref": "x",
          "y": "Q8",
          "yref": "y"
         },
         {
          "font": {
           "color": "#000000"
          },
          "showarrow": false,
          "text": "1.0",
          "x": "MonetDB-2-1",
          "xref": "x",
          "y": "Q9",
          "yref": "y"
         },
         {
          "font": {
           "color": "#000000"
          },
          "showarrow": false,
          "text": "4.66",
          "x": "MonetDB-1-1",
          "xref": "x",
          "y": "Q9",
          "yref": "y"
         },
         {
          "font": {
           "color": "#000000"
          },
          "showarrow": false,
          "text": "0.19",
          "x": "PostgreSQL-2-1",
          "xref": "x",
          "y": "Q9",
          "yref": "y"
         },
         {
          "font": {
           "color": "#000000"
          },
          "showarrow": false,
          "text": "1.2",
          "x": "PostgreSQL-1-1",
          "xref": "x",
          "y": "Q9",
          "yref": "y"
         },
         {
          "font": {
           "color": "#000000"
          },
          "showarrow": false,
          "text": "0.3",
          "x": "MariaDB-2-1",
          "xref": "x",
          "y": "Q9",
          "yref": "y"
         },
         {
          "font": {
           "color": "#000000"
          },
          "showarrow": false,
          "text": "0.88",
          "x": "MariaDB-1-1",
          "xref": "x",
          "y": "Q9",
          "yref": "y"
         },
         {
          "font": {
           "color": "#000000"
          },
          "showarrow": false,
          "text": "1.91",
          "x": "MySQL-2-1",
          "xref": "x",
          "y": "Q9",
          "yref": "y"
         },
         {
          "font": {
           "color": "#000000"
          },
          "showarrow": false,
          "text": "1.16",
          "x": "MySQL-1-1",
          "xref": "x",
          "y": "Q9",
          "yref": "y"
         },
         {
          "font": {
           "color": "#000000"
          },
          "showarrow": false,
          "text": "0.01",
          "x": "MonetDB-2-1",
          "xref": "x",
          "y": "Q10",
          "yref": "y"
         },
         {
          "font": {
           "color": "#000000"
          },
          "showarrow": false,
          "text": "0.1",
          "x": "MonetDB-1-1",
          "xref": "x",
          "y": "Q10",
          "yref": "y"
         },
         {
          "font": {
           "color": "#000000"
          },
          "showarrow": false,
          "text": "1.69",
          "x": "PostgreSQL-2-1",
          "xref": "x",
          "y": "Q10",
          "yref": "y"
         },
         {
          "font": {
           "color": "#000000"
          },
          "showarrow": false,
          "text": "0.9",
          "x": "PostgreSQL-1-1",
          "xref": "x",
          "y": "Q10",
          "yref": "y"
         },
         {
          "font": {
           "color": "#000000"
          },
          "showarrow": false,
          "text": "0.18",
          "x": "MariaDB-2-1",
          "xref": "x",
          "y": "Q10",
          "yref": "y"
         },
         {
          "font": {
           "color": "#000000"
          },
          "showarrow": false,
          "text": "0.23",
          "x": "MariaDB-1-1",
          "xref": "x",
          "y": "Q10",
          "yref": "y"
         },
         {
          "font": {
           "color": "#000000"
          },
          "showarrow": false,
          "text": "0.02",
          "x": "MySQL-2-1",
          "xref": "x",
          "y": "Q10",
          "yref": "y"
         },
         {
          "font": {
           "color": "#000000"
          },
          "showarrow": false,
          "text": "0.04",
          "x": "MySQL-1-1",
          "xref": "x",
          "y": "Q10",
          "yref": "y"
         },
         {
          "font": {
           "color": "#000000"
          },
          "showarrow": false,
          "text": "0.04",
          "x": "MonetDB-2-1",
          "xref": "x",
          "y": "Q11",
          "yref": "y"
         },
         {
          "font": {
           "color": "#000000"
          },
          "showarrow": false,
          "text": "0.04",
          "x": "MonetDB-1-1",
          "xref": "x",
          "y": "Q11",
          "yref": "y"
         },
         {
          "font": {
           "color": "#000000"
          },
          "showarrow": false,
          "text": "0.03",
          "x": "PostgreSQL-2-1",
          "xref": "x",
          "y": "Q11",
          "yref": "y"
         },
         {
          "font": {
           "color": "#000000"
          },
          "showarrow": false,
          "text": "0.59",
          "x": "PostgreSQL-1-1",
          "xref": "x",
          "y": "Q11",
          "yref": "y"
         },
         {
          "font": {
           "color": "#000000"
          },
          "showarrow": false,
          "text": "0.03",
          "x": "MariaDB-2-1",
          "xref": "x",
          "y": "Q11",
          "yref": "y"
         },
         {
          "font": {
           "color": "#000000"
          },
          "showarrow": false,
          "text": "0.03",
          "x": "MariaDB-1-1",
          "xref": "x",
          "y": "Q11",
          "yref": "y"
         },
         {
          "font": {
           "color": "#000000"
          },
          "showarrow": false,
          "text": "0.05",
          "x": "MySQL-2-1",
          "xref": "x",
          "y": "Q11",
          "yref": "y"
         },
         {
          "font": {
           "color": "#000000"
          },
          "showarrow": false,
          "text": "0.02",
          "x": "MySQL-1-1",
          "xref": "x",
          "y": "Q11",
          "yref": "y"
         },
         {
          "font": {
           "color": "#000000"
          },
          "showarrow": false,
          "text": "0.01",
          "x": "MonetDB-2-1",
          "xref": "x",
          "y": "Q12",
          "yref": "y"
         },
         {
          "font": {
           "color": "#000000"
          },
          "showarrow": false,
          "text": "5.03",
          "x": "MonetDB-1-1",
          "xref": "x",
          "y": "Q12",
          "yref": "y"
         },
         {
          "font": {
           "color": "#000000"
          },
          "showarrow": false,
          "text": "0.21",
          "x": "PostgreSQL-2-1",
          "xref": "x",
          "y": "Q12",
          "yref": "y"
         },
         {
          "font": {
           "color": "#000000"
          },
          "showarrow": false,
          "text": "2.46",
          "x": "PostgreSQL-1-1",
          "xref": "x",
          "y": "Q12",
          "yref": "y"
         },
         {
          "font": {
           "color": "#000000"
          },
          "showarrow": false,
          "text": "0.08",
          "x": "MariaDB-2-1",
          "xref": "x",
          "y": "Q12",
          "yref": "y"
         },
         {
          "font": {
           "color": "#000000"
          },
          "showarrow": false,
          "text": "0.05",
          "x": "MariaDB-1-1",
          "xref": "x",
          "y": "Q12",
          "yref": "y"
         },
         {
          "font": {
           "color": "#000000"
          },
          "showarrow": false,
          "text": "0.24",
          "x": "MySQL-2-1",
          "xref": "x",
          "y": "Q12",
          "yref": "y"
         },
         {
          "font": {
           "color": "#000000"
          },
          "showarrow": false,
          "text": "0.25",
          "x": "MySQL-1-1",
          "xref": "x",
          "y": "Q12",
          "yref": "y"
         },
         {
          "font": {
           "color": "#000000"
          },
          "showarrow": false,
          "text": "0.21",
          "x": "MonetDB-2-1",
          "xref": "x",
          "y": "Q13",
          "yref": "y"
         },
         {
          "font": {
           "color": "#000000"
          },
          "showarrow": false,
          "text": "0.44",
          "x": "MonetDB-1-1",
          "xref": "x",
          "y": "Q13",
          "yref": "y"
         },
         {
          "font": {
           "color": "#000000"
          },
          "showarrow": false,
          "text": "0.43",
          "x": "PostgreSQL-2-1",
          "xref": "x",
          "y": "Q13",
          "yref": "y"
         },
         {
          "font": {
           "color": "#000000"
          },
          "showarrow": false,
          "text": "0.5",
          "x": "PostgreSQL-1-1",
          "xref": "x",
          "y": "Q13",
          "yref": "y"
         },
         {
          "font": {
           "color": "#000000"
          },
          "showarrow": false,
          "text": "0.32",
          "x": "MariaDB-2-1",
          "xref": "x",
          "y": "Q13",
          "yref": "y"
         },
         {
          "font": {
           "color": "#000000"
          },
          "showarrow": false,
          "text": "0.37",
          "x": "MariaDB-1-1",
          "xref": "x",
          "y": "Q13",
          "yref": "y"
         },
         {
          "font": {
           "color": "#000000"
          },
          "showarrow": false,
          "text": "0.66",
          "x": "MySQL-2-1",
          "xref": "x",
          "y": "Q13",
          "yref": "y"
         },
         {
          "font": {
           "color": "#000000"
          },
          "showarrow": false,
          "text": "0.61",
          "x": "MySQL-1-1",
          "xref": "x",
          "y": "Q13",
          "yref": "y"
         },
         {
          "font": {
           "color": "#000000"
          },
          "showarrow": false,
          "text": "0.01",
          "x": "MonetDB-2-1",
          "xref": "x",
          "y": "Q14",
          "yref": "y"
         },
         {
          "font": {
           "color": "#000000"
          },
          "showarrow": false,
          "text": "0.05",
          "x": "MonetDB-1-1",
          "xref": "x",
          "y": "Q14",
          "yref": "y"
         },
         {
          "font": {
           "color": "#000000"
          },
          "showarrow": false,
          "text": "0.03",
          "x": "PostgreSQL-2-1",
          "xref": "x",
          "y": "Q14",
          "yref": "y"
         },
         {
          "font": {
           "color": "#000000"
          },
          "showarrow": false,
          "text": "1.52",
          "x": "PostgreSQL-1-1",
          "xref": "x",
          "y": "Q14",
          "yref": "y"
         },
         {
          "font": {
           "color": "#000000"
          },
          "showarrow": false,
          "text": "1.05",
          "x": "MariaDB-2-1",
          "xref": "x",
          "y": "Q14",
          "yref": "y"
         },
         {
          "font": {
           "color": "#000000"
          },
          "showarrow": false,
          "text": "0.78",
          "x": "MariaDB-1-1",
          "xref": "x",
          "y": "Q14",
          "yref": "y"
         },
         {
          "font": {
           "color": "#000000"
          },
          "showarrow": false,
          "text": "0.39",
          "x": "MySQL-2-1",
          "xref": "x",
          "y": "Q14",
          "yref": "y"
         },
         {
          "font": {
           "color": "#000000"
          },
          "showarrow": false,
          "text": "0.44",
          "x": "MySQL-1-1",
          "xref": "x",
          "y": "Q14",
          "yref": "y"
         },
         {
          "font": {
           "color": "#000000"
          },
          "showarrow": false,
          "text": "0.01",
          "x": "MonetDB-2-1",
          "xref": "x",
          "y": "Q15",
          "yref": "y"
         },
         {
          "font": {
           "color": "#000000"
          },
          "showarrow": false,
          "text": "0.01",
          "x": "MonetDB-1-1",
          "xref": "x",
          "y": "Q15",
          "yref": "y"
         },
         {
          "font": {
           "color": "#000000"
          },
          "showarrow": false,
          "text": "0.04",
          "x": "PostgreSQL-2-1",
          "xref": "x",
          "y": "Q15",
          "yref": "y"
         },
         {
          "font": {
           "color": "#000000"
          },
          "showarrow": false,
          "text": "2.92",
          "x": "PostgreSQL-1-1",
          "xref": "x",
          "y": "Q15",
          "yref": "y"
         },
         {
          "font": {
           "color": "#000000"
          },
          "showarrow": false,
          "text": "0.3",
          "x": "MariaDB-2-1",
          "xref": "x",
          "y": "Q15",
          "yref": "y"
         },
         {
          "font": {
           "color": "#000000"
          },
          "showarrow": false,
          "text": "0.19",
          "x": "MariaDB-1-1",
          "xref": "x",
          "y": "Q15",
          "yref": "y"
         },
         {
          "font": {
           "color": "#000000"
          },
          "showarrow": false,
          "text": "0.2",
          "x": "MySQL-2-1",
          "xref": "x",
          "y": "Q15",
          "yref": "y"
         },
         {
          "font": {
           "color": "#000000"
          },
          "showarrow": false,
          "text": "0.44",
          "x": "MySQL-1-1",
          "xref": "x",
          "y": "Q15",
          "yref": "y"
         },
         {
          "font": {
           "color": "#000000"
          },
          "showarrow": false,
          "text": "0.06",
          "x": "MonetDB-2-1",
          "xref": "x",
          "y": "Q16",
          "yref": "y"
         },
         {
          "font": {
           "color": "#000000"
          },
          "showarrow": false,
          "text": "0.06",
          "x": "MonetDB-1-1",
          "xref": "x",
          "y": "Q16",
          "yref": "y"
         },
         {
          "font": {
           "color": "#000000"
          },
          "showarrow": false,
          "text": "0.03",
          "x": "PostgreSQL-2-1",
          "xref": "x",
          "y": "Q16",
          "yref": "y"
         },
         {
          "font": {
           "color": "#000000"
          },
          "showarrow": false,
          "text": "0.22",
          "x": "PostgreSQL-1-1",
          "xref": "x",
          "y": "Q16",
          "yref": "y"
         },
         {
          "font": {
           "color": "#000000"
          },
          "showarrow": false,
          "text": "0.04",
          "x": "MariaDB-2-1",
          "xref": "x",
          "y": "Q16",
          "yref": "y"
         },
         {
          "font": {
           "color": "#000000"
          },
          "showarrow": false,
          "text": "0.06",
          "x": "MariaDB-1-1",
          "xref": "x",
          "y": "Q16",
          "yref": "y"
         },
         {
          "font": {
           "color": "#000000"
          },
          "showarrow": false,
          "text": "0.07",
          "x": "MySQL-2-1",
          "xref": "x",
          "y": "Q16",
          "yref": "y"
         },
         {
          "font": {
           "color": "#000000"
          },
          "showarrow": false,
          "text": "0.05",
          "x": "MySQL-1-1",
          "xref": "x",
          "y": "Q16",
          "yref": "y"
         },
         {
          "font": {
           "color": "#000000"
          },
          "showarrow": false,
          "text": "0.13",
          "x": "MonetDB-2-1",
          "xref": "x",
          "y": "Q17",
          "yref": "y"
         },
         {
          "font": {
           "color": "#000000"
          },
          "showarrow": false,
          "text": "0.46",
          "x": "MonetDB-1-1",
          "xref": "x",
          "y": "Q17",
          "yref": "y"
         },
         {
          "font": {
           "color": "#000000"
          },
          "showarrow": false,
          "text": "0.21",
          "x": "PostgreSQL-2-1",
          "xref": "x",
          "y": "Q17",
          "yref": "y"
         },
         {
          "font": {
           "color": "#000000"
          },
          "showarrow": false,
          "text": "0.02",
          "x": "PostgreSQL-1-1",
          "xref": "x",
          "y": "Q17",
          "yref": "y"
         },
         {
          "font": {
           "color": "#000000"
          },
          "showarrow": false,
          "text": "0.02",
          "x": "MariaDB-2-1",
          "xref": "x",
          "y": "Q17",
          "yref": "y"
         },
         {
          "font": {
           "color": "#000000"
          },
          "showarrow": false,
          "text": "0.01",
          "x": "MariaDB-1-1",
          "xref": "x",
          "y": "Q17",
          "yref": "y"
         },
         {
          "font": {
           "color": "#000000"
          },
          "showarrow": false,
          "text": "0.44",
          "x": "MySQL-2-1",
          "xref": "x",
          "y": "Q17",
          "yref": "y"
         },
         {
          "font": {
           "color": "#000000"
          },
          "showarrow": false,
          "text": "0.77",
          "x": "MySQL-1-1",
          "xref": "x",
          "y": "Q17",
          "yref": "y"
         },
         {
          "font": {
           "color": "#000000"
          },
          "showarrow": false,
          "text": "0.01",
          "x": "MonetDB-2-1",
          "xref": "x",
          "y": "Q18",
          "yref": "y"
         },
         {
          "font": {
           "color": "#000000"
          },
          "showarrow": false,
          "text": "0.02",
          "x": "MonetDB-1-1",
          "xref": "x",
          "y": "Q18",
          "yref": "y"
         },
         {
          "font": {
           "color": "#000000"
          },
          "showarrow": false,
          "text": "1.77",
          "x": "PostgreSQL-2-1",
          "xref": "x",
          "y": "Q18",
          "yref": "y"
         },
         {
          "font": {
           "color": "#000000"
          },
          "showarrow": false,
          "text": "1.95",
          "x": "PostgreSQL-1-1",
          "xref": "x",
          "y": "Q18",
          "yref": "y"
         },
         {
          "font": {
           "color": "#000000"
          },
          "showarrow": false,
          "text": "0.18",
          "x": "MariaDB-2-1",
          "xref": "x",
          "y": "Q18",
          "yref": "y"
         },
         {
          "font": {
           "color": "#000000"
          },
          "showarrow": false,
          "text": "0.1",
          "x": "MariaDB-1-1",
          "xref": "x",
          "y": "Q18",
          "yref": "y"
         },
         {
          "font": {
           "color": "#000000"
          },
          "showarrow": false,
          "text": "0.11",
          "x": "MySQL-2-1",
          "xref": "x",
          "y": "Q18",
          "yref": "y"
         },
         {
          "font": {
           "color": "#000000"
          },
          "showarrow": false,
          "text": "0.05",
          "x": "MySQL-1-1",
          "xref": "x",
          "y": "Q18",
          "yref": "y"
         },
         {
          "font": {
           "color": "#000000"
          },
          "showarrow": false,
          "text": "0.01",
          "x": "MonetDB-2-1",
          "xref": "x",
          "y": "Q19",
          "yref": "y"
         },
         {
          "font": {
           "color": "#000000"
          },
          "showarrow": false,
          "text": "0.01",
          "x": "MonetDB-1-1",
          "xref": "x",
          "y": "Q19",
          "yref": "y"
         },
         {
          "font": {
           "color": "#000000"
          },
          "showarrow": false,
          "text": "0.02",
          "x": "PostgreSQL-2-1",
          "xref": "x",
          "y": "Q19",
          "yref": "y"
         },
         {
          "font": {
           "color": "#000000"
          },
          "showarrow": false,
          "text": "0.15",
          "x": "PostgreSQL-1-1",
          "xref": "x",
          "y": "Q19",
          "yref": "y"
         },
         {
          "font": {
           "color": "#000000"
          },
          "showarrow": false,
          "text": "0.03",
          "x": "MariaDB-2-1",
          "xref": "x",
          "y": "Q19",
          "yref": "y"
         },
         {
          "font": {
           "color": "#000000"
          },
          "showarrow": false,
          "text": "0.04",
          "x": "MariaDB-1-1",
          "xref": "x",
          "y": "Q19",
          "yref": "y"
         },
         {
          "font": {
           "color": "#000000"
          },
          "showarrow": false,
          "text": "0.04",
          "x": "MySQL-2-1",
          "xref": "x",
          "y": "Q19",
          "yref": "y"
         },
         {
          "font": {
           "color": "#000000"
          },
          "showarrow": false,
          "text": "0.06",
          "x": "MySQL-1-1",
          "xref": "x",
          "y": "Q19",
          "yref": "y"
         },
         {
          "font": {
           "color": "#000000"
          },
          "showarrow": false,
          "text": "0.01",
          "x": "MonetDB-2-1",
          "xref": "x",
          "y": "Q20",
          "yref": "y"
         },
         {
          "font": {
           "color": "#000000"
          },
          "showarrow": false,
          "text": "0.02",
          "x": "MonetDB-1-1",
          "xref": "x",
          "y": "Q20",
          "yref": "y"
         },
         {
          "font": {
           "color": "#000000"
          },
          "showarrow": false,
          "text": "0.1",
          "x": "PostgreSQL-2-1",
          "xref": "x",
          "y": "Q20",
          "yref": "y"
         },
         {
          "font": {
           "color": "#000000"
          },
          "showarrow": false,
          "text": "0.05",
          "x": "PostgreSQL-1-1",
          "xref": "x",
          "y": "Q20",
          "yref": "y"
         },
         {
          "font": {
           "color": "#000000"
          },
          "showarrow": false,
          "text": "0.07",
          "x": "MariaDB-2-1",
          "xref": "x",
          "y": "Q20",
          "yref": "y"
         },
         {
          "font": {
           "color": "#000000"
          },
          "showarrow": false,
          "text": "0.07",
          "x": "MariaDB-1-1",
          "xref": "x",
          "y": "Q20",
          "yref": "y"
         },
         {
          "font": {
           "color": "#000000"
          },
          "showarrow": false,
          "text": "0.03",
          "x": "MySQL-2-1",
          "xref": "x",
          "y": "Q20",
          "yref": "y"
         },
         {
          "font": {
           "color": "#000000"
          },
          "showarrow": false,
          "text": "0.04",
          "x": "MySQL-1-1",
          "xref": "x",
          "y": "Q20",
          "yref": "y"
         },
         {
          "font": {
           "color": "#000000"
          },
          "showarrow": false,
          "text": "0.91",
          "x": "MonetDB-2-1",
          "xref": "x",
          "y": "Q21",
          "yref": "y"
         },
         {
          "font": {
           "color": "#000000"
          },
          "showarrow": false,
          "text": "2.08",
          "x": "MonetDB-1-1",
          "xref": "x",
          "y": "Q21",
          "yref": "y"
         },
         {
          "font": {
           "color": "#000000"
          },
          "showarrow": false,
          "text": "0.08",
          "x": "PostgreSQL-2-1",
          "xref": "x",
          "y": "Q21",
          "yref": "y"
         },
         {
          "font": {
           "color": "#000000"
          },
          "showarrow": false,
          "text": "0.02",
          "x": "PostgreSQL-1-1",
          "xref": "x",
          "y": "Q21",
          "yref": "y"
         },
         {
          "font": {
           "color": "#000000"
          },
          "showarrow": false,
          "text": "0.1",
          "x": "MariaDB-2-1",
          "xref": "x",
          "y": "Q21",
          "yref": "y"
         },
         {
          "font": {
           "color": "#000000"
          },
          "showarrow": false,
          "text": "0.25",
          "x": "MariaDB-1-1",
          "xref": "x",
          "y": "Q21",
          "yref": "y"
         },
         {
          "font": {
           "color": "#000000"
          },
          "showarrow": false,
          "text": "0.45",
          "x": "MySQL-2-1",
          "xref": "x",
          "y": "Q21",
          "yref": "y"
         },
         {
          "font": {
           "color": "#000000"
          },
          "showarrow": false,
          "text": "0.59",
          "x": "MySQL-1-1",
          "xref": "x",
          "y": "Q21",
          "yref": "y"
         },
         {
          "font": {
           "color": "#000000"
          },
          "showarrow": false,
          "text": "0.14",
          "x": "MonetDB-2-1",
          "xref": "x",
          "y": "Q22",
          "yref": "y"
         },
         {
          "font": {
           "color": "#000000"
          },
          "showarrow": false,
          "text": "0.07",
          "x": "MonetDB-1-1",
          "xref": "x",
          "y": "Q22",
          "yref": "y"
         },
         {
          "font": {
           "color": "#000000"
          },
          "showarrow": false,
          "text": "0.04",
          "x": "PostgreSQL-2-1",
          "xref": "x",
          "y": "Q22",
          "yref": "y"
         },
         {
          "font": {
           "color": "#000000"
          },
          "showarrow": false,
          "text": "0.04",
          "x": "PostgreSQL-1-1",
          "xref": "x",
          "y": "Q22",
          "yref": "y"
         },
         {
          "font": {
           "color": "#000000"
          },
          "showarrow": false,
          "text": "0.02",
          "x": "MariaDB-2-1",
          "xref": "x",
          "y": "Q22",
          "yref": "y"
         },
         {
          "font": {
           "color": "#000000"
          },
          "showarrow": false,
          "text": "0.01",
          "x": "MariaDB-1-1",
          "xref": "x",
          "y": "Q22",
          "yref": "y"
         },
         {
          "font": {
           "color": "#000000"
          },
          "showarrow": false,
          "text": "0.03",
          "x": "MySQL-2-1",
          "xref": "x",
          "y": "Q22",
          "yref": "y"
         },
         {
          "font": {
           "color": "#000000"
          },
          "showarrow": false,
          "text": "0.05",
          "x": "MySQL-1-1",
          "xref": "x",
          "y": "Q22",
          "yref": "y"
         }
        ],
        "template": {
         "data": {
          "bar": [
           {
            "error_x": {
             "color": "#2a3f5f"
            },
            "error_y": {
             "color": "#2a3f5f"
            },
            "marker": {
             "line": {
              "color": "#E5ECF6",
              "width": 0.5
             },
             "pattern": {
              "fillmode": "overlay",
              "size": 10,
              "solidity": 0.2
             }
            },
            "type": "bar"
           }
          ],
          "barpolar": [
           {
            "marker": {
             "line": {
              "color": "#E5ECF6",
              "width": 0.5
             },
             "pattern": {
              "fillmode": "overlay",
              "size": 10,
              "solidity": 0.2
             }
            },
            "type": "barpolar"
           }
          ],
          "carpet": [
           {
            "aaxis": {
             "endlinecolor": "#2a3f5f",
             "gridcolor": "white",
             "linecolor": "white",
             "minorgridcolor": "white",
             "startlinecolor": "#2a3f5f"
            },
            "baxis": {
             "endlinecolor": "#2a3f5f",
             "gridcolor": "white",
             "linecolor": "white",
             "minorgridcolor": "white",
             "startlinecolor": "#2a3f5f"
            },
            "type": "carpet"
           }
          ],
          "choropleth": [
           {
            "colorbar": {
             "outlinewidth": 0,
             "ticks": ""
            },
            "type": "choropleth"
           }
          ],
          "contour": [
           {
            "colorbar": {
             "outlinewidth": 0,
             "ticks": ""
            },
            "colorscale": [
             [
              0,
              "#0d0887"
             ],
             [
              0.1111111111111111,
              "#46039f"
             ],
             [
              0.2222222222222222,
              "#7201a8"
             ],
             [
              0.3333333333333333,
              "#9c179e"
             ],
             [
              0.4444444444444444,
              "#bd3786"
             ],
             [
              0.5555555555555556,
              "#d8576b"
             ],
             [
              0.6666666666666666,
              "#ed7953"
             ],
             [
              0.7777777777777778,
              "#fb9f3a"
             ],
             [
              0.8888888888888888,
              "#fdca26"
             ],
             [
              1,
              "#f0f921"
             ]
            ],
            "type": "contour"
           }
          ],
          "contourcarpet": [
           {
            "colorbar": {
             "outlinewidth": 0,
             "ticks": ""
            },
            "type": "contourcarpet"
           }
          ],
          "heatmap": [
           {
            "colorbar": {
             "outlinewidth": 0,
             "ticks": ""
            },
            "colorscale": [
             [
              0,
              "#0d0887"
             ],
             [
              0.1111111111111111,
              "#46039f"
             ],
             [
              0.2222222222222222,
              "#7201a8"
             ],
             [
              0.3333333333333333,
              "#9c179e"
             ],
             [
              0.4444444444444444,
              "#bd3786"
             ],
             [
              0.5555555555555556,
              "#d8576b"
             ],
             [
              0.6666666666666666,
              "#ed7953"
             ],
             [
              0.7777777777777778,
              "#fb9f3a"
             ],
             [
              0.8888888888888888,
              "#fdca26"
             ],
             [
              1,
              "#f0f921"
             ]
            ],
            "type": "heatmap"
           }
          ],
          "heatmapgl": [
           {
            "colorbar": {
             "outlinewidth": 0,
             "ticks": ""
            },
            "colorscale": [
             [
              0,
              "#0d0887"
             ],
             [
              0.1111111111111111,
              "#46039f"
             ],
             [
              0.2222222222222222,
              "#7201a8"
             ],
             [
              0.3333333333333333,
              "#9c179e"
             ],
             [
              0.4444444444444444,
              "#bd3786"
             ],
             [
              0.5555555555555556,
              "#d8576b"
             ],
             [
              0.6666666666666666,
              "#ed7953"
             ],
             [
              0.7777777777777778,
              "#fb9f3a"
             ],
             [
              0.8888888888888888,
              "#fdca26"
             ],
             [
              1,
              "#f0f921"
             ]
            ],
            "type": "heatmapgl"
           }
          ],
          "histogram": [
           {
            "marker": {
             "pattern": {
              "fillmode": "overlay",
              "size": 10,
              "solidity": 0.2
             }
            },
            "type": "histogram"
           }
          ],
          "histogram2d": [
           {
            "colorbar": {
             "outlinewidth": 0,
             "ticks": ""
            },
            "colorscale": [
             [
              0,
              "#0d0887"
             ],
             [
              0.1111111111111111,
              "#46039f"
             ],
             [
              0.2222222222222222,
              "#7201a8"
             ],
             [
              0.3333333333333333,
              "#9c179e"
             ],
             [
              0.4444444444444444,
              "#bd3786"
             ],
             [
              0.5555555555555556,
              "#d8576b"
             ],
             [
              0.6666666666666666,
              "#ed7953"
             ],
             [
              0.7777777777777778,
              "#fb9f3a"
             ],
             [
              0.8888888888888888,
              "#fdca26"
             ],
             [
              1,
              "#f0f921"
             ]
            ],
            "type": "histogram2d"
           }
          ],
          "histogram2dcontour": [
           {
            "colorbar": {
             "outlinewidth": 0,
             "ticks": ""
            },
            "colorscale": [
             [
              0,
              "#0d0887"
             ],
             [
              0.1111111111111111,
              "#46039f"
             ],
             [
              0.2222222222222222,
              "#7201a8"
             ],
             [
              0.3333333333333333,
              "#9c179e"
             ],
             [
              0.4444444444444444,
              "#bd3786"
             ],
             [
              0.5555555555555556,
              "#d8576b"
             ],
             [
              0.6666666666666666,
              "#ed7953"
             ],
             [
              0.7777777777777778,
              "#fb9f3a"
             ],
             [
              0.8888888888888888,
              "#fdca26"
             ],
             [
              1,
              "#f0f921"
             ]
            ],
            "type": "histogram2dcontour"
           }
          ],
          "mesh3d": [
           {
            "colorbar": {
             "outlinewidth": 0,
             "ticks": ""
            },
            "type": "mesh3d"
           }
          ],
          "parcoords": [
           {
            "line": {
             "colorbar": {
              "outlinewidth": 0,
              "ticks": ""
             }
            },
            "type": "parcoords"
           }
          ],
          "pie": [
           {
            "automargin": true,
            "type": "pie"
           }
          ],
          "scatter": [
           {
            "marker": {
             "colorbar": {
              "outlinewidth": 0,
              "ticks": ""
             }
            },
            "type": "scatter"
           }
          ],
          "scatter3d": [
           {
            "line": {
             "colorbar": {
              "outlinewidth": 0,
              "ticks": ""
             }
            },
            "marker": {
             "colorbar": {
              "outlinewidth": 0,
              "ticks": ""
             }
            },
            "type": "scatter3d"
           }
          ],
          "scattercarpet": [
           {
            "marker": {
             "colorbar": {
              "outlinewidth": 0,
              "ticks": ""
             }
            },
            "type": "scattercarpet"
           }
          ],
          "scattergeo": [
           {
            "marker": {
             "colorbar": {
              "outlinewidth": 0,
              "ticks": ""
             }
            },
            "type": "scattergeo"
           }
          ],
          "scattergl": [
           {
            "marker": {
             "colorbar": {
              "outlinewidth": 0,
              "ticks": ""
             }
            },
            "type": "scattergl"
           }
          ],
          "scattermapbox": [
           {
            "marker": {
             "colorbar": {
              "outlinewidth": 0,
              "ticks": ""
             }
            },
            "type": "scattermapbox"
           }
          ],
          "scatterpolar": [
           {
            "marker": {
             "colorbar": {
              "outlinewidth": 0,
              "ticks": ""
             }
            },
            "type": "scatterpolar"
           }
          ],
          "scatterpolargl": [
           {
            "marker": {
             "colorbar": {
              "outlinewidth": 0,
              "ticks": ""
             }
            },
            "type": "scatterpolargl"
           }
          ],
          "scatterternary": [
           {
            "marker": {
             "colorbar": {
              "outlinewidth": 0,
              "ticks": ""
             }
            },
            "type": "scatterternary"
           }
          ],
          "surface": [
           {
            "colorbar": {
             "outlinewidth": 0,
             "ticks": ""
            },
            "colorscale": [
             [
              0,
              "#0d0887"
             ],
             [
              0.1111111111111111,
              "#46039f"
             ],
             [
              0.2222222222222222,
              "#7201a8"
             ],
             [
              0.3333333333333333,
              "#9c179e"
             ],
             [
              0.4444444444444444,
              "#bd3786"
             ],
             [
              0.5555555555555556,
              "#d8576b"
             ],
             [
              0.6666666666666666,
              "#ed7953"
             ],
             [
              0.7777777777777778,
              "#fb9f3a"
             ],
             [
              0.8888888888888888,
              "#fdca26"
             ],
             [
              1,
              "#f0f921"
             ]
            ],
            "type": "surface"
           }
          ],
          "table": [
           {
            "cells": {
             "fill": {
              "color": "#EBF0F8"
             },
             "line": {
              "color": "white"
             }
            },
            "header": {
             "fill": {
              "color": "#C8D4E3"
             },
             "line": {
              "color": "white"
             }
            },
            "type": "table"
           }
          ]
         },
         "layout": {
          "annotationdefaults": {
           "arrowcolor": "#2a3f5f",
           "arrowhead": 0,
           "arrowwidth": 1
          },
          "autotypenumbers": "strict",
          "coloraxis": {
           "colorbar": {
            "outlinewidth": 0,
            "ticks": ""
           }
          },
          "colorscale": {
           "diverging": [
            [
             0,
             "#8e0152"
            ],
            [
             0.1,
             "#c51b7d"
            ],
            [
             0.2,
             "#de77ae"
            ],
            [
             0.3,
             "#f1b6da"
            ],
            [
             0.4,
             "#fde0ef"
            ],
            [
             0.5,
             "#f7f7f7"
            ],
            [
             0.6,
             "#e6f5d0"
            ],
            [
             0.7,
             "#b8e186"
            ],
            [
             0.8,
             "#7fbc41"
            ],
            [
             0.9,
             "#4d9221"
            ],
            [
             1,
             "#276419"
            ]
           ],
           "sequential": [
            [
             0,
             "#0d0887"
            ],
            [
             0.1111111111111111,
             "#46039f"
            ],
            [
             0.2222222222222222,
             "#7201a8"
            ],
            [
             0.3333333333333333,
             "#9c179e"
            ],
            [
             0.4444444444444444,
             "#bd3786"
            ],
            [
             0.5555555555555556,
             "#d8576b"
            ],
            [
             0.6666666666666666,
             "#ed7953"
            ],
            [
             0.7777777777777778,
             "#fb9f3a"
            ],
            [
             0.8888888888888888,
             "#fdca26"
            ],
            [
             1,
             "#f0f921"
            ]
           ],
           "sequentialminus": [
            [
             0,
             "#0d0887"
            ],
            [
             0.1111111111111111,
             "#46039f"
            ],
            [
             0.2222222222222222,
             "#7201a8"
            ],
            [
             0.3333333333333333,
             "#9c179e"
            ],
            [
             0.4444444444444444,
             "#bd3786"
            ],
            [
             0.5555555555555556,
             "#d8576b"
            ],
            [
             0.6666666666666666,
             "#ed7953"
            ],
            [
             0.7777777777777778,
             "#fb9f3a"
            ],
            [
             0.8888888888888888,
             "#fdca26"
            ],
            [
             1,
             "#f0f921"
            ]
           ]
          },
          "colorway": [
           "#636efa",
           "#EF553B",
           "#00cc96",
           "#ab63fa",
           "#FFA15A",
           "#19d3f3",
           "#FF6692",
           "#B6E880",
           "#FF97FF",
           "#FECB52"
          ],
          "font": {
           "color": "#2a3f5f"
          },
          "geo": {
           "bgcolor": "white",
           "lakecolor": "white",
           "landcolor": "#E5ECF6",
           "showlakes": true,
           "showland": true,
           "subunitcolor": "white"
          },
          "hoverlabel": {
           "align": "left"
          },
          "hovermode": "closest",
          "mapbox": {
           "style": "light"
          },
          "paper_bgcolor": "white",
          "plot_bgcolor": "#E5ECF6",
          "polar": {
           "angularaxis": {
            "gridcolor": "white",
            "linecolor": "white",
            "ticks": ""
           },
           "bgcolor": "#E5ECF6",
           "radialaxis": {
            "gridcolor": "white",
            "linecolor": "white",
            "ticks": ""
           }
          },
          "scene": {
           "xaxis": {
            "backgroundcolor": "#E5ECF6",
            "gridcolor": "white",
            "gridwidth": 2,
            "linecolor": "white",
            "showbackground": true,
            "ticks": "",
            "zerolinecolor": "white"
           },
           "yaxis": {
            "backgroundcolor": "#E5ECF6",
            "gridcolor": "white",
            "gridwidth": 2,
            "linecolor": "white",
            "showbackground": true,
            "ticks": "",
            "zerolinecolor": "white"
           },
           "zaxis": {
            "backgroundcolor": "#E5ECF6",
            "gridcolor": "white",
            "gridwidth": 2,
            "linecolor": "white",
            "showbackground": true,
            "ticks": "",
            "zerolinecolor": "white"
           }
          },
          "shapedefaults": {
           "line": {
            "color": "#2a3f5f"
           }
          },
          "ternary": {
           "aaxis": {
            "gridcolor": "white",
            "linecolor": "white",
            "ticks": ""
           },
           "baxis": {
            "gridcolor": "white",
            "linecolor": "white",
            "ticks": ""
           },
           "bgcolor": "#E5ECF6",
           "caxis": {
            "gridcolor": "white",
            "linecolor": "white",
            "ticks": ""
           }
          },
          "title": {
           "x": 0.05
          },
          "xaxis": {
           "automargin": true,
           "gridcolor": "white",
           "linecolor": "white",
           "ticks": "",
           "title": {
            "standoff": 15
           },
           "zerolinecolor": "white",
           "zerolinewidth": 2
          },
          "yaxis": {
           "automargin": true,
           "gridcolor": "white",
           "linecolor": "white",
           "ticks": "",
           "title": {
            "standoff": 15
           },
           "zerolinecolor": "white",
           "zerolinewidth": 2
          }
         }
        },
        "title": {
         "text": "Timer Run - Std Dev per Query [s]"
        },
        "xaxis": {
         "dtick": 1,
         "gridcolor": "rgb(0, 0, 0)",
         "side": "top",
         "ticks": "",
         "type": "category"
        },
        "yaxis": {
         "dtick": 1,
         "ticks": "",
         "ticksuffix": "  ",
         "type": "category"
        }
       }
      },
      "text/html": [
       "<div>                            <div id=\"03541f6b-2908-47d5-8c2b-b953615dbe43\" class=\"plotly-graph-div\" style=\"height:525px; width:100%;\"></div>            <script type=\"text/javascript\">                require([\"plotly\"], function(Plotly) {                    window.PLOTLYENV=window.PLOTLYENV || {};                                    if (document.getElementById(\"03541f6b-2908-47d5-8c2b-b953615dbe43\")) {                    Plotly.newPlot(                        \"03541f6b-2908-47d5-8c2b-b953615dbe43\",                        [{\"colorscale\":[[0.0,\"rgb(255,245,240)\"],[0.125,\"rgb(254,224,210)\"],[0.25,\"rgb(252,187,161)\"],[0.375,\"rgb(252,146,114)\"],[0.5,\"rgb(251,106,74)\"],[0.625,\"rgb(239,59,44)\"],[0.75,\"rgb(203,24,29)\"],[0.875,\"rgb(165,15,21)\"],[1.0,\"rgb(103,0,13)\"]],\"reversescale\":false,\"showscale\":true,\"type\":\"heatmap\",\"x\":[\"MonetDB-2-1\",\"MonetDB-1-1\",\"PostgreSQL-2-1\",\"PostgreSQL-1-1\",\"MariaDB-2-1\",\"MariaDB-1-1\",\"MySQL-2-1\",\"MySQL-1-1\"],\"xgap\":1,\"y\":[\"Q1\",\"Q2\",\"Q3\",\"Q4\",\"Q5\",\"Q6\",\"Q7\",\"Q8\",\"Q9\",\"Q10\",\"Q11\",\"Q12\",\"Q13\",\"Q14\",\"Q15\",\"Q16\",\"Q17\",\"Q18\",\"Q19\",\"Q20\",\"Q21\",\"Q22\"],\"ygap\":1,\"z\":[[0.21,1.44,0.12,0.09,0.33,2.86,0.39,0.41],[0.03,0.07,0.99,0.06,0.12,0.12,0.01,0.03],[0.02,1.19,0.63,2.29,0.71,0.93,0.18,0.16],[0.01,0.02,0.29,85.97,0.06,0.06,0.11,0.1],[0.1,0.07,0.75,2.05,0.11,0.23,0.08,0.16],[0.01,2.34,0.02,0.02,0.17,0.2,0.1,0.11],[0.85,0.31,0.54,1.17,0.12,0.14,1.46,1.59],[0.81,0.05,1.47,1.38,0.52,0.42,0.2,0.07],[1.0,4.66,0.19,1.2,0.3,0.88,1.91,1.16],[0.01,0.1,1.69,0.9,0.18,0.23,0.02,0.04],[0.04,0.04,0.03,0.59,0.03,0.03,0.05,0.02],[0.01,5.03,0.21,2.46,0.08,0.05,0.24,0.25],[0.21,0.44,0.43,0.5,0.32,0.37,0.66,0.61],[0.01,0.05,0.03,1.52,1.05,0.78,0.39,0.44],[0.01,0.01,0.04,2.92,0.3,0.19,0.2,0.44],[0.06,0.06,0.03,0.22,0.04,0.06,0.07,0.05],[0.13,0.46,0.21,0.02,0.02,0.01,0.44,0.77],[0.01,0.02,1.77,1.95,0.18,0.1,0.11,0.05],[0.01,0.01,0.02,0.15,0.03,0.04,0.04,0.06],[0.01,0.02,0.1,0.05,0.07,0.07,0.03,0.04],[0.91,2.08,0.08,0.02,0.1,0.25,0.45,0.59],[0.14,0.07,0.04,0.04,0.02,0.01,0.03,0.05]]}],                        {\"annotations\":[{\"font\":{\"color\":\"#000000\"},\"showarrow\":false,\"text\":\"0.21\",\"x\":\"MonetDB-2-1\",\"xref\":\"x\",\"y\":\"Q1\",\"yref\":\"y\"},{\"font\":{\"color\":\"#000000\"},\"showarrow\":false,\"text\":\"1.44\",\"x\":\"MonetDB-1-1\",\"xref\":\"x\",\"y\":\"Q1\",\"yref\":\"y\"},{\"font\":{\"color\":\"#000000\"},\"showarrow\":false,\"text\":\"0.12\",\"x\":\"PostgreSQL-2-1\",\"xref\":\"x\",\"y\":\"Q1\",\"yref\":\"y\"},{\"font\":{\"color\":\"#000000\"},\"showarrow\":false,\"text\":\"0.09\",\"x\":\"PostgreSQL-1-1\",\"xref\":\"x\",\"y\":\"Q1\",\"yref\":\"y\"},{\"font\":{\"color\":\"#000000\"},\"showarrow\":false,\"text\":\"0.33\",\"x\":\"MariaDB-2-1\",\"xref\":\"x\",\"y\":\"Q1\",\"yref\":\"y\"},{\"font\":{\"color\":\"#000000\"},\"showarrow\":false,\"text\":\"2.86\",\"x\":\"MariaDB-1-1\",\"xref\":\"x\",\"y\":\"Q1\",\"yref\":\"y\"},{\"font\":{\"color\":\"#000000\"},\"showarrow\":false,\"text\":\"0.39\",\"x\":\"MySQL-2-1\",\"xref\":\"x\",\"y\":\"Q1\",\"yref\":\"y\"},{\"font\":{\"color\":\"#000000\"},\"showarrow\":false,\"text\":\"0.41\",\"x\":\"MySQL-1-1\",\"xref\":\"x\",\"y\":\"Q1\",\"yref\":\"y\"},{\"font\":{\"color\":\"#000000\"},\"showarrow\":false,\"text\":\"0.03\",\"x\":\"MonetDB-2-1\",\"xref\":\"x\",\"y\":\"Q2\",\"yref\":\"y\"},{\"font\":{\"color\":\"#000000\"},\"showarrow\":false,\"text\":\"0.07\",\"x\":\"MonetDB-1-1\",\"xref\":\"x\",\"y\":\"Q2\",\"yref\":\"y\"},{\"font\":{\"color\":\"#000000\"},\"showarrow\":false,\"text\":\"0.99\",\"x\":\"PostgreSQL-2-1\",\"xref\":\"x\",\"y\":\"Q2\",\"yref\":\"y\"},{\"font\":{\"color\":\"#000000\"},\"showarrow\":false,\"text\":\"0.06\",\"x\":\"PostgreSQL-1-1\",\"xref\":\"x\",\"y\":\"Q2\",\"yref\":\"y\"},{\"font\":{\"color\":\"#000000\"},\"showarrow\":false,\"text\":\"0.12\",\"x\":\"MariaDB-2-1\",\"xref\":\"x\",\"y\":\"Q2\",\"yref\":\"y\"},{\"font\":{\"color\":\"#000000\"},\"showarrow\":false,\"text\":\"0.12\",\"x\":\"MariaDB-1-1\",\"xref\":\"x\",\"y\":\"Q2\",\"yref\":\"y\"},{\"font\":{\"color\":\"#000000\"},\"showarrow\":false,\"text\":\"0.01\",\"x\":\"MySQL-2-1\",\"xref\":\"x\",\"y\":\"Q2\",\"yref\":\"y\"},{\"font\":{\"color\":\"#000000\"},\"showarrow\":false,\"text\":\"0.03\",\"x\":\"MySQL-1-1\",\"xref\":\"x\",\"y\":\"Q2\",\"yref\":\"y\"},{\"font\":{\"color\":\"#000000\"},\"showarrow\":false,\"text\":\"0.02\",\"x\":\"MonetDB-2-1\",\"xref\":\"x\",\"y\":\"Q3\",\"yref\":\"y\"},{\"font\":{\"color\":\"#000000\"},\"showarrow\":false,\"text\":\"1.19\",\"x\":\"MonetDB-1-1\",\"xref\":\"x\",\"y\":\"Q3\",\"yref\":\"y\"},{\"font\":{\"color\":\"#000000\"},\"showarrow\":false,\"text\":\"0.63\",\"x\":\"PostgreSQL-2-1\",\"xref\":\"x\",\"y\":\"Q3\",\"yref\":\"y\"},{\"font\":{\"color\":\"#000000\"},\"showarrow\":false,\"text\":\"2.29\",\"x\":\"PostgreSQL-1-1\",\"xref\":\"x\",\"y\":\"Q3\",\"yref\":\"y\"},{\"font\":{\"color\":\"#000000\"},\"showarrow\":false,\"text\":\"0.71\",\"x\":\"MariaDB-2-1\",\"xref\":\"x\",\"y\":\"Q3\",\"yref\":\"y\"},{\"font\":{\"color\":\"#000000\"},\"showarrow\":false,\"text\":\"0.93\",\"x\":\"MariaDB-1-1\",\"xref\":\"x\",\"y\":\"Q3\",\"yref\":\"y\"},{\"font\":{\"color\":\"#000000\"},\"showarrow\":false,\"text\":\"0.18\",\"x\":\"MySQL-2-1\",\"xref\":\"x\",\"y\":\"Q3\",\"yref\":\"y\"},{\"font\":{\"color\":\"#000000\"},\"showarrow\":false,\"text\":\"0.16\",\"x\":\"MySQL-1-1\",\"xref\":\"x\",\"y\":\"Q3\",\"yref\":\"y\"},{\"font\":{\"color\":\"#000000\"},\"showarrow\":false,\"text\":\"0.01\",\"x\":\"MonetDB-2-1\",\"xref\":\"x\",\"y\":\"Q4\",\"yref\":\"y\"},{\"font\":{\"color\":\"#000000\"},\"showarrow\":false,\"text\":\"0.02\",\"x\":\"MonetDB-1-1\",\"xref\":\"x\",\"y\":\"Q4\",\"yref\":\"y\"},{\"font\":{\"color\":\"#000000\"},\"showarrow\":false,\"text\":\"0.29\",\"x\":\"PostgreSQL-2-1\",\"xref\":\"x\",\"y\":\"Q4\",\"yref\":\"y\"},{\"font\":{\"color\":\"#FFFFFF\"},\"showarrow\":false,\"text\":\"85.97\",\"x\":\"PostgreSQL-1-1\",\"xref\":\"x\",\"y\":\"Q4\",\"yref\":\"y\"},{\"font\":{\"color\":\"#000000\"},\"showarrow\":false,\"text\":\"0.06\",\"x\":\"MariaDB-2-1\",\"xref\":\"x\",\"y\":\"Q4\",\"yref\":\"y\"},{\"font\":{\"color\":\"#000000\"},\"showarrow\":false,\"text\":\"0.06\",\"x\":\"MariaDB-1-1\",\"xref\":\"x\",\"y\":\"Q4\",\"yref\":\"y\"},{\"font\":{\"color\":\"#000000\"},\"showarrow\":false,\"text\":\"0.11\",\"x\":\"MySQL-2-1\",\"xref\":\"x\",\"y\":\"Q4\",\"yref\":\"y\"},{\"font\":{\"color\":\"#000000\"},\"showarrow\":false,\"text\":\"0.1\",\"x\":\"MySQL-1-1\",\"xref\":\"x\",\"y\":\"Q4\",\"yref\":\"y\"},{\"font\":{\"color\":\"#000000\"},\"showarrow\":false,\"text\":\"0.1\",\"x\":\"MonetDB-2-1\",\"xref\":\"x\",\"y\":\"Q5\",\"yref\":\"y\"},{\"font\":{\"color\":\"#000000\"},\"showarrow\":false,\"text\":\"0.07\",\"x\":\"MonetDB-1-1\",\"xref\":\"x\",\"y\":\"Q5\",\"yref\":\"y\"},{\"font\":{\"color\":\"#000000\"},\"showarrow\":false,\"text\":\"0.75\",\"x\":\"PostgreSQL-2-1\",\"xref\":\"x\",\"y\":\"Q5\",\"yref\":\"y\"},{\"font\":{\"color\":\"#000000\"},\"showarrow\":false,\"text\":\"2.05\",\"x\":\"PostgreSQL-1-1\",\"xref\":\"x\",\"y\":\"Q5\",\"yref\":\"y\"},{\"font\":{\"color\":\"#000000\"},\"showarrow\":false,\"text\":\"0.11\",\"x\":\"MariaDB-2-1\",\"xref\":\"x\",\"y\":\"Q5\",\"yref\":\"y\"},{\"font\":{\"color\":\"#000000\"},\"showarrow\":false,\"text\":\"0.23\",\"x\":\"MariaDB-1-1\",\"xref\":\"x\",\"y\":\"Q5\",\"yref\":\"y\"},{\"font\":{\"color\":\"#000000\"},\"showarrow\":false,\"text\":\"0.08\",\"x\":\"MySQL-2-1\",\"xref\":\"x\",\"y\":\"Q5\",\"yref\":\"y\"},{\"font\":{\"color\":\"#000000\"},\"showarrow\":false,\"text\":\"0.16\",\"x\":\"MySQL-1-1\",\"xref\":\"x\",\"y\":\"Q5\",\"yref\":\"y\"},{\"font\":{\"color\":\"#000000\"},\"showarrow\":false,\"text\":\"0.01\",\"x\":\"MonetDB-2-1\",\"xref\":\"x\",\"y\":\"Q6\",\"yref\":\"y\"},{\"font\":{\"color\":\"#000000\"},\"showarrow\":false,\"text\":\"2.34\",\"x\":\"MonetDB-1-1\",\"xref\":\"x\",\"y\":\"Q6\",\"yref\":\"y\"},{\"font\":{\"color\":\"#000000\"},\"showarrow\":false,\"text\":\"0.02\",\"x\":\"PostgreSQL-2-1\",\"xref\":\"x\",\"y\":\"Q6\",\"yref\":\"y\"},{\"font\":{\"color\":\"#000000\"},\"showarrow\":false,\"text\":\"0.02\",\"x\":\"PostgreSQL-1-1\",\"xref\":\"x\",\"y\":\"Q6\",\"yref\":\"y\"},{\"font\":{\"color\":\"#000000\"},\"showarrow\":false,\"text\":\"0.17\",\"x\":\"MariaDB-2-1\",\"xref\":\"x\",\"y\":\"Q6\",\"yref\":\"y\"},{\"font\":{\"color\":\"#000000\"},\"showarrow\":false,\"text\":\"0.2\",\"x\":\"MariaDB-1-1\",\"xref\":\"x\",\"y\":\"Q6\",\"yref\":\"y\"},{\"font\":{\"color\":\"#000000\"},\"showarrow\":false,\"text\":\"0.1\",\"x\":\"MySQL-2-1\",\"xref\":\"x\",\"y\":\"Q6\",\"yref\":\"y\"},{\"font\":{\"color\":\"#000000\"},\"showarrow\":false,\"text\":\"0.11\",\"x\":\"MySQL-1-1\",\"xref\":\"x\",\"y\":\"Q6\",\"yref\":\"y\"},{\"font\":{\"color\":\"#000000\"},\"showarrow\":false,\"text\":\"0.85\",\"x\":\"MonetDB-2-1\",\"xref\":\"x\",\"y\":\"Q7\",\"yref\":\"y\"},{\"font\":{\"color\":\"#000000\"},\"showarrow\":false,\"text\":\"0.31\",\"x\":\"MonetDB-1-1\",\"xref\":\"x\",\"y\":\"Q7\",\"yref\":\"y\"},{\"font\":{\"color\":\"#000000\"},\"showarrow\":false,\"text\":\"0.54\",\"x\":\"PostgreSQL-2-1\",\"xref\":\"x\",\"y\":\"Q7\",\"yref\":\"y\"},{\"font\":{\"color\":\"#000000\"},\"showarrow\":false,\"text\":\"1.17\",\"x\":\"PostgreSQL-1-1\",\"xref\":\"x\",\"y\":\"Q7\",\"yref\":\"y\"},{\"font\":{\"color\":\"#000000\"},\"showarrow\":false,\"text\":\"0.12\",\"x\":\"MariaDB-2-1\",\"xref\":\"x\",\"y\":\"Q7\",\"yref\":\"y\"},{\"font\":{\"color\":\"#000000\"},\"showarrow\":false,\"text\":\"0.14\",\"x\":\"MariaDB-1-1\",\"xref\":\"x\",\"y\":\"Q7\",\"yref\":\"y\"},{\"font\":{\"color\":\"#000000\"},\"showarrow\":false,\"text\":\"1.46\",\"x\":\"MySQL-2-1\",\"xref\":\"x\",\"y\":\"Q7\",\"yref\":\"y\"},{\"font\":{\"color\":\"#000000\"},\"showarrow\":false,\"text\":\"1.59\",\"x\":\"MySQL-1-1\",\"xref\":\"x\",\"y\":\"Q7\",\"yref\":\"y\"},{\"font\":{\"color\":\"#000000\"},\"showarrow\":false,\"text\":\"0.81\",\"x\":\"MonetDB-2-1\",\"xref\":\"x\",\"y\":\"Q8\",\"yref\":\"y\"},{\"font\":{\"color\":\"#000000\"},\"showarrow\":false,\"text\":\"0.05\",\"x\":\"MonetDB-1-1\",\"xref\":\"x\",\"y\":\"Q8\",\"yref\":\"y\"},{\"font\":{\"color\":\"#000000\"},\"showarrow\":false,\"text\":\"1.47\",\"x\":\"PostgreSQL-2-1\",\"xref\":\"x\",\"y\":\"Q8\",\"yref\":\"y\"},{\"font\":{\"color\":\"#000000\"},\"showarrow\":false,\"text\":\"1.38\",\"x\":\"PostgreSQL-1-1\",\"xref\":\"x\",\"y\":\"Q8\",\"yref\":\"y\"},{\"font\":{\"color\":\"#000000\"},\"showarrow\":false,\"text\":\"0.52\",\"x\":\"MariaDB-2-1\",\"xref\":\"x\",\"y\":\"Q8\",\"yref\":\"y\"},{\"font\":{\"color\":\"#000000\"},\"showarrow\":false,\"text\":\"0.42\",\"x\":\"MariaDB-1-1\",\"xref\":\"x\",\"y\":\"Q8\",\"yref\":\"y\"},{\"font\":{\"color\":\"#000000\"},\"showarrow\":false,\"text\":\"0.2\",\"x\":\"MySQL-2-1\",\"xref\":\"x\",\"y\":\"Q8\",\"yref\":\"y\"},{\"font\":{\"color\":\"#000000\"},\"showarrow\":false,\"text\":\"0.07\",\"x\":\"MySQL-1-1\",\"xref\":\"x\",\"y\":\"Q8\",\"yref\":\"y\"},{\"font\":{\"color\":\"#000000\"},\"showarrow\":false,\"text\":\"1.0\",\"x\":\"MonetDB-2-1\",\"xref\":\"x\",\"y\":\"Q9\",\"yref\":\"y\"},{\"font\":{\"color\":\"#000000\"},\"showarrow\":false,\"text\":\"4.66\",\"x\":\"MonetDB-1-1\",\"xref\":\"x\",\"y\":\"Q9\",\"yref\":\"y\"},{\"font\":{\"color\":\"#000000\"},\"showarrow\":false,\"text\":\"0.19\",\"x\":\"PostgreSQL-2-1\",\"xref\":\"x\",\"y\":\"Q9\",\"yref\":\"y\"},{\"font\":{\"color\":\"#000000\"},\"showarrow\":false,\"text\":\"1.2\",\"x\":\"PostgreSQL-1-1\",\"xref\":\"x\",\"y\":\"Q9\",\"yref\":\"y\"},{\"font\":{\"color\":\"#000000\"},\"showarrow\":false,\"text\":\"0.3\",\"x\":\"MariaDB-2-1\",\"xref\":\"x\",\"y\":\"Q9\",\"yref\":\"y\"},{\"font\":{\"color\":\"#000000\"},\"showarrow\":false,\"text\":\"0.88\",\"x\":\"MariaDB-1-1\",\"xref\":\"x\",\"y\":\"Q9\",\"yref\":\"y\"},{\"font\":{\"color\":\"#000000\"},\"showarrow\":false,\"text\":\"1.91\",\"x\":\"MySQL-2-1\",\"xref\":\"x\",\"y\":\"Q9\",\"yref\":\"y\"},{\"font\":{\"color\":\"#000000\"},\"showarrow\":false,\"text\":\"1.16\",\"x\":\"MySQL-1-1\",\"xref\":\"x\",\"y\":\"Q9\",\"yref\":\"y\"},{\"font\":{\"color\":\"#000000\"},\"showarrow\":false,\"text\":\"0.01\",\"x\":\"MonetDB-2-1\",\"xref\":\"x\",\"y\":\"Q10\",\"yref\":\"y\"},{\"font\":{\"color\":\"#000000\"},\"showarrow\":false,\"text\":\"0.1\",\"x\":\"MonetDB-1-1\",\"xref\":\"x\",\"y\":\"Q10\",\"yref\":\"y\"},{\"font\":{\"color\":\"#000000\"},\"showarrow\":false,\"text\":\"1.69\",\"x\":\"PostgreSQL-2-1\",\"xref\":\"x\",\"y\":\"Q10\",\"yref\":\"y\"},{\"font\":{\"color\":\"#000000\"},\"showarrow\":false,\"text\":\"0.9\",\"x\":\"PostgreSQL-1-1\",\"xref\":\"x\",\"y\":\"Q10\",\"yref\":\"y\"},{\"font\":{\"color\":\"#000000\"},\"showarrow\":false,\"text\":\"0.18\",\"x\":\"MariaDB-2-1\",\"xref\":\"x\",\"y\":\"Q10\",\"yref\":\"y\"},{\"font\":{\"color\":\"#000000\"},\"showarrow\":false,\"text\":\"0.23\",\"x\":\"MariaDB-1-1\",\"xref\":\"x\",\"y\":\"Q10\",\"yref\":\"y\"},{\"font\":{\"color\":\"#000000\"},\"showarrow\":false,\"text\":\"0.02\",\"x\":\"MySQL-2-1\",\"xref\":\"x\",\"y\":\"Q10\",\"yref\":\"y\"},{\"font\":{\"color\":\"#000000\"},\"showarrow\":false,\"text\":\"0.04\",\"x\":\"MySQL-1-1\",\"xref\":\"x\",\"y\":\"Q10\",\"yref\":\"y\"},{\"font\":{\"color\":\"#000000\"},\"showarrow\":false,\"text\":\"0.04\",\"x\":\"MonetDB-2-1\",\"xref\":\"x\",\"y\":\"Q11\",\"yref\":\"y\"},{\"font\":{\"color\":\"#000000\"},\"showarrow\":false,\"text\":\"0.04\",\"x\":\"MonetDB-1-1\",\"xref\":\"x\",\"y\":\"Q11\",\"yref\":\"y\"},{\"font\":{\"color\":\"#000000\"},\"showarrow\":false,\"text\":\"0.03\",\"x\":\"PostgreSQL-2-1\",\"xref\":\"x\",\"y\":\"Q11\",\"yref\":\"y\"},{\"font\":{\"color\":\"#000000\"},\"showarrow\":false,\"text\":\"0.59\",\"x\":\"PostgreSQL-1-1\",\"xref\":\"x\",\"y\":\"Q11\",\"yref\":\"y\"},{\"font\":{\"color\":\"#000000\"},\"showarrow\":false,\"text\":\"0.03\",\"x\":\"MariaDB-2-1\",\"xref\":\"x\",\"y\":\"Q11\",\"yref\":\"y\"},{\"font\":{\"color\":\"#000000\"},\"showarrow\":false,\"text\":\"0.03\",\"x\":\"MariaDB-1-1\",\"xref\":\"x\",\"y\":\"Q11\",\"yref\":\"y\"},{\"font\":{\"color\":\"#000000\"},\"showarrow\":false,\"text\":\"0.05\",\"x\":\"MySQL-2-1\",\"xref\":\"x\",\"y\":\"Q11\",\"yref\":\"y\"},{\"font\":{\"color\":\"#000000\"},\"showarrow\":false,\"text\":\"0.02\",\"x\":\"MySQL-1-1\",\"xref\":\"x\",\"y\":\"Q11\",\"yref\":\"y\"},{\"font\":{\"color\":\"#000000\"},\"showarrow\":false,\"text\":\"0.01\",\"x\":\"MonetDB-2-1\",\"xref\":\"x\",\"y\":\"Q12\",\"yref\":\"y\"},{\"font\":{\"color\":\"#000000\"},\"showarrow\":false,\"text\":\"5.03\",\"x\":\"MonetDB-1-1\",\"xref\":\"x\",\"y\":\"Q12\",\"yref\":\"y\"},{\"font\":{\"color\":\"#000000\"},\"showarrow\":false,\"text\":\"0.21\",\"x\":\"PostgreSQL-2-1\",\"xref\":\"x\",\"y\":\"Q12\",\"yref\":\"y\"},{\"font\":{\"color\":\"#000000\"},\"showarrow\":false,\"text\":\"2.46\",\"x\":\"PostgreSQL-1-1\",\"xref\":\"x\",\"y\":\"Q12\",\"yref\":\"y\"},{\"font\":{\"color\":\"#000000\"},\"showarrow\":false,\"text\":\"0.08\",\"x\":\"MariaDB-2-1\",\"xref\":\"x\",\"y\":\"Q12\",\"yref\":\"y\"},{\"font\":{\"color\":\"#000000\"},\"showarrow\":false,\"text\":\"0.05\",\"x\":\"MariaDB-1-1\",\"xref\":\"x\",\"y\":\"Q12\",\"yref\":\"y\"},{\"font\":{\"color\":\"#000000\"},\"showarrow\":false,\"text\":\"0.24\",\"x\":\"MySQL-2-1\",\"xref\":\"x\",\"y\":\"Q12\",\"yref\":\"y\"},{\"font\":{\"color\":\"#000000\"},\"showarrow\":false,\"text\":\"0.25\",\"x\":\"MySQL-1-1\",\"xref\":\"x\",\"y\":\"Q12\",\"yref\":\"y\"},{\"font\":{\"color\":\"#000000\"},\"showarrow\":false,\"text\":\"0.21\",\"x\":\"MonetDB-2-1\",\"xref\":\"x\",\"y\":\"Q13\",\"yref\":\"y\"},{\"font\":{\"color\":\"#000000\"},\"showarrow\":false,\"text\":\"0.44\",\"x\":\"MonetDB-1-1\",\"xref\":\"x\",\"y\":\"Q13\",\"yref\":\"y\"},{\"font\":{\"color\":\"#000000\"},\"showarrow\":false,\"text\":\"0.43\",\"x\":\"PostgreSQL-2-1\",\"xref\":\"x\",\"y\":\"Q13\",\"yref\":\"y\"},{\"font\":{\"color\":\"#000000\"},\"showarrow\":false,\"text\":\"0.5\",\"x\":\"PostgreSQL-1-1\",\"xref\":\"x\",\"y\":\"Q13\",\"yref\":\"y\"},{\"font\":{\"color\":\"#000000\"},\"showarrow\":false,\"text\":\"0.32\",\"x\":\"MariaDB-2-1\",\"xref\":\"x\",\"y\":\"Q13\",\"yref\":\"y\"},{\"font\":{\"color\":\"#000000\"},\"showarrow\":false,\"text\":\"0.37\",\"x\":\"MariaDB-1-1\",\"xref\":\"x\",\"y\":\"Q13\",\"yref\":\"y\"},{\"font\":{\"color\":\"#000000\"},\"showarrow\":false,\"text\":\"0.66\",\"x\":\"MySQL-2-1\",\"xref\":\"x\",\"y\":\"Q13\",\"yref\":\"y\"},{\"font\":{\"color\":\"#000000\"},\"showarrow\":false,\"text\":\"0.61\",\"x\":\"MySQL-1-1\",\"xref\":\"x\",\"y\":\"Q13\",\"yref\":\"y\"},{\"font\":{\"color\":\"#000000\"},\"showarrow\":false,\"text\":\"0.01\",\"x\":\"MonetDB-2-1\",\"xref\":\"x\",\"y\":\"Q14\",\"yref\":\"y\"},{\"font\":{\"color\":\"#000000\"},\"showarrow\":false,\"text\":\"0.05\",\"x\":\"MonetDB-1-1\",\"xref\":\"x\",\"y\":\"Q14\",\"yref\":\"y\"},{\"font\":{\"color\":\"#000000\"},\"showarrow\":false,\"text\":\"0.03\",\"x\":\"PostgreSQL-2-1\",\"xref\":\"x\",\"y\":\"Q14\",\"yref\":\"y\"},{\"font\":{\"color\":\"#000000\"},\"showarrow\":false,\"text\":\"1.52\",\"x\":\"PostgreSQL-1-1\",\"xref\":\"x\",\"y\":\"Q14\",\"yref\":\"y\"},{\"font\":{\"color\":\"#000000\"},\"showarrow\":false,\"text\":\"1.05\",\"x\":\"MariaDB-2-1\",\"xref\":\"x\",\"y\":\"Q14\",\"yref\":\"y\"},{\"font\":{\"color\":\"#000000\"},\"showarrow\":false,\"text\":\"0.78\",\"x\":\"MariaDB-1-1\",\"xref\":\"x\",\"y\":\"Q14\",\"yref\":\"y\"},{\"font\":{\"color\":\"#000000\"},\"showarrow\":false,\"text\":\"0.39\",\"x\":\"MySQL-2-1\",\"xref\":\"x\",\"y\":\"Q14\",\"yref\":\"y\"},{\"font\":{\"color\":\"#000000\"},\"showarrow\":false,\"text\":\"0.44\",\"x\":\"MySQL-1-1\",\"xref\":\"x\",\"y\":\"Q14\",\"yref\":\"y\"},{\"font\":{\"color\":\"#000000\"},\"showarrow\":false,\"text\":\"0.01\",\"x\":\"MonetDB-2-1\",\"xref\":\"x\",\"y\":\"Q15\",\"yref\":\"y\"},{\"font\":{\"color\":\"#000000\"},\"showarrow\":false,\"text\":\"0.01\",\"x\":\"MonetDB-1-1\",\"xref\":\"x\",\"y\":\"Q15\",\"yref\":\"y\"},{\"font\":{\"color\":\"#000000\"},\"showarrow\":false,\"text\":\"0.04\",\"x\":\"PostgreSQL-2-1\",\"xref\":\"x\",\"y\":\"Q15\",\"yref\":\"y\"},{\"font\":{\"color\":\"#000000\"},\"showarrow\":false,\"text\":\"2.92\",\"x\":\"PostgreSQL-1-1\",\"xref\":\"x\",\"y\":\"Q15\",\"yref\":\"y\"},{\"font\":{\"color\":\"#000000\"},\"showarrow\":false,\"text\":\"0.3\",\"x\":\"MariaDB-2-1\",\"xref\":\"x\",\"y\":\"Q15\",\"yref\":\"y\"},{\"font\":{\"color\":\"#000000\"},\"showarrow\":false,\"text\":\"0.19\",\"x\":\"MariaDB-1-1\",\"xref\":\"x\",\"y\":\"Q15\",\"yref\":\"y\"},{\"font\":{\"color\":\"#000000\"},\"showarrow\":false,\"text\":\"0.2\",\"x\":\"MySQL-2-1\",\"xref\":\"x\",\"y\":\"Q15\",\"yref\":\"y\"},{\"font\":{\"color\":\"#000000\"},\"showarrow\":false,\"text\":\"0.44\",\"x\":\"MySQL-1-1\",\"xref\":\"x\",\"y\":\"Q15\",\"yref\":\"y\"},{\"font\":{\"color\":\"#000000\"},\"showarrow\":false,\"text\":\"0.06\",\"x\":\"MonetDB-2-1\",\"xref\":\"x\",\"y\":\"Q16\",\"yref\":\"y\"},{\"font\":{\"color\":\"#000000\"},\"showarrow\":false,\"text\":\"0.06\",\"x\":\"MonetDB-1-1\",\"xref\":\"x\",\"y\":\"Q16\",\"yref\":\"y\"},{\"font\":{\"color\":\"#000000\"},\"showarrow\":false,\"text\":\"0.03\",\"x\":\"PostgreSQL-2-1\",\"xref\":\"x\",\"y\":\"Q16\",\"yref\":\"y\"},{\"font\":{\"color\":\"#000000\"},\"showarrow\":false,\"text\":\"0.22\",\"x\":\"PostgreSQL-1-1\",\"xref\":\"x\",\"y\":\"Q16\",\"yref\":\"y\"},{\"font\":{\"color\":\"#000000\"},\"showarrow\":false,\"text\":\"0.04\",\"x\":\"MariaDB-2-1\",\"xref\":\"x\",\"y\":\"Q16\",\"yref\":\"y\"},{\"font\":{\"color\":\"#000000\"},\"showarrow\":false,\"text\":\"0.06\",\"x\":\"MariaDB-1-1\",\"xref\":\"x\",\"y\":\"Q16\",\"yref\":\"y\"},{\"font\":{\"color\":\"#000000\"},\"showarrow\":false,\"text\":\"0.07\",\"x\":\"MySQL-2-1\",\"xref\":\"x\",\"y\":\"Q16\",\"yref\":\"y\"},{\"font\":{\"color\":\"#000000\"},\"showarrow\":false,\"text\":\"0.05\",\"x\":\"MySQL-1-1\",\"xref\":\"x\",\"y\":\"Q16\",\"yref\":\"y\"},{\"font\":{\"color\":\"#000000\"},\"showarrow\":false,\"text\":\"0.13\",\"x\":\"MonetDB-2-1\",\"xref\":\"x\",\"y\":\"Q17\",\"yref\":\"y\"},{\"font\":{\"color\":\"#000000\"},\"showarrow\":false,\"text\":\"0.46\",\"x\":\"MonetDB-1-1\",\"xref\":\"x\",\"y\":\"Q17\",\"yref\":\"y\"},{\"font\":{\"color\":\"#000000\"},\"showarrow\":false,\"text\":\"0.21\",\"x\":\"PostgreSQL-2-1\",\"xref\":\"x\",\"y\":\"Q17\",\"yref\":\"y\"},{\"font\":{\"color\":\"#000000\"},\"showarrow\":false,\"text\":\"0.02\",\"x\":\"PostgreSQL-1-1\",\"xref\":\"x\",\"y\":\"Q17\",\"yref\":\"y\"},{\"font\":{\"color\":\"#000000\"},\"showarrow\":false,\"text\":\"0.02\",\"x\":\"MariaDB-2-1\",\"xref\":\"x\",\"y\":\"Q17\",\"yref\":\"y\"},{\"font\":{\"color\":\"#000000\"},\"showarrow\":false,\"text\":\"0.01\",\"x\":\"MariaDB-1-1\",\"xref\":\"x\",\"y\":\"Q17\",\"yref\":\"y\"},{\"font\":{\"color\":\"#000000\"},\"showarrow\":false,\"text\":\"0.44\",\"x\":\"MySQL-2-1\",\"xref\":\"x\",\"y\":\"Q17\",\"yref\":\"y\"},{\"font\":{\"color\":\"#000000\"},\"showarrow\":false,\"text\":\"0.77\",\"x\":\"MySQL-1-1\",\"xref\":\"x\",\"y\":\"Q17\",\"yref\":\"y\"},{\"font\":{\"color\":\"#000000\"},\"showarrow\":false,\"text\":\"0.01\",\"x\":\"MonetDB-2-1\",\"xref\":\"x\",\"y\":\"Q18\",\"yref\":\"y\"},{\"font\":{\"color\":\"#000000\"},\"showarrow\":false,\"text\":\"0.02\",\"x\":\"MonetDB-1-1\",\"xref\":\"x\",\"y\":\"Q18\",\"yref\":\"y\"},{\"font\":{\"color\":\"#000000\"},\"showarrow\":false,\"text\":\"1.77\",\"x\":\"PostgreSQL-2-1\",\"xref\":\"x\",\"y\":\"Q18\",\"yref\":\"y\"},{\"font\":{\"color\":\"#000000\"},\"showarrow\":false,\"text\":\"1.95\",\"x\":\"PostgreSQL-1-1\",\"xref\":\"x\",\"y\":\"Q18\",\"yref\":\"y\"},{\"font\":{\"color\":\"#000000\"},\"showarrow\":false,\"text\":\"0.18\",\"x\":\"MariaDB-2-1\",\"xref\":\"x\",\"y\":\"Q18\",\"yref\":\"y\"},{\"font\":{\"color\":\"#000000\"},\"showarrow\":false,\"text\":\"0.1\",\"x\":\"MariaDB-1-1\",\"xref\":\"x\",\"y\":\"Q18\",\"yref\":\"y\"},{\"font\":{\"color\":\"#000000\"},\"showarrow\":false,\"text\":\"0.11\",\"x\":\"MySQL-2-1\",\"xref\":\"x\",\"y\":\"Q18\",\"yref\":\"y\"},{\"font\":{\"color\":\"#000000\"},\"showarrow\":false,\"text\":\"0.05\",\"x\":\"MySQL-1-1\",\"xref\":\"x\",\"y\":\"Q18\",\"yref\":\"y\"},{\"font\":{\"color\":\"#000000\"},\"showarrow\":false,\"text\":\"0.01\",\"x\":\"MonetDB-2-1\",\"xref\":\"x\",\"y\":\"Q19\",\"yref\":\"y\"},{\"font\":{\"color\":\"#000000\"},\"showarrow\":false,\"text\":\"0.01\",\"x\":\"MonetDB-1-1\",\"xref\":\"x\",\"y\":\"Q19\",\"yref\":\"y\"},{\"font\":{\"color\":\"#000000\"},\"showarrow\":false,\"text\":\"0.02\",\"x\":\"PostgreSQL-2-1\",\"xref\":\"x\",\"y\":\"Q19\",\"yref\":\"y\"},{\"font\":{\"color\":\"#000000\"},\"showarrow\":false,\"text\":\"0.15\",\"x\":\"PostgreSQL-1-1\",\"xref\":\"x\",\"y\":\"Q19\",\"yref\":\"y\"},{\"font\":{\"color\":\"#000000\"},\"showarrow\":false,\"text\":\"0.03\",\"x\":\"MariaDB-2-1\",\"xref\":\"x\",\"y\":\"Q19\",\"yref\":\"y\"},{\"font\":{\"color\":\"#000000\"},\"showarrow\":false,\"text\":\"0.04\",\"x\":\"MariaDB-1-1\",\"xref\":\"x\",\"y\":\"Q19\",\"yref\":\"y\"},{\"font\":{\"color\":\"#000000\"},\"showarrow\":false,\"text\":\"0.04\",\"x\":\"MySQL-2-1\",\"xref\":\"x\",\"y\":\"Q19\",\"yref\":\"y\"},{\"font\":{\"color\":\"#000000\"},\"showarrow\":false,\"text\":\"0.06\",\"x\":\"MySQL-1-1\",\"xref\":\"x\",\"y\":\"Q19\",\"yref\":\"y\"},{\"font\":{\"color\":\"#000000\"},\"showarrow\":false,\"text\":\"0.01\",\"x\":\"MonetDB-2-1\",\"xref\":\"x\",\"y\":\"Q20\",\"yref\":\"y\"},{\"font\":{\"color\":\"#000000\"},\"showarrow\":false,\"text\":\"0.02\",\"x\":\"MonetDB-1-1\",\"xref\":\"x\",\"y\":\"Q20\",\"yref\":\"y\"},{\"font\":{\"color\":\"#000000\"},\"showarrow\":false,\"text\":\"0.1\",\"x\":\"PostgreSQL-2-1\",\"xref\":\"x\",\"y\":\"Q20\",\"yref\":\"y\"},{\"font\":{\"color\":\"#000000\"},\"showarrow\":false,\"text\":\"0.05\",\"x\":\"PostgreSQL-1-1\",\"xref\":\"x\",\"y\":\"Q20\",\"yref\":\"y\"},{\"font\":{\"color\":\"#000000\"},\"showarrow\":false,\"text\":\"0.07\",\"x\":\"MariaDB-2-1\",\"xref\":\"x\",\"y\":\"Q20\",\"yref\":\"y\"},{\"font\":{\"color\":\"#000000\"},\"showarrow\":false,\"text\":\"0.07\",\"x\":\"MariaDB-1-1\",\"xref\":\"x\",\"y\":\"Q20\",\"yref\":\"y\"},{\"font\":{\"color\":\"#000000\"},\"showarrow\":false,\"text\":\"0.03\",\"x\":\"MySQL-2-1\",\"xref\":\"x\",\"y\":\"Q20\",\"yref\":\"y\"},{\"font\":{\"color\":\"#000000\"},\"showarrow\":false,\"text\":\"0.04\",\"x\":\"MySQL-1-1\",\"xref\":\"x\",\"y\":\"Q20\",\"yref\":\"y\"},{\"font\":{\"color\":\"#000000\"},\"showarrow\":false,\"text\":\"0.91\",\"x\":\"MonetDB-2-1\",\"xref\":\"x\",\"y\":\"Q21\",\"yref\":\"y\"},{\"font\":{\"color\":\"#000000\"},\"showarrow\":false,\"text\":\"2.08\",\"x\":\"MonetDB-1-1\",\"xref\":\"x\",\"y\":\"Q21\",\"yref\":\"y\"},{\"font\":{\"color\":\"#000000\"},\"showarrow\":false,\"text\":\"0.08\",\"x\":\"PostgreSQL-2-1\",\"xref\":\"x\",\"y\":\"Q21\",\"yref\":\"y\"},{\"font\":{\"color\":\"#000000\"},\"showarrow\":false,\"text\":\"0.02\",\"x\":\"PostgreSQL-1-1\",\"xref\":\"x\",\"y\":\"Q21\",\"yref\":\"y\"},{\"font\":{\"color\":\"#000000\"},\"showarrow\":false,\"text\":\"0.1\",\"x\":\"MariaDB-2-1\",\"xref\":\"x\",\"y\":\"Q21\",\"yref\":\"y\"},{\"font\":{\"color\":\"#000000\"},\"showarrow\":false,\"text\":\"0.25\",\"x\":\"MariaDB-1-1\",\"xref\":\"x\",\"y\":\"Q21\",\"yref\":\"y\"},{\"font\":{\"color\":\"#000000\"},\"showarrow\":false,\"text\":\"0.45\",\"x\":\"MySQL-2-1\",\"xref\":\"x\",\"y\":\"Q21\",\"yref\":\"y\"},{\"font\":{\"color\":\"#000000\"},\"showarrow\":false,\"text\":\"0.59\",\"x\":\"MySQL-1-1\",\"xref\":\"x\",\"y\":\"Q21\",\"yref\":\"y\"},{\"font\":{\"color\":\"#000000\"},\"showarrow\":false,\"text\":\"0.14\",\"x\":\"MonetDB-2-1\",\"xref\":\"x\",\"y\":\"Q22\",\"yref\":\"y\"},{\"font\":{\"color\":\"#000000\"},\"showarrow\":false,\"text\":\"0.07\",\"x\":\"MonetDB-1-1\",\"xref\":\"x\",\"y\":\"Q22\",\"yref\":\"y\"},{\"font\":{\"color\":\"#000000\"},\"showarrow\":false,\"text\":\"0.04\",\"x\":\"PostgreSQL-2-1\",\"xref\":\"x\",\"y\":\"Q22\",\"yref\":\"y\"},{\"font\":{\"color\":\"#000000\"},\"showarrow\":false,\"text\":\"0.04\",\"x\":\"PostgreSQL-1-1\",\"xref\":\"x\",\"y\":\"Q22\",\"yref\":\"y\"},{\"font\":{\"color\":\"#000000\"},\"showarrow\":false,\"text\":\"0.02\",\"x\":\"MariaDB-2-1\",\"xref\":\"x\",\"y\":\"Q22\",\"yref\":\"y\"},{\"font\":{\"color\":\"#000000\"},\"showarrow\":false,\"text\":\"0.01\",\"x\":\"MariaDB-1-1\",\"xref\":\"x\",\"y\":\"Q22\",\"yref\":\"y\"},{\"font\":{\"color\":\"#000000\"},\"showarrow\":false,\"text\":\"0.03\",\"x\":\"MySQL-2-1\",\"xref\":\"x\",\"y\":\"Q22\",\"yref\":\"y\"},{\"font\":{\"color\":\"#000000\"},\"showarrow\":false,\"text\":\"0.05\",\"x\":\"MySQL-1-1\",\"xref\":\"x\",\"y\":\"Q22\",\"yref\":\"y\"}],\"template\":{\"data\":{\"bar\":[{\"error_x\":{\"color\":\"#2a3f5f\"},\"error_y\":{\"color\":\"#2a3f5f\"},\"marker\":{\"line\":{\"color\":\"#E5ECF6\",\"width\":0.5},\"pattern\":{\"fillmode\":\"overlay\",\"size\":10,\"solidity\":0.2}},\"type\":\"bar\"}],\"barpolar\":[{\"marker\":{\"line\":{\"color\":\"#E5ECF6\",\"width\":0.5},\"pattern\":{\"fillmode\":\"overlay\",\"size\":10,\"solidity\":0.2}},\"type\":\"barpolar\"}],\"carpet\":[{\"aaxis\":{\"endlinecolor\":\"#2a3f5f\",\"gridcolor\":\"white\",\"linecolor\":\"white\",\"minorgridcolor\":\"white\",\"startlinecolor\":\"#2a3f5f\"},\"baxis\":{\"endlinecolor\":\"#2a3f5f\",\"gridcolor\":\"white\",\"linecolor\":\"white\",\"minorgridcolor\":\"white\",\"startlinecolor\":\"#2a3f5f\"},\"type\":\"carpet\"}],\"choropleth\":[{\"colorbar\":{\"outlinewidth\":0,\"ticks\":\"\"},\"type\":\"choropleth\"}],\"contour\":[{\"colorbar\":{\"outlinewidth\":0,\"ticks\":\"\"},\"colorscale\":[[0.0,\"#0d0887\"],[0.1111111111111111,\"#46039f\"],[0.2222222222222222,\"#7201a8\"],[0.3333333333333333,\"#9c179e\"],[0.4444444444444444,\"#bd3786\"],[0.5555555555555556,\"#d8576b\"],[0.6666666666666666,\"#ed7953\"],[0.7777777777777778,\"#fb9f3a\"],[0.8888888888888888,\"#fdca26\"],[1.0,\"#f0f921\"]],\"type\":\"contour\"}],\"contourcarpet\":[{\"colorbar\":{\"outlinewidth\":0,\"ticks\":\"\"},\"type\":\"contourcarpet\"}],\"heatmap\":[{\"colorbar\":{\"outlinewidth\":0,\"ticks\":\"\"},\"colorscale\":[[0.0,\"#0d0887\"],[0.1111111111111111,\"#46039f\"],[0.2222222222222222,\"#7201a8\"],[0.3333333333333333,\"#9c179e\"],[0.4444444444444444,\"#bd3786\"],[0.5555555555555556,\"#d8576b\"],[0.6666666666666666,\"#ed7953\"],[0.7777777777777778,\"#fb9f3a\"],[0.8888888888888888,\"#fdca26\"],[1.0,\"#f0f921\"]],\"type\":\"heatmap\"}],\"heatmapgl\":[{\"colorbar\":{\"outlinewidth\":0,\"ticks\":\"\"},\"colorscale\":[[0.0,\"#0d0887\"],[0.1111111111111111,\"#46039f\"],[0.2222222222222222,\"#7201a8\"],[0.3333333333333333,\"#9c179e\"],[0.4444444444444444,\"#bd3786\"],[0.5555555555555556,\"#d8576b\"],[0.6666666666666666,\"#ed7953\"],[0.7777777777777778,\"#fb9f3a\"],[0.8888888888888888,\"#fdca26\"],[1.0,\"#f0f921\"]],\"type\":\"heatmapgl\"}],\"histogram\":[{\"marker\":{\"pattern\":{\"fillmode\":\"overlay\",\"size\":10,\"solidity\":0.2}},\"type\":\"histogram\"}],\"histogram2d\":[{\"colorbar\":{\"outlinewidth\":0,\"ticks\":\"\"},\"colorscale\":[[0.0,\"#0d0887\"],[0.1111111111111111,\"#46039f\"],[0.2222222222222222,\"#7201a8\"],[0.3333333333333333,\"#9c179e\"],[0.4444444444444444,\"#bd3786\"],[0.5555555555555556,\"#d8576b\"],[0.6666666666666666,\"#ed7953\"],[0.7777777777777778,\"#fb9f3a\"],[0.8888888888888888,\"#fdca26\"],[1.0,\"#f0f921\"]],\"type\":\"histogram2d\"}],\"histogram2dcontour\":[{\"colorbar\":{\"outlinewidth\":0,\"ticks\":\"\"},\"colorscale\":[[0.0,\"#0d0887\"],[0.1111111111111111,\"#46039f\"],[0.2222222222222222,\"#7201a8\"],[0.3333333333333333,\"#9c179e\"],[0.4444444444444444,\"#bd3786\"],[0.5555555555555556,\"#d8576b\"],[0.6666666666666666,\"#ed7953\"],[0.7777777777777778,\"#fb9f3a\"],[0.8888888888888888,\"#fdca26\"],[1.0,\"#f0f921\"]],\"type\":\"histogram2dcontour\"}],\"mesh3d\":[{\"colorbar\":{\"outlinewidth\":0,\"ticks\":\"\"},\"type\":\"mesh3d\"}],\"parcoords\":[{\"line\":{\"colorbar\":{\"outlinewidth\":0,\"ticks\":\"\"}},\"type\":\"parcoords\"}],\"pie\":[{\"automargin\":true,\"type\":\"pie\"}],\"scatter\":[{\"marker\":{\"colorbar\":{\"outlinewidth\":0,\"ticks\":\"\"}},\"type\":\"scatter\"}],\"scatter3d\":[{\"line\":{\"colorbar\":{\"outlinewidth\":0,\"ticks\":\"\"}},\"marker\":{\"colorbar\":{\"outlinewidth\":0,\"ticks\":\"\"}},\"type\":\"scatter3d\"}],\"scattercarpet\":[{\"marker\":{\"colorbar\":{\"outlinewidth\":0,\"ticks\":\"\"}},\"type\":\"scattercarpet\"}],\"scattergeo\":[{\"marker\":{\"colorbar\":{\"outlinewidth\":0,\"ticks\":\"\"}},\"type\":\"scattergeo\"}],\"scattergl\":[{\"marker\":{\"colorbar\":{\"outlinewidth\":0,\"ticks\":\"\"}},\"type\":\"scattergl\"}],\"scattermapbox\":[{\"marker\":{\"colorbar\":{\"outlinewidth\":0,\"ticks\":\"\"}},\"type\":\"scattermapbox\"}],\"scatterpolar\":[{\"marker\":{\"colorbar\":{\"outlinewidth\":0,\"ticks\":\"\"}},\"type\":\"scatterpolar\"}],\"scatterpolargl\":[{\"marker\":{\"colorbar\":{\"outlinewidth\":0,\"ticks\":\"\"}},\"type\":\"scatterpolargl\"}],\"scatterternary\":[{\"marker\":{\"colorbar\":{\"outlinewidth\":0,\"ticks\":\"\"}},\"type\":\"scatterternary\"}],\"surface\":[{\"colorbar\":{\"outlinewidth\":0,\"ticks\":\"\"},\"colorscale\":[[0.0,\"#0d0887\"],[0.1111111111111111,\"#46039f\"],[0.2222222222222222,\"#7201a8\"],[0.3333333333333333,\"#9c179e\"],[0.4444444444444444,\"#bd3786\"],[0.5555555555555556,\"#d8576b\"],[0.6666666666666666,\"#ed7953\"],[0.7777777777777778,\"#fb9f3a\"],[0.8888888888888888,\"#fdca26\"],[1.0,\"#f0f921\"]],\"type\":\"surface\"}],\"table\":[{\"cells\":{\"fill\":{\"color\":\"#EBF0F8\"},\"line\":{\"color\":\"white\"}},\"header\":{\"fill\":{\"color\":\"#C8D4E3\"},\"line\":{\"color\":\"white\"}},\"type\":\"table\"}]},\"layout\":{\"annotationdefaults\":{\"arrowcolor\":\"#2a3f5f\",\"arrowhead\":0,\"arrowwidth\":1},\"autotypenumbers\":\"strict\",\"coloraxis\":{\"colorbar\":{\"outlinewidth\":0,\"ticks\":\"\"}},\"colorscale\":{\"diverging\":[[0,\"#8e0152\"],[0.1,\"#c51b7d\"],[0.2,\"#de77ae\"],[0.3,\"#f1b6da\"],[0.4,\"#fde0ef\"],[0.5,\"#f7f7f7\"],[0.6,\"#e6f5d0\"],[0.7,\"#b8e186\"],[0.8,\"#7fbc41\"],[0.9,\"#4d9221\"],[1,\"#276419\"]],\"sequential\":[[0.0,\"#0d0887\"],[0.1111111111111111,\"#46039f\"],[0.2222222222222222,\"#7201a8\"],[0.3333333333333333,\"#9c179e\"],[0.4444444444444444,\"#bd3786\"],[0.5555555555555556,\"#d8576b\"],[0.6666666666666666,\"#ed7953\"],[0.7777777777777778,\"#fb9f3a\"],[0.8888888888888888,\"#fdca26\"],[1.0,\"#f0f921\"]],\"sequentialminus\":[[0.0,\"#0d0887\"],[0.1111111111111111,\"#46039f\"],[0.2222222222222222,\"#7201a8\"],[0.3333333333333333,\"#9c179e\"],[0.4444444444444444,\"#bd3786\"],[0.5555555555555556,\"#d8576b\"],[0.6666666666666666,\"#ed7953\"],[0.7777777777777778,\"#fb9f3a\"],[0.8888888888888888,\"#fdca26\"],[1.0,\"#f0f921\"]]},\"colorway\":[\"#636efa\",\"#EF553B\",\"#00cc96\",\"#ab63fa\",\"#FFA15A\",\"#19d3f3\",\"#FF6692\",\"#B6E880\",\"#FF97FF\",\"#FECB52\"],\"font\":{\"color\":\"#2a3f5f\"},\"geo\":{\"bgcolor\":\"white\",\"lakecolor\":\"white\",\"landcolor\":\"#E5ECF6\",\"showlakes\":true,\"showland\":true,\"subunitcolor\":\"white\"},\"hoverlabel\":{\"align\":\"left\"},\"hovermode\":\"closest\",\"mapbox\":{\"style\":\"light\"},\"paper_bgcolor\":\"white\",\"plot_bgcolor\":\"#E5ECF6\",\"polar\":{\"angularaxis\":{\"gridcolor\":\"white\",\"linecolor\":\"white\",\"ticks\":\"\"},\"bgcolor\":\"#E5ECF6\",\"radialaxis\":{\"gridcolor\":\"white\",\"linecolor\":\"white\",\"ticks\":\"\"}},\"scene\":{\"xaxis\":{\"backgroundcolor\":\"#E5ECF6\",\"gridcolor\":\"white\",\"gridwidth\":2,\"linecolor\":\"white\",\"showbackground\":true,\"ticks\":\"\",\"zerolinecolor\":\"white\"},\"yaxis\":{\"backgroundcolor\":\"#E5ECF6\",\"gridcolor\":\"white\",\"gridwidth\":2,\"linecolor\":\"white\",\"showbackground\":true,\"ticks\":\"\",\"zerolinecolor\":\"white\"},\"zaxis\":{\"backgroundcolor\":\"#E5ECF6\",\"gridcolor\":\"white\",\"gridwidth\":2,\"linecolor\":\"white\",\"showbackground\":true,\"ticks\":\"\",\"zerolinecolor\":\"white\"}},\"shapedefaults\":{\"line\":{\"color\":\"#2a3f5f\"}},\"ternary\":{\"aaxis\":{\"gridcolor\":\"white\",\"linecolor\":\"white\",\"ticks\":\"\"},\"baxis\":{\"gridcolor\":\"white\",\"linecolor\":\"white\",\"ticks\":\"\"},\"bgcolor\":\"#E5ECF6\",\"caxis\":{\"gridcolor\":\"white\",\"linecolor\":\"white\",\"ticks\":\"\"}},\"title\":{\"x\":0.05},\"xaxis\":{\"automargin\":true,\"gridcolor\":\"white\",\"linecolor\":\"white\",\"ticks\":\"\",\"title\":{\"standoff\":15},\"zerolinecolor\":\"white\",\"zerolinewidth\":2},\"yaxis\":{\"automargin\":true,\"gridcolor\":\"white\",\"linecolor\":\"white\",\"ticks\":\"\",\"title\":{\"standoff\":15},\"zerolinecolor\":\"white\",\"zerolinewidth\":2}}},\"title\":{\"text\":\"Timer Run - Std Dev per Query [s]\"},\"xaxis\":{\"dtick\":1,\"gridcolor\":\"rgb(0, 0, 0)\",\"side\":\"top\",\"ticks\":\"\",\"type\":\"category\"},\"yaxis\":{\"dtick\":1,\"ticks\":\"\",\"ticksuffix\":\"  \",\"type\":\"category\"}},                        {\"responsive\": true}                    ).then(function(){\n",
       "                            \n",
       "var gd = document.getElementById('03541f6b-2908-47d5-8c2b-b953615dbe43');\n",
       "var x = new MutationObserver(function (mutations, observer) {{\n",
       "        var display = window.getComputedStyle(gd).display;\n",
       "        if (!display || display === 'none') {{\n",
       "            console.log([gd, 'removed!']);\n",
       "            Plotly.purge(gd);\n",
       "            observer.disconnect();\n",
       "        }}\n",
       "}});\n",
       "\n",
       "// Listen for the removal of the full notebook cells\n",
       "var notebookContainer = gd.closest('#notebook-container');\n",
       "if (notebookContainer) {{\n",
       "    x.observe(notebookContainer, {childList: true});\n",
       "}}\n",
       "\n",
       "// Listen for the clearing of the current output cell\n",
       "var outputEl = gd.closest('.output');\n",
       "if (outputEl) {{\n",
       "    x.observe(outputEl, {childList: true});\n",
       "}}\n",
       "\n",
       "                        })                };                });            </script>        </div>"
      ]
     },
     "metadata": {},
     "output_type": "display_data"
    }
   ],
   "source": [
    "df = (evaluate.get_aggregated_query_statistics(type='timer', name='run', query_aggregate='Std Dev').T/1000.0).round(2)\n",
    "#.sort_index(ascending=False)\n",
    "#df=df.T\n",
    "#df=df.round(2)\n",
    "\n",
    "fig1 = ff.create_annotated_heatmap(\n",
    "    x=list(df.columns),\n",
    "    y=list(df.index),\n",
    "    z=df.values.tolist(),\n",
    "    showscale=True,\n",
    "    colorscale='Reds',\n",
    "    xgap=1,\n",
    "    ygap=1,\n",
    "    )\n",
    "\n",
    "fig1.update_layout(title_text='Timer Run - Std Dev per Query [s]')\n",
    "fig1.layout.xaxis.type = 'category'\n",
    "fig1.layout.yaxis.type = 'category'\n",
    "\n",
    "fig1.show()"
   ]
  },
  {
   "cell_type": "code",
   "execution_count": null,
   "id": "560afe7b",
   "metadata": {},
   "outputs": [],
   "source": []
  }
 ],
 "metadata": {
  "kernelspec": {
   "display_name": "Python 3 (ipykernel)",
   "language": "python",
   "name": "python3"
  },
  "language_info": {
   "codemirror_mode": {
    "name": "ipython",
    "version": 3
   },
   "file_extension": ".py",
   "mimetype": "text/x-python",
   "name": "python",
   "nbconvert_exporter": "python",
   "pygments_lexer": "ipython3",
   "version": "3.9.6"
  }
 },
 "nbformat": 4,
 "nbformat_minor": 5
}
