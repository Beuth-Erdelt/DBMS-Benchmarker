{
 "cells": [
  {
   "cell_type": "markdown",
   "id": "d18a3400",
   "metadata": {},
   "source": [
    "# Demo of Evaluation of Benchmarks"
   ]
  },
  {
   "cell_type": "code",
   "execution_count": null,
   "id": "4f885ad5",
   "metadata": {},
   "outputs": [],
   "source": [
    "from dbmsbenchmarker import *\n",
    "import pandas as pd\n",
    "\n",
    "import logging\n",
    "logging.basicConfig(level=logging.INFO)"
   ]
  },
  {
   "cell_type": "markdown",
   "id": "23fd5d80",
   "metadata": {},
   "source": [
    "## Inspect Result Folder"
   ]
  },
  {
   "cell_type": "code",
   "execution_count": null,
   "id": "66d4fb27",
   "metadata": {},
   "outputs": [],
   "source": [
    "# path of folder containing experiment results\n",
    "resultfolder = \"/results/\"\n",
    "\n",
    "# create evaluation object for result folder\n",
    "evaluate = inspector.inspector(resultfolder)\n",
    "\n",
    "# list of all experiments in folder\n",
    "evaluate.list_experiments\n",
    "# dataframe of experiments\n",
    "evaluate.get_experiments_preview()"
   ]
  },
  {
   "cell_type": "markdown",
   "id": "f500d40e",
   "metadata": {},
   "source": [
    "## Pick an Experiment"
   ]
  },
  {
   "cell_type": "code",
   "execution_count": null,
   "id": "8c672bca",
   "metadata": {},
   "outputs": [],
   "source": [
    "# last Experiment\n",
    "code = evaluate.list_experiments[len(evaluate.list_experiments)-1]\n",
    "\n",
    "# Specific Experiment\n",
    "code = '1625203913'\n",
    "\n",
    "# load it\n",
    "evaluate.load_experiment(code)"
   ]
  },
  {
   "cell_type": "markdown",
   "id": "04612525",
   "metadata": {},
   "source": [
    "## Load general properties into variables"
   ]
  },
  {
   "cell_type": "code",
   "execution_count": null,
   "id": "7e8d991c",
   "metadata": {},
   "outputs": [],
   "source": [
    "###################\n",
    "##### general experiment properties\n",
    "###################\n",
    "\n",
    "# get experiment workflow\n",
    "df = evaluate.get_experiment_workflow()\n",
    "\n",
    "# get workload properties\n",
    "workload_properties = evaluate.get_experiment_workload_properties()\n",
    "print(workload_properties['name'])"
   ]
  },
  {
   "cell_type": "code",
   "execution_count": null,
   "id": "d177b119",
   "metadata": {},
   "outputs": [],
   "source": [
    "evaluator.pretty(evaluate.get_experiment_connection_properties('Citus-1-1'))"
   ]
  },
  {
   "cell_type": "code",
   "execution_count": null,
   "id": "099f0020",
   "metadata": {},
   "outputs": [],
   "source": [
    "query_properties = evaluate.get_experiment_query_properties()\n",
    "print(query_properties[str(numQuery)]['config']['title'])\n",
    "print(query_properties[str(numQuery)]['config']['query'])"
   ]
  },
  {
   "cell_type": "code",
   "execution_count": null,
   "id": "b3738421",
   "metadata": {},
   "outputs": [],
   "source": [
    "# list queries\n",
    "list_queries = evaluate.get_experiment_list_queries()\n",
    "\n",
    "# list connections\n",
    "list_nodes = evaluate.get_experiment_list_nodes()\n",
    "list_dbms = evaluate.get_experiment_list_dbms()\n",
    "list_connections = evaluate.get_experiment_list_connections()\n",
    "list_connections_node = evaluate.get_experiment_list_connections_by_node()\n",
    "list_connections_dbms = evaluate.get_experiment_list_connections_by_dbms()\n",
    "list_connections_clients = evaluate.get_experiment_list_connections_by_connectionmanagement('numProcesses')\n",
    "list_connections_gpu = evaluate.get_experiment_list_connections_by_hostsystem('GPU')\n",
    "\n",
    "# fix some examples:\n",
    "# first connection, first query, first run\n",
    "connection = list_connections[0]\n",
    "numQuery = 1\n",
    "numRun = 0\n",
    "\n",
    "pd.set_option(\"max_rows\", None)"
   ]
  },
  {
   "cell_type": "markdown",
   "id": "85b251d5",
   "metadata": {},
   "source": [
    "## Show some Measures"
   ]
  },
  {
   "cell_type": "markdown",
   "id": "a32c465e",
   "metadata": {},
   "source": [
    "### Hardware Metrics"
   ]
  },
  {
   "cell_type": "code",
   "execution_count": null,
   "id": "43a7b65c",
   "metadata": {},
   "outputs": [],
   "source": [
    "# list all available metrics\n",
    "pd.DataFrame(monitor.metrics.metrics).T"
   ]
  },
  {
   "cell_type": "code",
   "execution_count": null,
   "id": "ed4ede12",
   "metadata": {},
   "outputs": [],
   "source": [
    "# get hardware metrics for loading test\n",
    "df = evaluate.get_loading_metrics('total_cpu_memory')\n",
    "df = evaluate.get_loading_metrics('total_cpu_util_s')\n",
    "df = df.T.max().sort_index() - df.T.min().sort_index() # compute difference of counter\n",
    "print(\"CPU of Ingestion (via counter)\")\n",
    "print(df)"
   ]
  },
  {
   "cell_type": "code",
   "execution_count": null,
   "id": "58be460c",
   "metadata": {},
   "outputs": [],
   "source": [
    "df = evaluate.get_loading_metrics('total_cpu_util')\n",
    "df = df.T.sum() # computer sum of rates\n",
    "print(\"CPU of Ingestion (via rate)\")\n",
    "print(df)"
   ]
  },
  {
   "cell_type": "code",
   "execution_count": null,
   "id": "42ba3577",
   "metadata": {},
   "outputs": [],
   "source": [
    "# get hardware metrics per stream\n",
    "df = evaluate.get_streaming_metrics('total_cpu_memory')\n",
    "df = evaluate.get_streaming_metrics('total_cpu_util_s')\n",
    "df = df.T.max().sort_index() - df.T.min().sort_index() # compute difference of counter\n",
    "print(\"CPU of Stream (via counter)\")\n",
    "print(df)"
   ]
  },
  {
   "cell_type": "code",
   "execution_count": null,
   "id": "d826ce2d",
   "metadata": {},
   "outputs": [],
   "source": [
    "df = evaluate.get_streaming_metrics('total_cpu_util')\n",
    "df = df.T.sum() # computer sum of rates\n",
    "print(\"CPU of Stream (via rate)\")\n",
    "print(df)"
   ]
  },
  {
   "cell_type": "markdown",
   "id": "a2b77aa0",
   "metadata": {},
   "source": [
    "### Measures, show as table per query"
   ]
  },
  {
   "cell_type": "code",
   "execution_count": null,
   "id": "cbb546ff",
   "metadata": {},
   "outputs": [],
   "source": [
    "evaluate.get_aggregated_query_statistics(type='timer', name='run', query_aggregate='Mean').T"
   ]
  },
  {
   "cell_type": "code",
   "execution_count": null,
   "id": "d6528932",
   "metadata": {},
   "outputs": [],
   "source": [
    "evaluate.get_aggregated_query_statistics(type='throughput', name='run', query_aggregate='Mean').T"
   ]
  },
  {
   "cell_type": "code",
   "execution_count": null,
   "id": "d8beda05",
   "metadata": {},
   "outputs": [],
   "source": [
    "evaluate.get_aggregated_query_statistics(type='latency', name='run', query_aggregate='Mean').T"
   ]
  },
  {
   "cell_type": "code",
   "execution_count": null,
   "id": "2ac7ba25",
   "metadata": {},
   "outputs": [],
   "source": [
    "evaluate.get_aggregated_query_statistics(type='timer', name='connection', query_aggregate='Mean').T"
   ]
  },
  {
   "cell_type": "code",
   "execution_count": null,
   "id": "b41f8b14",
   "metadata": {},
   "outputs": [],
   "source": [
    "evaluate.get_aggregated_query_statistics(type='timer', name='execution', query_aggregate='Mean').T"
   ]
  },
  {
   "cell_type": "code",
   "execution_count": null,
   "id": "d0700990",
   "metadata": {},
   "outputs": [],
   "source": [
    "evaluate.get_aggregated_query_statistics(type='timer', name='datatransfer', query_aggregate='Mean').T"
   ]
  },
  {
   "cell_type": "code",
   "execution_count": null,
   "id": "ac5c1e42",
   "metadata": {},
   "outputs": [],
   "source": [
    "# measures, show as heatmap (normalized)\n",
    "evaluate.get_aggregated_query_statistics(type='timer', name='run', query_aggregate='factor').T"
   ]
  },
  {
   "cell_type": "code",
   "execution_count": null,
   "id": "7b836d7e",
   "metadata": {},
   "outputs": [],
   "source": [
    "# example: filter DBMS\n",
    "list_filter_dbms = list_connections_dbms['Citus']\n",
    "evaluate.get_aggregated_query_statistics(type='timer', name='run', query_aggregate='factor', dbms_filter=list_filter_dbms).T"
   ]
  },
  {
   "cell_type": "code",
   "execution_count": null,
   "id": "ff52364a",
   "metadata": {},
   "outputs": [],
   "source": [
    "# size of result sets\n",
    "evaluate.get_total_resultsize()"
   ]
  },
  {
   "cell_type": "code",
   "execution_count": null,
   "id": "87f1883d",
   "metadata": {},
   "outputs": [],
   "source": [
    "# relative size of result sets (minimum=100%), show as heatmap\n",
    "evaluate.get_total_resultsize_normalized()"
   ]
  },
  {
   "cell_type": "code",
   "execution_count": null,
   "id": "df4ea05a",
   "metadata": {},
   "outputs": [],
   "source": [
    "# if there was an error, show as heatmap\n",
    "evaluate.get_total_errors()"
   ]
  },
  {
   "cell_type": "code",
   "execution_count": null,
   "id": "74b60c96",
   "metadata": {},
   "outputs": [],
   "source": [
    "# if there was a warning, show as heatmap\n",
    "evaluate.get_total_warnings()"
   ]
  },
  {
   "cell_type": "code",
   "execution_count": null,
   "id": "dabebcf1",
   "metadata": {},
   "outputs": [],
   "source": [
    "# total times benchmarking a query took, show as table\n",
    "evaluate.get_total_times().T"
   ]
  },
  {
   "cell_type": "code",
   "execution_count": null,
   "id": "dc313665",
   "metadata": {},
   "outputs": [],
   "source": [
    "# same, normalized to 100% per query, show as stacked area plot\n",
    "evaluate.get_total_times_normalized().T"
   ]
  },
  {
   "cell_type": "code",
   "execution_count": null,
   "id": "98b91145",
   "metadata": {},
   "outputs": [],
   "source": [
    "# same, normed to relative to best per query, show as heatmap\n",
    "evaluate.get_total_times_relative().T"
   ]
  },
  {
   "cell_type": "markdown",
   "id": "093a2e3f",
   "metadata": {},
   "source": [
    "# some dataframes\n",
    "\n",
    "* showing metrics per dbms by aggregation\n",
    "* from measures, show as bar plot"
   ]
  },
  {
   "cell_type": "code",
   "execution_count": null,
   "id": "f330b053",
   "metadata": {},
   "outputs": [],
   "source": [
    "evaluate.get_aggregated_experiment_statistics(type='timer', name='run', query_aggregate='Mean', total_aggregate='Mean')"
   ]
  },
  {
   "cell_type": "code",
   "execution_count": null,
   "id": "5d59a4df",
   "metadata": {},
   "outputs": [],
   "source": [
    "evaluate.get_aggregated_experiment_statistics(type='throughput', name='run', query_aggregate='Mean', total_aggregate='Geo')"
   ]
  },
  {
   "cell_type": "code",
   "execution_count": null,
   "id": "8fa87340",
   "metadata": {},
   "outputs": [],
   "source": [
    "evaluate.get_aggregated_experiment_statistics(type='timer', name='run', query_aggregate='factor', total_aggregate='Geo')"
   ]
  },
  {
   "cell_type": "code",
   "execution_count": null,
   "id": "e54010d9",
   "metadata": {},
   "outputs": [],
   "source": [
    "evaluate.get_aggregated_experiment_statistics(type='monitoring', name='total_cpu_memory', query_aggregate='Mean', total_aggregate='Mean')"
   ]
  },
  {
   "cell_type": "code",
   "execution_count": null,
   "id": "5ffb410b",
   "metadata": {},
   "outputs": [],
   "source": [
    "# average data obtained from monitoring\n",
    "# average per second - this differs from mean of mean, because not all queries have the same duration\n",
    "evaluate.get_survey_monitoring().T"
   ]
  },
  {
   "cell_type": "code",
   "execution_count": null,
   "id": "ee304205",
   "metadata": {},
   "outputs": [],
   "source": [
    "# host data obtained from config\n",
    "evaluate.get_survey_hostdata()\n",
    "# example for merging two dataframes (by index)\n",
    "df1 = evaluate.get_survey_monitoring()\n",
    "df2 = evaluate.get_survey_hostdata()\n",
    "tools.dataframehelper.merge(df1, df2)"
   ]
  },
  {
   "cell_type": "code",
   "execution_count": null,
   "id": "35be8f21",
   "metadata": {},
   "outputs": [],
   "source": [
    "evaluate.get_survey_hostdata()"
   ]
  },
  {
   "cell_type": "markdown",
   "id": "8ec32e49",
   "metadata": {},
   "source": [
    "## Per query details"
   ]
  },
  {
   "cell_type": "code",
   "execution_count": null,
   "id": "1c1ad4ad",
   "metadata": {},
   "outputs": [],
   "source": [
    "# get measures of a query\n",
    "# \n",
    "# df1 = measures for plot, boxplot, histogramm\n",
    "# df2 = statistics as table\n",
    "df1, df2 = evaluate.get_measures_and_statistics(numQuery, type='timer', name='execution')\n",
    "print(df1)\n",
    "df2"
   ]
  },
  {
   "cell_type": "code",
   "execution_count": null,
   "id": "660b0e00",
   "metadata": {},
   "outputs": [],
   "source": [
    "evaluate.get_measures_and_statistics(numQuery, type='timer', name='execution')\n",
    "evaluate.get_measures_and_statistics(numQuery, type='timer', name='datatransfer')\n",
    "evaluate.get_measures_and_statistics(numQuery, type='timer', name='run')\n",
    "evaluate.get_measures_and_statistics(numQuery, type='timer', name='session')\n",
    "evaluate.get_measures_and_statistics(numQuery, type='throughput', name='session')"
   ]
  },
  {
   "cell_type": "code",
   "execution_count": null,
   "id": "dd03cc49",
   "metadata": {},
   "outputs": [],
   "source": [
    "\n",
    "# colors by dbms\n",
    "list_connections_dbms = evaluate.get_experiment_list_connections_by_dbms()\n",
    "connection_colors = evaluate.get_experiment_list_connection_colors(list_connections_dbms)\n",
    "#connection_colors = evaluate.get_experiment_list_connection_colors(list_connections_node)\n",
    "\n",
    "numQuery=1\n",
    "df1,df2=evaluate.get_measures_and_statistics(numQuery, type='timer', name='run', warmup=0)\n",
    "# using colors in matplotlib plots\n",
    "#import matplotlib.pyplot as plt\n",
    "#df1.T.plot(color=[connection_colors.get(x, '#333333') for x in df1.T.columns])\n",
    "#plt.show()\n",
    "\n",
    "\n",
    "# Some plotly figures\n",
    "import plotly.graph_objects as go\n",
    "\n",
    "# Plots\n",
    "fig = go.Figure()\n",
    "for i in range(len(df1.index)):\n",
    "    t = fig.add_trace(go.Scatter(x=df1.T.index, y=df1.iloc[i], name=df1.index[i], line=dict(color=connection_colors[df1.index[i]], width=1)))\n",
    "\n",
    "fig.show()\n"
   ]
  },
  {
   "cell_type": "code",
   "execution_count": null,
   "id": "9b878804",
   "metadata": {},
   "outputs": [],
   "source": [
    "# Heatmap\n",
    "df = evaluate.get_aggregated_query_statistics(type='timer', name='run', query_aggregate='factor')\n",
    "df = df.sort_index()\n",
    "df_2=df.applymap(lambda x: (\"%.2f\" % x))\n",
    "fig = go.Figure(data=[go.Heatmap(z=df_2.T.values.tolist(),x=df_2.index, y=df_2.columns,colorscale='Reds')])\n",
    "# optionally fixed size\n",
    "#t = fig.update_layout(autosize=False,height=2000)\n",
    "fig.show()"
   ]
  },
  {
   "cell_type": "code",
   "execution_count": null,
   "id": "d8ea8963",
   "metadata": {},
   "outputs": [],
   "source": [
    "# Bar\n",
    "df1, df2 = evaluate.get_measures_and_statistics(numQuery, type='timer', name='run')\n",
    "df = tools.dataframehelper.collect(df2, 'Mean', 'timer_run_mean')\n",
    "fig = go.Figure()\n",
    "for i in range(len(df.index)):\n",
    "    t = fig.add_trace(go.Bar(x=[df.index[i]], y=df.iloc[i], name=df.index[i], marker=dict(color=connection_colors[df.index[i]])))\n",
    "\n",
    "fig.show()"
   ]
  },
  {
   "cell_type": "code",
   "execution_count": null,
   "id": "9e5c889e",
   "metadata": {},
   "outputs": [],
   "source": [
    "# Boxplots\n",
    "fig = go.Figure()\n",
    "for i in range(len(df1.index)):\n",
    "    t = fig.add_trace(go.Box(y=df1.iloc[i], name=df1.index[i], line=dict(color=connection_colors[df1.index[i]], width=1), boxmean='sd'))\n",
    "\n",
    "fig.show()\n"
   ]
  },
  {
   "cell_type": "code",
   "execution_count": null,
   "id": "342449c2",
   "metadata": {},
   "outputs": [],
   "source": []
  },
  {
   "cell_type": "code",
   "execution_count": null,
   "id": "768cfa0c",
   "metadata": {},
   "outputs": [],
   "source": []
  }
 ],
 "metadata": {
  "kernelspec": {
   "display_name": "Python 3 (ipykernel)",
   "language": "python",
   "name": "python3"
  },
  "language_info": {
   "codemirror_mode": {
    "name": "ipython",
    "version": 3
   },
   "file_extension": ".py",
   "mimetype": "text/x-python",
   "name": "python",
   "nbconvert_exporter": "python",
   "pygments_lexer": "ipython3",
   "version": "3.9.6"
  }
 },
 "nbformat": 4,
 "nbformat_minor": 5
}
